{
 "cells": [
  {
   "cell_type": "code",
   "execution_count": 1,
   "metadata": {},
   "outputs": [],
   "source": [
    "# !pip install Praw\n",
    "# !pip install --upgrade praw"
   ]
  },
  {
   "cell_type": "code",
   "execution_count": 2,
   "metadata": {},
   "outputs": [
    {
     "name": "stdout",
     "output_type": "stream",
     "text": [
      "Requirement already satisfied: praw in c:\\users\\trinh\\anaconda3\\lib\\site-packages (7.0.0.dev0)\n",
      "Requirement already satisfied: websocket-client>=0.54.0 in c:\\users\\trinh\\anaconda3\\lib\\site-packages (from praw) (0.57.0)\n",
      "Requirement already satisfied: prawcore<2.0,>=1.0.1 in c:\\users\\trinh\\anaconda3\\lib\\site-packages (from praw) (1.0.1)\n",
      "Requirement already satisfied: update-checker>=0.16 in c:\\users\\trinh\\anaconda3\\lib\\site-packages (from praw) (0.16)\n",
      "Requirement already satisfied: six in c:\\users\\trinh\\anaconda3\\lib\\site-packages (from websocket-client>=0.54.0->praw) (1.12.0)\n",
      "Requirement already satisfied: requests<3.0,>=2.6.0 in c:\\users\\trinh\\anaconda3\\lib\\site-packages (from prawcore<2.0,>=1.0.1->praw) (2.22.0)\n",
      "Requirement already satisfied: idna<2.9,>=2.5 in c:\\users\\trinh\\anaconda3\\lib\\site-packages (from requests<3.0,>=2.6.0->prawcore<2.0,>=1.0.1->praw) (2.8)\n",
      "Requirement already satisfied: urllib3!=1.25.0,!=1.25.1,<1.26,>=1.21.1 in c:\\users\\trinh\\anaconda3\\lib\\site-packages (from requests<3.0,>=2.6.0->prawcore<2.0,>=1.0.1->praw) (1.24.2)\n",
      "Requirement already satisfied: certifi>=2017.4.17 in c:\\users\\trinh\\anaconda3\\lib\\site-packages (from requests<3.0,>=2.6.0->prawcore<2.0,>=1.0.1->praw) (2019.9.11)\n",
      "Requirement already satisfied: chardet<3.1.0,>=3.0.2 in c:\\users\\trinh\\anaconda3\\lib\\site-packages (from requests<3.0,>=2.6.0->prawcore<2.0,>=1.0.1->praw) (3.0.4)\n",
      "Requirement already satisfied: psaw in c:\\users\\trinh\\anaconda3\\lib\\site-packages (0.0.12)\n",
      "Requirement already satisfied: Click in c:\\users\\trinh\\anaconda3\\lib\\site-packages (from psaw) (7.0)\n",
      "Requirement already satisfied: requests in c:\\users\\trinh\\anaconda3\\lib\\site-packages (from psaw) (2.22.0)\n",
      "Requirement already satisfied: chardet<3.1.0,>=3.0.2 in c:\\users\\trinh\\anaconda3\\lib\\site-packages (from requests->psaw) (3.0.4)\n",
      "Requirement already satisfied: urllib3!=1.25.0,!=1.25.1,<1.26,>=1.21.1 in c:\\users\\trinh\\anaconda3\\lib\\site-packages (from requests->psaw) (1.24.2)\n",
      "Requirement already satisfied: certifi>=2017.4.17 in c:\\users\\trinh\\anaconda3\\lib\\site-packages (from requests->psaw) (2019.9.11)\n",
      "Requirement already satisfied: idna<2.9,>=2.5 in c:\\users\\trinh\\anaconda3\\lib\\site-packages (from requests->psaw) (2.8)\n"
     ]
    }
   ],
   "source": [
    "import sys\n",
    "!{sys.executable} -m pip install praw\n",
    "!{sys.executable} -m pip install psaw\n",
    "import praw\n",
    "import pandas as pd\n",
    "import datetime as dt\n",
    "import json\n",
    "\n",
    "f = open(\"../secret_python.txt\", \"r\")\n",
    "client_id = f.readline().rstrip()\n",
    "secret_key = f.readline().rstrip()\n",
    "f.close()"
   ]
  },
  {
   "cell_type": "markdown",
   "metadata": {},
   "source": [
    "## Praw"
   ]
  },
  {
   "cell_type": "code",
   "execution_count": 3,
   "metadata": {},
   "outputs": [
    {
     "data": {
      "text/plain": [
       "True"
      ]
     },
     "execution_count": 3,
     "metadata": {},
     "output_type": "execute_result"
    }
   ],
   "source": [
    "reddit = praw.Reddit(client_id=client_id, \\\n",
    "                     client_secret=secret_key, \\\n",
    "                     user_agent='Scrape')\n",
    "\n",
    "reddit.read_only"
   ]
  },
  {
   "cell_type": "code",
   "execution_count": 4,
   "metadata": {},
   "outputs": [],
   "source": [
    "dank_meme = reddit.subreddit('dank_meme')"
   ]
  },
  {
   "cell_type": "code",
   "execution_count": 5,
   "metadata": {},
   "outputs": [],
   "source": [
    "memesDict = {}\n",
    "memesDict[\"_default\"] = {}"
   ]
  },
  {
   "cell_type": "markdown",
   "metadata": {},
   "source": [
    "Source: https://stackoverflow.com/questions/40960449/getting-all-submissions-for-the-past-two-months-from-a-particular-subreddit-usi"
   ]
  },
  {
   "cell_type": "code",
   "execution_count": 6,
   "metadata": {},
   "outputs": [],
   "source": [
    "iterator = 1\n",
    "for submission in dank_meme.hot(limit = 100):\n",
    "    #print(dt.datetime.fromtimestamp(submission.created_utc)) \n",
    "    memesDict[\"_default\"][iterator] = {\"title\":submission.title, \"thumbnail\":{\"thumbnail\":submission.thumbnail, \"height\":submission.thumbnail_height, \"width\":submission.thumbnail_width}, \"created_utc\":submission.created_utc, \"author\":submission.author.name, \"id\":submission.id, \"ups\":submission.ups, \"downs\":submission.downs, \"media\": submission.url}\n",
    "    iterator +=1"
   ]
  },
  {
   "cell_type": "code",
   "execution_count": 7,
   "metadata": {
    "scrolled": true
   },
   "outputs": [
    {
     "name": "stdout",
     "output_type": "stream",
     "text": [
      "{'title': 'do not remove', 'thumbnail': {'thumbnail': 'https://b.thumbs.redditmedia.com/heg3pmxBhdqySBbmLvBQcv2XqTExKt7mP2tkft-3DHM.jpg', 'height': 140, 'width': 140}, 'created_utc': 1587025856.0, 'author': 'IKnowTheyAreReal', 'id': 'g2b27q', 'ups': 324, 'downs': 0, 'media': 'https://i.redd.it/9dg2e4jf45t41.png'}\n"
     ]
    }
   ],
   "source": [
    "print(memesDict[\"_default\"][2])"
   ]
  },
  {
   "cell_type": "code",
   "execution_count": 8,
   "metadata": {},
   "outputs": [],
   "source": [
    "with open('memesDatabase.json', 'w') as json_file:\n",
    "    json.dump(memesDict, json_file)"
   ]
  },
  {
   "cell_type": "code",
   "execution_count": 9,
   "metadata": {},
   "outputs": [],
   "source": [
    "#Used to find out what fields does an object have\n",
    "import pprint\n",
    "#pprint.pprint(vars(submission))"
   ]
  },
  {
   "cell_type": "markdown",
   "metadata": {},
   "source": [
    "## Pushshift"
   ]
  },
  {
   "cell_type": "markdown",
   "metadata": {},
   "source": [
    "With help from the following link: https://medium.com/@RareLoot/using-pushshifts-api-to-extract-reddit-submissions-fb517b286563"
   ]
  },
  {
   "cell_type": "code",
   "execution_count": 10,
   "metadata": {},
   "outputs": [],
   "source": [
    "import requests"
   ]
  },
  {
   "cell_type": "code",
   "execution_count": 11,
   "metadata": {},
   "outputs": [],
   "source": [
    "base_url = \"https://api.pushshift.io/\"\n",
    "fields=\"author,subreddit,id,created_utc,all_awardings,score,thumbnail,thumbnail_height,thumbnail_width,title,url,full_link\"\n",
    "def queryBySub(sub, before=\"30d\", after=\"60d\", sort_type=\"score\", sort=\"asc\",size=\"25\", fields=fields):\n",
    "    url = base_url + \"reddit/search/submission/?subreddit=\"+sub+\"&sort=\"+sort+\"&sort_type=\"+sort_type+\"&size=\"+size+\"&after=\"+after+\"&before=\"+before+\"&fields=\"+fields\n",
    "    response = requests.get(url)\n",
    "    return json.loads(response.text)\n",
    "data = queryBySub(\"dank_meme\")"
   ]
  },
  {
   "cell_type": "code",
   "execution_count": 12,
   "metadata": {},
   "outputs": [
    {
     "data": {
      "text/plain": [
       "[{'all_awardings': [],\n",
       "  'author': 'Popcorny_YT',\n",
       "  'created_utc': 1583363896,\n",
       "  'full_link': 'https://www.reddit.com/r/dank_meme/comments/fdlrju/hmmmm_yes_gold_robbery/',\n",
       "  'id': 'fdlrju',\n",
       "  'score': 0,\n",
       "  'subreddit': 'dank_meme',\n",
       "  'thumbnail': 'https://b.thumbs.redditmedia.com/5OkmOvdbo7IC86JCv8gkwH6EkBIuvgMnypM0LCua_2c.jpg',\n",
       "  'thumbnail_height': 140,\n",
       "  'thumbnail_width': 140,\n",
       "  'title': 'Hmmmm yes gold robbery',\n",
       "  'url': 'https://i.redd.it/5vldqep9oqk41.jpg'},\n",
       " {'all_awardings': [],\n",
       "  'author': 'elisportsfan',\n",
       "  'created_utc': 1584394640,\n",
       "  'full_link': 'https://www.reddit.com/r/dank_meme/comments/fjsxxo/me_at_walmart_yesterday/',\n",
       "  'id': 'fjsxxo',\n",
       "  'score': 0,\n",
       "  'subreddit': 'dank_meme',\n",
       "  'thumbnail': 'https://b.thumbs.redditmedia.com/6uvcxxHPlAdrTz3WBNL2nJUFMSO81H_1LPVhqGOGuzQ.jpg',\n",
       "  'thumbnail_height': 73,\n",
       "  'thumbnail_width': 140,\n",
       "  'title': 'Me At Walmart Yesterday',\n",
       "  'url': 'https://i.redd.it/0i6yrb77t3n41.jpg'},\n",
       " {'all_awardings': [],\n",
       "  'author': 'The_choochebandit_69',\n",
       "  'created_utc': 1584382717,\n",
       "  'full_link': 'https://www.reddit.com/r/dank_meme/comments/fjpkso/that_escalated_quickly/',\n",
       "  'id': 'fjpkso',\n",
       "  'score': 0,\n",
       "  'subreddit': 'dank_meme',\n",
       "  'thumbnail': 'https://b.thumbs.redditmedia.com/Wi1EkbOxOYbqvEUgvYVF-j2kzw5rXHFw25V493r_gWM.jpg',\n",
       "  'thumbnail_height': 140,\n",
       "  'thumbnail_width': 140,\n",
       "  'title': 'That escalated quickly',\n",
       "  'url': 'https://v.redd.it/0crb6a8nt2n41'},\n",
       " {'all_awardings': [],\n",
       "  'author': 'hex272727',\n",
       "  'created_utc': 1583960019,\n",
       "  'full_link': 'https://www.reddit.com/r/dank_meme/comments/fh46fl/how_to_manipulate_your_wife_to_get_bigger_boobs/',\n",
       "  'id': 'fh46fl',\n",
       "  'score': 0,\n",
       "  'subreddit': 'dank_meme',\n",
       "  'thumbnail': 'https://b.thumbs.redditmedia.com/SZ6rRxmzL6hq4GtqBTslU4bWb5nliGbOZpiciS9xYqY.jpg',\n",
       "  'thumbnail_height': 105,\n",
       "  'thumbnail_width': 140,\n",
       "  'title': 'how to manipulate your wife to get bigger boobs',\n",
       "  'url': 'https://youtu.be/Id1yPS7wvwk'},\n",
       " {'all_awardings': [],\n",
       "  'author': 'BBBOOOSSTTIIOOO',\n",
       "  'created_utc': 1583256143,\n",
       "  'full_link': 'https://www.reddit.com/r/dank_meme/comments/fcxxh6/watch_frozone/',\n",
       "  'id': 'fcxxh6',\n",
       "  'score': 0,\n",
       "  'subreddit': 'dank_meme',\n",
       "  'thumbnail': 'https://b.thumbs.redditmedia.com/pHWNavPHOh21x397lfQgAko33i3-LAecVieuPXUuPvg.jpg',\n",
       "  'thumbnail_height': 140,\n",
       "  'thumbnail_width': 140,\n",
       "  'title': 'Watch frozone',\n",
       "  'url': 'https://v.redd.it/34z0biftrhk41'},\n",
       " {'all_awardings': [],\n",
       "  'author': 'yoloboizlol',\n",
       "  'created_utc': 1582121995,\n",
       "  'full_link': 'https://www.reddit.com/r/dank_meme/comments/f6b97h/it_really_do_be_like_that/',\n",
       "  'id': 'f6b97h',\n",
       "  'score': 1,\n",
       "  'subreddit': 'dank_meme',\n",
       "  'thumbnail': 'https://b.thumbs.redditmedia.com/djt9js1EHFU28-TwbnADieuLmoIskylea73vLFCYxiA.jpg',\n",
       "  'thumbnail_height': 140,\n",
       "  'thumbnail_width': 140,\n",
       "  'title': 'It really do be like that.',\n",
       "  'url': 'https://i.redd.it/gf36nbng3wh41.jpg'},\n",
       " {'all_awardings': [],\n",
       "  'author': 'HavuPlays',\n",
       "  'created_utc': 1582071261,\n",
       "  'full_link': 'https://www.reddit.com/r/dank_meme/comments/f61q6s/mods_cant_ban_free_speech/',\n",
       "  'id': 'f61q6s',\n",
       "  'score': 1,\n",
       "  'subreddit': 'dank_meme',\n",
       "  'thumbnail': 'https://b.thumbs.redditmedia.com/Sl2grgV4h70-4CCXdmB6H128A2uS7AnjPGZwfZGDsvI.jpg',\n",
       "  'thumbnail_height': 75,\n",
       "  'thumbnail_width': 140,\n",
       "  'title': 'Mods cant ban free speech',\n",
       "  'url': 'https://v.redd.it/ueufuxagwrh41'},\n",
       " {'all_awardings': [],\n",
       "  'author': 'SlyWhiteDog',\n",
       "  'created_utc': 1582127836,\n",
       "  'full_link': 'https://www.reddit.com/r/dank_meme/comments/f6cnnz/fortune_favors_the_bold/',\n",
       "  'id': 'f6cnnz',\n",
       "  'score': 1,\n",
       "  'subreddit': 'dank_meme',\n",
       "  'thumbnail': 'https://b.thumbs.redditmedia.com/JmYxFldmTXcXd4gtZ8OokajugRtX_hv5BXFcxM4Rqjo.jpg',\n",
       "  'thumbnail_height': 119,\n",
       "  'thumbnail_width': 140,\n",
       "  'title': 'Fortune favors the bold.',\n",
       "  'url': 'https://i.redd.it/ozhoe0ytkwh41.jpg'},\n",
       " {'all_awardings': [],\n",
       "  'author': 'jwindle99',\n",
       "  'created_utc': 1582126772,\n",
       "  'full_link': 'https://www.reddit.com/r/dank_meme/comments/f6cecz/when_you_kick_your_ball_over_a_fence_and_cant_get/',\n",
       "  'id': 'f6cecz',\n",
       "  'score': 1,\n",
       "  'subreddit': 'dank_meme',\n",
       "  'thumbnail': 'default',\n",
       "  'title': 'When you kick your ball over a fence and can’t get it back',\n",
       "  'url': 'https://i.redd.it/j10d6j0ohwh41.jpg'},\n",
       " {'all_awardings': [],\n",
       "  'author': 'hentai_mafia69',\n",
       "  'created_utc': 1582109148,\n",
       "  'full_link': 'https://www.reddit.com/r/dank_meme/comments/f696ik/holy_music_starts/',\n",
       "  'id': 'f696ik',\n",
       "  'score': 1,\n",
       "  'subreddit': 'dank_meme',\n",
       "  'thumbnail': 'default',\n",
       "  'title': '*holy music starts',\n",
       "  'url': 'https://i.redd.it/rokyrnd91vh41.jpg'},\n",
       " {'all_awardings': [],\n",
       "  'author': 'lrlOurPresident',\n",
       "  'created_utc': 1582118484,\n",
       "  'full_link': 'https://www.reddit.com/r/dank_meme/comments/f6ah4b/im_gonna_tell_my_kids_this_was_donald_trump/',\n",
       "  'id': 'f6ah4b',\n",
       "  'score': 1,\n",
       "  'subreddit': 'dank_meme',\n",
       "  'thumbnail': 'https://b.thumbs.redditmedia.com/sr1sN4aqp_gS6JmbKl7I9xOMjLCR8eeHVwBVz4uhOEE.jpg',\n",
       "  'thumbnail_height': 140,\n",
       "  'thumbnail_width': 140,\n",
       "  'title': \"I'm gonna tell my kids this was Donald Trump\",\n",
       "  'url': 'https://i.redd.it/i756wwfuzoh41.jpg'},\n",
       " {'all_awardings': [],\n",
       "  'author': 'YJoseph',\n",
       "  'created_utc': 1582049465,\n",
       "  'full_link': 'https://www.reddit.com/r/dank_meme/comments/f5vzqc/but_when_jesus_does_it_it_suddenly_becomes_a/',\n",
       "  'id': 'f5vzqc',\n",
       "  'score': 1,\n",
       "  'subreddit': 'dank_meme',\n",
       "  'thumbnail': 'https://b.thumbs.redditmedia.com/86g3d1_V0EAmo3MSWa6hbrU5Ggbaf8k7TAQk9xqW9Ik.jpg',\n",
       "  'thumbnail_height': 140,\n",
       "  'thumbnail_width': 140,\n",
       "  'title': 'But when Jesus does it, it suddenly becomes a miracle',\n",
       "  'url': 'https://i.imgur.com/Mo9dOwV.jpg'},\n",
       " {'all_awardings': [],\n",
       "  'author': 'isubarna1',\n",
       "  'created_utc': 1582120258,\n",
       "  'full_link': 'https://www.reddit.com/r/dank_meme/comments/f6aux3/i_dont_even_know_who_you_are/',\n",
       "  'id': 'f6aux3',\n",
       "  'score': 1,\n",
       "  'subreddit': 'dank_meme',\n",
       "  'thumbnail': 'default',\n",
       "  'title': \"i don't even know who you are\",\n",
       "  'url': 'https://i.redd.it/io0ehsi7yvh41.jpg'},\n",
       " {'all_awardings': [],\n",
       "  'author': 'awesomeguy9807',\n",
       "  'created_utc': 1582120546,\n",
       "  'full_link': 'https://www.reddit.com/r/dank_meme/comments/f6ax7h/we_need_a_google_filter_for_these_memes/',\n",
       "  'id': 'f6ax7h',\n",
       "  'score': 1,\n",
       "  'subreddit': 'dank_meme',\n",
       "  'thumbnail': 'https://a.thumbs.redditmedia.com/z25T3VfCh3q5CnUMlL761c7lXRyg60x9DQCbSCL08o4.jpg',\n",
       "  'thumbnail_height': 140,\n",
       "  'thumbnail_width': 140,\n",
       "  'title': 'We need a Google filter for these memes',\n",
       "  'url': 'https://i.redd.it/uirc2arpwvh41.jpg'},\n",
       " {'all_awardings': [],\n",
       "  'author': 'djxbob',\n",
       "  'created_utc': 1582125260,\n",
       "  'full_link': 'https://www.reddit.com/r/dank_meme/comments/f6c18o/lollololololll/',\n",
       "  'id': 'f6c18o',\n",
       "  'score': 1,\n",
       "  'subreddit': 'dank_meme',\n",
       "  'thumbnail': 'https://b.thumbs.redditmedia.com/ar9uB-3FqNDwyHtgGJ1mGNXecq1K7q9eNP1dVVuYp6c.jpg',\n",
       "  'thumbnail_height': 140,\n",
       "  'thumbnail_width': 140,\n",
       "  'title': 'Lollololololll',\n",
       "  'url': 'https://i.redd.it/fz09q316dwh41.jpg'},\n",
       " {'all_awardings': [],\n",
       "  'author': 'that_one_gay_kid87',\n",
       "  'created_utc': 1582126055,\n",
       "  'full_link': 'https://www.reddit.com/r/dank_meme/comments/f6c7wx/c/',\n",
       "  'id': 'f6c7wx',\n",
       "  'score': 1,\n",
       "  'subreddit': 'dank_meme',\n",
       "  'thumbnail': 'https://b.thumbs.redditmedia.com/n0pdno8gAIn2-9MbKGPYOOCmY5ig1n59HGB2rrG7acs.jpg',\n",
       "  'thumbnail_height': 83,\n",
       "  'thumbnail_width': 140,\n",
       "  'title': ':,C',\n",
       "  'url': 'https://i.redd.it/pi83j5cjfwh41.jpg'},\n",
       " {'all_awardings': [],\n",
       "  'author': 'notsarim',\n",
       "  'created_utc': 1582133693,\n",
       "  'full_link': 'https://www.reddit.com/r/dank_meme/comments/f6e4z2/helooooo/',\n",
       "  'id': 'f6e4z2',\n",
       "  'score': 1,\n",
       "  'subreddit': 'dank_meme',\n",
       "  'thumbnail': 'https://b.thumbs.redditmedia.com/e_gxM6yLnZmQ3nJnA2I0QxhJkfJCmoPXU5C2Sqhxl2U.jpg',\n",
       "  'thumbnail_height': 128,\n",
       "  'thumbnail_width': 140,\n",
       "  'title': 'Helooooo',\n",
       "  'url': 'https://i.redd.it/ivrlghx82xh41.jpg'},\n",
       " {'all_awardings': [],\n",
       "  'author': 'fortoday1989',\n",
       "  'created_utc': 1582134483,\n",
       "  'full_link': 'https://www.reddit.com/r/dank_meme/comments/f6ecd2/exploding_guinness_try_not_to_laugh_beer_shotgun/',\n",
       "  'id': 'f6ecd2',\n",
       "  'score': 1,\n",
       "  'subreddit': 'dank_meme',\n",
       "  'thumbnail': 'https://b.thumbs.redditmedia.com/U4yUJn-omz8TF6lSdco_U07dJ9BhgRxVcwrT4kib-qg.jpg',\n",
       "  'thumbnail_height': 105,\n",
       "  'thumbnail_width': 140,\n",
       "  'title': 'Exploding Guinness Try Not To Laugh | Beer Shotgun World Record | Beer Shotgun Fail |',\n",
       "  'url': 'https://youtu.be/01n7asus0Gw'},\n",
       " {'all_awardings': [],\n",
       "  'author': 'Eric_Bagnall',\n",
       "  'created_utc': 1582134195,\n",
       "  'full_link': 'https://www.reddit.com/r/dank_meme/comments/f6e9px/first_meme_too/',\n",
       "  'id': 'f6e9px',\n",
       "  'score': 1,\n",
       "  'subreddit': 'dank_meme',\n",
       "  'thumbnail': 'https://b.thumbs.redditmedia.com/fDN64HQk8homEylWxAfZGvXwMvqvmbqdLuwzg5t7UBM.jpg',\n",
       "  'thumbnail_height': 114,\n",
       "  'thumbnail_width': 140,\n",
       "  'title': 'First meme too!',\n",
       "  'url': 'https://i.redd.it/8uonvwkq3xh41.jpg'},\n",
       " {'all_awardings': [],\n",
       "  'author': 'Memesonly1',\n",
       "  'created_utc': 1582134181,\n",
       "  'full_link': 'https://www.reddit.com/r/dank_meme/comments/f6e9jt/stonks/',\n",
       "  'id': 'f6e9jt',\n",
       "  'score': 1,\n",
       "  'subreddit': 'dank_meme',\n",
       "  'thumbnail': 'https://b.thumbs.redditmedia.com/ClilK_rb098C-jBTfAUicDuGFRef_2ilq-jD85j8cgc.jpg',\n",
       "  'thumbnail_height': 87,\n",
       "  'thumbnail_width': 140,\n",
       "  'title': 'Stonks',\n",
       "  'url': 'https://i.redd.it/o8ofv08o3xh41.jpg'},\n",
       " {'all_awardings': [],\n",
       "  'author': 'Sahil1200',\n",
       "  'created_utc': 1582076671,\n",
       "  'full_link': 'https://www.reddit.com/r/dank_meme/comments/f631fb/100k_done_thank_you_all_guyss/',\n",
       "  'id': 'f631fb',\n",
       "  'score': 1,\n",
       "  'subreddit': 'dank_meme',\n",
       "  'thumbnail': 'https://b.thumbs.redditmedia.com/oJF4VqMzV6JPyJwzBdKote6SR5nv7hO1DqHy2cNtLFE.jpg',\n",
       "  'thumbnail_height': 140,\n",
       "  'thumbnail_width': 140,\n",
       "  'title': '100k done thank you all guyss',\n",
       "  'url': 'https://i.redd.it/jmatngtocsh41.jpg'},\n",
       " {'all_awardings': [],\n",
       "  'author': 'Shaved_Bears',\n",
       "  'created_utc': 1582077002,\n",
       "  'full_link': 'https://www.reddit.com/r/dank_meme/comments/f63476/here_is_a_shaved_bear_for_your_nightmare_fuel/',\n",
       "  'id': 'f63476',\n",
       "  'score': 1,\n",
       "  'subreddit': 'dank_meme',\n",
       "  'thumbnail': 'https://b.thumbs.redditmedia.com/qYXtsZk_FMZze1DTh1L_-a5POkFmYRN_pSkaJrgP12A.jpg',\n",
       "  'thumbnail_height': 140,\n",
       "  'thumbnail_width': 140,\n",
       "  'title': 'Here is a shaved bear for your nightmare fuel...',\n",
       "  'url': 'https://i.redd.it/hbq8lffbbsh41.jpg'},\n",
       " {'all_awardings': [],\n",
       "  'author': 'sparkycarr',\n",
       "  'created_utc': 1582084614,\n",
       "  'full_link': 'https://www.reddit.com/r/dank_meme/comments/f64vbi/wheres_the_karma_first_post/',\n",
       "  'id': 'f64vbi',\n",
       "  'score': 1,\n",
       "  'subreddit': 'dank_meme',\n",
       "  'thumbnail': 'default',\n",
       "  'title': 'Where’s the karma? First post',\n",
       "  'url': 'https://i.redd.it/0e42lf7b0th41.jpg'},\n",
       " {'all_awardings': [],\n",
       "  'author': 'chipme77',\n",
       "  'created_utc': 1582090092,\n",
       "  'full_link': 'https://www.reddit.com/r/dank_meme/comments/f6608g/boing/',\n",
       "  'id': 'f6608g',\n",
       "  'score': 1,\n",
       "  'subreddit': 'dank_meme',\n",
       "  'thumbnail': 'https://a.thumbs.redditmedia.com/lckgCbYHeHBJuHGUZStcMC121NgRWBaI5rhB8AAp3z8.jpg',\n",
       "  'thumbnail_height': 137,\n",
       "  'thumbnail_width': 140,\n",
       "  'title': 'Boing',\n",
       "  'url': 'https://i.redd.it/5skuuk1lgth41.jpg'},\n",
       " {'all_awardings': [],\n",
       "  'author': 'beluguss',\n",
       "  'created_utc': 1581881609,\n",
       "  'full_link': 'https://www.reddit.com/r/dank_meme/comments/f4vr1y/caption_this_make_this_go_viral/',\n",
       "  'id': 'f4vr1y',\n",
       "  'score': 1,\n",
       "  'subreddit': 'dank_meme',\n",
       "  'thumbnail': 'https://b.thumbs.redditmedia.com/R21JhJ-UG57M5Mp2-mjhufgUmUs0hMM4_avIn0riSag.jpg',\n",
       "  'thumbnail_height': 140,\n",
       "  'thumbnail_width': 140,\n",
       "  'title': 'Caption this, make this go viral',\n",
       "  'url': 'https://i.redd.it/ftww6gol8ch41.jpg'}]"
      ]
     },
     "execution_count": 12,
     "metadata": {},
     "output_type": "execute_result"
    }
   ],
   "source": [
    "data[\"data\"]"
   ]
  },
  {
   "cell_type": "markdown",
   "metadata": {},
   "source": [
    "## Python Pushshift.io API Wrapper "
   ]
  },
  {
   "cell_type": "markdown",
   "metadata": {},
   "source": [
    "API: https://github.com/dmarx/psaw"
   ]
  },
  {
   "cell_type": "code",
   "execution_count": 13,
   "metadata": {},
   "outputs": [],
   "source": [
    "import psaw\n",
    "from psaw import PushshiftAPI\n",
    "\n",
    "api = PushshiftAPI(reddit)"
   ]
  },
  {
   "cell_type": "code",
   "execution_count": 31,
   "metadata": {},
   "outputs": [],
   "source": [
    "current_time = dt.datetime.now()\n",
    "end_date = current_time-dt.timedelta(days = 30) #how many days before today you want the search to end\n",
    "start_date = current_time-dt.timedelta(days = 34) #how many days before today do you want the search to start\n",
    "start_epoch = int(dt.datetime.timestamp(start_date))\n",
    "end_epoch = int(dt.datetime.timestamp(end_date))"
   ]
  },
  {
   "cell_type": "code",
   "execution_count": 15,
   "metadata": {},
   "outputs": [
    {
     "data": {
      "text/plain": [
       "[Submission(id='fk6615'),\n",
       " Submission(id='fk63a0'),\n",
       " Submission(id='fk610x'),\n",
       " Submission(id='fk5ryu'),\n",
       " Submission(id='fk5ob0'),\n",
       " Submission(id='fk5nt6'),\n",
       " Submission(id='fk5mvl'),\n",
       " Submission(id='fk5hzj'),\n",
       " Submission(id='fk5a72'),\n",
       " Submission(id='fk5812')]"
      ]
     },
     "execution_count": 15,
     "metadata": {},
     "output_type": "execute_result"
    }
   ],
   "source": [
    "subr = 'dank_meme'\n",
    "searchResults = api.search_submissions(after=start_epoch,\n",
    "                            before=end_epoch,\n",
    "                            subreddit=subr)\n",
    "cache = []\n",
    "\n",
    "for result in searchResults:\n",
    "    cache.append(result)\n",
    "    \n",
    "cache[0:10]"
   ]
  },
  {
   "cell_type": "code",
   "execution_count": 16,
   "metadata": {},
   "outputs": [
    {
     "name": "stdout",
     "output_type": "stream",
     "text": [
      "{'_comments_by_id': {},\n",
      " '_fetched': False,\n",
      " '_reddit': <praw.reddit.Reddit object at 0x000002B704267248>,\n",
      " 'all_awardings': [],\n",
      " 'allow_live_comments': False,\n",
      " 'approved_at_utc': None,\n",
      " 'approved_by': None,\n",
      " 'archived': False,\n",
      " 'author': Redditor(name='Brinks0088'),\n",
      " 'author_flair_background_color': None,\n",
      " 'author_flair_css_class': None,\n",
      " 'author_flair_richtext': [],\n",
      " 'author_flair_template_id': None,\n",
      " 'author_flair_text': None,\n",
      " 'author_flair_text_color': None,\n",
      " 'author_flair_type': 'text',\n",
      " 'author_fullname': 't2_xolhb3z',\n",
      " 'author_patreon_flair': False,\n",
      " 'author_premium': False,\n",
      " 'awarders': [],\n",
      " 'banned_at_utc': None,\n",
      " 'banned_by': None,\n",
      " 'can_gild': False,\n",
      " 'can_mod_post': False,\n",
      " 'category': None,\n",
      " 'clicked': False,\n",
      " 'comment_limit': 2048,\n",
      " 'comment_sort': 'best',\n",
      " 'content_categories': None,\n",
      " 'contest_mode': False,\n",
      " 'created': 1584483819.0,\n",
      " 'created_utc': 1584455019.0,\n",
      " 'discussion_type': None,\n",
      " 'distinguished': None,\n",
      " 'domain': 'i.redd.it',\n",
      " 'downs': 0,\n",
      " 'edited': False,\n",
      " 'gilded': 0,\n",
      " 'gildings': {},\n",
      " 'hidden': False,\n",
      " 'hide_score': False,\n",
      " 'id': 'fk63a0',\n",
      " 'is_crosspostable': False,\n",
      " 'is_meta': False,\n",
      " 'is_original_content': False,\n",
      " 'is_reddit_media_domain': True,\n",
      " 'is_robot_indexable': True,\n",
      " 'is_self': False,\n",
      " 'is_video': False,\n",
      " 'likes': None,\n",
      " 'link_flair_background_color': '',\n",
      " 'link_flair_css_class': None,\n",
      " 'link_flair_richtext': [],\n",
      " 'link_flair_text': None,\n",
      " 'link_flair_text_color': 'dark',\n",
      " 'link_flair_type': 'text',\n",
      " 'locked': False,\n",
      " 'media': None,\n",
      " 'media_embed': {},\n",
      " 'media_only': False,\n",
      " 'mod_note': None,\n",
      " 'mod_reason_by': None,\n",
      " 'mod_reason_title': None,\n",
      " 'mod_reports': [],\n",
      " 'name': 't3_fk63a0',\n",
      " 'no_follow': False,\n",
      " 'num_comments': 0,\n",
      " 'num_crossposts': 0,\n",
      " 'num_reports': None,\n",
      " 'over_18': False,\n",
      " 'parent_whitelist_status': 'house_only',\n",
      " 'permalink': '/r/dank_meme/comments/fk63a0/ive_got_a_93_toyota_paseo_out_back_lets_get_outta/',\n",
      " 'pinned': False,\n",
      " 'post_hint': 'image',\n",
      " 'preview': {'enabled': True,\n",
      "             'images': [{'id': 'kZ0TqN_8o2J4ad3PpWDLBrc9D3QJkQbo7jekm_B8e0U',\n",
      "                         'resolutions': [{'height': 83,\n",
      "                                          'url': 'https://preview.redd.it/ngg8wmpqs8n41.jpg?width=108&crop=smart&auto=webp&s=fd45dd0d438dc6f218c47c6ed3ed881149311756',\n",
      "                                          'width': 108},\n",
      "                                         {'height': 167,\n",
      "                                          'url': 'https://preview.redd.it/ngg8wmpqs8n41.jpg?width=216&crop=smart&auto=webp&s=badc8f8f0eda5e4042c60cc8d92dde70a4fbf74c',\n",
      "                                          'width': 216},\n",
      "                                         {'height': 248,\n",
      "                                          'url': 'https://preview.redd.it/ngg8wmpqs8n41.jpg?width=320&crop=smart&auto=webp&s=091e386412c5098320f5065790dcbec2a5074930',\n",
      "                                          'width': 320},\n",
      "                                         {'height': 497,\n",
      "                                          'url': 'https://preview.redd.it/ngg8wmpqs8n41.jpg?width=640&crop=smart&auto=webp&s=72fa6371e1d415aff4c8735866bbdeac11d3a3d2',\n",
      "                                          'width': 640},\n",
      "                                         {'height': 745,\n",
      "                                          'url': 'https://preview.redd.it/ngg8wmpqs8n41.jpg?width=960&crop=smart&auto=webp&s=fa1a7e78ab919091a8869f82092a0d732272543d',\n",
      "                                          'width': 960},\n",
      "                                         {'height': 839,\n",
      "                                          'url': 'https://preview.redd.it/ngg8wmpqs8n41.jpg?width=1080&crop=smart&auto=webp&s=5ece2f6592359089719afeff438de271aa6b96d1',\n",
      "                                          'width': 1080}],\n",
      "                         'source': {'height': 923,\n",
      "                                    'url': 'https://preview.redd.it/ngg8wmpqs8n41.jpg?auto=webp&s=d34c4afd941b5c0185edda0127fc9338a4689244',\n",
      "                                    'width': 1188},\n",
      "                         'variants': {}}]},\n",
      " 'pwls': 1,\n",
      " 'quarantine': False,\n",
      " 'removal_reason': None,\n",
      " 'removed_by': None,\n",
      " 'removed_by_category': None,\n",
      " 'report_reasons': None,\n",
      " 'saved': False,\n",
      " 'score': 11,\n",
      " 'secure_media': None,\n",
      " 'secure_media_embed': {},\n",
      " 'selftext': '',\n",
      " 'selftext_html': None,\n",
      " 'send_replies': True,\n",
      " 'spoiler': False,\n",
      " 'stickied': False,\n",
      " 'subreddit': Subreddit(display_name='dank_meme'),\n",
      " 'subreddit_id': 't5_35fdv',\n",
      " 'subreddit_name_prefixed': 'r/dank_meme',\n",
      " 'subreddit_subscribers': 743520,\n",
      " 'subreddit_type': 'public',\n",
      " 'suggested_sort': None,\n",
      " 'thumbnail': 'https://b.thumbs.redditmedia.com/lQRSWEKcOlNMZhz7gtN8Hq6Hc4aBppGNCHv0DFmxyro.jpg',\n",
      " 'thumbnail_height': 108,\n",
      " 'thumbnail_width': 140,\n",
      " 'title': \"I've got a 93 Toyota Paseo out back.... Let's get outta here.\",\n",
      " 'total_awards_received': 0,\n",
      " 'treatment_tags': [],\n",
      " 'ups': 11,\n",
      " 'url': 'https://i.redd.it/ngg8wmpqs8n41.jpg',\n",
      " 'user_reports': [],\n",
      " 'view_count': None,\n",
      " 'visited': False,\n",
      " 'whitelist_status': 'house_only',\n",
      " 'wls': 1}\n"
     ]
    }
   ],
   "source": [
    "pprint.pprint(vars(cache[1]))"
   ]
  },
  {
   "cell_type": "code",
   "execution_count": 17,
   "metadata": {},
   "outputs": [],
   "source": [
    "memesDict2 = {}\n",
    "memesDict2[\"_default\"] = {}"
   ]
  },
  {
   "cell_type": "code",
   "execution_count": 18,
   "metadata": {},
   "outputs": [],
   "source": [
    "iterator = 1\n",
    "maxUpvote = 0\n",
    "for submission in cache:\n",
    "    if (submission is not None and submission.is_video is False): #ignore video memes\n",
    "        #print(dt.datetime.fromtimestamp(submission.created_utc)) \n",
    "        if (submission.ups > maxUpvote):\n",
    "            maxUpvote = submission.ups\n",
    "        memesDict2[\"_default\"][iterator] = {\"title\":submission.title, \"thumbnail\":{\"thumbnail\":submission.thumbnail, \"height\":submission.thumbnail_height, \"width\":submission.thumbnail_width}, \"created_utc\":submission.created_utc, \"id\":submission.id, \"ups\":submission.ups, \"downs\":submission.downs, \"media\": submission.url, \"url\": submission.permalink, \"awards\": submission.all_awardings, 'subreddit':submission.subreddit.display_name}\n",
    "        if (submission.author is not None): #in case the account is deleted\n",
    "            memesDict2[\"_default\"][iterator][\"author\"] = submission.author.name \n",
    "        else:\n",
    "            memesDict2[\"_default\"][iterator][\"author\"] = \"N/A\"\n",
    "        iterator +=1"
   ]
  },
  {
   "cell_type": "code",
   "execution_count": 19,
   "metadata": {},
   "outputs": [
    {
     "data": {
      "text/plain": [
       "{'title': \"I've got a 93 Toyota Paseo out back.... Let's get outta here.\",\n",
       " 'thumbnail': {'thumbnail': 'https://b.thumbs.redditmedia.com/lQRSWEKcOlNMZhz7gtN8Hq6Hc4aBppGNCHv0DFmxyro.jpg',\n",
       "  'height': 108,\n",
       "  'width': 140},\n",
       " 'created_utc': 1584455019.0,\n",
       " 'id': 'fk63a0',\n",
       " 'ups': 11,\n",
       " 'downs': 0,\n",
       " 'media': 'https://i.redd.it/ngg8wmpqs8n41.jpg',\n",
       " 'url': '/r/dank_meme/comments/fk63a0/ive_got_a_93_toyota_paseo_out_back_lets_get_outta/',\n",
       " 'awards': [],\n",
       " 'subreddit': 'dank_meme',\n",
       " 'author': 'Brinks0088'}"
      ]
     },
     "execution_count": 19,
     "metadata": {},
     "output_type": "execute_result"
    }
   ],
   "source": [
    "memesDict2['_default'][2]"
   ]
  },
  {
   "cell_type": "markdown",
   "metadata": {},
   "source": [
    "There are some thumbnails with value as 'default' btw."
   ]
  },
  {
   "cell_type": "code",
   "execution_count": 20,
   "metadata": {},
   "outputs": [
    {
     "data": {
      "text/plain": [
       "[Submission(id='fk66mr'),\n",
       " Submission(id='fk66d9'),\n",
       " Submission(id='fk664g'),\n",
       " Submission(id='fk663k'),\n",
       " Submission(id='fk65us'),\n",
       " Submission(id='fk65u1'),\n",
       " Submission(id='fk65ry'),\n",
       " Submission(id='fk654j'),\n",
       " Submission(id='fk64em'),\n",
       " Submission(id='fk644e')]"
      ]
     },
     "execution_count": 20,
     "metadata": {},
     "output_type": "execute_result"
    }
   ],
   "source": [
    "subr = 'meme'\n",
    "searchResults = api.search_submissions(after=start_epoch,\n",
    "                            before=end_epoch,\n",
    "                            subreddit=subr)\n",
    "cache = []\n",
    "\n",
    "for result in searchResults:\n",
    "    cache.append(result)\n",
    "    \n",
    "cache[0:10]"
   ]
  },
  {
   "cell_type": "code",
   "execution_count": 21,
   "metadata": {},
   "outputs": [],
   "source": [
    "for submission in cache:\n",
    "    if (submission is not None and submission.is_video is False):\n",
    "        #print(dt.datetime.fromtimestamp(submission.created_utc)) \n",
    "        if (submission.ups > maxUpvote):\n",
    "            maxUpvote = submission.ups\n",
    "        memesDict2[\"_default\"][iterator] = {\"title\":submission.title, \"thumbnail\":{\"thumbnail\":submission.thumbnail, \"height\":submission.thumbnail_height, \"width\":submission.thumbnail_width}, \"created_utc\":submission.created_utc, \"id\":submission.id, \"ups\":submission.ups, \"downs\":submission.downs, \"media\": submission.url, \"url\": submission.permalink, \"awards\": submission.all_awardings}\n",
    "        if (submission.author is not None):\n",
    "            memesDict2[\"_default\"][iterator][\"author\"] = submission.author.name \n",
    "        else:\n",
    "            memesDict2[\"_default\"][iterator][\"author\"] = \"N/A\"\n",
    "        iterator +=1"
   ]
  },
  {
   "cell_type": "code",
   "execution_count": 22,
   "metadata": {
    "scrolled": true
   },
   "outputs": [
    {
     "data": {
      "text/plain": [
       "26323"
      ]
     },
     "execution_count": 22,
     "metadata": {},
     "output_type": "execute_result"
    }
   ],
   "source": [
    "maxUpvote"
   ]
  },
  {
   "cell_type": "code",
   "execution_count": 23,
   "metadata": {},
   "outputs": [
    {
     "data": {
      "text/plain": [
       "15414"
      ]
     },
     "execution_count": 23,
     "metadata": {},
     "output_type": "execute_result"
    }
   ],
   "source": [
    "len(memesDict2['_default'])"
   ]
  },
  {
   "cell_type": "code",
   "execution_count": 25,
   "metadata": {},
   "outputs": [],
   "source": [
    "with open('memesDatabase2.json', 'w') as json_file:\n",
    "    json.dump(memesDict2, json_file)"
   ]
  },
  {
   "cell_type": "code",
   "execution_count": 32,
   "metadata": {},
   "outputs": [],
   "source": [
    "import sys\n",
    "# !{sys.executable} -m pip install opencv-python\n",
    "import cv2\n",
    "from skimage import io\n",
    "def url_to_cvimage(url):\n",
    "    try:\n",
    "        image = io.imread(url)\n",
    "        image = cv2.cvtColor(image, cv2.COLOR_BGR2RGB)\n",
    "        cv2.waitKey(0)\n",
    "        return image.tolist()\n",
    "    except:\n",
    "        return \"N/A\"\n",
    "    \n",
    "def cache_search_results_by_sub(subr):\n",
    "    api = PushshiftAPI(reddit)\n",
    "    searchResults = api.search_submissions(after=start_epoch,\n",
    "                            before=end_epoch,\n",
    "                            subreddit=subr)\n",
    "    return list(searchResults)"
   ]
  },
  {
   "cell_type": "code",
   "execution_count": 33,
   "metadata": {},
   "outputs": [],
   "source": [
    "import requests\n",
    "def isBrokenURL(url):\n",
    "    if \"youtu\" in url:\n",
    "        return True\n",
    "    try:\n",
    "        if requests.get(url).status_code == 404:\n",
    "            return True\n",
    "    except:\n",
    "        return True\n",
    "    return False"
   ]
  },
  {
   "cell_type": "code",
   "execution_count": 34,
   "metadata": {},
   "outputs": [],
   "source": [
    "def make_dict_from_cache(cache):\n",
    "    maxUpvote = 0\n",
    "    iterator = 1\n",
    "    memesDict = {}\n",
    "    memesDict[\"_default\"] = {}\n",
    "    for submission in cache:\n",
    "        if (submission is not None and submission.is_video is False):\n",
    "            if (isBrokenURL(submission.url)): #no videos or no broken links\n",
    "                if (submission.ups > maxUpvote):\n",
    "                    maxUpvote = submission.ups\n",
    "                memesDict[\"_default\"][iterator] = {\"title\":submission.title, \"thumbnail\":{\"thumbnail\":submission.thumbnail, \"height\":submission.thumbnail_height, \"width\":submission.thumbnail_width}, \"created_utc\":submission.created_utc, \"id\":submission.id, \"ups\":submission.ups, \"downs\":submission.downs, \"media\": submission.url, \"url\": submission.permalink, \"awards\": submission.all_awardings, \"subreddit\":submission.subreddit_name_prefixed, \"subscribers\": submission.subreddit_subscribers, \"is_nsfw\": submission.over_18}\n",
    "                if (submission.author is not None):\n",
    "                    memesDict[\"_default\"][iterator][\"author\"] = submission.author.name \n",
    "                else:\n",
    "                    memesDict[\"_default\"][iterator][\"author\"] = \"N/A\"\n",
    "                iterator +=1\n",
    "    return memesDict\n",
    "\n",
    "def make_json_from_dict(meme_dict, sub_name):\n",
    "    with open('./Data/memesDatabase_' + sub_name + '.json', 'w') as json_file:\n",
    "        json.dump(meme_dict, json_file)\n",
    "        \n",
    "def add_cv(meme_dict):\n",
    "    for i in meme_dict[\"_default\"]:\n",
    "        meme_dict[\"_default\"][i][\"cv_image\"] = url_to_cvimage(meme_dict[\"_default\"][i][\"media\"])"
   ]
  },
  {
   "cell_type": "code",
   "execution_count": 35,
   "metadata": {},
   "outputs": [],
   "source": [
    "subreddits = [\"MemeEconomy\", \"memes\", \"me_irl\", \"dank_meme\", \"dankmeme\"]"
   ]
  },
  {
   "cell_type": "code",
   "execution_count": 36,
   "metadata": {},
   "outputs": [
    {
     "ename": "ConnectionError",
     "evalue": "HTTPSConnectionPool(host='www.change.org', port=443): Max retries exceeded with url: /p/the-rt-hon-gavin-williamson-cbe-mp-covid-19-award-predicted-grades-to-a-level-students?utm_content=cl_sharecopy_20879854_en-GB%3Av3&recruited_by_id=29a99970-6829-11ea-a657-3392bd11d0f3&utm_source=share_petition&utm_medium=copylink&utm_campaign=psf_combo_share_initial&utm_term=psf_combo_share_initial (Caused by NewConnectionError('<urllib3.connection.VerifiedHTTPSConnection object at 0x000002B7738229C8>: Failed to establish a new connection: [Errno 11002] getaddrinfo failed'))",
     "output_type": "error",
     "traceback": [
      "\u001b[1;31m---------------------------------------------------------------------------\u001b[0m",
      "\u001b[1;31mgaierror\u001b[0m                                  Traceback (most recent call last)",
      "\u001b[1;32m~\\Anaconda3\\lib\\site-packages\\urllib3\\connection.py\u001b[0m in \u001b[0;36m_new_conn\u001b[1;34m(self)\u001b[0m\n\u001b[0;32m    158\u001b[0m             conn = connection.create_connection(\n\u001b[1;32m--> 159\u001b[1;33m                 (self._dns_host, self.port), self.timeout, **extra_kw)\n\u001b[0m\u001b[0;32m    160\u001b[0m \u001b[1;33m\u001b[0m\u001b[0m\n",
      "\u001b[1;32m~\\Anaconda3\\lib\\site-packages\\urllib3\\util\\connection.py\u001b[0m in \u001b[0;36mcreate_connection\u001b[1;34m(address, timeout, source_address, socket_options)\u001b[0m\n\u001b[0;32m     56\u001b[0m \u001b[1;33m\u001b[0m\u001b[0m\n\u001b[1;32m---> 57\u001b[1;33m     \u001b[1;32mfor\u001b[0m \u001b[0mres\u001b[0m \u001b[1;32min\u001b[0m \u001b[0msocket\u001b[0m\u001b[1;33m.\u001b[0m\u001b[0mgetaddrinfo\u001b[0m\u001b[1;33m(\u001b[0m\u001b[0mhost\u001b[0m\u001b[1;33m,\u001b[0m \u001b[0mport\u001b[0m\u001b[1;33m,\u001b[0m \u001b[0mfamily\u001b[0m\u001b[1;33m,\u001b[0m \u001b[0msocket\u001b[0m\u001b[1;33m.\u001b[0m\u001b[0mSOCK_STREAM\u001b[0m\u001b[1;33m)\u001b[0m\u001b[1;33m:\u001b[0m\u001b[1;33m\u001b[0m\u001b[1;33m\u001b[0m\u001b[0m\n\u001b[0m\u001b[0;32m     58\u001b[0m         \u001b[0maf\u001b[0m\u001b[1;33m,\u001b[0m \u001b[0msocktype\u001b[0m\u001b[1;33m,\u001b[0m \u001b[0mproto\u001b[0m\u001b[1;33m,\u001b[0m \u001b[0mcanonname\u001b[0m\u001b[1;33m,\u001b[0m \u001b[0msa\u001b[0m \u001b[1;33m=\u001b[0m \u001b[0mres\u001b[0m\u001b[1;33m\u001b[0m\u001b[1;33m\u001b[0m\u001b[0m\n",
      "\u001b[1;32m~\\Anaconda3\\lib\\socket.py\u001b[0m in \u001b[0;36mgetaddrinfo\u001b[1;34m(host, port, family, type, proto, flags)\u001b[0m\n\u001b[0;32m    747\u001b[0m     \u001b[0maddrlist\u001b[0m \u001b[1;33m=\u001b[0m \u001b[1;33m[\u001b[0m\u001b[1;33m]\u001b[0m\u001b[1;33m\u001b[0m\u001b[1;33m\u001b[0m\u001b[0m\n\u001b[1;32m--> 748\u001b[1;33m     \u001b[1;32mfor\u001b[0m \u001b[0mres\u001b[0m \u001b[1;32min\u001b[0m \u001b[0m_socket\u001b[0m\u001b[1;33m.\u001b[0m\u001b[0mgetaddrinfo\u001b[0m\u001b[1;33m(\u001b[0m\u001b[0mhost\u001b[0m\u001b[1;33m,\u001b[0m \u001b[0mport\u001b[0m\u001b[1;33m,\u001b[0m \u001b[0mfamily\u001b[0m\u001b[1;33m,\u001b[0m \u001b[0mtype\u001b[0m\u001b[1;33m,\u001b[0m \u001b[0mproto\u001b[0m\u001b[1;33m,\u001b[0m \u001b[0mflags\u001b[0m\u001b[1;33m)\u001b[0m\u001b[1;33m:\u001b[0m\u001b[1;33m\u001b[0m\u001b[1;33m\u001b[0m\u001b[0m\n\u001b[0m\u001b[0;32m    749\u001b[0m         \u001b[0maf\u001b[0m\u001b[1;33m,\u001b[0m \u001b[0msocktype\u001b[0m\u001b[1;33m,\u001b[0m \u001b[0mproto\u001b[0m\u001b[1;33m,\u001b[0m \u001b[0mcanonname\u001b[0m\u001b[1;33m,\u001b[0m \u001b[0msa\u001b[0m \u001b[1;33m=\u001b[0m \u001b[0mres\u001b[0m\u001b[1;33m\u001b[0m\u001b[1;33m\u001b[0m\u001b[0m\n",
      "\u001b[1;31mgaierror\u001b[0m: [Errno 11002] getaddrinfo failed",
      "\nDuring handling of the above exception, another exception occurred:\n",
      "\u001b[1;31mNewConnectionError\u001b[0m                        Traceback (most recent call last)",
      "\u001b[1;32m~\\Anaconda3\\lib\\site-packages\\urllib3\\connectionpool.py\u001b[0m in \u001b[0;36murlopen\u001b[1;34m(self, method, url, body, headers, retries, redirect, assert_same_host, timeout, pool_timeout, release_conn, chunked, body_pos, **response_kw)\u001b[0m\n\u001b[0;32m    599\u001b[0m                                                   \u001b[0mbody\u001b[0m\u001b[1;33m=\u001b[0m\u001b[0mbody\u001b[0m\u001b[1;33m,\u001b[0m \u001b[0mheaders\u001b[0m\u001b[1;33m=\u001b[0m\u001b[0mheaders\u001b[0m\u001b[1;33m,\u001b[0m\u001b[1;33m\u001b[0m\u001b[1;33m\u001b[0m\u001b[0m\n\u001b[1;32m--> 600\u001b[1;33m                                                   chunked=chunked)\n\u001b[0m\u001b[0;32m    601\u001b[0m \u001b[1;33m\u001b[0m\u001b[0m\n",
      "\u001b[1;32m~\\Anaconda3\\lib\\site-packages\\urllib3\\connectionpool.py\u001b[0m in \u001b[0;36m_make_request\u001b[1;34m(self, conn, method, url, timeout, chunked, **httplib_request_kw)\u001b[0m\n\u001b[0;32m    342\u001b[0m         \u001b[1;32mtry\u001b[0m\u001b[1;33m:\u001b[0m\u001b[1;33m\u001b[0m\u001b[1;33m\u001b[0m\u001b[0m\n\u001b[1;32m--> 343\u001b[1;33m             \u001b[0mself\u001b[0m\u001b[1;33m.\u001b[0m\u001b[0m_validate_conn\u001b[0m\u001b[1;33m(\u001b[0m\u001b[0mconn\u001b[0m\u001b[1;33m)\u001b[0m\u001b[1;33m\u001b[0m\u001b[1;33m\u001b[0m\u001b[0m\n\u001b[0m\u001b[0;32m    344\u001b[0m         \u001b[1;32mexcept\u001b[0m \u001b[1;33m(\u001b[0m\u001b[0mSocketTimeout\u001b[0m\u001b[1;33m,\u001b[0m \u001b[0mBaseSSLError\u001b[0m\u001b[1;33m)\u001b[0m \u001b[1;32mas\u001b[0m \u001b[0me\u001b[0m\u001b[1;33m:\u001b[0m\u001b[1;33m\u001b[0m\u001b[1;33m\u001b[0m\u001b[0m\n",
      "\u001b[1;32m~\\Anaconda3\\lib\\site-packages\\urllib3\\connectionpool.py\u001b[0m in \u001b[0;36m_validate_conn\u001b[1;34m(self, conn)\u001b[0m\n\u001b[0;32m    838\u001b[0m         \u001b[1;32mif\u001b[0m \u001b[1;32mnot\u001b[0m \u001b[0mgetattr\u001b[0m\u001b[1;33m(\u001b[0m\u001b[0mconn\u001b[0m\u001b[1;33m,\u001b[0m \u001b[1;34m'sock'\u001b[0m\u001b[1;33m,\u001b[0m \u001b[1;32mNone\u001b[0m\u001b[1;33m)\u001b[0m\u001b[1;33m:\u001b[0m  \u001b[1;31m# AppEngine might not have  `.sock`\u001b[0m\u001b[1;33m\u001b[0m\u001b[1;33m\u001b[0m\u001b[0m\n\u001b[1;32m--> 839\u001b[1;33m             \u001b[0mconn\u001b[0m\u001b[1;33m.\u001b[0m\u001b[0mconnect\u001b[0m\u001b[1;33m(\u001b[0m\u001b[1;33m)\u001b[0m\u001b[1;33m\u001b[0m\u001b[1;33m\u001b[0m\u001b[0m\n\u001b[0m\u001b[0;32m    840\u001b[0m \u001b[1;33m\u001b[0m\u001b[0m\n",
      "\u001b[1;32m~\\Anaconda3\\lib\\site-packages\\urllib3\\connection.py\u001b[0m in \u001b[0;36mconnect\u001b[1;34m(self)\u001b[0m\n\u001b[0;32m    300\u001b[0m         \u001b[1;31m# Add certificate verification\u001b[0m\u001b[1;33m\u001b[0m\u001b[1;33m\u001b[0m\u001b[1;33m\u001b[0m\u001b[0m\n\u001b[1;32m--> 301\u001b[1;33m         \u001b[0mconn\u001b[0m \u001b[1;33m=\u001b[0m \u001b[0mself\u001b[0m\u001b[1;33m.\u001b[0m\u001b[0m_new_conn\u001b[0m\u001b[1;33m(\u001b[0m\u001b[1;33m)\u001b[0m\u001b[1;33m\u001b[0m\u001b[1;33m\u001b[0m\u001b[0m\n\u001b[0m\u001b[0;32m    302\u001b[0m         \u001b[0mhostname\u001b[0m \u001b[1;33m=\u001b[0m \u001b[0mself\u001b[0m\u001b[1;33m.\u001b[0m\u001b[0mhost\u001b[0m\u001b[1;33m\u001b[0m\u001b[1;33m\u001b[0m\u001b[0m\n",
      "\u001b[1;32m~\\Anaconda3\\lib\\site-packages\\urllib3\\connection.py\u001b[0m in \u001b[0;36m_new_conn\u001b[1;34m(self)\u001b[0m\n\u001b[0;32m    167\u001b[0m             raise NewConnectionError(\n\u001b[1;32m--> 168\u001b[1;33m                 self, \"Failed to establish a new connection: %s\" % e)\n\u001b[0m\u001b[0;32m    169\u001b[0m \u001b[1;33m\u001b[0m\u001b[0m\n",
      "\u001b[1;31mNewConnectionError\u001b[0m: <urllib3.connection.VerifiedHTTPSConnection object at 0x000002B7738229C8>: Failed to establish a new connection: [Errno 11002] getaddrinfo failed",
      "\nDuring handling of the above exception, another exception occurred:\n",
      "\u001b[1;31mMaxRetryError\u001b[0m                             Traceback (most recent call last)",
      "\u001b[1;32m~\\Anaconda3\\lib\\site-packages\\requests\\adapters.py\u001b[0m in \u001b[0;36msend\u001b[1;34m(self, request, stream, timeout, verify, cert, proxies)\u001b[0m\n\u001b[0;32m    448\u001b[0m                     \u001b[0mretries\u001b[0m\u001b[1;33m=\u001b[0m\u001b[0mself\u001b[0m\u001b[1;33m.\u001b[0m\u001b[0mmax_retries\u001b[0m\u001b[1;33m,\u001b[0m\u001b[1;33m\u001b[0m\u001b[1;33m\u001b[0m\u001b[0m\n\u001b[1;32m--> 449\u001b[1;33m                     \u001b[0mtimeout\u001b[0m\u001b[1;33m=\u001b[0m\u001b[0mtimeout\u001b[0m\u001b[1;33m\u001b[0m\u001b[1;33m\u001b[0m\u001b[0m\n\u001b[0m\u001b[0;32m    450\u001b[0m                 )\n",
      "\u001b[1;32m~\\Anaconda3\\lib\\site-packages\\urllib3\\connectionpool.py\u001b[0m in \u001b[0;36murlopen\u001b[1;34m(self, method, url, body, headers, retries, redirect, assert_same_host, timeout, pool_timeout, release_conn, chunked, body_pos, **response_kw)\u001b[0m\n\u001b[0;32m    637\u001b[0m             retries = retries.increment(method, url, error=e, _pool=self,\n\u001b[1;32m--> 638\u001b[1;33m                                         _stacktrace=sys.exc_info()[2])\n\u001b[0m\u001b[0;32m    639\u001b[0m             \u001b[0mretries\u001b[0m\u001b[1;33m.\u001b[0m\u001b[0msleep\u001b[0m\u001b[1;33m(\u001b[0m\u001b[1;33m)\u001b[0m\u001b[1;33m\u001b[0m\u001b[1;33m\u001b[0m\u001b[0m\n",
      "\u001b[1;32m~\\Anaconda3\\lib\\site-packages\\urllib3\\util\\retry.py\u001b[0m in \u001b[0;36mincrement\u001b[1;34m(self, method, url, response, error, _pool, _stacktrace)\u001b[0m\n\u001b[0;32m    398\u001b[0m         \u001b[1;32mif\u001b[0m \u001b[0mnew_retry\u001b[0m\u001b[1;33m.\u001b[0m\u001b[0mis_exhausted\u001b[0m\u001b[1;33m(\u001b[0m\u001b[1;33m)\u001b[0m\u001b[1;33m:\u001b[0m\u001b[1;33m\u001b[0m\u001b[1;33m\u001b[0m\u001b[0m\n\u001b[1;32m--> 399\u001b[1;33m             \u001b[1;32mraise\u001b[0m \u001b[0mMaxRetryError\u001b[0m\u001b[1;33m(\u001b[0m\u001b[0m_pool\u001b[0m\u001b[1;33m,\u001b[0m \u001b[0murl\u001b[0m\u001b[1;33m,\u001b[0m \u001b[0merror\u001b[0m \u001b[1;32mor\u001b[0m \u001b[0mResponseError\u001b[0m\u001b[1;33m(\u001b[0m\u001b[0mcause\u001b[0m\u001b[1;33m)\u001b[0m\u001b[1;33m)\u001b[0m\u001b[1;33m\u001b[0m\u001b[1;33m\u001b[0m\u001b[0m\n\u001b[0m\u001b[0;32m    400\u001b[0m \u001b[1;33m\u001b[0m\u001b[0m\n",
      "\u001b[1;31mMaxRetryError\u001b[0m: HTTPSConnectionPool(host='www.change.org', port=443): Max retries exceeded with url: /p/the-rt-hon-gavin-williamson-cbe-mp-covid-19-award-predicted-grades-to-a-level-students?utm_content=cl_sharecopy_20879854_en-GB%3Av3&recruited_by_id=29a99970-6829-11ea-a657-3392bd11d0f3&utm_source=share_petition&utm_medium=copylink&utm_campaign=psf_combo_share_initial&utm_term=psf_combo_share_initial (Caused by NewConnectionError('<urllib3.connection.VerifiedHTTPSConnection object at 0x000002B7738229C8>: Failed to establish a new connection: [Errno 11002] getaddrinfo failed'))",
      "\nDuring handling of the above exception, another exception occurred:\n",
      "\u001b[1;31mConnectionError\u001b[0m                           Traceback (most recent call last)",
      "\u001b[1;32m<ipython-input-36-5fce90ff993b>\u001b[0m in \u001b[0;36m<module>\u001b[1;34m\u001b[0m\n\u001b[0;32m      1\u001b[0m \u001b[0mmeme_dicts\u001b[0m \u001b[1;33m=\u001b[0m \u001b[1;33m[\u001b[0m\u001b[1;33m]\u001b[0m\u001b[1;33m\u001b[0m\u001b[1;33m\u001b[0m\u001b[0m\n\u001b[0;32m      2\u001b[0m \u001b[1;32mfor\u001b[0m \u001b[0msub\u001b[0m \u001b[1;32min\u001b[0m \u001b[0msubreddits\u001b[0m\u001b[1;33m:\u001b[0m\u001b[1;33m\u001b[0m\u001b[1;33m\u001b[0m\u001b[0m\n\u001b[1;32m----> 3\u001b[1;33m     \u001b[0mmeme_dicts\u001b[0m\u001b[1;33m.\u001b[0m\u001b[0mappend\u001b[0m\u001b[1;33m(\u001b[0m\u001b[0mmake_dict_from_cache\u001b[0m\u001b[1;33m(\u001b[0m\u001b[0mcache_search_results_by_sub\u001b[0m\u001b[1;33m(\u001b[0m\u001b[0msub\u001b[0m\u001b[1;33m)\u001b[0m\u001b[1;33m)\u001b[0m\u001b[1;33m)\u001b[0m\u001b[1;33m\u001b[0m\u001b[1;33m\u001b[0m\u001b[0m\n\u001b[0m",
      "\u001b[1;32m<ipython-input-34-ceb927c92fd2>\u001b[0m in \u001b[0;36mmake_dict_from_cache\u001b[1;34m(cache)\u001b[0m\n\u001b[0;32m      6\u001b[0m     \u001b[1;32mfor\u001b[0m \u001b[0msubmission\u001b[0m \u001b[1;32min\u001b[0m \u001b[0mcache\u001b[0m\u001b[1;33m:\u001b[0m\u001b[1;33m\u001b[0m\u001b[1;33m\u001b[0m\u001b[0m\n\u001b[0;32m      7\u001b[0m         \u001b[1;32mif\u001b[0m \u001b[1;33m(\u001b[0m\u001b[0msubmission\u001b[0m \u001b[1;32mis\u001b[0m \u001b[1;32mnot\u001b[0m \u001b[1;32mNone\u001b[0m \u001b[1;32mand\u001b[0m \u001b[0msubmission\u001b[0m\u001b[1;33m.\u001b[0m\u001b[0mis_video\u001b[0m \u001b[1;32mis\u001b[0m \u001b[1;32mFalse\u001b[0m\u001b[1;33m)\u001b[0m\u001b[1;33m:\u001b[0m\u001b[1;33m\u001b[0m\u001b[1;33m\u001b[0m\u001b[0m\n\u001b[1;32m----> 8\u001b[1;33m             \u001b[1;32mif\u001b[0m \u001b[1;33m(\u001b[0m\u001b[0misBrokenURL\u001b[0m\u001b[1;33m(\u001b[0m\u001b[0msubmission\u001b[0m\u001b[1;33m.\u001b[0m\u001b[0murl\u001b[0m\u001b[1;33m)\u001b[0m\u001b[1;33m)\u001b[0m\u001b[1;33m:\u001b[0m \u001b[1;31m#no videos or no broken links\u001b[0m\u001b[1;33m\u001b[0m\u001b[1;33m\u001b[0m\u001b[0m\n\u001b[0m\u001b[0;32m      9\u001b[0m                 \u001b[1;32mif\u001b[0m \u001b[1;33m(\u001b[0m\u001b[0msubmission\u001b[0m\u001b[1;33m.\u001b[0m\u001b[0mups\u001b[0m \u001b[1;33m>\u001b[0m \u001b[0mmaxUpvote\u001b[0m\u001b[1;33m)\u001b[0m\u001b[1;33m:\u001b[0m\u001b[1;33m\u001b[0m\u001b[1;33m\u001b[0m\u001b[0m\n\u001b[0;32m     10\u001b[0m                     \u001b[0mmaxUpvote\u001b[0m \u001b[1;33m=\u001b[0m \u001b[0msubmission\u001b[0m\u001b[1;33m.\u001b[0m\u001b[0mups\u001b[0m\u001b[1;33m\u001b[0m\u001b[1;33m\u001b[0m\u001b[0m\n",
      "\u001b[1;32m<ipython-input-33-594e34176478>\u001b[0m in \u001b[0;36misBrokenURL\u001b[1;34m(url)\u001b[0m\n\u001b[0;32m      1\u001b[0m \u001b[1;32mimport\u001b[0m \u001b[0mrequests\u001b[0m\u001b[1;33m\u001b[0m\u001b[1;33m\u001b[0m\u001b[0m\n\u001b[0;32m      2\u001b[0m \u001b[1;32mdef\u001b[0m \u001b[0misBrokenURL\u001b[0m\u001b[1;33m(\u001b[0m\u001b[0murl\u001b[0m\u001b[1;33m)\u001b[0m\u001b[1;33m:\u001b[0m\u001b[1;33m\u001b[0m\u001b[1;33m\u001b[0m\u001b[0m\n\u001b[1;32m----> 3\u001b[1;33m     \u001b[1;32mif\u001b[0m \u001b[1;34m\"youtu\"\u001b[0m \u001b[1;32min\u001b[0m \u001b[0murl\u001b[0m \u001b[1;32mor\u001b[0m \u001b[0mrequests\u001b[0m\u001b[1;33m.\u001b[0m\u001b[0mget\u001b[0m\u001b[1;33m(\u001b[0m\u001b[0murl\u001b[0m\u001b[1;33m)\u001b[0m\u001b[1;33m.\u001b[0m\u001b[0mstatus_code\u001b[0m \u001b[1;33m==\u001b[0m \u001b[1;36m404\u001b[0m\u001b[1;33m:\u001b[0m\u001b[1;33m\u001b[0m\u001b[1;33m\u001b[0m\u001b[0m\n\u001b[0m\u001b[0;32m      4\u001b[0m         \u001b[1;32mreturn\u001b[0m \u001b[1;32mTrue\u001b[0m\u001b[1;33m\u001b[0m\u001b[1;33m\u001b[0m\u001b[0m\n\u001b[0;32m      5\u001b[0m     \u001b[1;32mreturn\u001b[0m \u001b[1;32mFalse\u001b[0m\u001b[1;33m\u001b[0m\u001b[1;33m\u001b[0m\u001b[0m\n",
      "\u001b[1;32m~\\Anaconda3\\lib\\site-packages\\requests\\api.py\u001b[0m in \u001b[0;36mget\u001b[1;34m(url, params, **kwargs)\u001b[0m\n\u001b[0;32m     73\u001b[0m \u001b[1;33m\u001b[0m\u001b[0m\n\u001b[0;32m     74\u001b[0m     \u001b[0mkwargs\u001b[0m\u001b[1;33m.\u001b[0m\u001b[0msetdefault\u001b[0m\u001b[1;33m(\u001b[0m\u001b[1;34m'allow_redirects'\u001b[0m\u001b[1;33m,\u001b[0m \u001b[1;32mTrue\u001b[0m\u001b[1;33m)\u001b[0m\u001b[1;33m\u001b[0m\u001b[1;33m\u001b[0m\u001b[0m\n\u001b[1;32m---> 75\u001b[1;33m     \u001b[1;32mreturn\u001b[0m \u001b[0mrequest\u001b[0m\u001b[1;33m(\u001b[0m\u001b[1;34m'get'\u001b[0m\u001b[1;33m,\u001b[0m \u001b[0murl\u001b[0m\u001b[1;33m,\u001b[0m \u001b[0mparams\u001b[0m\u001b[1;33m=\u001b[0m\u001b[0mparams\u001b[0m\u001b[1;33m,\u001b[0m \u001b[1;33m**\u001b[0m\u001b[0mkwargs\u001b[0m\u001b[1;33m)\u001b[0m\u001b[1;33m\u001b[0m\u001b[1;33m\u001b[0m\u001b[0m\n\u001b[0m\u001b[0;32m     76\u001b[0m \u001b[1;33m\u001b[0m\u001b[0m\n\u001b[0;32m     77\u001b[0m \u001b[1;33m\u001b[0m\u001b[0m\n",
      "\u001b[1;32m~\\Anaconda3\\lib\\site-packages\\requests\\api.py\u001b[0m in \u001b[0;36mrequest\u001b[1;34m(method, url, **kwargs)\u001b[0m\n\u001b[0;32m     58\u001b[0m     \u001b[1;31m# cases, and look like a memory leak in others.\u001b[0m\u001b[1;33m\u001b[0m\u001b[1;33m\u001b[0m\u001b[1;33m\u001b[0m\u001b[0m\n\u001b[0;32m     59\u001b[0m     \u001b[1;32mwith\u001b[0m \u001b[0msessions\u001b[0m\u001b[1;33m.\u001b[0m\u001b[0mSession\u001b[0m\u001b[1;33m(\u001b[0m\u001b[1;33m)\u001b[0m \u001b[1;32mas\u001b[0m \u001b[0msession\u001b[0m\u001b[1;33m:\u001b[0m\u001b[1;33m\u001b[0m\u001b[1;33m\u001b[0m\u001b[0m\n\u001b[1;32m---> 60\u001b[1;33m         \u001b[1;32mreturn\u001b[0m \u001b[0msession\u001b[0m\u001b[1;33m.\u001b[0m\u001b[0mrequest\u001b[0m\u001b[1;33m(\u001b[0m\u001b[0mmethod\u001b[0m\u001b[1;33m=\u001b[0m\u001b[0mmethod\u001b[0m\u001b[1;33m,\u001b[0m \u001b[0murl\u001b[0m\u001b[1;33m=\u001b[0m\u001b[0murl\u001b[0m\u001b[1;33m,\u001b[0m \u001b[1;33m**\u001b[0m\u001b[0mkwargs\u001b[0m\u001b[1;33m)\u001b[0m\u001b[1;33m\u001b[0m\u001b[1;33m\u001b[0m\u001b[0m\n\u001b[0m\u001b[0;32m     61\u001b[0m \u001b[1;33m\u001b[0m\u001b[0m\n\u001b[0;32m     62\u001b[0m \u001b[1;33m\u001b[0m\u001b[0m\n",
      "\u001b[1;32m~\\Anaconda3\\lib\\site-packages\\requests\\sessions.py\u001b[0m in \u001b[0;36mrequest\u001b[1;34m(self, method, url, params, data, headers, cookies, files, auth, timeout, allow_redirects, proxies, hooks, stream, verify, cert, json)\u001b[0m\n\u001b[0;32m    531\u001b[0m         }\n\u001b[0;32m    532\u001b[0m         \u001b[0msend_kwargs\u001b[0m\u001b[1;33m.\u001b[0m\u001b[0mupdate\u001b[0m\u001b[1;33m(\u001b[0m\u001b[0msettings\u001b[0m\u001b[1;33m)\u001b[0m\u001b[1;33m\u001b[0m\u001b[1;33m\u001b[0m\u001b[0m\n\u001b[1;32m--> 533\u001b[1;33m         \u001b[0mresp\u001b[0m \u001b[1;33m=\u001b[0m \u001b[0mself\u001b[0m\u001b[1;33m.\u001b[0m\u001b[0msend\u001b[0m\u001b[1;33m(\u001b[0m\u001b[0mprep\u001b[0m\u001b[1;33m,\u001b[0m \u001b[1;33m**\u001b[0m\u001b[0msend_kwargs\u001b[0m\u001b[1;33m)\u001b[0m\u001b[1;33m\u001b[0m\u001b[1;33m\u001b[0m\u001b[0m\n\u001b[0m\u001b[0;32m    534\u001b[0m \u001b[1;33m\u001b[0m\u001b[0m\n\u001b[0;32m    535\u001b[0m         \u001b[1;32mreturn\u001b[0m \u001b[0mresp\u001b[0m\u001b[1;33m\u001b[0m\u001b[1;33m\u001b[0m\u001b[0m\n",
      "\u001b[1;32m~\\Anaconda3\\lib\\site-packages\\requests\\sessions.py\u001b[0m in \u001b[0;36msend\u001b[1;34m(self, request, **kwargs)\u001b[0m\n\u001b[0;32m    666\u001b[0m \u001b[1;33m\u001b[0m\u001b[0m\n\u001b[0;32m    667\u001b[0m         \u001b[1;31m# Resolve redirects if allowed.\u001b[0m\u001b[1;33m\u001b[0m\u001b[1;33m\u001b[0m\u001b[1;33m\u001b[0m\u001b[0m\n\u001b[1;32m--> 668\u001b[1;33m         \u001b[0mhistory\u001b[0m \u001b[1;33m=\u001b[0m \u001b[1;33m[\u001b[0m\u001b[0mresp\u001b[0m \u001b[1;32mfor\u001b[0m \u001b[0mresp\u001b[0m \u001b[1;32min\u001b[0m \u001b[0mgen\u001b[0m\u001b[1;33m]\u001b[0m \u001b[1;32mif\u001b[0m \u001b[0mallow_redirects\u001b[0m \u001b[1;32melse\u001b[0m \u001b[1;33m[\u001b[0m\u001b[1;33m]\u001b[0m\u001b[1;33m\u001b[0m\u001b[1;33m\u001b[0m\u001b[0m\n\u001b[0m\u001b[0;32m    669\u001b[0m \u001b[1;33m\u001b[0m\u001b[0m\n\u001b[0;32m    670\u001b[0m         \u001b[1;31m# Shuffle things around if there's history.\u001b[0m\u001b[1;33m\u001b[0m\u001b[1;33m\u001b[0m\u001b[1;33m\u001b[0m\u001b[0m\n",
      "\u001b[1;32m~\\Anaconda3\\lib\\site-packages\\requests\\sessions.py\u001b[0m in \u001b[0;36m<listcomp>\u001b[1;34m(.0)\u001b[0m\n\u001b[0;32m    666\u001b[0m \u001b[1;33m\u001b[0m\u001b[0m\n\u001b[0;32m    667\u001b[0m         \u001b[1;31m# Resolve redirects if allowed.\u001b[0m\u001b[1;33m\u001b[0m\u001b[1;33m\u001b[0m\u001b[1;33m\u001b[0m\u001b[0m\n\u001b[1;32m--> 668\u001b[1;33m         \u001b[0mhistory\u001b[0m \u001b[1;33m=\u001b[0m \u001b[1;33m[\u001b[0m\u001b[0mresp\u001b[0m \u001b[1;32mfor\u001b[0m \u001b[0mresp\u001b[0m \u001b[1;32min\u001b[0m \u001b[0mgen\u001b[0m\u001b[1;33m]\u001b[0m \u001b[1;32mif\u001b[0m \u001b[0mallow_redirects\u001b[0m \u001b[1;32melse\u001b[0m \u001b[1;33m[\u001b[0m\u001b[1;33m]\u001b[0m\u001b[1;33m\u001b[0m\u001b[1;33m\u001b[0m\u001b[0m\n\u001b[0m\u001b[0;32m    669\u001b[0m \u001b[1;33m\u001b[0m\u001b[0m\n\u001b[0;32m    670\u001b[0m         \u001b[1;31m# Shuffle things around if there's history.\u001b[0m\u001b[1;33m\u001b[0m\u001b[1;33m\u001b[0m\u001b[1;33m\u001b[0m\u001b[0m\n",
      "\u001b[1;32m~\\Anaconda3\\lib\\site-packages\\requests\\sessions.py\u001b[0m in \u001b[0;36mresolve_redirects\u001b[1;34m(self, resp, req, stream, timeout, verify, cert, proxies, yield_requests, **adapter_kwargs)\u001b[0m\n\u001b[0;32m    245\u001b[0m                     \u001b[0mproxies\u001b[0m\u001b[1;33m=\u001b[0m\u001b[0mproxies\u001b[0m\u001b[1;33m,\u001b[0m\u001b[1;33m\u001b[0m\u001b[1;33m\u001b[0m\u001b[0m\n\u001b[0;32m    246\u001b[0m                     \u001b[0mallow_redirects\u001b[0m\u001b[1;33m=\u001b[0m\u001b[1;32mFalse\u001b[0m\u001b[1;33m,\u001b[0m\u001b[1;33m\u001b[0m\u001b[1;33m\u001b[0m\u001b[0m\n\u001b[1;32m--> 247\u001b[1;33m                     \u001b[1;33m**\u001b[0m\u001b[0madapter_kwargs\u001b[0m\u001b[1;33m\u001b[0m\u001b[1;33m\u001b[0m\u001b[0m\n\u001b[0m\u001b[0;32m    248\u001b[0m                 )\n\u001b[0;32m    249\u001b[0m \u001b[1;33m\u001b[0m\u001b[0m\n",
      "\u001b[1;32m~\\Anaconda3\\lib\\site-packages\\requests\\sessions.py\u001b[0m in \u001b[0;36msend\u001b[1;34m(self, request, **kwargs)\u001b[0m\n\u001b[0;32m    644\u001b[0m \u001b[1;33m\u001b[0m\u001b[0m\n\u001b[0;32m    645\u001b[0m         \u001b[1;31m# Send the request\u001b[0m\u001b[1;33m\u001b[0m\u001b[1;33m\u001b[0m\u001b[1;33m\u001b[0m\u001b[0m\n\u001b[1;32m--> 646\u001b[1;33m         \u001b[0mr\u001b[0m \u001b[1;33m=\u001b[0m \u001b[0madapter\u001b[0m\u001b[1;33m.\u001b[0m\u001b[0msend\u001b[0m\u001b[1;33m(\u001b[0m\u001b[0mrequest\u001b[0m\u001b[1;33m,\u001b[0m \u001b[1;33m**\u001b[0m\u001b[0mkwargs\u001b[0m\u001b[1;33m)\u001b[0m\u001b[1;33m\u001b[0m\u001b[1;33m\u001b[0m\u001b[0m\n\u001b[0m\u001b[0;32m    647\u001b[0m \u001b[1;33m\u001b[0m\u001b[0m\n\u001b[0;32m    648\u001b[0m         \u001b[1;31m# Total elapsed time of the request (approximately)\u001b[0m\u001b[1;33m\u001b[0m\u001b[1;33m\u001b[0m\u001b[1;33m\u001b[0m\u001b[0m\n",
      "\u001b[1;32m~\\Anaconda3\\lib\\site-packages\\requests\\adapters.py\u001b[0m in \u001b[0;36msend\u001b[1;34m(self, request, stream, timeout, verify, cert, proxies)\u001b[0m\n\u001b[0;32m    514\u001b[0m                 \u001b[1;32mraise\u001b[0m \u001b[0mSSLError\u001b[0m\u001b[1;33m(\u001b[0m\u001b[0me\u001b[0m\u001b[1;33m,\u001b[0m \u001b[0mrequest\u001b[0m\u001b[1;33m=\u001b[0m\u001b[0mrequest\u001b[0m\u001b[1;33m)\u001b[0m\u001b[1;33m\u001b[0m\u001b[1;33m\u001b[0m\u001b[0m\n\u001b[0;32m    515\u001b[0m \u001b[1;33m\u001b[0m\u001b[0m\n\u001b[1;32m--> 516\u001b[1;33m             \u001b[1;32mraise\u001b[0m \u001b[0mConnectionError\u001b[0m\u001b[1;33m(\u001b[0m\u001b[0me\u001b[0m\u001b[1;33m,\u001b[0m \u001b[0mrequest\u001b[0m\u001b[1;33m=\u001b[0m\u001b[0mrequest\u001b[0m\u001b[1;33m)\u001b[0m\u001b[1;33m\u001b[0m\u001b[1;33m\u001b[0m\u001b[0m\n\u001b[0m\u001b[0;32m    517\u001b[0m \u001b[1;33m\u001b[0m\u001b[0m\n\u001b[0;32m    518\u001b[0m         \u001b[1;32mexcept\u001b[0m \u001b[0mClosedPoolError\u001b[0m \u001b[1;32mas\u001b[0m \u001b[0me\u001b[0m\u001b[1;33m:\u001b[0m\u001b[1;33m\u001b[0m\u001b[1;33m\u001b[0m\u001b[0m\n",
      "\u001b[1;31mConnectionError\u001b[0m: HTTPSConnectionPool(host='www.change.org', port=443): Max retries exceeded with url: /p/the-rt-hon-gavin-williamson-cbe-mp-covid-19-award-predicted-grades-to-a-level-students?utm_content=cl_sharecopy_20879854_en-GB%3Av3&recruited_by_id=29a99970-6829-11ea-a657-3392bd11d0f3&utm_source=share_petition&utm_medium=copylink&utm_campaign=psf_combo_share_initial&utm_term=psf_combo_share_initial (Caused by NewConnectionError('<urllib3.connection.VerifiedHTTPSConnection object at 0x000002B7738229C8>: Failed to establish a new connection: [Errno 11002] getaddrinfo failed'))"
     ]
    }
   ],
   "source": [
    "meme_dicts = []\n",
    "for sub in subreddits:\n",
    "    meme_dicts.append(make_dict_from_cache(cache_search_results_by_sub(sub)))"
   ]
  },
  {
   "cell_type": "code",
   "execution_count": null,
   "metadata": {},
   "outputs": [],
   "source": [
    "for i in range(len(meme_dicts)):\n",
    "    make_json_from_dict(meme_dicts[i], subreddits[i])"
   ]
  }
 ],
 "metadata": {
  "kernelspec": {
   "display_name": "Python 3",
   "language": "python",
   "name": "python3"
  },
  "language_info": {
   "codemirror_mode": {
    "name": "ipython",
    "version": 3
   },
   "file_extension": ".py",
   "mimetype": "text/x-python",
   "name": "python",
   "nbconvert_exporter": "python",
   "pygments_lexer": "ipython3",
   "version": "3.7.4"
  }
 },
 "nbformat": 4,
 "nbformat_minor": 2
}
