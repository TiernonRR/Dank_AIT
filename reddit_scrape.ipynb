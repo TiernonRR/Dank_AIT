{
 "cells": [
  {
   "cell_type": "code",
   "execution_count": 1,
   "metadata": {},
   "outputs": [],
   "source": [
    "# !pip install Praw\n",
    "# !pip install --upgrade praw"
   ]
  },
  {
   "cell_type": "code",
   "execution_count": 2,
   "metadata": {},
   "outputs": [
    {
     "name": "stdout",
     "output_type": "stream",
     "text": [
      "Requirement already satisfied: praw in c:\\users\\trinh\\anaconda3\\lib\\site-packages (7.0.0.dev0)\n",
      "Requirement already satisfied: websocket-client>=0.54.0 in c:\\users\\trinh\\anaconda3\\lib\\site-packages (from praw) (0.57.0)\n",
      "Requirement already satisfied: prawcore<2.0,>=1.0.1 in c:\\users\\trinh\\anaconda3\\lib\\site-packages (from praw) (1.0.1)\n",
      "Requirement already satisfied: update-checker>=0.16 in c:\\users\\trinh\\anaconda3\\lib\\site-packages (from praw) (0.16)\n",
      "Requirement already satisfied: six in c:\\users\\trinh\\anaconda3\\lib\\site-packages (from websocket-client>=0.54.0->praw) (1.12.0)\n",
      "Requirement already satisfied: requests<3.0,>=2.6.0 in c:\\users\\trinh\\anaconda3\\lib\\site-packages (from prawcore<2.0,>=1.0.1->praw) (2.22.0)\n",
      "Requirement already satisfied: chardet<3.1.0,>=3.0.2 in c:\\users\\trinh\\anaconda3\\lib\\site-packages (from requests<3.0,>=2.6.0->prawcore<2.0,>=1.0.1->praw) (3.0.4)\n",
      "Requirement already satisfied: urllib3!=1.25.0,!=1.25.1,<1.26,>=1.21.1 in c:\\users\\trinh\\anaconda3\\lib\\site-packages (from requests<3.0,>=2.6.0->prawcore<2.0,>=1.0.1->praw) (1.24.2)\n",
      "Requirement already satisfied: certifi>=2017.4.17 in c:\\users\\trinh\\anaconda3\\lib\\site-packages (from requests<3.0,>=2.6.0->prawcore<2.0,>=1.0.1->praw) (2019.9.11)\n",
      "Requirement already satisfied: idna<2.9,>=2.5 in c:\\users\\trinh\\anaconda3\\lib\\site-packages (from requests<3.0,>=2.6.0->prawcore<2.0,>=1.0.1->praw) (2.8)\n",
      "Requirement already satisfied: psaw in c:\\users\\trinh\\anaconda3\\lib\\site-packages (0.0.12)\n",
      "Requirement already satisfied: Click in c:\\users\\trinh\\anaconda3\\lib\\site-packages (from psaw) (7.0)\n",
      "Requirement already satisfied: requests in c:\\users\\trinh\\anaconda3\\lib\\site-packages (from psaw) (2.22.0)\n",
      "Requirement already satisfied: chardet<3.1.0,>=3.0.2 in c:\\users\\trinh\\anaconda3\\lib\\site-packages (from requests->psaw) (3.0.4)\n",
      "Requirement already satisfied: urllib3!=1.25.0,!=1.25.1,<1.26,>=1.21.1 in c:\\users\\trinh\\anaconda3\\lib\\site-packages (from requests->psaw) (1.24.2)\n",
      "Requirement already satisfied: idna<2.9,>=2.5 in c:\\users\\trinh\\anaconda3\\lib\\site-packages (from requests->psaw) (2.8)\n",
      "Requirement already satisfied: certifi>=2017.4.17 in c:\\users\\trinh\\anaconda3\\lib\\site-packages (from requests->psaw) (2019.9.11)\n"
     ]
    }
   ],
   "source": [
    "import sys\n",
    "!{sys.executable} -m pip install praw\n",
    "!{sys.executable} -m pip install psaw\n",
    "import praw\n",
    "import pandas as pd\n",
    "import datetime as dt\n",
    "import json\n",
    "\n",
    "f = open(\"../secret_python.txt\", \"r\")\n",
    "client_id = f.readline().rstrip()\n",
    "secret_key = f.readline().rstrip()\n",
    "f.close()"
   ]
  },
  {
   "cell_type": "markdown",
   "metadata": {},
   "source": [
    "## Praw"
   ]
  },
  {
   "cell_type": "code",
   "execution_count": 3,
   "metadata": {},
   "outputs": [
    {
     "data": {
      "text/plain": [
       "True"
      ]
     },
     "execution_count": 3,
     "metadata": {},
     "output_type": "execute_result"
    }
   ],
   "source": [
    "reddit = praw.Reddit(client_id=client_id, \\\n",
    "                     client_secret=secret_key, \\\n",
    "                     user_agent='Scrape')\n",
    "\n",
    "reddit.read_only"
   ]
  },
  {
   "cell_type": "code",
   "execution_count": 4,
   "metadata": {},
   "outputs": [],
   "source": [
    "dank_meme = reddit.subreddit('dank_meme')"
   ]
  },
  {
   "cell_type": "code",
   "execution_count": 5,
   "metadata": {},
   "outputs": [],
   "source": [
    "memesDict = {}\n",
    "memesDict[\"_default\"] = {}"
   ]
  },
  {
   "cell_type": "markdown",
   "metadata": {},
   "source": [
    "Source: https://stackoverflow.com/questions/40960449/getting-all-submissions-for-the-past-two-months-from-a-particular-subreddit-usi"
   ]
  },
  {
   "cell_type": "code",
   "execution_count": 6,
   "metadata": {},
   "outputs": [],
   "source": [
    "iterator = 1\n",
    "for submission in dank_meme.hot(limit = 100):\n",
    "    #print(dt.datetime.fromtimestamp(submission.created_utc)) \n",
    "    memesDict[\"_default\"][iterator] = {\"title\":submission.title, \"thumbnail\":{\"thumbnail\":submission.thumbnail, \"height\":submission.thumbnail_height, \"width\":submission.thumbnail_width}, \"created_utc\":submission.created_utc, \"author\":submission.author.name, \"id\":submission.id, \"ups\":submission.ups, \"downs\":submission.downs, \"media\": submission.url}\n",
    "    iterator +=1"
   ]
  },
  {
   "cell_type": "code",
   "execution_count": 7,
   "metadata": {
    "scrolled": true
   },
   "outputs": [
    {
     "name": "stdout",
     "output_type": "stream",
     "text": [
      "{'title': 'This is an avengers level relief', 'thumbnail': {'thumbnail': 'https://b.thumbs.redditmedia.com/pOVMmHaB4d0UvZM0jJr372ulpY70lhz3WdqhaO8vteA.jpg', 'height': 140, 'width': 140}, 'created_utc': 1586616386.0, 'author': 'dankbob_memepants_', 'id': 'fz6p05', 'ups': 9887, 'downs': 0, 'media': 'https://i.redd.it/repxzfelb7s41.jpg'}\n"
     ]
    }
   ],
   "source": [
    "print(memesDict[\"_default\"][2])"
   ]
  },
  {
   "cell_type": "code",
   "execution_count": 8,
   "metadata": {},
   "outputs": [],
   "source": [
    "with open('memesDatabase.json', 'w') as json_file:\n",
    "    json.dump(memesDict, json_file)"
   ]
  },
  {
   "cell_type": "code",
   "execution_count": 9,
   "metadata": {},
   "outputs": [],
   "source": [
    "#Used to find out what fields does an object have\n",
    "import pprint\n",
    "#pprint.pprint(vars(submission))"
   ]
  },
  {
   "cell_type": "markdown",
   "metadata": {},
   "source": [
    "## Pushshift"
   ]
  },
  {
   "cell_type": "markdown",
   "metadata": {},
   "source": [
    "With help from the following link: https://medium.com/@RareLoot/using-pushshifts-api-to-extract-reddit-submissions-fb517b286563"
   ]
  },
  {
   "cell_type": "code",
   "execution_count": 10,
   "metadata": {},
   "outputs": [],
   "source": [
    "import requests"
   ]
  },
  {
   "cell_type": "code",
   "execution_count": 11,
   "metadata": {},
   "outputs": [],
   "source": [
    "base_url = \"https://api.pushshift.io/\"\n",
    "fields=\"author,subreddit,id,created_utc,all_awardings,score,thumbnail,thumbnail_height,thumbnail_width,title,url,full_link\"\n",
    "def queryBySub(sub, before=\"30d\", after=\"60d\", sort_type=\"score\", sort=\"asc\",size=\"25\", fields=fields):\n",
    "    url = base_url + \"reddit/search/submission/?subreddit=\"+sub+\"&sort=\"+sort+\"&sort_type=\"+sort_type+\"&size=\"+size+\"&after=\"+after+\"&before=\"+before+\"&fields=\"+fields\n",
    "    response = requests.get(url)\n",
    "    return json.loads(response.text)\n",
    "data = queryBySub(\"dank_meme\")"
   ]
  },
  {
   "cell_type": "code",
   "execution_count": 12,
   "metadata": {},
   "outputs": [
    {
     "data": {
      "text/plain": [
       "[{'all_awardings': [],\n",
       "  'author': 'Popcorny_YT',\n",
       "  'created_utc': 1583363896,\n",
       "  'full_link': 'https://www.reddit.com/r/dank_meme/comments/fdlrju/hmmmm_yes_gold_robbery/',\n",
       "  'id': 'fdlrju',\n",
       "  'score': 0,\n",
       "  'subreddit': 'dank_meme',\n",
       "  'thumbnail': 'https://b.thumbs.redditmedia.com/5OkmOvdbo7IC86JCv8gkwH6EkBIuvgMnypM0LCua_2c.jpg',\n",
       "  'thumbnail_height': 140,\n",
       "  'thumbnail_width': 140,\n",
       "  'title': 'Hmmmm yes gold robbery',\n",
       "  'url': 'https://i.redd.it/5vldqep9oqk41.jpg'},\n",
       " {'all_awardings': [],\n",
       "  'author': 'hex272727',\n",
       "  'created_utc': 1583960019,\n",
       "  'full_link': 'https://www.reddit.com/r/dank_meme/comments/fh46fl/how_to_manipulate_your_wife_to_get_bigger_boobs/',\n",
       "  'id': 'fh46fl',\n",
       "  'score': 0,\n",
       "  'subreddit': 'dank_meme',\n",
       "  'thumbnail': 'https://b.thumbs.redditmedia.com/SZ6rRxmzL6hq4GtqBTslU4bWb5nliGbOZpiciS9xYqY.jpg',\n",
       "  'thumbnail_height': 105,\n",
       "  'thumbnail_width': 140,\n",
       "  'title': 'how to manipulate your wife to get bigger boobs',\n",
       "  'url': 'https://youtu.be/Id1yPS7wvwk'},\n",
       " {'all_awardings': [],\n",
       "  'author': 'BBBOOOSSTTIIOOO',\n",
       "  'created_utc': 1583256143,\n",
       "  'full_link': 'https://www.reddit.com/r/dank_meme/comments/fcxxh6/watch_frozone/',\n",
       "  'id': 'fcxxh6',\n",
       "  'score': 0,\n",
       "  'subreddit': 'dank_meme',\n",
       "  'thumbnail': 'https://b.thumbs.redditmedia.com/pHWNavPHOh21x397lfQgAko33i3-LAecVieuPXUuPvg.jpg',\n",
       "  'thumbnail_height': 140,\n",
       "  'thumbnail_width': 140,\n",
       "  'title': 'Watch frozone',\n",
       "  'url': 'https://v.redd.it/34z0biftrhk41'},\n",
       " {'all_awardings': [],\n",
       "  'author': 'Godzilla-27',\n",
       "  'created_utc': 1581532853,\n",
       "  'full_link': 'https://www.reddit.com/r/dank_meme/comments/f2vtqe/da_phish_need_the_beans/',\n",
       "  'id': 'f2vtqe',\n",
       "  'score': 1,\n",
       "  'subreddit': 'dank_meme',\n",
       "  'thumbnail': 'https://b.thumbs.redditmedia.com/KWDlra0vS58PqlOyBRu5DHONkSQ-_RPgAtFvL32sRJs.jpg',\n",
       "  'thumbnail_height': 123,\n",
       "  'thumbnail_width': 140,\n",
       "  'title': 'Da phish need the beans',\n",
       "  'url': 'https://i.redd.it/okaexr4mfjg41.jpg'},\n",
       " {'all_awardings': [],\n",
       "  'author': 'LitReeeeemaster',\n",
       "  'created_utc': 1581542443,\n",
       "  'full_link': 'https://www.reddit.com/r/dank_meme/comments/f2yc2t/comment_where_is_francis/',\n",
       "  'id': 'f2yc2t',\n",
       "  'score': 1,\n",
       "  'subreddit': 'dank_meme',\n",
       "  'thumbnail': 'https://b.thumbs.redditmedia.com/QnQEDiaOZFkXySOnqmA2BP-2Cfn8q5qlu6lqTGRibVI.jpg',\n",
       "  'thumbnail_height': 140,\n",
       "  'thumbnail_width': 140,\n",
       "  'title': 'Comment “where is Francis?”',\n",
       "  'url': 'https://i.redd.it/msbi9qz6ejg41.jpg'},\n",
       " {'all_awardings': [],\n",
       "  'author': 'LitReeeeemaster',\n",
       "  'created_utc': 1581543605,\n",
       "  'full_link': 'https://www.reddit.com/r/dank_meme/comments/f2ymtt/i_have_done_this/',\n",
       "  'id': 'f2ymtt',\n",
       "  'score': 1,\n",
       "  'subreddit': 'dank_meme',\n",
       "  'thumbnail': 'https://b.thumbs.redditmedia.com/n8PsonDMy-ofn_ggJ0Z3O-G9FL1IcQ6VJFHDoQxt62Y.jpg',\n",
       "  'thumbnail_height': 79,\n",
       "  'thumbnail_width': 140,\n",
       "  'title': 'I have done this',\n",
       "  'url': 'https://v.redd.it/plba0e6g7fg41'},\n",
       " {'all_awardings': [],\n",
       "  'author': 'N0R34LN4M3',\n",
       "  'created_utc': 1581553431,\n",
       "  'full_link': 'https://www.reddit.com/r/dank_meme/comments/f313hq/wow_dad_never_got_two_escaping_ducks_with_one/',\n",
       "  'id': 'f313hq',\n",
       "  'score': 1,\n",
       "  'subreddit': 'dank_meme',\n",
       "  'thumbnail': 'https://b.thumbs.redditmedia.com/Fl9hwAEPm51YdDoOVTfs2xSc1dh2l86rV9rGOdZ0rWw.jpg',\n",
       "  'thumbnail_height': 124,\n",
       "  'thumbnail_width': 140,\n",
       "  'title': 'Wow dad never got two escaping ducks with one bullet',\n",
       "  'url': 'https://i.redd.it/n6qbpixt4lg41.jpg'},\n",
       " {'all_awardings': [],\n",
       "  'author': 'mcribyouknow',\n",
       "  'created_utc': 1581604319,\n",
       "  'full_link': 'https://www.reddit.com/r/dank_meme/comments/f3aslg/its_over_mematic_i_have_the_high_ground/',\n",
       "  'id': 'f3aslg',\n",
       "  'score': 1,\n",
       "  'subreddit': 'dank_meme',\n",
       "  'thumbnail': 'https://b.thumbs.redditmedia.com/EQ6jA2fIHhzTTPoUDFpi4vqbHuruRLJ3JGGeB5qODgA.jpg',\n",
       "  'thumbnail_height': 77,\n",
       "  'thumbnail_width': 140,\n",
       "  'title': \"It's over mematic, I have the high ground\",\n",
       "  'url': 'https://i.redd.it/panih5a5cpg41.jpg'},\n",
       " {'all_awardings': [],\n",
       "  'author': 'LB__60',\n",
       "  'created_utc': 1581603939,\n",
       "  'full_link': 'https://www.reddit.com/r/dank_meme/comments/f3aplh/dirty_commies/',\n",
       "  'id': 'f3aplh',\n",
       "  'score': 1,\n",
       "  'subreddit': 'dank_meme',\n",
       "  'thumbnail': 'default',\n",
       "  'title': 'Dirty Commies',\n",
       "  'url': 'https://i.redd.it/7izvt8tyapg41.jpg'},\n",
       " {'all_awardings': [],\n",
       "  'author': 'freshgradhiremepls',\n",
       "  'created_utc': 1581603160,\n",
       "  'full_link': 'https://www.reddit.com/r/dank_meme/comments/f3ajj1/100_free_shipping/',\n",
       "  'id': 'f3ajj1',\n",
       "  'score': 1,\n",
       "  'subreddit': 'dank_meme',\n",
       "  'thumbnail': 'https://b.thumbs.redditmedia.com/ktOBYms1Jccf5F_my2aE-Ve8Gy-87eb4td6cn6Ji-kk.jpg',\n",
       "  'thumbnail_height': 140,\n",
       "  'thumbnail_width': 140,\n",
       "  'title': '100% free shipping',\n",
       "  'url': 'https://i.redd.it/e09qm7wi8pg41.jpg'},\n",
       " {'all_awardings': [],\n",
       "  'author': 'isubarna1',\n",
       "  'created_utc': 1581606288,\n",
       "  'full_link': 'https://www.reddit.com/r/dank_meme/comments/f3b96h/the_fuck_they_lookin/',\n",
       "  'id': 'f3b96h',\n",
       "  'score': 1,\n",
       "  'subreddit': 'dank_meme',\n",
       "  'thumbnail': 'https://b.thumbs.redditmedia.com/-qsr_EtpmuFsm9P_hBBZ0shRhOmMBqFrP3YfjWRXZMk.jpg',\n",
       "  'thumbnail_height': 140,\n",
       "  'thumbnail_width': 140,\n",
       "  'title': 'the fuck they lookin',\n",
       "  'url': 'https://i.redd.it/bz5u25nvhpg41.jpg'},\n",
       " {'all_awardings': [],\n",
       "  'author': 'ripjujubug',\n",
       "  'created_utc': 1581606768,\n",
       "  'full_link': 'https://www.reddit.com/r/dank_meme/comments/f3bdfn/true/',\n",
       "  'id': 'f3bdfn',\n",
       "  'score': 1,\n",
       "  'subreddit': 'dank_meme',\n",
       "  'thumbnail': 'https://a.thumbs.redditmedia.com/H68nwEKizzXWBeem_O9nid0KBbQM2nF2v82ny5L9xy4.jpg',\n",
       "  'thumbnail_height': 140,\n",
       "  'thumbnail_width': 140,\n",
       "  'title': 'true',\n",
       "  'url': 'https://i.redd.it/wh14so1fjpg41.jpg'},\n",
       " {'all_awardings': [],\n",
       "  'author': 'xxx838player',\n",
       "  'created_utc': 1581570753,\n",
       "  'full_link': 'https://www.reddit.com/r/dank_meme/comments/f34w5v/hes_back/',\n",
       "  'id': 'f34w5v',\n",
       "  'score': 1,\n",
       "  'subreddit': 'dank_meme',\n",
       "  'thumbnail': 'default',\n",
       "  'title': 'He’s back',\n",
       "  'url': 'https://i.redd.it/288s9w2ckmg41.jpg'},\n",
       " {'all_awardings': [],\n",
       "  'author': 'KAKnightinJax',\n",
       "  'created_utc': 1581571213,\n",
       "  'full_link': 'https://www.reddit.com/r/dank_meme/comments/f34zdx/smokey_was_amazing_man/',\n",
       "  'id': 'f34zdx',\n",
       "  'score': 1,\n",
       "  'subreddit': 'dank_meme',\n",
       "  'thumbnail': 'default',\n",
       "  'title': 'Smokey was amazing, MAN!!!!!',\n",
       "  'url': 'https://i.redd.it/f98fsqfplmg41.jpg'},\n",
       " {'all_awardings': [],\n",
       "  'author': 'edmund22lee',\n",
       "  'created_utc': 1581597671,\n",
       "  'full_link': 'https://www.reddit.com/r/dank_meme/comments/f39e9n/its_a_no/',\n",
       "  'id': 'f39e9n',\n",
       "  'score': 1,\n",
       "  'subreddit': 'dank_meme',\n",
       "  'thumbnail': 'https://a.thumbs.redditmedia.com/_tvmQj6gb7lmfW5dytpNsmO25FWHzsNia94b7cNUYw8.jpg',\n",
       "  'thumbnail_height': 140,\n",
       "  'thumbnail_width': 140,\n",
       "  'title': \"It's a no\",\n",
       "  'url': 'https://i.redd.it/yqycxsldsog41.jpg'},\n",
       " {'all_awardings': [],\n",
       "  'author': 'bubbl3s_the_b3ar',\n",
       "  'created_utc': 1581609767,\n",
       "  'full_link': 'https://www.reddit.com/r/dank_meme/comments/f3c32t/caaakkkkeeee_daaaayyyyy/',\n",
       "  'id': 'f3c32t',\n",
       "  'score': 1,\n",
       "  'subreddit': 'dank_meme',\n",
       "  'thumbnail': 'https://b.thumbs.redditmedia.com/wendneQDXqkOiSqF9lLAfXCGRBioFyQlKFYqqebSsis.jpg',\n",
       "  'thumbnail_height': 140,\n",
       "  'thumbnail_width': 140,\n",
       "  'title': 'Caaakkkkeeee daaaayyyyy!!!!',\n",
       "  'url': 'https://i.redd.it/epa9l34cspg41.jpg'},\n",
       " {'all_awardings': [],\n",
       "  'author': 'llammacorn42069',\n",
       "  'created_utc': 1581610059,\n",
       "  'full_link': 'https://www.reddit.com/r/dank_meme/comments/f3c5pb/valentines_day/',\n",
       "  'id': 'f3c5pb',\n",
       "  'score': 1,\n",
       "  'subreddit': 'dank_meme',\n",
       "  'thumbnail': 'https://a.thumbs.redditmedia.com/XiZwVbXraD1uMzbfigKVkgPSgLWP2xvB_wOq2ICr3y8.jpg',\n",
       "  'thumbnail_height': 140,\n",
       "  'thumbnail_width': 140,\n",
       "  'title': 'Valentines day',\n",
       "  'url': 'https://i.redd.it/reu49pp7tpg41.jpg'},\n",
       " {'all_awardings': [],\n",
       "  'author': 'Phoenixx05',\n",
       "  'created_utc': 1581740540,\n",
       "  'full_link': 'https://www.reddit.com/r/dank_meme/comments/f44dvx/when_he_says_your_mom/',\n",
       "  'id': 'f44dvx',\n",
       "  'score': 1,\n",
       "  'subreddit': 'dank_meme',\n",
       "  'thumbnail': 'https://b.thumbs.redditmedia.com/GrQk7sx0NMAKgGWWabSxh6mx-nVigv9etTIcSZJbw0U.jpg',\n",
       "  'thumbnail_height': 139,\n",
       "  'thumbnail_width': 140,\n",
       "  'title': 'When he says “your mom”',\n",
       "  'url': 'https://i.redd.it/qfarux77l0h41.jpg'},\n",
       " {'all_awardings': [],\n",
       "  'author': 'itsaustinriggs',\n",
       "  'created_utc': 1581746202,\n",
       "  'full_link': 'https://www.reddit.com/r/dank_meme/comments/f45d8a/_/',\n",
       "  'id': 'f45d8a',\n",
       "  'score': 1,\n",
       "  'subreddit': 'dank_meme',\n",
       "  'thumbnail': 'https://b.thumbs.redditmedia.com/LvLzLg2-1TAayDUanc6jNQXn9R7euBycwZ2CSfD_SCA.jpg',\n",
       "  'thumbnail_height': 140,\n",
       "  'thumbnail_width': 140,\n",
       "  'title': '😂',\n",
       "  'url': 'https://i.redd.it/ef9adxb121h41.jpg'},\n",
       " {'all_awardings': [],\n",
       "  'author': 'RobienStPierre',\n",
       "  'created_utc': 1581746941,\n",
       "  'full_link': 'https://www.reddit.com/r/dank_meme/comments/f45hoc/the_chosen_hole/',\n",
       "  'id': 'f45hoc',\n",
       "  'score': 1,\n",
       "  'subreddit': 'dank_meme',\n",
       "  'thumbnail': 'https://a.thumbs.redditmedia.com/6bWS8L05we3UgXs5v9birOdEpWS0XMSBfhyfq8gYim8.jpg',\n",
       "  'thumbnail_height': 105,\n",
       "  'thumbnail_width': 140,\n",
       "  'title': 'The chosen hole',\n",
       "  'url': 'https://i.redd.it/x6mk5pj841h41.jpg'},\n",
       " {'all_awardings': [],\n",
       "  'author': 'Ansari101',\n",
       "  'created_utc': 1581764631,\n",
       "  'full_link': 'https://www.reddit.com/r/dank_meme/comments/f480gu/it_do_be_like_that_sometimes/',\n",
       "  'id': 'f480gu',\n",
       "  'score': 1,\n",
       "  'subreddit': 'dank_meme',\n",
       "  'thumbnail': 'https://b.thumbs.redditmedia.com/4XNCWFBjU4ZN2ca5nS-oXB5HZDJTDz2KHOM29o_ou2o.jpg',\n",
       "  'thumbnail_height': 140,\n",
       "  'thumbnail_width': 140,\n",
       "  'title': 'It do be like that sometimes',\n",
       "  'url': 'https://i.redd.it/j00w2f2uk2h41.jpg'},\n",
       " {'all_awardings': [],\n",
       "  'author': 'I_Rape_Dead_cows',\n",
       "  'created_utc': 1581768636,\n",
       "  'full_link': 'https://www.reddit.com/r/dank_meme/comments/f48mbr/good_doggo/',\n",
       "  'id': 'f48mbr',\n",
       "  'score': 1,\n",
       "  'subreddit': 'dank_meme',\n",
       "  'thumbnail': 'https://a.thumbs.redditmedia.com/gSAPTyWh8YRCVbBr-kd5Bs0PGH6S3EexVtiPKxhQw80.jpg',\n",
       "  'thumbnail_height': 98,\n",
       "  'thumbnail_width': 140,\n",
       "  'title': 'Good doggo',\n",
       "  'url': 'https://i.redd.it/mdta1qehvdg41.png'},\n",
       " {'all_awardings': [],\n",
       "  'author': 'KingKDB',\n",
       "  'created_utc': 1581716016,\n",
       "  'full_link': 'https://www.reddit.com/r/dank_meme/comments/f3z6tt/happy_valentines_day/',\n",
       "  'id': 'f3z6tt',\n",
       "  'score': 1,\n",
       "  'subreddit': 'dank_meme',\n",
       "  'thumbnail': 'https://b.thumbs.redditmedia.com/VaI6wnH75kqYHcL4J56pqZmoosD4jEv18CpUBNJ6zZk.jpg',\n",
       "  'thumbnail_height': 124,\n",
       "  'thumbnail_width': 140,\n",
       "  'title': \"Happy Valentine's Day\",\n",
       "  'url': 'https://i.redd.it/r645ii1akyg41.jpg'},\n",
       " {'all_awardings': [],\n",
       "  'author': 'Marcus-elliott',\n",
       "  'created_utc': 1581780730,\n",
       "  'full_link': 'https://www.reddit.com/r/dank_meme/comments/f4awig/memes/',\n",
       "  'id': 'f4awig',\n",
       "  'score': 1,\n",
       "  'subreddit': 'dank_meme',\n",
       "  'thumbnail': 'https://a.thumbs.redditmedia.com/owdn43oTKT_oZFJI45OgtzTVwnnJa8EPApd2gpbAYO0.jpg',\n",
       "  'thumbnail_height': 78,\n",
       "  'thumbnail_width': 140,\n",
       "  'title': 'Memes',\n",
       "  'url': 'https://i.redd.it/bmaxqycpw3h41.jpg'},\n",
       " {'all_awardings': [],\n",
       "  'author': 'DendragapusObscurus',\n",
       "  'created_utc': 1581716912,\n",
       "  'full_link': 'https://www.reddit.com/r/dank_meme/comments/f3zefz/the_grand_chawhee/',\n",
       "  'id': 'f3zefz',\n",
       "  'score': 1,\n",
       "  'subreddit': 'dank_meme',\n",
       "  'thumbnail': 'https://b.thumbs.redditmedia.com/LLizLfkSIUNacqHAqW7s1yIFrvWGrLWran17UBFYE1E.jpg',\n",
       "  'thumbnail_height': 78,\n",
       "  'thumbnail_width': 140,\n",
       "  'title': 'The Grand Chawhee',\n",
       "  'url': 'https://i.redd.it/afb9ivxxmyg41.jpg'}]"
      ]
     },
     "execution_count": 12,
     "metadata": {},
     "output_type": "execute_result"
    }
   ],
   "source": [
    "data[\"data\"]"
   ]
  },
  {
   "cell_type": "markdown",
   "metadata": {},
   "source": [
    "## Python Pushshift.io API Wrapper "
   ]
  },
  {
   "cell_type": "markdown",
   "metadata": {},
   "source": [
    "API: https://github.com/dmarx/psaw"
   ]
  },
  {
   "cell_type": "code",
   "execution_count": 13,
   "metadata": {},
   "outputs": [],
   "source": [
    "import psaw\n",
    "from psaw import PushshiftAPI\n",
    "\n",
    "api = PushshiftAPI(reddit)"
   ]
  },
  {
   "cell_type": "code",
   "execution_count": 14,
   "metadata": {},
   "outputs": [],
   "source": [
    "current_time = dt.datetime.now()\n",
    "end_date = current_time-dt.timedelta(days = 30) #how many days before today you want the search to end\n",
    "start_date = current_time-dt.timedelta(days = 33) #how many days before today do you want the search to start\n",
    "start_epoch = int(dt.datetime.timestamp(start_date))\n",
    "end_epoch = int(dt.datetime.timestamp(end_date))"
   ]
  },
  {
   "cell_type": "code",
   "execution_count": 15,
   "metadata": {},
   "outputs": [
    {
     "data": {
      "text/plain": [
       "[Submission(id='fi48b6'),\n",
       " Submission(id='fi46bw'),\n",
       " Submission(id='fi45v3'),\n",
       " Submission(id='fi441s'),\n",
       " Submission(id='fi43zf'),\n",
       " Submission(id='fi43eh'),\n",
       " Submission(id='fi42ry'),\n",
       " Submission(id='fi42en'),\n",
       " Submission(id='fi428y'),\n",
       " Submission(id='fi3wpd')]"
      ]
     },
     "execution_count": 15,
     "metadata": {},
     "output_type": "execute_result"
    }
   ],
   "source": [
    "subr = 'dank_meme'\n",
    "searchResults = api.search_submissions(after=start_epoch,\n",
    "                            before=end_epoch,\n",
    "                            subreddit=subr)\n",
    "cache = []\n",
    "\n",
    "for result in searchResults:\n",
    "    cache.append(result)\n",
    "    \n",
    "cache[0:10]"
   ]
  },
  {
   "cell_type": "code",
   "execution_count": 16,
   "metadata": {},
   "outputs": [],
   "source": [
    "#pprint.pprint(vars(cache[1]))"
   ]
  },
  {
   "cell_type": "code",
   "execution_count": 17,
   "metadata": {},
   "outputs": [],
   "source": [
    "memesDict2 = {}\n",
    "memesDict2[\"_default\"] = {}"
   ]
  },
  {
   "cell_type": "code",
   "execution_count": 18,
   "metadata": {},
   "outputs": [],
   "source": [
    "iterator = 1\n",
    "maxUpvote = 0\n",
    "for submission in cache:\n",
    "    if (submission is not None and submission.is_video is False): #ignore video memes\n",
    "        #print(dt.datetime.fromtimestamp(submission.created_utc)) \n",
    "        if (submission.ups > maxUpvote):\n",
    "            maxUpvote = submission.ups\n",
    "        memesDict2[\"_default\"][iterator] = {\"title\":submission.title, \"thumbnail\":{\"thumbnail\":submission.thumbnail, \"height\":submission.thumbnail_height, \"width\":submission.thumbnail_width}, \"created_utc\":submission.created_utc, \"id\":submission.id, \"ups\":submission.ups, \"downs\":submission.downs, \"media\": submission.url, \"url\": submission.permalink, \"awards\": submission.all_awardings, 'subreddit':submission.subreddit.display_name}\n",
    "        if (submission.author is not None): #in case the account is deleted\n",
    "            memesDict2[\"_default\"][iterator][\"author\"] = submission.author.name \n",
    "        else:\n",
    "            memesDict2[\"_default\"][iterator][\"author\"] = \"N/A\"\n",
    "        iterator +=1"
   ]
  },
  {
   "cell_type": "code",
   "execution_count": 19,
   "metadata": {},
   "outputs": [
    {
     "data": {
      "text/plain": [
       "{'title': 'Do you are have stuipid',\n",
       " 'thumbnail': {'thumbnail': 'https://b.thumbs.redditmedia.com/F3YZ5Q8KagWE39-UoQy8rjh53hYIZGQn3qNZIe87cyE.jpg',\n",
       "  'height': 140,\n",
       "  'width': 140},\n",
       " 'created_utc': 1584123697.0,\n",
       " 'id': 'fi46bw',\n",
       " 'ups': 6,\n",
       " 'downs': 0,\n",
       " 'media': 'https://i.redd.it/e9qawdtjfhm41.png',\n",
       " 'url': '/r/dank_meme/comments/fi46bw/do_you_are_have_stuipid/',\n",
       " 'awards': [],\n",
       " 'subreddit': 'dank_meme',\n",
       " 'author': 'bilozaooka'}"
      ]
     },
     "execution_count": 19,
     "metadata": {},
     "output_type": "execute_result"
    }
   ],
   "source": [
    "memesDict2['_default'][2]"
   ]
  },
  {
   "cell_type": "markdown",
   "metadata": {},
   "source": [
    "There are some thumbnails with value as 'default' btw."
   ]
  },
  {
   "cell_type": "code",
   "execution_count": 20,
   "metadata": {},
   "outputs": [
    {
     "data": {
      "text/plain": [
       "[Submission(id='fi4dxt'),\n",
       " Submission(id='fi4dsc'),\n",
       " Submission(id='fi4dlw'),\n",
       " Submission(id='fi4djr'),\n",
       " Submission(id='fi4dgw'),\n",
       " Submission(id='fi4d6d'),\n",
       " Submission(id='fi4d0j'),\n",
       " Submission(id='fi4cwk'),\n",
       " Submission(id='fi4crr'),\n",
       " Submission(id='fi4cc0')]"
      ]
     },
     "execution_count": 20,
     "metadata": {},
     "output_type": "execute_result"
    }
   ],
   "source": [
    "subr = 'meme'\n",
    "searchResults = api.search_submissions(after=start_epoch,\n",
    "                            before=end_epoch,\n",
    "                            subreddit=subr)\n",
    "cache = []\n",
    "\n",
    "for result in searchResults:\n",
    "    cache.append(result)\n",
    "    \n",
    "cache[0:10]"
   ]
  },
  {
   "cell_type": "code",
   "execution_count": 21,
   "metadata": {},
   "outputs": [],
   "source": [
    "for submission in cache:\n",
    "    if (submission is not None and submission.is_video is False):\n",
    "        #print(dt.datetime.fromtimestamp(submission.created_utc)) \n",
    "        if (submission.ups > maxUpvote):\n",
    "            maxUpvote = submission.ups\n",
    "        memesDict2[\"_default\"][iterator] = {\"title\":submission.title, \"thumbnail\":{\"thumbnail\":submission.thumbnail, \"height\":submission.thumbnail_height, \"width\":submission.thumbnail_width}, \"created_utc\":submission.created_utc, \"id\":submission.id, \"ups\":submission.ups, \"downs\":submission.downs, \"media\": submission.url, \"url\": submission.permalink, \"awards\": submission.all_awardings}\n",
    "        if (submission.author is not None):\n",
    "            memesDict2[\"_default\"][iterator][\"author\"] = submission.author.name \n",
    "        else:\n",
    "            memesDict2[\"_default\"][iterator][\"author\"] = \"N/A\"\n",
    "        iterator +=1"
   ]
  },
  {
   "cell_type": "code",
   "execution_count": 22,
   "metadata": {
    "scrolled": true
   },
   "outputs": [
    {
     "data": {
      "text/plain": [
       "33036"
      ]
     },
     "execution_count": 22,
     "metadata": {},
     "output_type": "execute_result"
    }
   ],
   "source": [
    "maxUpvote"
   ]
  },
  {
   "cell_type": "code",
   "execution_count": 23,
   "metadata": {},
   "outputs": [
    {
     "data": {
      "text/plain": [
       "9381"
      ]
     },
     "execution_count": 23,
     "metadata": {},
     "output_type": "execute_result"
    }
   ],
   "source": [
    "len(memesDict2['_default'])"
   ]
  },
  {
   "cell_type": "code",
   "execution_count": 24,
   "metadata": {},
   "outputs": [],
   "source": [
    "with open('memesDatabase2.json', 'w') as json_file:\n",
    "    json.dump(memesDict2, json_file)"
   ]
  }
 ],
 "metadata": {
  "kernelspec": {
   "display_name": "Python 3",
   "language": "python",
   "name": "python3"
  },
  "language_info": {
   "codemirror_mode": {
    "name": "ipython",
    "version": 3
   },
   "file_extension": ".py",
   "mimetype": "text/x-python",
   "name": "python",
   "nbconvert_exporter": "python",
   "pygments_lexer": "ipython3",
   "version": "3.7.4"
  }
 },
 "nbformat": 4,
 "nbformat_minor": 2
}
