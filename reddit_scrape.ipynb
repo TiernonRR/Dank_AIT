{
 "cells": [
  {
   "cell_type": "code",
   "execution_count": 1,
   "metadata": {},
   "outputs": [],
   "source": [
    "# !pip install Praw\n",
    "# !pip install --upgrade praw"
   ]
  },
  {
   "cell_type": "code",
   "execution_count": 2,
   "metadata": {},
   "outputs": [
    {
     "name": "stdout",
     "output_type": "stream",
     "text": [
      "Requirement already satisfied: praw in c:\\anaconda\\lib\\site-packages (6.5.1)\n",
      "Requirement already satisfied: update-checker>=0.16 in c:\\anaconda\\lib\\site-packages (from praw) (0.16)\n",
      "Requirement already satisfied: websocket-client>=0.54.0 in c:\\anaconda\\lib\\site-packages (from praw) (0.57.0)\n",
      "Requirement already satisfied: prawcore<2.0,>=1.0.1 in c:\\anaconda\\lib\\site-packages (from praw) (1.0.1)\n",
      "Requirement already satisfied: requests>=2.3.0 in c:\\anaconda\\lib\\site-packages (from update-checker>=0.16->praw) (2.21.0)\n",
      "Requirement already satisfied: six in c:\\users\\t$\\appdata\\roaming\\python\\python37\\site-packages (from websocket-client>=0.54.0->praw) (1.12.0)\n",
      "Requirement already satisfied: idna<2.9,>=2.5 in c:\\anaconda\\lib\\site-packages (from requests>=2.3.0->update-checker>=0.16->praw) (2.8)\n",
      "Requirement already satisfied: certifi>=2017.4.17 in c:\\anaconda\\lib\\site-packages (from requests>=2.3.0->update-checker>=0.16->praw) (2019.3.9)\n",
      "Requirement already satisfied: chardet<3.1.0,>=3.0.2 in c:\\anaconda\\lib\\site-packages (from requests>=2.3.0->update-checker>=0.16->praw) (3.0.4)\n",
      "Requirement already satisfied: urllib3<1.25,>=1.21.1 in c:\\anaconda\\lib\\site-packages (from requests>=2.3.0->update-checker>=0.16->praw) (1.24.1)\n",
      "Requirement already satisfied: psaw in c:\\anaconda\\lib\\site-packages (0.0.12)\n",
      "Requirement already satisfied: requests in c:\\anaconda\\lib\\site-packages (from psaw) (2.21.0)\n",
      "Requirement already satisfied: Click in c:\\anaconda\\lib\\site-packages (from psaw) (7.0)\n",
      "Requirement already satisfied: idna<2.9,>=2.5 in c:\\anaconda\\lib\\site-packages (from requests->psaw) (2.8)\n",
      "Requirement already satisfied: certifi>=2017.4.17 in c:\\anaconda\\lib\\site-packages (from requests->psaw) (2019.3.9)\n",
      "Requirement already satisfied: urllib3<1.25,>=1.21.1 in c:\\anaconda\\lib\\site-packages (from requests->psaw) (1.24.1)\n",
      "Requirement already satisfied: chardet<3.1.0,>=3.0.2 in c:\\anaconda\\lib\\site-packages (from requests->psaw) (3.0.4)\n"
     ]
    }
   ],
   "source": [
    "import sys\n",
    "!{sys.executable} -m pip install praw\n",
    "!{sys.executable} -m pip install psaw\n",
    "import praw\n",
    "import pandas as pd\n",
    "import datetime as dt\n",
    "import json\n",
    "\n",
    "f = open(\"../secret_python.txt\", \"r\")\n",
    "client_id = f.readline().rstrip()\n",
    "secret_key = f.readline().rstrip()\n",
    "f.close()"
   ]
  },
  {
   "cell_type": "markdown",
   "metadata": {},
   "source": [
    "## Praw"
   ]
  },
  {
   "cell_type": "code",
   "execution_count": 3,
   "metadata": {},
   "outputs": [
    {
     "data": {
      "text/plain": [
       "True"
      ]
     },
     "execution_count": 3,
     "metadata": {},
     "output_type": "execute_result"
    }
   ],
   "source": [
    "reddit = praw.Reddit(client_id=client_id, \\\n",
    "                     client_secret=secret_key, \\\n",
    "                     user_agent='Scrape')\n",
    "\n",
    "reddit.read_only"
   ]
  },
  {
   "cell_type": "code",
   "execution_count": 4,
   "metadata": {},
   "outputs": [],
   "source": [
    "dank_meme = reddit.subreddit('dank_meme')"
   ]
  },
  {
   "cell_type": "code",
   "execution_count": 5,
   "metadata": {},
   "outputs": [],
   "source": [
    "memesDict = {}\n",
    "memesDict[\"_default\"] = {}"
   ]
  },
  {
   "cell_type": "markdown",
   "metadata": {},
   "source": [
    "Source: https://stackoverflow.com/questions/40960449/getting-all-submissions-for-the-past-two-months-from-a-particular-subreddit-usi"
   ]
  },
  {
   "cell_type": "code",
   "execution_count": 6,
   "metadata": {},
   "outputs": [],
   "source": [
    "iterator = 1\n",
    "for submission in dank_meme.hot(limit = 100):\n",
    "    #print(dt.datetime.fromtimestamp(submission.created_utc)) \n",
    "    memesDict[\"_default\"][iterator] = {\"title\":submission.title, \"thumbnail\":{\"thumbnail\":submission.thumbnail, \"height\":submission.thumbnail_height, \"width\":submission.thumbnail_width}, \"created_utc\":submission.created_utc, \"author\":submission.author.name, \"id\":submission.id, \"ups\":submission.ups, \"downs\":submission.downs, \"media\": submission.url}\n",
    "    iterator +=1"
   ]
  },
  {
   "cell_type": "code",
   "execution_count": 7,
   "metadata": {
    "scrolled": true
   },
   "outputs": [
    {
     "name": "stdout",
     "output_type": "stream",
     "text": [
      "{'title': '🇷🇺🅱️', 'thumbnail': {'thumbnail': 'https://b.thumbs.redditmedia.com/qXoO8xS0ZaNaklmkhZIviw_rqM7TQz_Swj8n3iPQeco.jpg', 'height': 140, 'width': 140}, 'created_utc': 1586811353.0, 'author': 'brownie4president', 'id': 'g0rfy4', 'ups': 8917, 'downs': 0, 'media': 'https://i.redd.it/janvhtybfns41.png'}\n"
     ]
    }
   ],
   "source": [
    "print(memesDict[\"_default\"][2])"
   ]
  },
  {
   "cell_type": "code",
   "execution_count": 8,
   "metadata": {},
   "outputs": [],
   "source": [
    "with open('memesDatabase.json', 'w') as json_file:\n",
    "    json.dump(memesDict, json_file)"
   ]
  },
  {
   "cell_type": "code",
   "execution_count": 9,
   "metadata": {},
   "outputs": [],
   "source": [
    "#Used to find out what fields does an object have\n",
    "import pprint\n",
    "#pprint.pprint(vars(submission))"
   ]
  },
  {
   "cell_type": "markdown",
   "metadata": {},
   "source": [
    "## Pushshift"
   ]
  },
  {
   "cell_type": "markdown",
   "metadata": {},
   "source": [
    "With help from the following link: https://medium.com/@RareLoot/using-pushshifts-api-to-extract-reddit-submissions-fb517b286563"
   ]
  },
  {
   "cell_type": "code",
   "execution_count": 10,
   "metadata": {},
   "outputs": [],
   "source": [
    "import requests"
   ]
  },
  {
   "cell_type": "code",
   "execution_count": 11,
   "metadata": {},
   "outputs": [],
   "source": [
    "base_url = \"https://api.pushshift.io/\"\n",
    "fields=\"author,subreddit,id,created_utc,all_awardings,score,thumbnail,thumbnail_height,thumbnail_width,title,url,full_link\"\n",
    "def queryBySub(sub, before=\"30d\", after=\"60d\", sort_type=\"score\", sort=\"asc\",size=\"25\", fields=fields):\n",
    "    url = base_url + \"reddit/search/submission/?subreddit=\"+sub+\"&sort=\"+sort+\"&sort_type=\"+sort_type+\"&size=\"+size+\"&after=\"+after+\"&before=\"+before+\"&fields=\"+fields\n",
    "    response = requests.get(url)\n",
    "    return json.loads(response.text)\n",
    "data = queryBySub(\"dank_meme\")"
   ]
  },
  {
   "cell_type": "code",
   "execution_count": 12,
   "metadata": {},
   "outputs": [
    {
     "data": {
      "text/plain": [
       "[{'all_awardings': [],\n",
       "  'author': 'Popcorny_YT',\n",
       "  'created_utc': 1583363896,\n",
       "  'full_link': 'https://www.reddit.com/r/dank_meme/comments/fdlrju/hmmmm_yes_gold_robbery/',\n",
       "  'id': 'fdlrju',\n",
       "  'score': 0,\n",
       "  'subreddit': 'dank_meme',\n",
       "  'thumbnail': 'https://b.thumbs.redditmedia.com/5OkmOvdbo7IC86JCv8gkwH6EkBIuvgMnypM0LCua_2c.jpg',\n",
       "  'thumbnail_height': 140,\n",
       "  'thumbnail_width': 140,\n",
       "  'title': 'Hmmmm yes gold robbery',\n",
       "  'url': 'https://i.redd.it/5vldqep9oqk41.jpg'},\n",
       " {'all_awardings': [],\n",
       "  'author': 'hex272727',\n",
       "  'created_utc': 1583960019,\n",
       "  'full_link': 'https://www.reddit.com/r/dank_meme/comments/fh46fl/how_to_manipulate_your_wife_to_get_bigger_boobs/',\n",
       "  'id': 'fh46fl',\n",
       "  'score': 0,\n",
       "  'subreddit': 'dank_meme',\n",
       "  'thumbnail': 'https://b.thumbs.redditmedia.com/SZ6rRxmzL6hq4GtqBTslU4bWb5nliGbOZpiciS9xYqY.jpg',\n",
       "  'thumbnail_height': 105,\n",
       "  'thumbnail_width': 140,\n",
       "  'title': 'how to manipulate your wife to get bigger boobs',\n",
       "  'url': 'https://youtu.be/Id1yPS7wvwk'},\n",
       " {'all_awardings': [],\n",
       "  'author': 'BBBOOOSSTTIIOOO',\n",
       "  'created_utc': 1583256143,\n",
       "  'full_link': 'https://www.reddit.com/r/dank_meme/comments/fcxxh6/watch_frozone/',\n",
       "  'id': 'fcxxh6',\n",
       "  'score': 0,\n",
       "  'subreddit': 'dank_meme',\n",
       "  'thumbnail': 'https://b.thumbs.redditmedia.com/pHWNavPHOh21x397lfQgAko33i3-LAecVieuPXUuPvg.jpg',\n",
       "  'thumbnail_height': 140,\n",
       "  'thumbnail_width': 140,\n",
       "  'title': 'Watch frozone',\n",
       "  'url': 'https://v.redd.it/34z0biftrhk41'},\n",
       " {'all_awardings': [],\n",
       "  'author': 'Phoenixx05',\n",
       "  'created_utc': 1581740540,\n",
       "  'full_link': 'https://www.reddit.com/r/dank_meme/comments/f44dvx/when_he_says_your_mom/',\n",
       "  'id': 'f44dvx',\n",
       "  'score': 1,\n",
       "  'subreddit': 'dank_meme',\n",
       "  'thumbnail': 'https://b.thumbs.redditmedia.com/GrQk7sx0NMAKgGWWabSxh6mx-nVigv9etTIcSZJbw0U.jpg',\n",
       "  'thumbnail_height': 139,\n",
       "  'thumbnail_width': 140,\n",
       "  'title': 'When he says “your mom”',\n",
       "  'url': 'https://i.redd.it/qfarux77l0h41.jpg'},\n",
       " {'all_awardings': [],\n",
       "  'author': 'itsaustinriggs',\n",
       "  'created_utc': 1581746202,\n",
       "  'full_link': 'https://www.reddit.com/r/dank_meme/comments/f45d8a/_/',\n",
       "  'id': 'f45d8a',\n",
       "  'score': 1,\n",
       "  'subreddit': 'dank_meme',\n",
       "  'thumbnail': 'https://b.thumbs.redditmedia.com/LvLzLg2-1TAayDUanc6jNQXn9R7euBycwZ2CSfD_SCA.jpg',\n",
       "  'thumbnail_height': 140,\n",
       "  'thumbnail_width': 140,\n",
       "  'title': '😂',\n",
       "  'url': 'https://i.redd.it/ef9adxb121h41.jpg'},\n",
       " {'all_awardings': [],\n",
       "  'author': 'RobienStPierre',\n",
       "  'created_utc': 1581746941,\n",
       "  'full_link': 'https://www.reddit.com/r/dank_meme/comments/f45hoc/the_chosen_hole/',\n",
       "  'id': 'f45hoc',\n",
       "  'score': 1,\n",
       "  'subreddit': 'dank_meme',\n",
       "  'thumbnail': 'https://a.thumbs.redditmedia.com/6bWS8L05we3UgXs5v9birOdEpWS0XMSBfhyfq8gYim8.jpg',\n",
       "  'thumbnail_height': 105,\n",
       "  'thumbnail_width': 140,\n",
       "  'title': 'The chosen hole',\n",
       "  'url': 'https://i.redd.it/x6mk5pj841h41.jpg'},\n",
       " {'all_awardings': [],\n",
       "  'author': 'Ansari101',\n",
       "  'created_utc': 1581764631,\n",
       "  'full_link': 'https://www.reddit.com/r/dank_meme/comments/f480gu/it_do_be_like_that_sometimes/',\n",
       "  'id': 'f480gu',\n",
       "  'score': 1,\n",
       "  'subreddit': 'dank_meme',\n",
       "  'thumbnail': 'https://b.thumbs.redditmedia.com/4XNCWFBjU4ZN2ca5nS-oXB5HZDJTDz2KHOM29o_ou2o.jpg',\n",
       "  'thumbnail_height': 140,\n",
       "  'thumbnail_width': 140,\n",
       "  'title': 'It do be like that sometimes',\n",
       "  'url': 'https://i.redd.it/j00w2f2uk2h41.jpg'},\n",
       " {'all_awardings': [],\n",
       "  'author': 'I_Rape_Dead_cows',\n",
       "  'created_utc': 1581768636,\n",
       "  'full_link': 'https://www.reddit.com/r/dank_meme/comments/f48mbr/good_doggo/',\n",
       "  'id': 'f48mbr',\n",
       "  'score': 1,\n",
       "  'subreddit': 'dank_meme',\n",
       "  'thumbnail': 'https://a.thumbs.redditmedia.com/gSAPTyWh8YRCVbBr-kd5Bs0PGH6S3EexVtiPKxhQw80.jpg',\n",
       "  'thumbnail_height': 98,\n",
       "  'thumbnail_width': 140,\n",
       "  'title': 'Good doggo',\n",
       "  'url': 'https://i.redd.it/mdta1qehvdg41.png'},\n",
       " {'all_awardings': [],\n",
       "  'author': 'KingKDB',\n",
       "  'created_utc': 1581716016,\n",
       "  'full_link': 'https://www.reddit.com/r/dank_meme/comments/f3z6tt/happy_valentines_day/',\n",
       "  'id': 'f3z6tt',\n",
       "  'score': 1,\n",
       "  'subreddit': 'dank_meme',\n",
       "  'thumbnail': 'https://b.thumbs.redditmedia.com/VaI6wnH75kqYHcL4J56pqZmoosD4jEv18CpUBNJ6zZk.jpg',\n",
       "  'thumbnail_height': 124,\n",
       "  'thumbnail_width': 140,\n",
       "  'title': \"Happy Valentine's Day\",\n",
       "  'url': 'https://i.redd.it/r645ii1akyg41.jpg'},\n",
       " {'all_awardings': [],\n",
       "  'author': 'Marcus-elliott',\n",
       "  'created_utc': 1581780730,\n",
       "  'full_link': 'https://www.reddit.com/r/dank_meme/comments/f4awig/memes/',\n",
       "  'id': 'f4awig',\n",
       "  'score': 1,\n",
       "  'subreddit': 'dank_meme',\n",
       "  'thumbnail': 'https://a.thumbs.redditmedia.com/owdn43oTKT_oZFJI45OgtzTVwnnJa8EPApd2gpbAYO0.jpg',\n",
       "  'thumbnail_height': 78,\n",
       "  'thumbnail_width': 140,\n",
       "  'title': 'Memes',\n",
       "  'url': 'https://i.redd.it/bmaxqycpw3h41.jpg'},\n",
       " {'all_awardings': [],\n",
       "  'author': 'DendragapusObscurus',\n",
       "  'created_utc': 1581716912,\n",
       "  'full_link': 'https://www.reddit.com/r/dank_meme/comments/f3zefz/the_grand_chawhee/',\n",
       "  'id': 'f3zefz',\n",
       "  'score': 1,\n",
       "  'subreddit': 'dank_meme',\n",
       "  'thumbnail': 'https://b.thumbs.redditmedia.com/LLizLfkSIUNacqHAqW7s1yIFrvWGrLWran17UBFYE1E.jpg',\n",
       "  'thumbnail_height': 78,\n",
       "  'thumbnail_width': 140,\n",
       "  'title': 'The Grand Chawhee',\n",
       "  'url': 'https://i.redd.it/afb9ivxxmyg41.jpg'},\n",
       " {'all_awardings': [],\n",
       "  'author': 'theMegaZucc',\n",
       "  'created_utc': 1581716932,\n",
       "  'full_link': 'https://www.reddit.com/r/dank_meme/comments/f3zeld/im_4_parallel_universes_ahead_of_you/',\n",
       "  'id': 'f3zeld',\n",
       "  'score': 1,\n",
       "  'subreddit': 'dank_meme',\n",
       "  'thumbnail': 'https://b.thumbs.redditmedia.com/ReUXa6nFxSd0b7DXltVaJmlPWuaXGx00juXj2w1n1ks.jpg',\n",
       "  'thumbnail_height': 140,\n",
       "  'thumbnail_width': 140,\n",
       "  'title': 'I’m 4 parallel universes ahead of you',\n",
       "  'url': 'https://i.redd.it/jqt51e50nyg41.jpg'},\n",
       " {'all_awardings': [],\n",
       "  'author': 'TheMagicHippo06',\n",
       "  'created_utc': 1581724523,\n",
       "  'full_link': 'https://www.reddit.com/r/dank_meme/comments/f41667/important_message/',\n",
       "  'id': 'f41667',\n",
       "  'score': 1,\n",
       "  'subreddit': 'dank_meme',\n",
       "  'thumbnail': 'https://b.thumbs.redditmedia.com/wGgPV2pmYYwgq-fh0hUzWu2p-Y9qCz2ESGFlatsExQM.jpg',\n",
       "  'thumbnail_height': 140,\n",
       "  'thumbnail_width': 140,\n",
       "  'title': 'Important Message',\n",
       "  'url': 'https://i.redd.it/nq26crkk9zg41.jpg'},\n",
       " {'all_awardings': [],\n",
       "  'author': 'LittleTwinkleTwat',\n",
       "  'created_utc': 1581718552,\n",
       "  'full_link': 'https://www.reddit.com/r/dank_meme/comments/f3zsqw/it_always_smells_fishy_in_public/',\n",
       "  'id': 'f3zsqw',\n",
       "  'score': 1,\n",
       "  'subreddit': 'dank_meme',\n",
       "  'thumbnail': 'https://b.thumbs.redditmedia.com/pZ_L4ugLhoccqnfjuEp4VWz1G2QaPB4ZTOj-8heZ7RU.jpg',\n",
       "  'thumbnail_height': 140,\n",
       "  'thumbnail_width': 140,\n",
       "  'title': 'It always smells fishy in public',\n",
       "  'url': 'https://i.redd.it/srroumhtryg41.jpg'},\n",
       " {'all_awardings': [],\n",
       "  'author': 'SecureBox9',\n",
       "  'created_utc': 1581733011,\n",
       "  'full_link': 'https://www.reddit.com/r/dank_meme/comments/f42x0o/meme/',\n",
       "  'id': 'f42x0o',\n",
       "  'score': 1,\n",
       "  'subreddit': 'dank_meme',\n",
       "  'thumbnail': 'default',\n",
       "  'title': 'meme',\n",
       "  'url': 'https://i.redd.it/2ei6pbtpyzg41.png'},\n",
       " {'all_awardings': [],\n",
       "  'author': 'funniestDuck',\n",
       "  'created_utc': 1581733223,\n",
       "  'full_link': 'https://www.reddit.com/r/dank_meme/comments/f42yji/spongler/',\n",
       "  'id': 'f42yji',\n",
       "  'score': 1,\n",
       "  'subreddit': 'dank_meme',\n",
       "  'thumbnail': 'https://b.thumbs.redditmedia.com/DWrEfm8B7urEHKaYAxoYpoleMbHCFIZDDv4oCc1E9zg.jpg',\n",
       "  'thumbnail_height': 78,\n",
       "  'thumbnail_width': 140,\n",
       "  'title': 'Spongler',\n",
       "  'url': 'https://i.redd.it/7hwel63gzzg41.jpg'},\n",
       " {'all_awardings': [],\n",
       "  'author': 'Random_420-69',\n",
       "  'created_utc': 1581728185,\n",
       "  'full_link': 'https://www.reddit.com/r/dank_meme/comments/f41y6q/true_true/',\n",
       "  'id': 'f41y6q',\n",
       "  'score': 1,\n",
       "  'subreddit': 'dank_meme',\n",
       "  'thumbnail': 'default',\n",
       "  'title': 'True True',\n",
       "  'url': 'https://i.redd.it/kbi34zzdkzg41.jpg'},\n",
       " {'all_awardings': [],\n",
       "  'author': 'The_meme_master45',\n",
       "  'created_utc': 1581726600,\n",
       "  'full_link': 'https://www.reddit.com/r/dank_meme/comments/f41lmv/bump/',\n",
       "  'id': 'f41lmv',\n",
       "  'score': 1,\n",
       "  'subreddit': 'dank_meme',\n",
       "  'thumbnail': 'default',\n",
       "  'title': '*bump*',\n",
       "  'url': 'https://i.redd.it/sla8d9bofzg41.jpg'},\n",
       " {'all_awardings': [],\n",
       "  'author': 'Relaric',\n",
       "  'created_utc': 1581711979,\n",
       "  'full_link': 'https://www.reddit.com/r/dank_meme/comments/f3y73k/spread_spread_spread/',\n",
       "  'id': 'f3y73k',\n",
       "  'score': 1,\n",
       "  'subreddit': 'dank_meme',\n",
       "  'thumbnail': 'https://b.thumbs.redditmedia.com/qg1AHBphxWD5fQWPNl9JHRjbG91OYPGLkhzewer7HbY.jpg',\n",
       "  'thumbnail_height': 125,\n",
       "  'thumbnail_width': 140,\n",
       "  'title': 'Spread Spread Spread',\n",
       "  'url': 'https://i.redd.it/psk4hwumsrg41.jpg'},\n",
       " {'all_awardings': [],\n",
       "  'author': 'thatGirbil',\n",
       "  'created_utc': 1581735156,\n",
       "  'full_link': 'https://www.reddit.com/r/dank_meme/comments/f43cci/its_just_surprise_socialism/',\n",
       "  'id': 'f43cci',\n",
       "  'score': 1,\n",
       "  'subreddit': 'dank_meme',\n",
       "  'thumbnail': 'default',\n",
       "  'title': 'Its just surprise socialism!',\n",
       "  'url': 'https://i.redd.it/l2aqjxz650h41.png'},\n",
       " {'all_awardings': [],\n",
       "  'author': 'BMix32',\n",
       "  'created_utc': 1581744598,\n",
       "  'full_link': 'https://www.reddit.com/r/dank_meme/comments/f453q5/nice/',\n",
       "  'id': 'f453q5',\n",
       "  'score': 1,\n",
       "  'subreddit': 'dank_meme',\n",
       "  'thumbnail': 'https://b.thumbs.redditmedia.com/F80KiML6IxZ1kKjwDDMec1Wns6VvkJOoqZOk2PwDFQk.jpg',\n",
       "  'thumbnail_height': 140,\n",
       "  'thumbnail_width': 140,\n",
       "  'title': 'Nice',\n",
       "  'url': 'https://i.redd.it/80t4ver9x0h41.jpg'},\n",
       " {'all_awardings': [],\n",
       "  'author': 'Forensics_Alpha',\n",
       "  'created_utc': 1581740763,\n",
       "  'full_link': 'https://www.reddit.com/r/dank_meme/comments/f44f9d/proof_thafnine_is_a_thot/',\n",
       "  'id': 'f44f9d',\n",
       "  'score': 1,\n",
       "  'subreddit': 'dank_meme',\n",
       "  'thumbnail': 'https://b.thumbs.redditmedia.com/Cww4MTpthK7Hcrg9k7d8pf0O-iZ60RIXBLN6uSqvDUs.jpg',\n",
       "  'thumbnail_height': 105,\n",
       "  'thumbnail_width': 140,\n",
       "  'title': 'Proof Thafnine is a thot.',\n",
       "  'url': 'https://youtu.be/7rT2imD3Tlc'},\n",
       " {'all_awardings': [],\n",
       "  'author': 'NetNormie',\n",
       "  'created_utc': 1581741538,\n",
       "  'full_link': 'https://www.reddit.com/r/dank_meme/comments/f44kh3/drake_cube_bottom_next/',\n",
       "  'id': 'f44kh3',\n",
       "  'score': 1,\n",
       "  'subreddit': 'dank_meme',\n",
       "  'thumbnail': 'default',\n",
       "  'title': 'drake cube bottom next',\n",
       "  'url': 'https://i.redd.it/vn1swnu4o0h41.png'},\n",
       " {'all_awardings': [],\n",
       "  'author': 'tyko_t_gamer',\n",
       "  'created_utc': 1581755402,\n",
       "  'full_link': 'https://www.reddit.com/r/dank_meme/comments/f46qq9/helth/',\n",
       "  'id': 'f46qq9',\n",
       "  'score': 1,\n",
       "  'subreddit': 'dank_meme',\n",
       "  'thumbnail': 'default',\n",
       "  'title': 'helth',\n",
       "  'url': 'https://i.redd.it/klol5n9et1h41.jpg'},\n",
       " {'all_awardings': [],\n",
       "  'author': 'LinxyDinxy',\n",
       "  'created_utc': 1581796704,\n",
       "  'full_link': 'https://www.reddit.com/r/dank_meme/comments/f4eqbr/what_people_should_not_be_doing_there_doing_it/',\n",
       "  'id': 'f4eqbr',\n",
       "  'score': 1,\n",
       "  'subreddit': 'dank_meme',\n",
       "  'thumbnail': 'https://b.thumbs.redditmedia.com/xwI4dEKNTvkPslxmYgUKGk3xB7q7t5QH8a024tAxmDE.jpg',\n",
       "  'thumbnail_height': 129,\n",
       "  'thumbnail_width': 140,\n",
       "  'title': 'what people should not be doing... there doing it',\n",
       "  'url': 'https://i.redd.it/89pabxn585h41.jpg'}]"
      ]
     },
     "execution_count": 12,
     "metadata": {},
     "output_type": "execute_result"
    }
   ],
   "source": [
    "data[\"data\"]"
   ]
  },
  {
   "cell_type": "markdown",
   "metadata": {},
   "source": [
    "## Python Pushshift.io API Wrapper "
   ]
  },
  {
   "cell_type": "markdown",
   "metadata": {},
   "source": [
    "API: https://github.com/dmarx/psaw"
   ]
  },
  {
   "cell_type": "code",
   "execution_count": 13,
   "metadata": {},
   "outputs": [],
   "source": [
    "import psaw\n",
    "from psaw import PushshiftAPI\n",
    "\n",
    "api = PushshiftAPI(reddit)"
   ]
  },
  {
   "cell_type": "code",
   "execution_count": 14,
   "metadata": {},
   "outputs": [],
   "source": [
    "current_time = dt.datetime.now()\n",
    "end_date = current_time-dt.timedelta(days = 30) #how many days before today you want the search to end\n",
    "start_date = current_time-dt.timedelta(days = 33) #how many days before today do you want the search to start\n",
    "start_epoch = int(dt.datetime.timestamp(start_date))\n",
    "end_epoch = int(dt.datetime.timestamp(end_date))"
   ]
  },
  {
   "cell_type": "code",
   "execution_count": 15,
   "metadata": {},
   "outputs": [
    {
     "data": {
      "text/plain": [
       "[Submission(id='fj3yzd'),\n",
       " Submission(id='fj3ybt'),\n",
       " Submission(id='fj3q0g'),\n",
       " Submission(id='fj3om1'),\n",
       " Submission(id='fj3g17'),\n",
       " Submission(id='fj3foj'),\n",
       " Submission(id='fj3ccg'),\n",
       " Submission(id='fj3b2l'),\n",
       " Submission(id='fj333u'),\n",
       " Submission(id='fj2z7w')]"
      ]
     },
     "execution_count": 15,
     "metadata": {},
     "output_type": "execute_result"
    }
   ],
   "source": [
    "subr = 'dank_meme'\n",
    "searchResults = api.search_submissions(after=start_epoch,\n",
    "                            before=end_epoch,\n",
    "                            subreddit=subr)\n",
    "cache = []\n",
    "\n",
    "for result in searchResults:\n",
    "    cache.append(result)\n",
    "    \n",
    "cache[0:10]"
   ]
  },
  {
   "cell_type": "code",
   "execution_count": 16,
   "metadata": {},
   "outputs": [
    {
     "name": "stdout",
     "output_type": "stream",
     "text": [
      "{'_comments_by_id': {},\n",
      " '_fetched': False,\n",
      " '_reddit': <praw.reddit.Reddit object at 0x000001EDBFFB6CC0>,\n",
      " 'all_awardings': [],\n",
      " 'allow_live_comments': False,\n",
      " 'approved_at_utc': None,\n",
      " 'approved_by': None,\n",
      " 'archived': False,\n",
      " 'author': Redditor(name='octogan242'),\n",
      " 'author_flair_background_color': None,\n",
      " 'author_flair_css_class': None,\n",
      " 'author_flair_richtext': [],\n",
      " 'author_flair_template_id': None,\n",
      " 'author_flair_text': None,\n",
      " 'author_flair_text_color': None,\n",
      " 'author_flair_type': 'text',\n",
      " 'author_fullname': 't2_2mqisryj',\n",
      " 'author_patreon_flair': False,\n",
      " 'author_premium': False,\n",
      " 'awarders': [],\n",
      " 'banned_at_utc': None,\n",
      " 'banned_by': None,\n",
      " 'can_gild': False,\n",
      " 'can_mod_post': False,\n",
      " 'category': None,\n",
      " 'clicked': False,\n",
      " 'comment_limit': 2048,\n",
      " 'comment_sort': 'best',\n",
      " 'content_categories': None,\n",
      " 'contest_mode': False,\n",
      " 'created': 1584318571.0,\n",
      " 'created_utc': 1584289771.0,\n",
      " 'discussion_type': None,\n",
      " 'distinguished': None,\n",
      " 'domain': 'i.redd.it',\n",
      " 'downs': 0,\n",
      " 'edited': False,\n",
      " 'gilded': 0,\n",
      " 'gildings': {},\n",
      " 'hidden': False,\n",
      " 'hide_score': False,\n",
      " 'id': 'fj3ybt',\n",
      " 'is_crosspostable': False,\n",
      " 'is_meta': False,\n",
      " 'is_original_content': False,\n",
      " 'is_reddit_media_domain': True,\n",
      " 'is_robot_indexable': False,\n",
      " 'is_self': False,\n",
      " 'is_video': False,\n",
      " 'likes': None,\n",
      " 'link_flair_background_color': '',\n",
      " 'link_flair_css_class': None,\n",
      " 'link_flair_richtext': [],\n",
      " 'link_flair_text': None,\n",
      " 'link_flair_text_color': 'dark',\n",
      " 'link_flair_type': 'text',\n",
      " 'locked': False,\n",
      " 'media': None,\n",
      " 'media_embed': {},\n",
      " 'media_only': False,\n",
      " 'mod_note': None,\n",
      " 'mod_reason_by': None,\n",
      " 'mod_reason_title': None,\n",
      " 'mod_reports': [],\n",
      " 'name': 't3_fj3ybt',\n",
      " 'no_follow': True,\n",
      " 'num_comments': 0,\n",
      " 'num_crossposts': 0,\n",
      " 'num_reports': None,\n",
      " 'over_18': False,\n",
      " 'parent_whitelist_status': 'house_only',\n",
      " 'permalink': '/r/dank_meme/comments/fj3ybt/lets_do_it/',\n",
      " 'pinned': False,\n",
      " 'pwls': 1,\n",
      " 'quarantine': False,\n",
      " 'removal_reason': None,\n",
      " 'removed_by': None,\n",
      " 'removed_by_category': 'reddit',\n",
      " 'report_reasons': None,\n",
      " 'saved': False,\n",
      " 'score': 1,\n",
      " 'secure_media': None,\n",
      " 'secure_media_embed': {},\n",
      " 'selftext': '',\n",
      " 'selftext_html': None,\n",
      " 'send_replies': True,\n",
      " 'spoiler': False,\n",
      " 'stickied': False,\n",
      " 'subreddit': Subreddit(display_name='dank_meme'),\n",
      " 'subreddit_id': 't5_35fdv',\n",
      " 'subreddit_name_prefixed': 'r/dank_meme',\n",
      " 'subreddit_subscribers': 743080,\n",
      " 'subreddit_type': 'public',\n",
      " 'suggested_sort': None,\n",
      " 'thumbnail': 'default',\n",
      " 'thumbnail_height': 140,\n",
      " 'thumbnail_width': 140,\n",
      " 'title': 'Let’s do it',\n",
      " 'total_awards_received': 0,\n",
      " 'treatment_tags': [],\n",
      " 'ups': 1,\n",
      " 'url': 'https://i.redd.it/qbfp4khd5vm41.jpg',\n",
      " 'user_reports': [],\n",
      " 'view_count': None,\n",
      " 'visited': False,\n",
      " 'whitelist_status': 'house_only',\n",
      " 'wls': 1}\n"
     ]
    }
   ],
   "source": [
    "pprint.pprint(vars(cache[1]))"
   ]
  },
  {
   "cell_type": "code",
   "execution_count": 17,
   "metadata": {},
   "outputs": [],
   "source": [
    "memesDict2 = {}\n",
    "memesDict2[\"_default\"] = {}"
   ]
  },
  {
   "cell_type": "code",
   "execution_count": 18,
   "metadata": {},
   "outputs": [],
   "source": [
    "iterator = 1\n",
    "maxUpvote = 0\n",
    "for submission in cache:\n",
    "    if (submission is not None and submission.is_video is False): #ignore video memes\n",
    "        #print(dt.datetime.fromtimestamp(submission.created_utc)) \n",
    "        if (submission.ups > maxUpvote):\n",
    "            maxUpvote = submission.ups\n",
    "        memesDict2[\"_default\"][iterator] = {\"title\":submission.title, \"thumbnail\":{\"thumbnail\":submission.thumbnail, \"height\":submission.thumbnail_height, \"width\":submission.thumbnail_width}, \"created_utc\":submission.created_utc, \"id\":submission.id, \"ups\":submission.ups, \"downs\":submission.downs, \"media\": submission.url, \"url\": submission.permalink, \"awards\": submission.all_awardings, 'subreddit':submission.subreddit.display_name}\n",
    "        if (submission.author is not None): #in case the account is deleted\n",
    "            memesDict2[\"_default\"][iterator][\"author\"] = submission.author.name \n",
    "        else:\n",
    "            memesDict2[\"_default\"][iterator][\"author\"] = \"N/A\"\n",
    "        iterator +=1"
   ]
  },
  {
   "cell_type": "code",
   "execution_count": 19,
   "metadata": {},
   "outputs": [
    {
     "data": {
      "text/plain": [
       "{'title': 'Let’s do it',\n",
       " 'thumbnail': {'thumbnail': 'default', 'height': 140, 'width': 140},\n",
       " 'created_utc': 1584289771.0,\n",
       " 'id': 'fj3ybt',\n",
       " 'ups': 1,\n",
       " 'downs': 0,\n",
       " 'media': 'https://i.redd.it/qbfp4khd5vm41.jpg',\n",
       " 'url': '/r/dank_meme/comments/fj3ybt/lets_do_it/',\n",
       " 'awards': [],\n",
       " 'subreddit': 'dank_meme',\n",
       " 'author': 'octogan242'}"
      ]
     },
     "execution_count": 19,
     "metadata": {},
     "output_type": "execute_result"
    }
   ],
   "source": [
    "memesDict2['_default'][2]"
   ]
  },
  {
   "cell_type": "markdown",
   "metadata": {},
   "source": [
    "There are some thumbnails with value as 'default' btw."
   ]
  },
  {
   "cell_type": "code",
   "execution_count": 20,
   "metadata": {},
   "outputs": [
    {
     "data": {
      "text/plain": [
       "[Submission(id='fj3z2u'),\n",
       " Submission(id='fj3yor'),\n",
       " Submission(id='fj3ynm'),\n",
       " Submission(id='fj3ykb'),\n",
       " Submission(id='fj3yds'),\n",
       " Submission(id='fj3y37'),\n",
       " Submission(id='fj3xyj'),\n",
       " Submission(id='fj3xtw'),\n",
       " Submission(id='fj3xom'),\n",
       " Submission(id='fj3xag')]"
      ]
     },
     "execution_count": 20,
     "metadata": {},
     "output_type": "execute_result"
    }
   ],
   "source": [
    "subr = 'meme'\n",
    "searchResults = api.search_submissions(after=start_epoch,\n",
    "                            before=end_epoch,\n",
    "                            subreddit=subr)\n",
    "cache = []\n",
    "\n",
    "for result in searchResults:\n",
    "    cache.append(result)\n",
    "    \n",
    "cache[0:10]"
   ]
  },
  {
   "cell_type": "code",
   "execution_count": 21,
   "metadata": {},
   "outputs": [],
   "source": [
    "for submission in cache:\n",
    "    if (submission is not None and submission.is_video is False):\n",
    "        #print(dt.datetime.fromtimestamp(submission.created_utc)) \n",
    "        if (submission.ups > maxUpvote):\n",
    "            maxUpvote = submission.ups\n",
    "        memesDict2[\"_default\"][iterator] = {\"title\":submission.title, \"thumbnail\":{\"thumbnail\":submission.thumbnail, \"height\":submission.thumbnail_height, \"width\":submission.thumbnail_width}, \"created_utc\":submission.created_utc, \"id\":submission.id, \"ups\":submission.ups, \"downs\":submission.downs, \"media\": submission.url, \"url\": submission.permalink, \"awards\": submission.all_awardings}\n",
    "        if (submission.author is not None):\n",
    "            memesDict2[\"_default\"][iterator][\"author\"] = submission.author.name \n",
    "        else:\n",
    "            memesDict2[\"_default\"][iterator][\"author\"] = \"N/A\"\n",
    "        iterator +=1"
   ]
  },
  {
   "cell_type": "code",
   "execution_count": 22,
   "metadata": {
    "scrolled": true
   },
   "outputs": [
    {
     "data": {
      "text/plain": [
       "26286"
      ]
     },
     "execution_count": 22,
     "metadata": {},
     "output_type": "execute_result"
    }
   ],
   "source": [
    "maxUpvote"
   ]
  },
  {
   "cell_type": "code",
   "execution_count": 23,
   "metadata": {},
   "outputs": [
    {
     "data": {
      "text/plain": [
       "9682"
      ]
     },
     "execution_count": 23,
     "metadata": {},
     "output_type": "execute_result"
    }
   ],
   "source": [
    "len(memesDict2['_default'])"
   ]
  },
  {
   "cell_type": "code",
   "execution_count": 24,
   "metadata": {},
   "outputs": [],
   "source": [
    "with open('memesDatabase2.json', 'w') as json_file:\n",
    "    json.dump(memesDict2, json_file)"
   ]
  },
  {
   "cell_type": "code",
   "execution_count": 25,
   "metadata": {},
   "outputs": [],
   "source": [
    "import sys\n",
    "# !{sys.executable} -m pip install opencv-python\n",
    "import cv2\n",
    "from skimage import io\n",
    "def url_to_cvimage(url):\n",
    "    try:\n",
    "        image = io.imread(url)\n",
    "        image = cv2.cvtColor(image, cv2.COLOR_BGR2RGB)\n",
    "        cv2.waitKey(0)\n",
    "        return image.tolist()\n",
    "    except:\n",
    "        return \"N/A\"\n",
    "    \n",
    "def cache_search_results_by_sub(subr):\n",
    "    api = PushshiftAPI(reddit)\n",
    "    searchResults = api.search_submissions(after=start_epoch,\n",
    "                            before=end_epoch,\n",
    "                            subreddit=subr)\n",
    "    return list(searchResults)"
   ]
  },
  {
   "cell_type": "code",
   "execution_count": 26,
   "metadata": {},
   "outputs": [],
   "source": [
    "def make_dict_from_cache(cache):\n",
    "    maxUpvote = 0\n",
    "    iterator = 1\n",
    "    memesDict = {}\n",
    "    memesDict[\"_default\"] = {}\n",
    "    for submission in cache:\n",
    "        if (submission is not None and submission.is_video is False): \n",
    "            if (submission.ups > maxUpvote):\n",
    "                maxUpvote = submission.ups\n",
    "            memesDict[\"_default\"][iterator] = {\"title\":submission.title, \"thumbnail\":{\"thumbnail\":submission.thumbnail, \"height\":submission.thumbnail_height, \"width\":submission.thumbnail_width}, \"created_utc\":submission.created_utc, \"id\":submission.id, \"ups\":submission.ups, \"downs\":submission.downs, \"media\": submission.url, \"url\": submission.permalink, \"awards\": submission.all_awardings}\n",
    "            if (submission.author is not None):\n",
    "                memesDict[\"_default\"][iterator][\"author\"] = submission.author.name \n",
    "            else:\n",
    "                memesDict[\"_default\"][iterator][\"author\"] = \"N/A\"\n",
    "            iterator +=1\n",
    "    return memesDict\n",
    "\n",
    "def make_json_from_dict(meme_dict, sub_name):\n",
    "    with open('memesDatabase_' + sub_name + '.json', 'w') as json_file:\n",
    "        json.dump(meme_dict, json_file)\n",
    "        \n",
    "def add_cv(meme_dict):\n",
    "    for i in meme_dict[\"_default\"]:\n",
    "        meme_dict[\"_default\"][i][\"cv_image\"] = url_to_cvimage(meme_dict[\"_default\"][i][\"media\"])"
   ]
  },
  {
   "cell_type": "code",
   "execution_count": 27,
   "metadata": {},
   "outputs": [],
   "source": [
    "subreddits = [\"MemeEconomy\", \"memes\", \"me_irl\", \"dank_meme\"]"
   ]
  },
  {
   "cell_type": "code",
   "execution_count": 28,
   "metadata": {},
   "outputs": [],
   "source": [
    "meme_dicts = []\n",
    "for sub in subreddits:\n",
    "    meme_dicts.append(make_dict_from_cache(cache_search_results_by_sub(sub)))"
   ]
  },
  {
   "cell_type": "code",
   "execution_count": 29,
   "metadata": {},
   "outputs": [],
   "source": [
    "# for meme_dict in meme_dicts:\n",
    "#     add_cv(meme_dict)"
   ]
  },
  {
   "cell_type": "code",
   "execution_count": 30,
   "metadata": {},
   "outputs": [],
   "source": [
    "for i in range(len(meme_dicts)):\n",
    "    make_json_from_dict(meme_dicts[i], subreddits[i])"
   ]
  },
  {
   "cell_type": "code",
   "execution_count": null,
   "metadata": {},
   "outputs": [],
   "source": []
  }
 ],
 "metadata": {
  "kernelspec": {
   "display_name": "Python 3",
   "language": "python",
   "name": "python3"
  },
  "language_info": {
   "codemirror_mode": {
    "name": "ipython",
    "version": 3
   },
   "file_extension": ".py",
   "mimetype": "text/x-python",
   "name": "python",
   "nbconvert_exporter": "python",
   "pygments_lexer": "ipython3",
   "version": "3.7.3"
  }
 },
 "nbformat": 4,
 "nbformat_minor": 2
}
