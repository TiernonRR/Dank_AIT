{
 "cells": [
  {
   "cell_type": "code",
   "execution_count": 1,
   "metadata": {},
   "outputs": [],
   "source": [
    "# !pip install Praw\n",
    "# !pip install --upgrade praw"
   ]
  },
  {
   "cell_type": "code",
   "execution_count": 2,
   "metadata": {},
   "outputs": [],
   "source": [
    "#import sys\n",
    "#!{sys.executable} -m pip install praw\n",
    "import praw\n",
    "import pandas as pd\n",
    "import datetime as dt\n",
    "import json\n",
    "\n",
    "f = open(\"secret_python.txt\", \"r\")\n",
    "client_id = f.readline().rstrip()\n",
    "secret_key = f.readline().rstrip()\n",
    "f.close()"
   ]
  },
  {
   "cell_type": "code",
   "execution_count": 3,
   "metadata": {},
   "outputs": [
    {
     "data": {
      "text/plain": [
       "True"
      ]
     },
     "execution_count": 3,
     "metadata": {},
     "output_type": "execute_result"
    }
   ],
   "source": [
    "reddit = praw.Reddit(client_id=client_id, \\\n",
    "                     client_secret=secret_key, \\\n",
    "                     user_agent='Scrape')\n",
    "\n",
    "reddit.read_only"
   ]
  },
  {
   "cell_type": "code",
   "execution_count": 4,
   "metadata": {},
   "outputs": [],
   "source": [
    "dank_meme = reddit.subreddit('dank_meme')"
   ]
  },
  {
   "cell_type": "code",
   "execution_count": 5,
   "metadata": {},
   "outputs": [],
   "source": [
    "memesDict = {}\n",
    "memesDict[\"_default\"] = {}\n",
    "iterator = 1"
   ]
  },
  {
   "cell_type": "code",
   "execution_count": null,
   "metadata": {},
   "outputs": [],
   "source": [
    "for submission in dank_meme.random_rising(limit = 100):\n",
    "    memesDict[\"_default\"][iterator] = {\"title\":submission.title, \"thumbnail\":{\"thumbnail\":submission.thumbnail, \"height\":submission.thumbnail_height, \"width\":submission.thumbnail_width}, \"created_utc\":submission.created_utc, \"author\":submission.author.name, \"id\":submission.id, \"ups\":submission.ups, \"downs\":submission.downs, \"media\": submission.url}\n",
    "    iterator +=1"
   ]
  },
  {
   "cell_type": "code",
   "execution_count": null,
   "metadata": {},
   "outputs": [],
   "source": [
    "print(memesDict[\"_default\"][2])"
   ]
  },
  {
   "cell_type": "code",
   "execution_count": null,
   "metadata": {},
   "outputs": [],
   "source": [
    "with open('memesDatabase.json', 'w') as json_file:\n",
    "  json.dump(memesDict, json_file)"
   ]
  },
  {
   "cell_type": "code",
   "execution_count": null,
   "metadata": {},
   "outputs": [],
   "source": [
    "#Used to find out what fields does an object have\n",
    "#import pprint\n",
    "#pprint.pprint(vars(submission.author))"
   ]
  }
 ],
 "metadata": {
  "kernelspec": {
   "display_name": "Python 3",
   "language": "python",
   "name": "python3"
  },
  "language_info": {
   "codemirror_mode": {
    "name": "ipython",
    "version": 3
   },
   "file_extension": ".py",
   "mimetype": "text/x-python",
   "name": "python",
   "nbconvert_exporter": "python",
   "pygments_lexer": "ipython3",
   "version": "3.7.4"
  }
 },
 "nbformat": 4,
 "nbformat_minor": 2
}
