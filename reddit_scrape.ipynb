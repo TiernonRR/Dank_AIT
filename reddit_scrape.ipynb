{
 "cells": [
  {
   "cell_type": "code",
   "execution_count": 1,
   "metadata": {},
   "outputs": [],
   "source": [
    "# !pip install Praw\n",
    "# !pip install --upgrade praw"
   ]
  },
  {
   "cell_type": "code",
   "execution_count": 2,
   "metadata": {},
   "outputs": [],
   "source": [
    "#import sys\n",
    "#!{sys.executable} -m pip install praw\n",
    "import praw\n",
    "import pandas as pd\n",
    "import datetime as dt\n",
    "\n",
    "f = open(\"secret_python.txt\", \"r\")\n",
    "client_id = f.readline().rstrip()\n",
    "secret_key = f.readline().rstrip()\n",
    "f.close()"
   ]
  },
  {
   "cell_type": "code",
   "execution_count": 3,
   "metadata": {},
   "outputs": [
    {
     "data": {
      "text/plain": [
       "True"
      ]
     },
     "execution_count": 3,
     "metadata": {},
     "output_type": "execute_result"
    }
   ],
   "source": [
    "reddit = praw.Reddit(client_id=client_id, \\\n",
    "                     client_secret=secret_key, \\\n",
    "                     user_agent='Scrape')\n",
    "\n",
    "reddit.read_only"
   ]
  },
  {
   "cell_type": "code",
   "execution_count": 4,
   "metadata": {},
   "outputs": [],
   "source": [
    "me_irl = reddit.subreddit('me_irl')"
   ]
  },
  {
   "cell_type": "code",
   "execution_count": 5,
   "metadata": {},
   "outputs": [],
   "source": [
    "top_me_irl = me_irl.top(limit=20)"
   ]
  },
  {
   "cell_type": "code",
   "execution_count": 6,
   "metadata": {},
   "outputs": [
    {
     "name": "stdout",
     "output_type": "stream",
     "text": [
      "Me📢irl cs507j 142930\n",
      "me irl dy60tm 132349\n",
      "me_irl bpdggk 131241\n",
      "me irl elehnu 122347\n",
      "me_irl djgfa6 121073\n",
      "me irl ejytc4 119846\n",
      "me_irl 5meh0q 109325\n",
      "me irl 6r1ot2 108415\n",
      "me irl ekv7it 106883\n",
      "me_irl ecrjmx 103370\n",
      "me🐱irl fwsnwz 101671\n",
      "me_irl 65fni1 100361\n",
      "me irl ecyv14 99250\n",
      "Me_irl el8p5n 97667\n",
      "me irl 8vzmij 95905\n",
      "me_irl ap8pfl 95298\n",
      "me irl cz617v 90310\n",
      "Me irl fkshys 89015\n",
      "me irl 6mvi19 88523\n",
      "me_irl 5ytzv9 87377\n"
     ]
    }
   ],
   "source": [
    "for submission in top_me_irl:\n",
    "    print(submission.title, submission.id, submission.score)"
   ]
  },
  {
   "cell_type": "code",
   "execution_count": null,
   "metadata": {},
   "outputs": [],
   "source": []
  }
 ],
 "metadata": {
  "kernelspec": {
   "display_name": "Python 3",
   "language": "python",
   "name": "python3"
  },
  "language_info": {
   "codemirror_mode": {
    "name": "ipython",
    "version": 3
   },
   "file_extension": ".py",
   "mimetype": "text/x-python",
   "name": "python",
   "nbconvert_exporter": "python",
   "pygments_lexer": "ipython3",
   "version": "3.7.4"
  }
 },
 "nbformat": 4,
 "nbformat_minor": 2
}
