{
 "cells": [
  {
   "cell_type": "code",
   "execution_count": 21,
   "metadata": {},
   "outputs": [],
   "source": [
    "# !pip install Praw\n",
    "# !pip install --upgrade praw"
   ]
  },
  {
   "cell_type": "code",
   "execution_count": 22,
   "metadata": {},
   "outputs": [
    {
     "name": "stdout",
     "output_type": "stream",
     "text": [
      "Requirement already satisfied: praw in c:\\users\\tiern\\anaconda3\\lib\\site-packages (7.0.0)\n",
      "Requirement already satisfied: websocket-client>=0.54.0 in c:\\users\\tiern\\anaconda3\\lib\\site-packages (from praw) (0.57.0)\n",
      "Requirement already satisfied: update-checker>=0.16 in c:\\users\\tiern\\anaconda3\\lib\\site-packages (from praw) (0.17)\n",
      "Requirement already satisfied: prawcore<2.0,>=1.3.0 in c:\\users\\tiern\\anaconda3\\lib\\site-packages (from praw) (1.4.0)\n",
      "Requirement already satisfied: six in c:\\users\\tiern\\anaconda3\\lib\\site-packages (from websocket-client>=0.54.0->praw) (1.14.0)\n",
      "Requirement already satisfied: requests>=2.3.0 in c:\\users\\tiern\\anaconda3\\lib\\site-packages (from update-checker>=0.16->praw) (2.22.0)\n",
      "Requirement already satisfied: idna<2.9,>=2.5 in c:\\users\\tiern\\anaconda3\\lib\\site-packages (from requests>=2.3.0->update-checker>=0.16->praw) (2.8)\n",
      "Requirement already satisfied: chardet<3.1.0,>=3.0.2 in c:\\users\\tiern\\anaconda3\\lib\\site-packages (from requests>=2.3.0->update-checker>=0.16->praw) (3.0.4)\n",
      "Requirement already satisfied: urllib3!=1.25.0,!=1.25.1,<1.26,>=1.21.1 in c:\\users\\tiern\\anaconda3\\lib\\site-packages (from requests>=2.3.0->update-checker>=0.16->praw) (1.25.8)\n",
      "Requirement already satisfied: certifi>=2017.4.17 in c:\\users\\tiern\\anaconda3\\lib\\site-packages (from requests>=2.3.0->update-checker>=0.16->praw) (2019.11.28)\n",
      "Requirement already satisfied: psaw in c:\\users\\tiern\\anaconda3\\lib\\site-packages (0.0.12)\n",
      "Requirement already satisfied: requests in c:\\users\\tiern\\anaconda3\\lib\\site-packages (from psaw) (2.22.0)\n",
      "Requirement already satisfied: Click in c:\\users\\tiern\\anaconda3\\lib\\site-packages (from psaw) (7.0)\n",
      "Requirement already satisfied: idna<2.9,>=2.5 in c:\\users\\tiern\\anaconda3\\lib\\site-packages (from requests->psaw) (2.8)\n",
      "Requirement already satisfied: chardet<3.1.0,>=3.0.2 in c:\\users\\tiern\\anaconda3\\lib\\site-packages (from requests->psaw) (3.0.4)\n",
      "Requirement already satisfied: certifi>=2017.4.17 in c:\\users\\tiern\\anaconda3\\lib\\site-packages (from requests->psaw) (2019.11.28)\n",
      "Requirement already satisfied: urllib3!=1.25.0,!=1.25.1,<1.26,>=1.21.1 in c:\\users\\tiern\\anaconda3\\lib\\site-packages (from requests->psaw) (1.25.8)\n"
     ]
    }
   ],
   "source": [
    "import sys\n",
    "!{sys.executable} -m pip install praw\n",
    "!{sys.executable} -m pip install psaw\n",
    "import praw\n",
    "import pandas as pd\n",
    "import datetime as dt\n",
    "import json\n",
    "\n",
    "f = open(\"secret_python.txt\", \"r\")\n",
    "client_id = f.readline().rstrip()\n",
    "secret_key = f.readline().rstrip()\n",
    "f.close()"
   ]
  },
  {
   "cell_type": "markdown",
   "metadata": {},
   "source": [
    "## Praw"
   ]
  },
  {
   "cell_type": "code",
   "execution_count": 23,
   "metadata": {},
   "outputs": [
    {
     "data": {
      "text/plain": [
       "True"
      ]
     },
     "execution_count": 23,
     "metadata": {},
     "output_type": "execute_result"
    }
   ],
   "source": [
    "reddit = praw.Reddit(client_id=client_id, \\\n",
    "                     client_secret=secret_key, \\\n",
    "                     user_agent='Scrape')\n",
    "\n",
    "reddit.read_only"
   ]
  },
  {
   "cell_type": "code",
   "execution_count": 31,
   "metadata": {},
   "outputs": [],
   "source": [
    "dank_meme = reddit.subreddit('MemeEconomy')"
   ]
  },
  {
   "cell_type": "code",
   "execution_count": 32,
   "metadata": {},
   "outputs": [],
   "source": [
    "memesDict = {}\n",
    "memesDict[\"_default\"] = {}"
   ]
  },
  {
   "cell_type": "markdown",
   "metadata": {},
   "source": [
    "Source: https://stackoverflow.com/questions/40960449/getting-all-submissions-for-the-past-two-months-from-a-particular-subreddit-usi"
   ]
  },
  {
   "cell_type": "code",
   "execution_count": 33,
   "metadata": {},
   "outputs": [],
   "source": [
    "iterator = 1\n",
    "for submission in dank_meme.hot(limit = 100):\n",
    "    #print(dt.datetime.fromtimestamp(submission.created_utc)) \n",
    "    memesDict[\"_default\"][iterator] = {\"title\":submission.title, \"thumbnail\":{\"thumbnail\":submission.thumbnail, \"height\":submission.thumbnail_height, \"width\":submission.thumbnail_width}, \"created_utc\":submission.created_utc, \"author\":submission.author.name, \"id\":submission.id, \"ups\":submission.ups, \"downs\":submission.downs, \"media\": submission.url}\n",
    "    iterator +=1"
   ]
  },
  {
   "cell_type": "code",
   "execution_count": 34,
   "metadata": {
    "scrolled": true
   },
   "outputs": [
    {
     "name": "stdout",
     "output_type": "stream",
     "text": [
      "{'title': 'Monthly Meme Discussion Thread - June 01, 2020', 'thumbnail': {'thumbnail': 'self', 'height': None, 'width': None}, 'created_utc': 1591013693.0, 'author': 'AutoModerator', 'id': 'gujkep', 'ups': 11, 'downs': 0, 'media': 'https://www.reddit.com/r/MemeEconomy/comments/gujkep/monthly_meme_discussion_thread_june_01_2020/'}\n"
     ]
    }
   ],
   "source": [
    "print(memesDict[\"_default\"][2])"
   ]
  },
  {
   "cell_type": "code",
   "execution_count": 6,
   "metadata": {},
   "outputs": [],
   "source": [
    "with open('memesDatabase.json', 'w') as json_file:\n",
    "    json.dump(memesDict, json_file)"
   ]
  },
  {
   "cell_type": "code",
   "execution_count": 8,
   "metadata": {
    "scrolled": false
   },
   "outputs": [
    {
     "name": "stdout",
     "output_type": "stream",
     "text": [
      "{'_comments_by_id': {},\n",
      " '_fetched': False,\n",
      " '_reddit': <praw.reddit.Reddit object at 0x0000021436D3F688>,\n",
      " 'all_awardings': [],\n",
      " 'allow_live_comments': False,\n",
      " 'approved_at_utc': None,\n",
      " 'approved_by': None,\n",
      " 'archived': False,\n",
      " 'author': Redditor(name='FrankTon69'),\n",
      " 'author_flair_background_color': None,\n",
      " 'author_flair_css_class': None,\n",
      " 'author_flair_richtext': [],\n",
      " 'author_flair_template_id': None,\n",
      " 'author_flair_text': None,\n",
      " 'author_flair_text_color': None,\n",
      " 'author_flair_type': 'text',\n",
      " 'author_fullname': 't2_5f776ft0',\n",
      " 'author_patreon_flair': False,\n",
      " 'author_premium': False,\n",
      " 'awarders': [],\n",
      " 'banned_at_utc': None,\n",
      " 'banned_by': None,\n",
      " 'can_gild': False,\n",
      " 'can_mod_post': False,\n",
      " 'category': None,\n",
      " 'clicked': False,\n",
      " 'comment_limit': 2048,\n",
      " 'comment_sort': 'confidence',\n",
      " 'content_categories': None,\n",
      " 'contest_mode': False,\n",
      " 'created': 1589389778.0,\n",
      " 'created_utc': 1589360978.0,\n",
      " 'discussion_type': None,\n",
      " 'distinguished': None,\n",
      " 'domain': 'i.redd.it',\n",
      " 'downs': 0,\n",
      " 'edited': False,\n",
      " 'gilded': 0,\n",
      " 'gildings': {},\n",
      " 'hidden': False,\n",
      " 'hide_score': False,\n",
      " 'id': 'givhqq',\n",
      " 'is_crosspostable': False,\n",
      " 'is_meta': False,\n",
      " 'is_original_content': False,\n",
      " 'is_reddit_media_domain': True,\n",
      " 'is_robot_indexable': True,\n",
      " 'is_self': False,\n",
      " 'is_video': False,\n",
      " 'likes': None,\n",
      " 'link_flair_background_color': '',\n",
      " 'link_flair_css_class': '',\n",
      " 'link_flair_richtext': [{'e': 'text', 't': 'Filthy Repost'}],\n",
      " 'link_flair_template_id': '5f4432c8-cd08-11e4-b8e3-22000acb8ac2',\n",
      " 'link_flair_text': 'Filthy Repost',\n",
      " 'link_flair_text_color': 'dark',\n",
      " 'link_flair_type': 'richtext',\n",
      " 'locked': False,\n",
      " 'media': None,\n",
      " 'media_embed': {},\n",
      " 'media_only': False,\n",
      " 'mod_note': None,\n",
      " 'mod_reason_by': None,\n",
      " 'mod_reason_title': None,\n",
      " 'mod_reports': [],\n",
      " 'name': 't3_givhqq',\n",
      " 'no_follow': False,\n",
      " 'num_comments': 2,\n",
      " 'num_crossposts': 0,\n",
      " 'num_reports': None,\n",
      " 'over_18': False,\n",
      " 'parent_whitelist_status': 'house_only',\n",
      " 'permalink': '/r/dank_meme/comments/givhqq/me_at_school/',\n",
      " 'pinned': False,\n",
      " 'post_hint': 'image',\n",
      " 'preview': {'enabled': True,\n",
      "             'images': [{'id': 'ohVtg5MHrWrAEmw8ilzdfoolzUwc6eJ_R57pVvcSs3g',\n",
      "                         'resolutions': [{'height': 69,\n",
      "                                          'url': 'https://preview.redd.it/iukqfiuk0iy41.png?width=108&crop=smart&auto=webp&s=69dcf506a577bc0146e5556919df94ef0d641831',\n",
      "                                          'width': 108},\n",
      "                                         {'height': 138,\n",
      "                                          'url': 'https://preview.redd.it/iukqfiuk0iy41.png?width=216&crop=smart&auto=webp&s=78ad4394d98fc9a93489f4014c53dbbccb7b54ae',\n",
      "                                          'width': 216},\n",
      "                                         {'height': 204,\n",
      "                                          'url': 'https://preview.redd.it/iukqfiuk0iy41.png?width=320&crop=smart&auto=webp&s=1fb2c0d69ee89b627e6d66ac9a671f1f9ffe1d17',\n",
      "                                          'width': 320}],\n",
      "                         'source': {'height': 253,\n",
      "                                    'url': 'https://preview.redd.it/iukqfiuk0iy41.png?auto=webp&s=4db2311ebba53956abe07cf5a85a8eccd13097a4',\n",
      "                                    'width': 396},\n",
      "                         'variants': {}}]},\n",
      " 'pwls': 1,\n",
      " 'quarantine': False,\n",
      " 'removal_reason': None,\n",
      " 'removed_by': None,\n",
      " 'removed_by_category': None,\n",
      " 'report_reasons': None,\n",
      " 'saved': False,\n",
      " 'score': 36,\n",
      " 'secure_media': None,\n",
      " 'secure_media_embed': {},\n",
      " 'selftext': '',\n",
      " 'selftext_html': None,\n",
      " 'send_replies': True,\n",
      " 'spoiler': False,\n",
      " 'stickied': False,\n",
      " 'subreddit': Subreddit(display_name='dank_meme'),\n",
      " 'subreddit_id': 't5_35fdv',\n",
      " 'subreddit_name_prefixed': 'r/dank_meme',\n",
      " 'subreddit_subscribers': 747855,\n",
      " 'subreddit_type': 'public',\n",
      " 'suggested_sort': None,\n",
      " 'thumbnail': 'https://b.thumbs.redditmedia.com/1Dyucf-nTTsz7EtROrFbV9r5zOfJFzueSHfoXGb9JWk.jpg',\n",
      " 'thumbnail_height': 89,\n",
      " 'thumbnail_width': 140,\n",
      " 'title': 'Me at school',\n",
      " 'total_awards_received': 0,\n",
      " 'treatment_tags': [],\n",
      " 'ups': 36,\n",
      " 'upvote_ratio': 0.91,\n",
      " 'url': 'https://i.redd.it/iukqfiuk0iy41.png',\n",
      " 'user_reports': [],\n",
      " 'view_count': None,\n",
      " 'visited': False,\n",
      " 'whitelist_status': 'house_only',\n",
      " 'wls': 1}\n"
     ]
    }
   ],
   "source": [
    "#Used to find out what fields does an object have\n",
    "import pprint\n",
    "pprint.pprint(vars(submission))"
   ]
  },
  {
   "cell_type": "markdown",
   "metadata": {},
   "source": [
    "## Pushshift"
   ]
  },
  {
   "cell_type": "markdown",
   "metadata": {},
   "source": [
    "With help from the following link: https://medium.com/@RareLoot/using-pushshifts-api-to-extract-reddit-submissions-fb517b286563"
   ]
  },
  {
   "cell_type": "code",
   "execution_count": 10,
   "metadata": {},
   "outputs": [],
   "source": [
    "import requests"
   ]
  },
  {
   "cell_type": "code",
   "execution_count": 11,
   "metadata": {},
   "outputs": [],
   "source": [
    "base_url = \"https://api.pushshift.io/\"\n",
    "fields=\"author,subreddit,id,created_utc,all_awardings,score,thumbnail,thumbnail_height,thumbnail_width,title,url,full_link\"\n",
    "def queryBySub(sub, before=\"30d\", after=\"60d\", sort_type=\"score\", sort=\"asc\",size=\"25\", fields=fields):\n",
    "    url = base_url + \"reddit/search/submission/?subreddit=\"+sub+\"&sort=\"+sort+\"&sort_type=\"+sort_type+\"&size=\"+size+\"&after=\"+after+\"&before=\"+before+\"&fields=\"+fields\n",
    "    response = requests.get(url)\n",
    "    return json.loads(response.text)\n",
    "data = queryBySub(\"dank_meme\")"
   ]
  },
  {
   "cell_type": "code",
   "execution_count": 12,
   "metadata": {},
   "outputs": [
    {
     "data": {
      "text/plain": [
       "[{'all_awardings': [],\n",
       "  'author': 'Popcorny_YT',\n",
       "  'created_utc': 1583363896,\n",
       "  'full_link': 'https://www.reddit.com/r/dank_meme/comments/fdlrju/hmmmm_yes_gold_robbery/',\n",
       "  'id': 'fdlrju',\n",
       "  'score': 0,\n",
       "  'subreddit': 'dank_meme',\n",
       "  'thumbnail': 'https://b.thumbs.redditmedia.com/5OkmOvdbo7IC86JCv8gkwH6EkBIuvgMnypM0LCua_2c.jpg',\n",
       "  'thumbnail_height': 140,\n",
       "  'thumbnail_width': 140,\n",
       "  'title': 'Hmmmm yes gold robbery',\n",
       "  'url': 'https://i.redd.it/5vldqep9oqk41.jpg'},\n",
       " {'all_awardings': [],\n",
       "  'author': 'elisportsfan',\n",
       "  'created_utc': 1584394640,\n",
       "  'full_link': 'https://www.reddit.com/r/dank_meme/comments/fjsxxo/me_at_walmart_yesterday/',\n",
       "  'id': 'fjsxxo',\n",
       "  'score': 0,\n",
       "  'subreddit': 'dank_meme',\n",
       "  'thumbnail': 'https://b.thumbs.redditmedia.com/6uvcxxHPlAdrTz3WBNL2nJUFMSO81H_1LPVhqGOGuzQ.jpg',\n",
       "  'thumbnail_height': 73,\n",
       "  'thumbnail_width': 140,\n",
       "  'title': 'Me At Walmart Yesterday',\n",
       "  'url': 'https://i.redd.it/0i6yrb77t3n41.jpg'},\n",
       " {'all_awardings': [],\n",
       "  'author': 'The_choochebandit_69',\n",
       "  'created_utc': 1584382717,\n",
       "  'full_link': 'https://www.reddit.com/r/dank_meme/comments/fjpkso/that_escalated_quickly/',\n",
       "  'id': 'fjpkso',\n",
       "  'score': 0,\n",
       "  'subreddit': 'dank_meme',\n",
       "  'thumbnail': 'https://b.thumbs.redditmedia.com/Wi1EkbOxOYbqvEUgvYVF-j2kzw5rXHFw25V493r_gWM.jpg',\n",
       "  'thumbnail_height': 140,\n",
       "  'thumbnail_width': 140,\n",
       "  'title': 'That escalated quickly',\n",
       "  'url': 'https://v.redd.it/0crb6a8nt2n41'},\n",
       " {'all_awardings': [],\n",
       "  'author': 'hex272727',\n",
       "  'created_utc': 1583960019,\n",
       "  'full_link': 'https://www.reddit.com/r/dank_meme/comments/fh46fl/how_to_manipulate_your_wife_to_get_bigger_boobs/',\n",
       "  'id': 'fh46fl',\n",
       "  'score': 0,\n",
       "  'subreddit': 'dank_meme',\n",
       "  'thumbnail': 'https://b.thumbs.redditmedia.com/SZ6rRxmzL6hq4GtqBTslU4bWb5nliGbOZpiciS9xYqY.jpg',\n",
       "  'thumbnail_height': 105,\n",
       "  'thumbnail_width': 140,\n",
       "  'title': 'how to manipulate your wife to get bigger boobs',\n",
       "  'url': 'https://youtu.be/Id1yPS7wvwk'},\n",
       " {'all_awardings': [],\n",
       "  'author': 'hex272727',\n",
       "  'created_utc': 1584480928,\n",
       "  'full_link': 'https://www.reddit.com/r/dank_meme/comments/fkdlax/this_woman_destroyed_her_husbands_sidechick/',\n",
       "  'id': 'fkdlax',\n",
       "  'score': 0,\n",
       "  'subreddit': 'dank_meme',\n",
       "  'thumbnail': 'https://a.thumbs.redditmedia.com/bmj8W75GsAd054uVzRjsL8yKFM_hf_TwPCS1t1qCqa4.jpg',\n",
       "  'thumbnail_height': 105,\n",
       "  'thumbnail_width': 140,\n",
       "  'title': 'this woman destroyed her husbands sidechick',\n",
       "  'url': 'https://youtu.be/BFxIi9nopmA?t=10s'},\n",
       " {'all_awardings': [],\n",
       "  'author': 'BBBOOOSSTTIIOOO',\n",
       "  'created_utc': 1583256143,\n",
       "  'full_link': 'https://www.reddit.com/r/dank_meme/comments/fcxxh6/watch_frozone/',\n",
       "  'id': 'fcxxh6',\n",
       "  'score': 0,\n",
       "  'subreddit': 'dank_meme',\n",
       "  'thumbnail': 'https://b.thumbs.redditmedia.com/pHWNavPHOh21x397lfQgAko33i3-LAecVieuPXUuPvg.jpg',\n",
       "  'thumbnail_height': 140,\n",
       "  'thumbnail_width': 140,\n",
       "  'title': 'Watch frozone',\n",
       "  'url': 'https://v.redd.it/34z0biftrhk41'},\n",
       " {'all_awardings': [],\n",
       "  'author': 'yoloboizlol',\n",
       "  'created_utc': 1582121995,\n",
       "  'full_link': 'https://www.reddit.com/r/dank_meme/comments/f6b97h/it_really_do_be_like_that/',\n",
       "  'id': 'f6b97h',\n",
       "  'score': 1,\n",
       "  'subreddit': 'dank_meme',\n",
       "  'thumbnail': 'https://b.thumbs.redditmedia.com/djt9js1EHFU28-TwbnADieuLmoIskylea73vLFCYxiA.jpg',\n",
       "  'thumbnail_height': 140,\n",
       "  'thumbnail_width': 140,\n",
       "  'title': 'It really do be like that.',\n",
       "  'url': 'https://i.redd.it/gf36nbng3wh41.jpg'},\n",
       " {'all_awardings': [],\n",
       "  'author': 'HavuPlays',\n",
       "  'created_utc': 1582071261,\n",
       "  'full_link': 'https://www.reddit.com/r/dank_meme/comments/f61q6s/mods_cant_ban_free_speech/',\n",
       "  'id': 'f61q6s',\n",
       "  'score': 1,\n",
       "  'subreddit': 'dank_meme',\n",
       "  'thumbnail': 'https://b.thumbs.redditmedia.com/Sl2grgV4h70-4CCXdmB6H128A2uS7AnjPGZwfZGDsvI.jpg',\n",
       "  'thumbnail_height': 75,\n",
       "  'thumbnail_width': 140,\n",
       "  'title': 'Mods cant ban free speech',\n",
       "  'url': 'https://v.redd.it/ueufuxagwrh41'},\n",
       " {'all_awardings': [],\n",
       "  'author': 'SlyWhiteDog',\n",
       "  'created_utc': 1582127836,\n",
       "  'full_link': 'https://www.reddit.com/r/dank_meme/comments/f6cnnz/fortune_favors_the_bold/',\n",
       "  'id': 'f6cnnz',\n",
       "  'score': 1,\n",
       "  'subreddit': 'dank_meme',\n",
       "  'thumbnail': 'https://b.thumbs.redditmedia.com/JmYxFldmTXcXd4gtZ8OokajugRtX_hv5BXFcxM4Rqjo.jpg',\n",
       "  'thumbnail_height': 119,\n",
       "  'thumbnail_width': 140,\n",
       "  'title': 'Fortune favors the bold.',\n",
       "  'url': 'https://i.redd.it/ozhoe0ytkwh41.jpg'},\n",
       " {'all_awardings': [],\n",
       "  'author': 'jwindle99',\n",
       "  'created_utc': 1582126772,\n",
       "  'full_link': 'https://www.reddit.com/r/dank_meme/comments/f6cecz/when_you_kick_your_ball_over_a_fence_and_cant_get/',\n",
       "  'id': 'f6cecz',\n",
       "  'score': 1,\n",
       "  'subreddit': 'dank_meme',\n",
       "  'thumbnail': 'default',\n",
       "  'title': 'When you kick your ball over a fence and can’t get it back',\n",
       "  'url': 'https://i.redd.it/j10d6j0ohwh41.jpg'},\n",
       " {'all_awardings': [],\n",
       "  'author': 'hentai_mafia69',\n",
       "  'created_utc': 1582109148,\n",
       "  'full_link': 'https://www.reddit.com/r/dank_meme/comments/f696ik/holy_music_starts/',\n",
       "  'id': 'f696ik',\n",
       "  'score': 1,\n",
       "  'subreddit': 'dank_meme',\n",
       "  'thumbnail': 'default',\n",
       "  'title': '*holy music starts',\n",
       "  'url': 'https://i.redd.it/rokyrnd91vh41.jpg'},\n",
       " {'all_awardings': [],\n",
       "  'author': 'lrlOurPresident',\n",
       "  'created_utc': 1582118484,\n",
       "  'full_link': 'https://www.reddit.com/r/dank_meme/comments/f6ah4b/im_gonna_tell_my_kids_this_was_donald_trump/',\n",
       "  'id': 'f6ah4b',\n",
       "  'score': 1,\n",
       "  'subreddit': 'dank_meme',\n",
       "  'thumbnail': 'https://b.thumbs.redditmedia.com/sr1sN4aqp_gS6JmbKl7I9xOMjLCR8eeHVwBVz4uhOEE.jpg',\n",
       "  'thumbnail_height': 140,\n",
       "  'thumbnail_width': 140,\n",
       "  'title': \"I'm gonna tell my kids this was Donald Trump\",\n",
       "  'url': 'https://i.redd.it/i756wwfuzoh41.jpg'},\n",
       " {'all_awardings': [],\n",
       "  'author': 'YJoseph',\n",
       "  'created_utc': 1582049465,\n",
       "  'full_link': 'https://www.reddit.com/r/dank_meme/comments/f5vzqc/but_when_jesus_does_it_it_suddenly_becomes_a/',\n",
       "  'id': 'f5vzqc',\n",
       "  'score': 1,\n",
       "  'subreddit': 'dank_meme',\n",
       "  'thumbnail': 'https://b.thumbs.redditmedia.com/86g3d1_V0EAmo3MSWa6hbrU5Ggbaf8k7TAQk9xqW9Ik.jpg',\n",
       "  'thumbnail_height': 140,\n",
       "  'thumbnail_width': 140,\n",
       "  'title': 'But when Jesus does it, it suddenly becomes a miracle',\n",
       "  'url': 'https://i.imgur.com/Mo9dOwV.jpg'},\n",
       " {'all_awardings': [],\n",
       "  'author': 'isubarna1',\n",
       "  'created_utc': 1582120258,\n",
       "  'full_link': 'https://www.reddit.com/r/dank_meme/comments/f6aux3/i_dont_even_know_who_you_are/',\n",
       "  'id': 'f6aux3',\n",
       "  'score': 1,\n",
       "  'subreddit': 'dank_meme',\n",
       "  'thumbnail': 'default',\n",
       "  'title': \"i don't even know who you are\",\n",
       "  'url': 'https://i.redd.it/io0ehsi7yvh41.jpg'},\n",
       " {'all_awardings': [],\n",
       "  'author': 'awesomeguy9807',\n",
       "  'created_utc': 1582120546,\n",
       "  'full_link': 'https://www.reddit.com/r/dank_meme/comments/f6ax7h/we_need_a_google_filter_for_these_memes/',\n",
       "  'id': 'f6ax7h',\n",
       "  'score': 1,\n",
       "  'subreddit': 'dank_meme',\n",
       "  'thumbnail': 'https://a.thumbs.redditmedia.com/z25T3VfCh3q5CnUMlL761c7lXRyg60x9DQCbSCL08o4.jpg',\n",
       "  'thumbnail_height': 140,\n",
       "  'thumbnail_width': 140,\n",
       "  'title': 'We need a Google filter for these memes',\n",
       "  'url': 'https://i.redd.it/uirc2arpwvh41.jpg'},\n",
       " {'all_awardings': [],\n",
       "  'author': 'djxbob',\n",
       "  'created_utc': 1582125260,\n",
       "  'full_link': 'https://www.reddit.com/r/dank_meme/comments/f6c18o/lollololololll/',\n",
       "  'id': 'f6c18o',\n",
       "  'score': 1,\n",
       "  'subreddit': 'dank_meme',\n",
       "  'thumbnail': 'https://b.thumbs.redditmedia.com/ar9uB-3FqNDwyHtgGJ1mGNXecq1K7q9eNP1dVVuYp6c.jpg',\n",
       "  'thumbnail_height': 140,\n",
       "  'thumbnail_width': 140,\n",
       "  'title': 'Lollololololll',\n",
       "  'url': 'https://i.redd.it/fz09q316dwh41.jpg'},\n",
       " {'all_awardings': [],\n",
       "  'author': 'that_one_gay_kid87',\n",
       "  'created_utc': 1582126055,\n",
       "  'full_link': 'https://www.reddit.com/r/dank_meme/comments/f6c7wx/c/',\n",
       "  'id': 'f6c7wx',\n",
       "  'score': 1,\n",
       "  'subreddit': 'dank_meme',\n",
       "  'thumbnail': 'https://b.thumbs.redditmedia.com/n0pdno8gAIn2-9MbKGPYOOCmY5ig1n59HGB2rrG7acs.jpg',\n",
       "  'thumbnail_height': 83,\n",
       "  'thumbnail_width': 140,\n",
       "  'title': ':,C',\n",
       "  'url': 'https://i.redd.it/pi83j5cjfwh41.jpg'},\n",
       " {'all_awardings': [],\n",
       "  'author': 'notsarim',\n",
       "  'created_utc': 1582133693,\n",
       "  'full_link': 'https://www.reddit.com/r/dank_meme/comments/f6e4z2/helooooo/',\n",
       "  'id': 'f6e4z2',\n",
       "  'score': 1,\n",
       "  'subreddit': 'dank_meme',\n",
       "  'thumbnail': 'https://b.thumbs.redditmedia.com/e_gxM6yLnZmQ3nJnA2I0QxhJkfJCmoPXU5C2Sqhxl2U.jpg',\n",
       "  'thumbnail_height': 128,\n",
       "  'thumbnail_width': 140,\n",
       "  'title': 'Helooooo',\n",
       "  'url': 'https://i.redd.it/ivrlghx82xh41.jpg'},\n",
       " {'all_awardings': [],\n",
       "  'author': 'fortoday1989',\n",
       "  'created_utc': 1582134483,\n",
       "  'full_link': 'https://www.reddit.com/r/dank_meme/comments/f6ecd2/exploding_guinness_try_not_to_laugh_beer_shotgun/',\n",
       "  'id': 'f6ecd2',\n",
       "  'score': 1,\n",
       "  'subreddit': 'dank_meme',\n",
       "  'thumbnail': 'https://b.thumbs.redditmedia.com/U4yUJn-omz8TF6lSdco_U07dJ9BhgRxVcwrT4kib-qg.jpg',\n",
       "  'thumbnail_height': 105,\n",
       "  'thumbnail_width': 140,\n",
       "  'title': 'Exploding Guinness Try Not To Laugh | Beer Shotgun World Record | Beer Shotgun Fail |',\n",
       "  'url': 'https://youtu.be/01n7asus0Gw'},\n",
       " {'all_awardings': [],\n",
       "  'author': 'Eric_Bagnall',\n",
       "  'created_utc': 1582134195,\n",
       "  'full_link': 'https://www.reddit.com/r/dank_meme/comments/f6e9px/first_meme_too/',\n",
       "  'id': 'f6e9px',\n",
       "  'score': 1,\n",
       "  'subreddit': 'dank_meme',\n",
       "  'thumbnail': 'https://b.thumbs.redditmedia.com/fDN64HQk8homEylWxAfZGvXwMvqvmbqdLuwzg5t7UBM.jpg',\n",
       "  'thumbnail_height': 114,\n",
       "  'thumbnail_width': 140,\n",
       "  'title': 'First meme too!',\n",
       "  'url': 'https://i.redd.it/8uonvwkq3xh41.jpg'},\n",
       " {'all_awardings': [],\n",
       "  'author': 'Memesonly1',\n",
       "  'created_utc': 1582134181,\n",
       "  'full_link': 'https://www.reddit.com/r/dank_meme/comments/f6e9jt/stonks/',\n",
       "  'id': 'f6e9jt',\n",
       "  'score': 1,\n",
       "  'subreddit': 'dank_meme',\n",
       "  'thumbnail': 'https://b.thumbs.redditmedia.com/ClilK_rb098C-jBTfAUicDuGFRef_2ilq-jD85j8cgc.jpg',\n",
       "  'thumbnail_height': 87,\n",
       "  'thumbnail_width': 140,\n",
       "  'title': 'Stonks',\n",
       "  'url': 'https://i.redd.it/o8ofv08o3xh41.jpg'},\n",
       " {'all_awardings': [],\n",
       "  'author': 'Sahil1200',\n",
       "  'created_utc': 1582076671,\n",
       "  'full_link': 'https://www.reddit.com/r/dank_meme/comments/f631fb/100k_done_thank_you_all_guyss/',\n",
       "  'id': 'f631fb',\n",
       "  'score': 1,\n",
       "  'subreddit': 'dank_meme',\n",
       "  'thumbnail': 'https://b.thumbs.redditmedia.com/oJF4VqMzV6JPyJwzBdKote6SR5nv7hO1DqHy2cNtLFE.jpg',\n",
       "  'thumbnail_height': 140,\n",
       "  'thumbnail_width': 140,\n",
       "  'title': '100k done thank you all guyss',\n",
       "  'url': 'https://i.redd.it/jmatngtocsh41.jpg'},\n",
       " {'all_awardings': [],\n",
       "  'author': 'Shaved_Bears',\n",
       "  'created_utc': 1582077002,\n",
       "  'full_link': 'https://www.reddit.com/r/dank_meme/comments/f63476/here_is_a_shaved_bear_for_your_nightmare_fuel/',\n",
       "  'id': 'f63476',\n",
       "  'score': 1,\n",
       "  'subreddit': 'dank_meme',\n",
       "  'thumbnail': 'https://b.thumbs.redditmedia.com/qYXtsZk_FMZze1DTh1L_-a5POkFmYRN_pSkaJrgP12A.jpg',\n",
       "  'thumbnail_height': 140,\n",
       "  'thumbnail_width': 140,\n",
       "  'title': 'Here is a shaved bear for your nightmare fuel...',\n",
       "  'url': 'https://i.redd.it/hbq8lffbbsh41.jpg'},\n",
       " {'all_awardings': [],\n",
       "  'author': 'sparkycarr',\n",
       "  'created_utc': 1582084614,\n",
       "  'full_link': 'https://www.reddit.com/r/dank_meme/comments/f64vbi/wheres_the_karma_first_post/',\n",
       "  'id': 'f64vbi',\n",
       "  'score': 1,\n",
       "  'subreddit': 'dank_meme',\n",
       "  'thumbnail': 'default',\n",
       "  'title': 'Where’s the karma? First post',\n",
       "  'url': 'https://i.redd.it/0e42lf7b0th41.jpg'},\n",
       " {'all_awardings': [],\n",
       "  'author': 'chipme77',\n",
       "  'created_utc': 1582090092,\n",
       "  'full_link': 'https://www.reddit.com/r/dank_meme/comments/f6608g/boing/',\n",
       "  'id': 'f6608g',\n",
       "  'score': 1,\n",
       "  'subreddit': 'dank_meme',\n",
       "  'thumbnail': 'https://a.thumbs.redditmedia.com/lckgCbYHeHBJuHGUZStcMC121NgRWBaI5rhB8AAp3z8.jpg',\n",
       "  'thumbnail_height': 137,\n",
       "  'thumbnail_width': 140,\n",
       "  'title': 'Boing',\n",
       "  'url': 'https://i.redd.it/5skuuk1lgth41.jpg'}]"
      ]
     },
     "execution_count": 12,
     "metadata": {},
     "output_type": "execute_result"
    }
   ],
   "source": [
    "data[\"data\"]"
   ]
  },
  {
   "cell_type": "markdown",
   "metadata": {},
   "source": [
    "## Python Pushshift.io API Wrapper "
   ]
  },
  {
   "cell_type": "markdown",
   "metadata": {},
   "source": [
    "API: https://github.com/dmarx/psaw"
   ]
  },
  {
   "cell_type": "code",
   "execution_count": 6,
   "metadata": {},
   "outputs": [],
   "source": [
    "import psaw\n",
    "from psaw import PushshiftAPI\n",
    "\n",
    "api = PushshiftAPI(reddit)"
   ]
  },
  {
   "cell_type": "code",
   "execution_count": 7,
   "metadata": {},
   "outputs": [],
   "source": [
    "current_time = dt.datetime.now()\n",
    "end_date = current_time-dt.timedelta(days = 30) #how many days before today you want the search to end\n",
    "start_date = current_time-dt.timedelta(days = 34) #how many days before today do you want the search to start\n",
    "start_epoch = int(dt.datetime.timestamp(start_date))\n",
    "end_epoch = int(dt.datetime.timestamp(end_date))"
   ]
  },
  {
   "cell_type": "code",
   "execution_count": 8,
   "metadata": {},
   "outputs": [
    {
     "data": {
      "text/plain": [
       "[]"
      ]
     },
     "execution_count": 8,
     "metadata": {},
     "output_type": "execute_result"
    }
   ],
   "source": [
    "subr = 'dank_meme'\n",
    "searchResults = api.search_submissions(after=start_epoch,\n",
    "                            before=end_epoch,\n",
    "                            subreddit=subr)\n",
    "cache = []\n",
    "\n",
    "for result in searchResults:\n",
    "    cache.append(result)\n",
    "    \n",
    "cache[0:10]"
   ]
  },
  {
   "cell_type": "code",
   "execution_count": 16,
   "metadata": {},
   "outputs": [
    {
     "name": "stdout",
     "output_type": "stream",
     "text": [
      "{'_comments_by_id': {},\n",
      " '_fetched': False,\n",
      " '_reddit': <praw.reddit.Reddit object at 0x000001DE81C86EF0>,\n",
      " 'all_awardings': [],\n",
      " 'allow_live_comments': False,\n",
      " 'approved_at_utc': None,\n",
      " 'approved_by': None,\n",
      " 'archived': False,\n",
      " 'author': Redditor(name='MrManic_BipolarJesus'),\n",
      " 'author_flair_background_color': None,\n",
      " 'author_flair_css_class': None,\n",
      " 'author_flair_richtext': [],\n",
      " 'author_flair_template_id': None,\n",
      " 'author_flair_text': None,\n",
      " 'author_flair_text_color': None,\n",
      " 'author_flair_type': 'text',\n",
      " 'author_fullname': 't2_3mvl1ciy',\n",
      " 'author_patreon_flair': False,\n",
      " 'author_premium': False,\n",
      " 'awarders': [],\n",
      " 'banned_at_utc': None,\n",
      " 'banned_by': None,\n",
      " 'can_gild': False,\n",
      " 'can_mod_post': False,\n",
      " 'category': None,\n",
      " 'clicked': False,\n",
      " 'comment_limit': 2048,\n",
      " 'comment_sort': 'best',\n",
      " 'content_categories': None,\n",
      " 'contest_mode': False,\n",
      " 'created': 1584515562.0,\n",
      " 'created_utc': 1584486762.0,\n",
      " 'discussion_type': None,\n",
      " 'distinguished': None,\n",
      " 'domain': 'i.redd.it',\n",
      " 'downs': 0,\n",
      " 'edited': False,\n",
      " 'gilded': 0,\n",
      " 'gildings': {},\n",
      " 'hidden': False,\n",
      " 'hide_score': False,\n",
      " 'id': 'fkf6kd',\n",
      " 'is_crosspostable': False,\n",
      " 'is_meta': False,\n",
      " 'is_original_content': False,\n",
      " 'is_reddit_media_domain': True,\n",
      " 'is_robot_indexable': False,\n",
      " 'is_self': False,\n",
      " 'is_video': False,\n",
      " 'likes': None,\n",
      " 'link_flair_background_color': '',\n",
      " 'link_flair_css_class': None,\n",
      " 'link_flair_richtext': [],\n",
      " 'link_flair_text': None,\n",
      " 'link_flair_text_color': 'dark',\n",
      " 'link_flair_type': 'text',\n",
      " 'locked': False,\n",
      " 'media': None,\n",
      " 'media_embed': {},\n",
      " 'media_only': False,\n",
      " 'mod_note': None,\n",
      " 'mod_reason_by': None,\n",
      " 'mod_reason_title': None,\n",
      " 'mod_reports': [],\n",
      " 'name': 't3_fkf6kd',\n",
      " 'no_follow': True,\n",
      " 'num_comments': 0,\n",
      " 'num_crossposts': 0,\n",
      " 'num_reports': None,\n",
      " 'over_18': False,\n",
      " 'parent_whitelist_status': 'house_only',\n",
      " 'permalink': '/r/dank_meme/comments/fkf6kd/it_just_be_that_way_sometimes/',\n",
      " 'pinned': False,\n",
      " 'pwls': 1,\n",
      " 'quarantine': False,\n",
      " 'removal_reason': None,\n",
      " 'removed_by': None,\n",
      " 'removed_by_category': 'reddit',\n",
      " 'report_reasons': None,\n",
      " 'saved': False,\n",
      " 'score': 1,\n",
      " 'secure_media': None,\n",
      " 'secure_media_embed': {},\n",
      " 'selftext': '',\n",
      " 'selftext_html': None,\n",
      " 'send_replies': True,\n",
      " 'spoiler': False,\n",
      " 'stickied': False,\n",
      " 'subreddit': Subreddit(display_name='dank_meme'),\n",
      " 'subreddit_id': 't5_35fdv',\n",
      " 'subreddit_name_prefixed': 'r/dank_meme',\n",
      " 'subreddit_subscribers': 743609,\n",
      " 'subreddit_type': 'public',\n",
      " 'suggested_sort': None,\n",
      " 'thumbnail': 'default',\n",
      " 'thumbnail_height': 140,\n",
      " 'thumbnail_width': 140,\n",
      " 'title': 'It just be that way sometimes',\n",
      " 'total_awards_received': 0,\n",
      " 'treatment_tags': [],\n",
      " 'ups': 1,\n",
      " 'url': 'https://i.redd.it/hvwi2hi0fbn41.jpg',\n",
      " 'user_reports': [],\n",
      " 'view_count': None,\n",
      " 'visited': False,\n",
      " 'whitelist_status': 'house_only',\n",
      " 'wls': 1}\n"
     ]
    }
   ],
   "source": [
    "pprint.pprint(vars(cache[1]))"
   ]
  },
  {
   "cell_type": "code",
   "execution_count": 17,
   "metadata": {},
   "outputs": [],
   "source": [
    "memesDict2 = {}\n",
    "memesDict2[\"_default\"] = {}"
   ]
  },
  {
   "cell_type": "code",
   "execution_count": 18,
   "metadata": {},
   "outputs": [],
   "source": [
    "# iterator = 1\n",
    "# maxUpvote = 0\n",
    "# for submission in cache:\n",
    "#     if (submission is not None and submission.is_video is False): #ignore video memes\n",
    "#         #print(dt.datetime.fromtimestamp(submission.created_utc)) \n",
    "#         if (submission.ups > maxUpvote):\n",
    "#             maxUpvote = submission.ups\n",
    "#         memesDict2[\"_default\"][iterator] = {\"title\":submission.title, \"thumbnail\":{\"thumbnail\":submission.thumbnail, \"height\":submission.thumbnail_height, \"width\":submission.thumbnail_width}, \"created_utc\":submission.created_utc, \"id\":submission.id, \"ups\":submission.ups, \"downs\":submission.downs, \"media\": submission.url, \"url\": submission.permalink, \"awards\": submission.all_awardings, 'subreddit':submission.subreddit.display_name}\n",
    "#         if (submission.author is not None): #in case the account is deleted\n",
    "#             memesDict2[\"_default\"][iterator][\"author\"] = submission.author.name \n",
    "#         else:\n",
    "#             memesDict2[\"_default\"][iterator][\"author\"] = \"N/A\"\n",
    "#         iterator +=1"
   ]
  },
  {
   "cell_type": "code",
   "execution_count": 19,
   "metadata": {},
   "outputs": [],
   "source": [
    "# memesDict2['_default'][2]"
   ]
  },
  {
   "cell_type": "markdown",
   "metadata": {},
   "source": [
    "There are some thumbnails with value as 'default' btw."
   ]
  },
  {
   "cell_type": "code",
   "execution_count": 20,
   "metadata": {},
   "outputs": [],
   "source": [
    "# subr = 'meme'\n",
    "# searchResults = api.search_submissions(after=start_epoch,\n",
    "#                             before=end_epoch,\n",
    "#                             subreddit=subr)\n",
    "# cache = []\n",
    "\n",
    "# for result in searchResults:\n",
    "#     cache.append(result)\n",
    "    \n",
    "# cache[0:10]"
   ]
  },
  {
   "cell_type": "code",
   "execution_count": 21,
   "metadata": {},
   "outputs": [],
   "source": [
    "# for submission in cache:\n",
    "#     if (submission is not None and submission.is_video is False):\n",
    "#         #print(dt.datetime.fromtimestamp(submission.created_utc)) \n",
    "#         if (submission.ups > maxUpvote):\n",
    "#             maxUpvote = submission.ups\n",
    "#         memesDict2[\"_default\"][iterator] = {\"title\":submission.title, \"thumbnail\":{\"thumbnail\":submission.thumbnail, \"height\":submission.thumbnail_height, \"width\":submission.thumbnail_width}, \"created_utc\":submission.created_utc, \"id\":submission.id, \"ups\":submission.ups, \"downs\":submission.downs, \"media\": submission.url, \"url\": submission.permalink, \"awards\": submission.all_awardings}\n",
    "#         if (submission.author is not None):\n",
    "#             memesDict2[\"_default\"][iterator][\"author\"] = submission.author.name \n",
    "#         else:\n",
    "#             memesDict2[\"_default\"][iterator][\"author\"] = \"N/A\"\n",
    "#         iterator +=1"
   ]
  },
  {
   "cell_type": "code",
   "execution_count": 22,
   "metadata": {
    "scrolled": true
   },
   "outputs": [],
   "source": [
    "# maxUpvote"
   ]
  },
  {
   "cell_type": "code",
   "execution_count": 23,
   "metadata": {},
   "outputs": [],
   "source": [
    "# len(memesDict2['_default'])"
   ]
  },
  {
   "cell_type": "code",
   "execution_count": 24,
   "metadata": {},
   "outputs": [],
   "source": [
    "# with open('memesDatabase2.json', 'w') as json_file:\n",
    "#     json.dump(memesDict2, json_file)"
   ]
  },
  {
   "cell_type": "code",
   "execution_count": 25,
   "metadata": {},
   "outputs": [],
   "source": [
    "current_time = dt.datetime.now()\n",
    "end_date = current_time-dt.timedelta(days = 30) #how many days before today you want the search to end\n",
    "start_date = current_time-dt.timedelta(days = 34) #how many days before today do you want the search to start\n",
    "start_epoch = int(dt.datetime.timestamp(start_date))\n",
    "end_epoch = int(dt.datetime.timestamp(end_date))"
   ]
  },
  {
   "cell_type": "code",
   "execution_count": 26,
   "metadata": {},
   "outputs": [],
   "source": [
    "import sys\n",
    "# !{sys.executable} -m pip install opencv-python\n",
    "import cv2\n",
    "from skimage import io\n",
    "def url_to_cvimage(url):\n",
    "    try:\n",
    "        image = io.imread(url)\n",
    "        image = cv2.cvtColor(image, cv2.COLOR_BGR2RGB)\n",
    "        cv2.waitKey(0)\n",
    "        return image.tolist()\n",
    "    except:\n",
    "        return \"N/A\"\n",
    "    \n",
    "def cache_search_results_by_sub(subr):\n",
    "    api = PushshiftAPI(reddit)\n",
    "    searchResults = api.search_submissions(after=start_epoch,\n",
    "                            before=end_epoch,\n",
    "                            subreddit=subr)\n",
    "    return list(searchResults)"
   ]
  },
  {
   "cell_type": "code",
   "execution_count": 27,
   "metadata": {},
   "outputs": [],
   "source": [
    "import requests\n",
    "def isBrokenURL(url):\n",
    "    if \"youtu\" in url:\n",
    "        return True\n",
    "    try:\n",
    "        if requests.get(url).status_code == 404:\n",
    "            return True\n",
    "    except:\n",
    "        return True\n",
    "    return False"
   ]
  },
  {
   "cell_type": "code",
   "execution_count": 28,
   "metadata": {},
   "outputs": [],
   "source": [
    "def make_dict_from_cache(cache):\n",
    "    maxUpvote = 0\n",
    "    iterator = 1\n",
    "    memesDict = {}\n",
    "    memesDict[\"_default\"] = {}\n",
    "    for submission in cache:\n",
    "        if (submission is not None and submission.is_video is False and submission.removed_by is not None):\n",
    "            if (submission.ups > maxUpvote):\n",
    "                maxUpvote = submission.ups\n",
    "            memesDict[\"_default\"][iterator] = {\"title\":submission.title, \"thumbnail\":{\"thumbnail\":submission.thumbnail, \"height\":submission.thumbnail_height, \"width\":submission.thumbnail_width}, \"created_utc\":submission.created_utc, \"id\":submission.id, \"ups\":submission.ups, \"downs\":submission.downs, \"media\": submission.url, \"url\": submission.permalink, \"awards\": submission.all_awardings, \"subreddit\":submission.subreddit_name_prefixed, \"subscribers\": submission.subreddit_subscribers, \"is_nsfw\": submission.over_18}\n",
    "            if (submission.author is not None):\n",
    "                memesDict[\"_default\"][iterator][\"author\"] = submission.author.name \n",
    "            else:\n",
    "                memesDict[\"_default\"][iterator][\"author\"] = \"N/A\"\n",
    "            iterator +=1\n",
    "    return memesDict\n",
    "\n",
    "def make_json_from_dict(meme_dict, sub_name):\n",
    "    with open('./Data/memesDatabase_' + sub_name + '.json', 'w') as json_file:\n",
    "        json.dump(meme_dict, json_file)\n",
    "        \n",
    "def add_cv(meme_dict):\n",
    "    for i in meme_dict[\"_default\"]:\n",
    "        meme_dict[\"_default\"][i][\"cv_image\"] = url_to_cvimage(meme_dict[\"_default\"][i][\"media\"])"
   ]
  },
  {
   "cell_type": "code",
   "execution_count": 29,
   "metadata": {},
   "outputs": [],
   "source": [
    "subreddits = [\"MemeEconomy\", \"memes\", \"me_irl\", \"dank_meme\", \"dankmeme\"]"
   ]
  },
  {
   "cell_type": "code",
   "execution_count": 1,
   "metadata": {},
   "outputs": [
    {
     "ename": "NameError",
     "evalue": "name 'subreddits' is not defined",
     "output_type": "error",
     "traceback": [
      "\u001b[1;31m---------------------------------------------------------------------------\u001b[0m",
      "\u001b[1;31mNameError\u001b[0m                                 Traceback (most recent call last)",
      "\u001b[1;32m<ipython-input-1-5fce90ff993b>\u001b[0m in \u001b[0;36m<module>\u001b[1;34m\u001b[0m\n\u001b[0;32m      1\u001b[0m \u001b[0mmeme_dicts\u001b[0m \u001b[1;33m=\u001b[0m \u001b[1;33m[\u001b[0m\u001b[1;33m]\u001b[0m\u001b[1;33m\u001b[0m\u001b[1;33m\u001b[0m\u001b[0m\n\u001b[1;32m----> 2\u001b[1;33m \u001b[1;32mfor\u001b[0m \u001b[0msub\u001b[0m \u001b[1;32min\u001b[0m \u001b[0msubreddits\u001b[0m\u001b[1;33m:\u001b[0m\u001b[1;33m\u001b[0m\u001b[1;33m\u001b[0m\u001b[0m\n\u001b[0m\u001b[0;32m      3\u001b[0m     \u001b[0mmeme_dicts\u001b[0m\u001b[1;33m.\u001b[0m\u001b[0mappend\u001b[0m\u001b[1;33m(\u001b[0m\u001b[0mmake_dict_from_cache\u001b[0m\u001b[1;33m(\u001b[0m\u001b[0mcache_search_results_by_sub\u001b[0m\u001b[1;33m(\u001b[0m\u001b[0msub\u001b[0m\u001b[1;33m)\u001b[0m\u001b[1;33m)\u001b[0m\u001b[1;33m)\u001b[0m\u001b[1;33m\u001b[0m\u001b[1;33m\u001b[0m\u001b[0m\n",
      "\u001b[1;31mNameError\u001b[0m: name 'subreddits' is not defined"
     ]
    }
   ],
   "source": [
    "meme_dicts = []\n",
    "for sub in subreddits:\n",
    "    meme_dicts.append(make_dict_from_cache(cache_search_results_by_sub(sub)))"
   ]
  },
  {
   "cell_type": "code",
   "execution_count": 2,
   "metadata": {},
   "outputs": [],
   "source": [
    "for i in range(len(meme_dicts)):\n",
    "    make_json_from_dict(meme_dicts[i], subreddits[i])"
   ]
  },
  {
   "cell_type": "code",
   "execution_count": null,
   "metadata": {},
   "outputs": [],
   "source": []
  }
 ],
 "metadata": {
  "kernelspec": {
   "display_name": "Python 3",
   "language": "python",
   "name": "python3"
  },
  "language_info": {
   "codemirror_mode": {
    "name": "ipython",
    "version": 3
   },
   "file_extension": ".py",
   "mimetype": "text/x-python",
   "name": "python",
   "nbconvert_exporter": "python",
   "pygments_lexer": "ipython3",
   "version": "3.7.7"
  }
 },
 "nbformat": 4,
 "nbformat_minor": 2
}
