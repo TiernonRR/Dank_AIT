{
 "cells": [
  {
   "cell_type": "code",
   "execution_count": 1,
   "metadata": {},
   "outputs": [],
   "source": [
    "import pandas as pd\n",
    "import matplotlib.pyplot as plt\n",
    "import seaborn as sns\n",
    "import datetime\n",
    "import numpy as np"
   ]
  },
  {
   "cell_type": "code",
   "execution_count": 2,
   "metadata": {},
   "outputs": [],
   "source": [
    "with open(\"../Data/brokenID.log\", \"r\") as infile:\n",
    "    brokenLinks = infile.readlines()\n",
    "    \n",
    "with open(\"../Data/imgurID.log\", \"r\") as infile:\n",
    "    imgurLinks = infile.readlines()"
   ]
  },
  {
   "cell_type": "code",
   "execution_count": 3,
   "metadata": {},
   "outputs": [
    {
     "data": {
      "text/plain": [
       "(141956, 20)"
      ]
     },
     "execution_count": 3,
     "metadata": {},
     "output_type": "execute_result"
    }
   ],
   "source": [
    "dank_df = pd.read_csv(\"../Data/dank_with_timeOfDay.csv\")\n",
    "dank_df.shape"
   ]
  },
  {
   "cell_type": "code",
   "execution_count": 5,
   "metadata": {},
   "outputs": [
    {
     "data": {
      "text/html": [
       "<div>\n",
       "<style scoped>\n",
       "    .dataframe tbody tr th:only-of-type {\n",
       "        vertical-align: middle;\n",
       "    }\n",
       "\n",
       "    .dataframe tbody tr th {\n",
       "        vertical-align: top;\n",
       "    }\n",
       "\n",
       "    .dataframe thead th {\n",
       "        text-align: right;\n",
       "    }\n",
       "</style>\n",
       "<table border=\"1\" class=\"dataframe\">\n",
       "  <thead>\n",
       "    <tr style=\"text-align: right;\">\n",
       "      <th></th>\n",
       "      <th>index</th>\n",
       "      <th>author</th>\n",
       "      <th>awards</th>\n",
       "      <th>created_utc</th>\n",
       "      <th>downs</th>\n",
       "      <th>id</th>\n",
       "      <th>is_nsfw</th>\n",
       "      <th>media</th>\n",
       "      <th>subreddit</th>\n",
       "      <th>subscribers</th>\n",
       "      <th>thumbnail.height</th>\n",
       "      <th>thumbnail.thumbnail</th>\n",
       "      <th>thumbnail.width</th>\n",
       "      <th>title</th>\n",
       "      <th>ups</th>\n",
       "      <th>url</th>\n",
       "      <th>datetime_temp</th>\n",
       "      <th>time_of_day</th>\n",
       "      <th>ups_normed</th>\n",
       "      <th>dank_level</th>\n",
       "    </tr>\n",
       "  </thead>\n",
       "  <tbody>\n",
       "    <tr>\n",
       "      <th>0</th>\n",
       "      <td>0</td>\n",
       "      <td>vincentpablo</td>\n",
       "      <td>[]</td>\n",
       "      <td>1.584487e+09</td>\n",
       "      <td>0</td>\n",
       "      <td>fkf96w</td>\n",
       "      <td>False</td>\n",
       "      <td>https://www.youtube.com/watch?v=acEOJ7C2S6s&amp;fe...</td>\n",
       "      <td>r/dank_meme</td>\n",
       "      <td>743610</td>\n",
       "      <td>105.0</td>\n",
       "      <td>https://b.thumbs.redditmedia.com/dt29xsF4ZHbMX...</td>\n",
       "      <td>140.0</td>\n",
       "      <td>dank tinder memes</td>\n",
       "      <td>3</td>\n",
       "      <td>/r/dank_meme/comments/fkf96w/dank_tinder_memes/</td>\n",
       "      <td>2020-03-17 18:17:29</td>\n",
       "      <td>4</td>\n",
       "      <td>0.000004</td>\n",
       "      <td>0</td>\n",
       "    </tr>\n",
       "    <tr>\n",
       "      <th>1</th>\n",
       "      <td>1</td>\n",
       "      <td>MrManic_BipolarJesus</td>\n",
       "      <td>[]</td>\n",
       "      <td>1.584487e+09</td>\n",
       "      <td>0</td>\n",
       "      <td>fkf6kd</td>\n",
       "      <td>False</td>\n",
       "      <td>https://i.redd.it/hvwi2hi0fbn41.jpg</td>\n",
       "      <td>r/dank_meme</td>\n",
       "      <td>743610</td>\n",
       "      <td>140.0</td>\n",
       "      <td>default</td>\n",
       "      <td>140.0</td>\n",
       "      <td>It just be that way sometimes</td>\n",
       "      <td>1</td>\n",
       "      <td>/r/dank_meme/comments/fkf6kd/it_just_be_that_w...</td>\n",
       "      <td>2020-03-17 18:12:42</td>\n",
       "      <td>4</td>\n",
       "      <td>0.000001</td>\n",
       "      <td>0</td>\n",
       "    </tr>\n",
       "    <tr>\n",
       "      <th>2</th>\n",
       "      <td>2</td>\n",
       "      <td>NaN</td>\n",
       "      <td>[]</td>\n",
       "      <td>1.584487e+09</td>\n",
       "      <td>0</td>\n",
       "      <td>fkf60g</td>\n",
       "      <td>False</td>\n",
       "      <td>https://i.redd.it/ccgz89wxebn41.png</td>\n",
       "      <td>r/dank_meme</td>\n",
       "      <td>743610</td>\n",
       "      <td>140.0</td>\n",
       "      <td>default</td>\n",
       "      <td>140.0</td>\n",
       "      <td>True story</td>\n",
       "      <td>1</td>\n",
       "      <td>/r/dank_meme/comments/fkf60g/true_story/</td>\n",
       "      <td>2020-03-17 18:11:42</td>\n",
       "      <td>4</td>\n",
       "      <td>0.000001</td>\n",
       "      <td>0</td>\n",
       "    </tr>\n",
       "    <tr>\n",
       "      <th>3</th>\n",
       "      <td>3</td>\n",
       "      <td>andromedacomp</td>\n",
       "      <td>[]</td>\n",
       "      <td>1.584487e+09</td>\n",
       "      <td>0</td>\n",
       "      <td>fkf5n5</td>\n",
       "      <td>False</td>\n",
       "      <td>https://i.redd.it/ndydkhwsman41.jpg</td>\n",
       "      <td>r/dank_meme</td>\n",
       "      <td>743610</td>\n",
       "      <td>140.0</td>\n",
       "      <td>https://b.thumbs.redditmedia.com/EzbMKRx8VI20u...</td>\n",
       "      <td>140.0</td>\n",
       "      <td>The time has come for the barter of pandemic d...</td>\n",
       "      <td>27</td>\n",
       "      <td>/r/dank_meme/comments/fkf5n5/the_time_has_come...</td>\n",
       "      <td>2020-03-17 18:11:06</td>\n",
       "      <td>4</td>\n",
       "      <td>0.000036</td>\n",
       "      <td>0</td>\n",
       "    </tr>\n",
       "    <tr>\n",
       "      <th>4</th>\n",
       "      <td>4</td>\n",
       "      <td>Svagerman</td>\n",
       "      <td>[]</td>\n",
       "      <td>1.584486e+09</td>\n",
       "      <td>0</td>\n",
       "      <td>fkezoq</td>\n",
       "      <td>False</td>\n",
       "      <td>https://i.redd.it/43710pqzcbn41.jpg</td>\n",
       "      <td>r/dank_meme</td>\n",
       "      <td>743610</td>\n",
       "      <td>134.0</td>\n",
       "      <td>default</td>\n",
       "      <td>140.0</td>\n",
       "      <td>Day 10 of quarantine</td>\n",
       "      <td>1</td>\n",
       "      <td>/r/dank_meme/comments/fkezoq/day_10_of_quarant...</td>\n",
       "      <td>2020-03-17 18:00:44</td>\n",
       "      <td>4</td>\n",
       "      <td>0.000001</td>\n",
       "      <td>0</td>\n",
       "    </tr>\n",
       "  </tbody>\n",
       "</table>\n",
       "</div>"
      ],
      "text/plain": [
       "   index                author awards   created_utc  downs      id  is_nsfw  \\\n",
       "0      0          vincentpablo     []  1.584487e+09      0  fkf96w    False   \n",
       "1      1  MrManic_BipolarJesus     []  1.584487e+09      0  fkf6kd    False   \n",
       "2      2                   NaN     []  1.584487e+09      0  fkf60g    False   \n",
       "3      3         andromedacomp     []  1.584487e+09      0  fkf5n5    False   \n",
       "4      4             Svagerman     []  1.584486e+09      0  fkezoq    False   \n",
       "\n",
       "                                               media    subreddit  \\\n",
       "0  https://www.youtube.com/watch?v=acEOJ7C2S6s&fe...  r/dank_meme   \n",
       "1                https://i.redd.it/hvwi2hi0fbn41.jpg  r/dank_meme   \n",
       "2                https://i.redd.it/ccgz89wxebn41.png  r/dank_meme   \n",
       "3                https://i.redd.it/ndydkhwsman41.jpg  r/dank_meme   \n",
       "4                https://i.redd.it/43710pqzcbn41.jpg  r/dank_meme   \n",
       "\n",
       "   subscribers  thumbnail.height  \\\n",
       "0       743610             105.0   \n",
       "1       743610             140.0   \n",
       "2       743610             140.0   \n",
       "3       743610             140.0   \n",
       "4       743610             134.0   \n",
       "\n",
       "                                 thumbnail.thumbnail  thumbnail.width  \\\n",
       "0  https://b.thumbs.redditmedia.com/dt29xsF4ZHbMX...            140.0   \n",
       "1                                            default            140.0   \n",
       "2                                            default            140.0   \n",
       "3  https://b.thumbs.redditmedia.com/EzbMKRx8VI20u...            140.0   \n",
       "4                                            default            140.0   \n",
       "\n",
       "                                               title  ups  \\\n",
       "0                                  dank tinder memes    3   \n",
       "1                      It just be that way sometimes    1   \n",
       "2                                         True story    1   \n",
       "3  The time has come for the barter of pandemic d...   27   \n",
       "4                               Day 10 of quarantine    1   \n",
       "\n",
       "                                                 url        datetime_temp  \\\n",
       "0    /r/dank_meme/comments/fkf96w/dank_tinder_memes/  2020-03-17 18:17:29   \n",
       "1  /r/dank_meme/comments/fkf6kd/it_just_be_that_w...  2020-03-17 18:12:42   \n",
       "2           /r/dank_meme/comments/fkf60g/true_story/  2020-03-17 18:11:42   \n",
       "3  /r/dank_meme/comments/fkf5n5/the_time_has_come...  2020-03-17 18:11:06   \n",
       "4  /r/dank_meme/comments/fkezoq/day_10_of_quarant...  2020-03-17 18:00:44   \n",
       "\n",
       "   time_of_day  ups_normed  dank_level  \n",
       "0            4    0.000004           0  \n",
       "1            4    0.000001           0  \n",
       "2            4    0.000001           0  \n",
       "3            4    0.000036           0  \n",
       "4            4    0.000001           0  "
      ]
     },
     "execution_count": 5,
     "metadata": {},
     "output_type": "execute_result"
    }
   ],
   "source": [
    "dank_df.head()"
   ]
  },
  {
   "cell_type": "code",
   "execution_count": 4,
   "metadata": {},
   "outputs": [
    {
     "ename": "KeyboardInterrupt",
     "evalue": "",
     "output_type": "error",
     "traceback": [
      "\u001b[1;31m---------------------------------------------------------------------------\u001b[0m",
      "\u001b[1;31mKeyboardInterrupt\u001b[0m                         Traceback (most recent call last)",
      "\u001b[1;32m<ipython-input-4-46e1a6391f5d>\u001b[0m in \u001b[0;36m<module>\u001b[1;34m\u001b[0m\n\u001b[0;32m      1\u001b[0m \u001b[1;32mfor\u001b[0m \u001b[0mID\u001b[0m \u001b[1;32min\u001b[0m \u001b[0mbrokenLinks\u001b[0m\u001b[1;33m:\u001b[0m\u001b[1;33m\u001b[0m\u001b[1;33m\u001b[0m\u001b[0m\n\u001b[1;32m----> 2\u001b[1;33m     \u001b[0mdank_df\u001b[0m \u001b[1;33m=\u001b[0m \u001b[0mdank_df\u001b[0m\u001b[1;33m.\u001b[0m\u001b[0mdrop\u001b[0m\u001b[1;33m(\u001b[0m\u001b[0mdank_df\u001b[0m\u001b[1;33m.\u001b[0m\u001b[0mloc\u001b[0m\u001b[1;33m[\u001b[0m\u001b[0mdank_df\u001b[0m\u001b[1;33m[\u001b[0m\u001b[1;34m'id'\u001b[0m\u001b[1;33m]\u001b[0m \u001b[1;33m==\u001b[0m \u001b[0mID\u001b[0m\u001b[1;33m.\u001b[0m\u001b[0mstrip\u001b[0m\u001b[1;33m(\u001b[0m\u001b[1;34m'\\n'\u001b[0m\u001b[1;33m)\u001b[0m\u001b[1;33m]\u001b[0m\u001b[1;33m.\u001b[0m\u001b[0mindex\u001b[0m\u001b[1;33m)\u001b[0m\u001b[1;33m\u001b[0m\u001b[1;33m\u001b[0m\u001b[0m\n\u001b[0m",
      "\u001b[1;32m~\\anaconda3\\lib\\site-packages\\pandas\\core\\indexing.py\u001b[0m in \u001b[0;36m__getitem__\u001b[1;34m(self, key)\u001b[0m\n\u001b[0;32m   1766\u001b[0m \u001b[1;33m\u001b[0m\u001b[0m\n\u001b[0;32m   1767\u001b[0m             \u001b[0mmaybe_callable\u001b[0m \u001b[1;33m=\u001b[0m \u001b[0mcom\u001b[0m\u001b[1;33m.\u001b[0m\u001b[0mapply_if_callable\u001b[0m\u001b[1;33m(\u001b[0m\u001b[0mkey\u001b[0m\u001b[1;33m,\u001b[0m \u001b[0mself\u001b[0m\u001b[1;33m.\u001b[0m\u001b[0mobj\u001b[0m\u001b[1;33m)\u001b[0m\u001b[1;33m\u001b[0m\u001b[1;33m\u001b[0m\u001b[0m\n\u001b[1;32m-> 1768\u001b[1;33m             \u001b[1;32mreturn\u001b[0m \u001b[0mself\u001b[0m\u001b[1;33m.\u001b[0m\u001b[0m_getitem_axis\u001b[0m\u001b[1;33m(\u001b[0m\u001b[0mmaybe_callable\u001b[0m\u001b[1;33m,\u001b[0m \u001b[0maxis\u001b[0m\u001b[1;33m=\u001b[0m\u001b[0maxis\u001b[0m\u001b[1;33m)\u001b[0m\u001b[1;33m\u001b[0m\u001b[1;33m\u001b[0m\u001b[0m\n\u001b[0m\u001b[0;32m   1769\u001b[0m \u001b[1;33m\u001b[0m\u001b[0m\n\u001b[0;32m   1770\u001b[0m     \u001b[1;32mdef\u001b[0m \u001b[0m_is_scalar_access\u001b[0m\u001b[1;33m(\u001b[0m\u001b[0mself\u001b[0m\u001b[1;33m,\u001b[0m \u001b[0mkey\u001b[0m\u001b[1;33m:\u001b[0m \u001b[0mTuple\u001b[0m\u001b[1;33m)\u001b[0m\u001b[1;33m:\u001b[0m\u001b[1;33m\u001b[0m\u001b[1;33m\u001b[0m\u001b[0m\n",
      "\u001b[1;32m~\\anaconda3\\lib\\site-packages\\pandas\\core\\indexing.py\u001b[0m in \u001b[0;36m_getitem_axis\u001b[1;34m(self, key, axis)\u001b[0m\n\u001b[0;32m   1912\u001b[0m             \u001b[1;32mreturn\u001b[0m \u001b[0mself\u001b[0m\u001b[1;33m.\u001b[0m\u001b[0m_get_slice_axis\u001b[0m\u001b[1;33m(\u001b[0m\u001b[0mkey\u001b[0m\u001b[1;33m,\u001b[0m \u001b[0maxis\u001b[0m\u001b[1;33m=\u001b[0m\u001b[0maxis\u001b[0m\u001b[1;33m)\u001b[0m\u001b[1;33m\u001b[0m\u001b[1;33m\u001b[0m\u001b[0m\n\u001b[0;32m   1913\u001b[0m         \u001b[1;32melif\u001b[0m \u001b[0mcom\u001b[0m\u001b[1;33m.\u001b[0m\u001b[0mis_bool_indexer\u001b[0m\u001b[1;33m(\u001b[0m\u001b[0mkey\u001b[0m\u001b[1;33m)\u001b[0m\u001b[1;33m:\u001b[0m\u001b[1;33m\u001b[0m\u001b[1;33m\u001b[0m\u001b[0m\n\u001b[1;32m-> 1914\u001b[1;33m             \u001b[1;32mreturn\u001b[0m \u001b[0mself\u001b[0m\u001b[1;33m.\u001b[0m\u001b[0m_getbool_axis\u001b[0m\u001b[1;33m(\u001b[0m\u001b[0mkey\u001b[0m\u001b[1;33m,\u001b[0m \u001b[0maxis\u001b[0m\u001b[1;33m=\u001b[0m\u001b[0maxis\u001b[0m\u001b[1;33m)\u001b[0m\u001b[1;33m\u001b[0m\u001b[1;33m\u001b[0m\u001b[0m\n\u001b[0m\u001b[0;32m   1915\u001b[0m         \u001b[1;32melif\u001b[0m \u001b[0mis_list_like_indexer\u001b[0m\u001b[1;33m(\u001b[0m\u001b[0mkey\u001b[0m\u001b[1;33m)\u001b[0m\u001b[1;33m:\u001b[0m\u001b[1;33m\u001b[0m\u001b[1;33m\u001b[0m\u001b[0m\n\u001b[0;32m   1916\u001b[0m \u001b[1;33m\u001b[0m\u001b[0m\n",
      "\u001b[1;32m~\\anaconda3\\lib\\site-packages\\pandas\\core\\indexing.py\u001b[0m in \u001b[0;36m_getbool_axis\u001b[1;34m(self, key, axis)\u001b[0m\n\u001b[0;32m   1781\u001b[0m         \u001b[0mlabels\u001b[0m \u001b[1;33m=\u001b[0m \u001b[0mself\u001b[0m\u001b[1;33m.\u001b[0m\u001b[0mobj\u001b[0m\u001b[1;33m.\u001b[0m\u001b[0m_get_axis\u001b[0m\u001b[1;33m(\u001b[0m\u001b[0maxis\u001b[0m\u001b[1;33m)\u001b[0m\u001b[1;33m\u001b[0m\u001b[1;33m\u001b[0m\u001b[0m\n\u001b[0;32m   1782\u001b[0m         \u001b[0mkey\u001b[0m \u001b[1;33m=\u001b[0m \u001b[0mcheck_bool_indexer\u001b[0m\u001b[1;33m(\u001b[0m\u001b[0mlabels\u001b[0m\u001b[1;33m,\u001b[0m \u001b[0mkey\u001b[0m\u001b[1;33m)\u001b[0m\u001b[1;33m\u001b[0m\u001b[1;33m\u001b[0m\u001b[0m\n\u001b[1;32m-> 1783\u001b[1;33m         \u001b[0minds\u001b[0m \u001b[1;33m=\u001b[0m \u001b[0mkey\u001b[0m\u001b[1;33m.\u001b[0m\u001b[0mnonzero\u001b[0m\u001b[1;33m(\u001b[0m\u001b[1;33m)\u001b[0m\u001b[1;33m[\u001b[0m\u001b[1;36m0\u001b[0m\u001b[1;33m]\u001b[0m\u001b[1;33m\u001b[0m\u001b[1;33m\u001b[0m\u001b[0m\n\u001b[0m\u001b[0;32m   1784\u001b[0m         \u001b[1;32mreturn\u001b[0m \u001b[0mself\u001b[0m\u001b[1;33m.\u001b[0m\u001b[0mobj\u001b[0m\u001b[1;33m.\u001b[0m\u001b[0m_take_with_is_copy\u001b[0m\u001b[1;33m(\u001b[0m\u001b[0minds\u001b[0m\u001b[1;33m,\u001b[0m \u001b[0maxis\u001b[0m\u001b[1;33m=\u001b[0m\u001b[0maxis\u001b[0m\u001b[1;33m)\u001b[0m\u001b[1;33m\u001b[0m\u001b[1;33m\u001b[0m\u001b[0m\n\u001b[0;32m   1785\u001b[0m \u001b[1;33m\u001b[0m\u001b[0m\n",
      "\u001b[1;31mKeyboardInterrupt\u001b[0m: "
     ]
    }
   ],
   "source": [
    "for ID in brokenLinks:\n",
    "    dank_df = dank_df.drop(dank_df.loc[dank_df['id'] == ID.strip('\\n')].index)"
   ]
  },
  {
   "cell_type": "code",
   "execution_count": 19,
   "metadata": {},
   "outputs": [
    {
     "data": {
      "text/plain": [
       "(75545, 20)"
      ]
     },
     "execution_count": 19,
     "metadata": {},
     "output_type": "execute_result"
    }
   ],
   "source": [
    "dank_df.shape"
   ]
  },
  {
   "cell_type": "code",
   "execution_count": 22,
   "metadata": {},
   "outputs": [],
   "source": [
    "dank_df.to_csv(r'../Data/dank_removed_deadLinks.csv', index = False)"
   ]
  },
  {
   "cell_type": "code",
   "execution_count": null,
   "metadata": {},
   "outputs": [],
   "source": []
  }
 ],
 "metadata": {
  "kernelspec": {
   "display_name": "Python 3",
   "language": "python",
   "name": "python3"
  },
  "language_info": {
   "codemirror_mode": {
    "name": "ipython",
    "version": 3
   },
   "file_extension": ".py",
   "mimetype": "text/x-python",
   "name": "python",
   "nbconvert_exporter": "python",
   "pygments_lexer": "ipython3",
   "version": "3.8.3"
  }
 },
 "nbformat": 4,
 "nbformat_minor": 4
}
