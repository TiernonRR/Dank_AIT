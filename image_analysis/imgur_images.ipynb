{
 "cells": [
  {
   "cell_type": "code",
   "execution_count": 1,
   "metadata": {},
   "outputs": [
    {
     "name": "stdout",
     "output_type": "stream",
     "text": [
      "Collecting imgur-downloader\n",
      "  Downloading imgur_downloader-0.2.2.tar.gz (15 kB)\n",
      "Requirement already satisfied: click in c:\\users\\tiern\\anaconda3\\lib\\site-packages (from imgur-downloader) (7.0)\n",
      "Building wheels for collected packages: imgur-downloader\n",
      "  Building wheel for imgur-downloader (setup.py): started\n",
      "  Building wheel for imgur-downloader (setup.py): finished with status 'done'\n",
      "  Created wheel for imgur-downloader: filename=imgur_downloader-0.2.2-py3-none-any.whl size=14019 sha256=ebac63f55a4a95d73629fed50799f11ff295bb425788d5c98a7aa66a011ecd1b\n",
      "  Stored in directory: c:\\users\\tiern\\appdata\\local\\pip\\cache\\wheels\\d2\\e9\\9d\\e453f7abc825be4c76749e2578b99c03855cb872a01244d76b\n",
      "Successfully built imgur-downloader\n",
      "Installing collected packages: imgur-downloader\n",
      "Successfully installed imgur-downloader-0.2.2\n"
     ]
    }
   ],
   "source": [
    "!pip install imgur-downloader"
   ]
  },
  {
   "cell_type": "code",
   "execution_count": 6,
   "metadata": {},
   "outputs": [],
   "source": [
    "import imgur_downloader"
   ]
  },
  {
   "cell_type": "code",
   "execution_count": 9,
   "metadata": {},
   "outputs": [
    {
     "name": "stdout",
     "output_type": "stream",
     "text": [
      "imgur_link_type: gallery/\n",
      "main key: gPpzo5n\n",
      "album_title: sampleImage\n",
      "imageIDs count: 1\n",
      "imageIDs:\n",
      "[('jx5PIjV', '.jpg')]\n",
      "[ImgurDownloader] Warning: DNE image not found at C:\\Users\\tiern\\anaconda3\\lib\\site-packages\\imgur_downloader\\imgur-dne.png\n"
     ]
    },
    {
     "data": {
      "text/plain": [
       "(['sampleImage.jpg'], 0)"
      ]
     },
     "execution_count": 9,
     "metadata": {},
     "output_type": "execute_result"
    }
   ],
   "source": [
    "imgur_downloader.ImgurDownloader(\n",
    "    'https://imgur.com/gallery/gPpzo5n', '../Images/','sampleImage',delete_dne=True, debug=True\n",
    ").save_images()"
   ]
  },
  {
   "cell_type": "code",
   "execution_count": null,
   "metadata": {},
   "outputs": [],
   "source": []
  }
 ],
 "metadata": {
  "kernelspec": {
   "display_name": "Python 3",
   "language": "python",
   "name": "python3"
  },
  "language_info": {
   "codemirror_mode": {
    "name": "ipython",
    "version": 3
   },
   "file_extension": ".py",
   "mimetype": "text/x-python",
   "name": "python",
   "nbconvert_exporter": "python",
   "pygments_lexer": "ipython3",
   "version": "3.7.6"
  }
 },
 "nbformat": 4,
 "nbformat_minor": 4
}
