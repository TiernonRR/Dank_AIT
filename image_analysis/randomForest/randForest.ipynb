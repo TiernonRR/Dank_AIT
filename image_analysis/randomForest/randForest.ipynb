{
 "cells": [
  {
   "cell_type": "code",
   "execution_count": 20,
   "metadata": {},
   "outputs": [],
   "source": [
    "## data preparation and random forest model training + prediction\n",
    "import pandas as pd\n",
    "import numpy as np\n",
    "import matplotlib.pyplot as plt"
   ]
  },
  {
   "cell_type": "code",
   "execution_count": 21,
   "metadata": {},
   "outputs": [
    {
     "data": {
      "text/plain": [
       "0       r/dank_meme\n",
       "1       r/dank_meme\n",
       "2       r/dank_meme\n",
       "3       r/dank_meme\n",
       "4       r/dank_meme\n",
       "           ...     \n",
       "5577        r/memes\n",
       "5578        r/memes\n",
       "5579        r/memes\n",
       "5580        r/memes\n",
       "5581        r/memes\n",
       "Name: subreddit, Length: 5582, dtype: object"
      ]
     },
     "execution_count": 21,
     "metadata": {},
     "output_type": "execute_result"
    }
   ],
   "source": [
    "df = pd.read_json ('./partial_dank_cleaned.json')\n",
    "df['subreddit']"
   ]
  },
  {
   "cell_type": "code",
   "execution_count": 22,
   "metadata": {},
   "outputs": [],
   "source": [
    "# common labels from vgg - image content, to combine, found by searching most common words with functions in next cell\n",
    "animals = ['animals','Chihuahua', 'Sussex_spaniel','Scotch_terrier','white_wolf','teddy','Pomeranian','pug','Pekinese',\n",
    "          'golden_retriever','grey_whale','platypus','Great_Dane','borzoi','toy_terrier','Egyptian_cat','jellyfish',\n",
    "          'Siamese_cat','Persian_cat','Indian_cobra','tiger_cat','eel','brown_bear','wire-haired_fox_terrier',\n",
    "          'Bouvier_des_Flandres','proboscis_monkey','goose','cabbage_butterfly','tailed_frog','American_egret',\n",
    "          'goose','sea_snake','tiger','ice_bear','goldfish','Lakeland_terrier','weasel',\n",
    "          'Labrador_retriever','tabby','house_finch','grey_fox','Siberian_husky','leafhopper','traffic_light',\n",
    "          'Boston_bull','king_penguin','beaver','Samoyed','Saint_Bernard','Arabian_camel','ibex','guinea_pig',\n",
    "          'Kerry_blue_terrier','badger','bloodhound']\n",
    "\n",
    "formatted = ['formatted','book_jacket', 'comic_book', 'web_site', 'scoreboard', 'menu', 'notebook','jigsaw_puzzle',\n",
    "            'crossword_puzzle']\n",
    "\n",
    "tech = ['tech','hand-held_computer','computer_keyboard','remote_control','iPod','joystick','microphone','television',\n",
    "       'printer','refrigerator','cellular_telephone','laptop','oscilloscope','CD_player','stethoscope',\n",
    "       'desktop_computer','analog_clock','screen','projector','tape_player','soap_dispenser','sewing_machine',\n",
    "       'photocopier','vending_machine','Polaroid_camera']\n",
    "\n",
    "sports = ['sports','basketball', 'golf_ball','ping-pong_ball','unicycle','racket','volleyball','ski','tricycle',\n",
    "          'ballplayer']\n",
    "\n",
    "violent = ['violent','bulletproof_vest','revolver','assault_rifle','rifle','power_drill']\n",
    "\n",
    "vehicle = ['vehicle','airship','garbage_truck','golfcart', 'tractor','forklift'] \n",
    "\n",
    "mask = ['mask','ski_mask','oxygen_mask','gasmask'] \n",
    "\n",
    "uniforms = ['uniforms','suit','academic_gown','jersey','lab_coat']"
   ]
  },
  {
   "cell_type": "code",
   "execution_count": 23,
   "metadata": {},
   "outputs": [],
   "source": [
    "## the following functions can be used to sort the categorical attributes (vgg identified image content and processed\n",
    "## words from imaged)\n",
    "\n",
    "# function counts occurrences of certain words in feature (to identify the most common)\n",
    "def getCategoryCounts(all_features):\n",
    "    common_categories = []; counts = []\n",
    "    for f1 in all_features:\n",
    "        for row in f1:\n",
    "            if (common_categories.count(row) == 0):\n",
    "                common_categories.append(row); counts.append(1)\n",
    "            else:\n",
    "                counts[common_categories.index(row)] += 1\n",
    "    return common_categories, counts\n",
    "\n",
    "# returns the most common categories\n",
    "def commonCategoriesPlotObj(common_categories, counts):\n",
    "    counts_to_plot = [max(counts)]; categories_to_plot = [common_categories[counts.index(max(counts))]]\n",
    "    for i in range(0,60):\n",
    "        # eliminate the maximum count from the list\n",
    "        counts = list(filter((max(counts)).__ne__, counts))\n",
    "        common_categories = list(filter((common_categories[counts.index(max(counts))]).__ne__, common_categories))\n",
    "        # if it is not already stored, store the next maximum in the plot lists\n",
    "        if (categories_to_plot.count(common_categories[counts.index(max(counts))]) == 0):\n",
    "               counts_to_plot.append(max(counts)); categories_to_plot.append(common_categories[counts.index(max(counts))])\n",
    "    return counts_to_plot, categories_to_plot\n",
    "\n",
    "# function combines features (parameter) with the categories found\n",
    "def combineTerms(feature,list_):\n",
    "    f = list(feature) \n",
    "    for i in range(0,len(list_)):\n",
    "        consider = list_[i]\n",
    "        for j in range(0,len(consider)):\n",
    "            while (f.count(consider[j]) > 0):\n",
    "                f[f.index(consider[j])] = consider[0]\n",
    "    return f\n",
    "\n",
    "# test functions / get vars for the vgg identified image content\n",
    "list_ = [animals,uniforms,vehicle,formatted,sports,violent,tech]\n",
    "f1 = combineTerms(df['vgg_feature_1'],list_); f2 = combineTerms(df['vgg_feature_2'],list_); f3 = combineTerms(df['vgg_feature_3'],list_)\n",
    "common_categories, counts = getCategoryCounts([f1,f2,f3])\n",
    "counts_to_plot, categories_to_plot = commonCategoriesPlotObj(common_categories,counts)"
   ]
  },
  {
   "cell_type": "code",
   "execution_count": 24,
   "metadata": {},
   "outputs": [
    {
     "data": {
      "text/html": [
       "<div>\n",
       "<style scoped>\n",
       "    .dataframe tbody tr th:only-of-type {\n",
       "        vertical-align: middle;\n",
       "    }\n",
       "\n",
       "    .dataframe tbody tr th {\n",
       "        vertical-align: top;\n",
       "    }\n",
       "\n",
       "    .dataframe thead th {\n",
       "        text-align: right;\n",
       "    }\n",
       "</style>\n",
       "<table border=\"1\" class=\"dataframe\">\n",
       "  <thead>\n",
       "    <tr style=\"text-align: right;\">\n",
       "      <th></th>\n",
       "      <th>author_x</th>\n",
       "      <th>awards</th>\n",
       "      <th>created_utc</th>\n",
       "      <th>text_from_image</th>\n",
       "      <th>words</th>\n",
       "      <th>processed_words_x</th>\n",
       "      <th>downs</th>\n",
       "      <th>id</th>\n",
       "      <th>is_nsfw</th>\n",
       "      <th>media</th>\n",
       "      <th>...</th>\n",
       "      <th>TextLength</th>\n",
       "      <th>Sentiment</th>\n",
       "      <th>formatted</th>\n",
       "      <th>tech</th>\n",
       "      <th>envelope</th>\n",
       "      <th>animals</th>\n",
       "      <th>uniforms</th>\n",
       "      <th>monitor</th>\n",
       "      <th>sports</th>\n",
       "      <th>violent</th>\n",
       "    </tr>\n",
       "  </thead>\n",
       "  <tbody>\n",
       "    <tr>\n",
       "      <td>0</td>\n",
       "      <td>L71U</td>\n",
       "      <td>[]</td>\n",
       "      <td>1584295514</td>\n",
       "      <td>NICE DICK\\r\\n</td>\n",
       "      <td>Ricardo😎NICE DICK\\r\\n</td>\n",
       "      <td>[ricardo, nice, dick]</td>\n",
       "      <td>0</td>\n",
       "      <td>fj5ixk</td>\n",
       "      <td>False</td>\n",
       "      <td>https://i.redd.it/w6acm47gmvm41.jpg</td>\n",
       "      <td>...</td>\n",
       "      <td>17</td>\n",
       "      <td>0.51</td>\n",
       "      <td>1</td>\n",
       "      <td>0</td>\n",
       "      <td>0</td>\n",
       "      <td>0</td>\n",
       "      <td>0</td>\n",
       "      <td>0</td>\n",
       "      <td>0</td>\n",
       "      <td>0</td>\n",
       "    </tr>\n",
       "    <tr>\n",
       "      <td>1</td>\n",
       "      <td>Awesome-ness5</td>\n",
       "      <td>[]</td>\n",
       "      <td>1584294841</td>\n",
       "      <td>Nvidia's calling on gaming PC owners to\\r\\nput...</td>\n",
       "      <td>Gamers AssembleNvidia's calling on gaming PC o...</td>\n",
       "      <td>[gamer, assemblenvidia, call, game, owner, sys...</td>\n",
       "      <td>0</td>\n",
       "      <td>fj5bzj</td>\n",
       "      <td>False</td>\n",
       "      <td>https://i.redd.it/bqawbb5gkvm41.jpg</td>\n",
       "      <td>...</td>\n",
       "      <td>117</td>\n",
       "      <td>0.43</td>\n",
       "      <td>1</td>\n",
       "      <td>0</td>\n",
       "      <td>0</td>\n",
       "      <td>0</td>\n",
       "      <td>0</td>\n",
       "      <td>0</td>\n",
       "      <td>0</td>\n",
       "      <td>0</td>\n",
       "    </tr>\n",
       "    <tr>\n",
       "      <td>2</td>\n",
       "      <td>notaspop</td>\n",
       "      <td>[]</td>\n",
       "      <td>1584293653</td>\n",
       "      <td>When you post a low-effort meme\\r\\nfor fun to ...</td>\n",
       "      <td>I mean.... Not Corona time?When you post a low...</td>\n",
       "      <td>[mean, corona, time, post, effort, meme, peopl...</td>\n",
       "      <td>0</td>\n",
       "      <td>fj50df</td>\n",
       "      <td>False</td>\n",
       "      <td>https://i.redd.it/v5pea6wwgvm41.jpg</td>\n",
       "      <td>...</td>\n",
       "      <td>300</td>\n",
       "      <td>0.19</td>\n",
       "      <td>1</td>\n",
       "      <td>1</td>\n",
       "      <td>0</td>\n",
       "      <td>0</td>\n",
       "      <td>0</td>\n",
       "      <td>0</td>\n",
       "      <td>0</td>\n",
       "      <td>0</td>\n",
       "    </tr>\n",
       "    <tr>\n",
       "      <td>3</td>\n",
       "      <td>In_An_Elmo_Cult</td>\n",
       "      <td>[]</td>\n",
       "      <td>1584293448</td>\n",
       "      <td>All of the internet:\\r\\nHe •I've seen this one...</td>\n",
       "      <td>.All of the internet:\\r\\nHe •I've seen this on...</td>\n",
       "      <td>[internet, see, internet, explor, whatdo, mean...</td>\n",
       "      <td>0</td>\n",
       "      <td>fj4ycc</td>\n",
       "      <td>False</td>\n",
       "      <td>https://i.redd.it/hakptfr2gvm41.png</td>\n",
       "      <td>...</td>\n",
       "      <td>121</td>\n",
       "      <td>0.44</td>\n",
       "      <td>1</td>\n",
       "      <td>0</td>\n",
       "      <td>0</td>\n",
       "      <td>0</td>\n",
       "      <td>0</td>\n",
       "      <td>0</td>\n",
       "      <td>0</td>\n",
       "      <td>0</td>\n",
       "    </tr>\n",
       "    <tr>\n",
       "      <td>4</td>\n",
       "      <td>brutalsam</td>\n",
       "      <td>[]</td>\n",
       "      <td>1584292201</td>\n",
       "      <td>Humans: we should prevent this virus from spre...</td>\n",
       "      <td>one day humans will be the reason of their ext...</td>\n",
       "      <td>[human, reason, prevent, virus, spread, human,...</td>\n",
       "      <td>0</td>\n",
       "      <td>fj4m0x</td>\n",
       "      <td>False</td>\n",
       "      <td>https://i.redd.it/4apsvkjgcvm41.jpg</td>\n",
       "      <td>...</td>\n",
       "      <td>165</td>\n",
       "      <td>0.43</td>\n",
       "      <td>0</td>\n",
       "      <td>0</td>\n",
       "      <td>0</td>\n",
       "      <td>0</td>\n",
       "      <td>0</td>\n",
       "      <td>0</td>\n",
       "      <td>0</td>\n",
       "      <td>0</td>\n",
       "    </tr>\n",
       "  </tbody>\n",
       "</table>\n",
       "<p>5 rows × 63 columns</p>\n",
       "</div>"
      ],
      "text/plain": [
       "          author_x awards  created_utc  \\\n",
       "0             L71U     []   1584295514   \n",
       "1    Awesome-ness5     []   1584294841   \n",
       "2         notaspop     []   1584293653   \n",
       "3  In_An_Elmo_Cult     []   1584293448   \n",
       "4        brutalsam     []   1584292201   \n",
       "\n",
       "                                     text_from_image  \\\n",
       "0                                      NICE DICK\\r\\n   \n",
       "1  Nvidia's calling on gaming PC owners to\\r\\nput...   \n",
       "2  When you post a low-effort meme\\r\\nfor fun to ...   \n",
       "3  All of the internet:\\r\\nHe •I've seen this one...   \n",
       "4  Humans: we should prevent this virus from spre...   \n",
       "\n",
       "                                               words  \\\n",
       "0                              Ricardo😎NICE DICK\\r\\n   \n",
       "1  Gamers AssembleNvidia's calling on gaming PC o...   \n",
       "2  I mean.... Not Corona time?When you post a low...   \n",
       "3  .All of the internet:\\r\\nHe •I've seen this on...   \n",
       "4  one day humans will be the reason of their ext...   \n",
       "\n",
       "                                   processed_words_x  downs      id  is_nsfw  \\\n",
       "0                              [ricardo, nice, dick]      0  fj5ixk    False   \n",
       "1  [gamer, assemblenvidia, call, game, owner, sys...      0  fj5bzj    False   \n",
       "2  [mean, corona, time, post, effort, meme, peopl...      0  fj50df    False   \n",
       "3  [internet, see, internet, explor, whatdo, mean...      0  fj4ycc    False   \n",
       "4  [human, reason, prevent, virus, spread, human,...      0  fj4m0x    False   \n",
       "\n",
       "                                 media  ... TextLength  Sentiment  formatted  \\\n",
       "0  https://i.redd.it/w6acm47gmvm41.jpg  ...         17       0.51          1   \n",
       "1  https://i.redd.it/bqawbb5gkvm41.jpg  ...        117       0.43          1   \n",
       "2  https://i.redd.it/v5pea6wwgvm41.jpg  ...        300       0.19          1   \n",
       "3  https://i.redd.it/hakptfr2gvm41.png  ...        121       0.44          1   \n",
       "4  https://i.redd.it/4apsvkjgcvm41.jpg  ...        165       0.43          0   \n",
       "\n",
       "  tech  envelope animals  uniforms monitor  sports  violent  \n",
       "0    0         0       0         0       0       0        0  \n",
       "1    0         0       0         0       0       0        0  \n",
       "2    1         0       0         0       0       0        0  \n",
       "3    0         0       0         0       0       0        0  \n",
       "4    0         0       0         0       0       0        0  \n",
       "\n",
       "[5 rows x 63 columns]"
      ]
     },
     "execution_count": 24,
     "metadata": {},
     "output_type": "execute_result"
    }
   ],
   "source": [
    "# one-hot encode it\n",
    "def oneHotEncode(f1, categories_to_plot):\n",
    "    hot_encoded = []\n",
    "    for i in range(0,len(f1)):\n",
    "        hot_encoded.append([0,0,0,0,0,0,0,0])\n",
    "        for j in range(0,len(categories_to_plot[0:8])):\n",
    "            if (f1[i] == categories_to_plot[j]) or (f2[i] == categories_to_plot[j]) or (f3[i] == categories_to_plot[j]):\n",
    "                hot_encoded[i][j] = 1 \n",
    "                # note: binary 0/1 could be replaced with the vgg probability\n",
    "    return hot_encoded\n",
    "\n",
    "# check and store\n",
    "hot_encoded = oneHotEncode(f1,categories_to_plot)\n",
    "for j in range(0,len(categories_to_plot[0:8])):\n",
    "    df[categories_to_plot[j]] = [row[j] for row in hot_encoded]\n",
    "df.head()"
   ]
  },
  {
   "cell_type": "code",
   "execution_count": 25,
   "metadata": {},
   "outputs": [
    {
     "data": {
      "text/plain": [
       "Index(['author_x', 'awards', 'created_utc', 'text_from_image', 'words',\n",
       "       'processed_words_x', 'downs', 'id', 'is_nsfw', 'media', 'subreddit',\n",
       "       'subscribers_x', 'thumbnail.height', 'thumbnail.thumbnail',\n",
       "       'thumbnail.width', 'title', 'ups_x', 'url', 'avg_hue', 'avg_saturation',\n",
       "       'avg_value', 'avg_redRGB', 'avg_greenRGB', 'avg_blueRGB', 'avg_tan',\n",
       "       'avg_orange', 'vgg_general', 'vgg_feature_1', 'vgg1_prob',\n",
       "       'vgg_feature_2', 'vgg2_prob', 'vgg_feature_3', 'vgg3_prob', 'off-white',\n",
       "       'aqua', 'mustard', 'black', 'purple', 'red-brown', 'dust-brown',\n",
       "       'gray-blue', 'orange', 'salmon', 'dark-green', 'pink', 'white',\n",
       "       'yellow-green', 'bright-yellow', 'author_y', 'processed_words_y',\n",
       "       'subscribers_y', 'ups_y', 'ups_normed', 'TextLength', 'Sentiment',\n",
       "       'formatted', 'tech', 'envelope', 'animals', 'uniforms', 'monitor',\n",
       "       'sports', 'violent', 'meme', 'coronavirus', 'like', 'peopl', 'time',\n",
       "       'toilet', 'paper', 'virus'],\n",
       "      dtype='object')"
      ]
     },
     "execution_count": 25,
     "metadata": {},
     "output_type": "execute_result"
    }
   ],
   "source": [
    "# do the same for processed words column \n",
    "\n",
    "list_ = [['coronavirus','corona','virus','corvid','sar','virustctu','spread'],\n",
    "         ['self-reference','comment','meme','like','people','internet','post','repost','reddit'],\n",
    "         ['fuck','fight','kill'],\n",
    "         ['good','forgiv','good','creator','church'],\n",
    "         ['politic','world','congress']]\n",
    "f = combineTerms(df['processed_words_x'],list_)\n",
    "common_categories1, counts1 = getCategoryCounts(f)\n",
    "counts_to_plot1, categories_to_plot1 = commonCategoriesPlotObj(common_categories1,counts1)\n",
    "\n",
    "# one-hot encode it\n",
    "hot_encoded1 = []\n",
    "for i in range(0,len(f)):\n",
    "    hot_encoded1.append([0,0,0,0,0,0,0,0])\n",
    "    for j in range(0,len(categories_to_plot1[0:8])):\n",
    "        for word in f[i]:\n",
    "            if (word == categories_to_plot1[j]):\n",
    "                hot_encoded1[i][j] = 1 \n",
    "#check\n",
    "for j in range(0,len(categories_to_plot1[0:8])):\n",
    "    df[categories_to_plot1[j]] = [row[j] for row in hot_encoded1]\n",
    "df.columns"
   ]
  },
  {
   "cell_type": "code",
   "execution_count": 26,
   "metadata": {},
   "outputs": [
    {
     "data": {
      "text/plain": [
       "(5582, 76)"
      ]
     },
     "execution_count": 26,
     "metadata": {},
     "output_type": "execute_result"
    }
   ],
   "source": [
    "# and for subredit\n",
    "common_categories2, counts2 = getCategoryCounts([df['subreddit']])\n",
    "#counts_to_plot2, categories_to_plot2 = commonCategoriesPlotObj(common_categories2,counts2)\n",
    "hot_encoded = []\n",
    "for i in range(0,len(df)):\n",
    "    hot_encoded.append([0,0,0,0,0])\n",
    "    for j in range(0,len(common_categories2)):\n",
    "        if (df.iloc[i]['subreddit'] == common_categories2[j]):\n",
    "            hot_encoded[i][j] = 1 \n",
    "#check\n",
    "for j in range(0,len(common_categories2)):\n",
    "    df[common_categories2[j]] = [row[j] for row in hot_encoded1]\n",
    "df.shape"
   ]
  },
  {
   "cell_type": "code",
   "execution_count": 27,
   "metadata": {},
   "outputs": [
    {
     "data": {
      "text/plain": [
       "(5563, 76)"
      ]
     },
     "execution_count": 27,
     "metadata": {},
     "output_type": "execute_result"
    }
   ],
   "source": [
    "## count nan values:\n",
    "df = df.dropna(axis=0, how='any')\n",
    "df.shape"
   ]
  },
  {
   "cell_type": "code",
   "execution_count": 28,
   "metadata": {},
   "outputs": [],
   "source": [
    "## format labels into \"dank or not\" binary for randomForest classification task\n",
    "import numpy as np\n",
    "\n",
    "labels_reg = np.array(df['ups_x']); labels = []\n",
    "for val in labels_reg:\n",
    "    if val >= np.percentile(df['ups_x'], 90):\n",
    "        labels.append(1)\n",
    "    else:\n",
    "        labels.append(0)\n",
    "        \n",
    "labels=np.array(labels)\n",
    "df['dankorNot'] = labels\n",
    "\n",
    "df_sorted = df.sort_values(by='ups_x',axis=0,ascending=False)\n",
    "not_dank = df_sorted[sum(labels):len(labels)].sample(n=2*sum(labels),axis=0)\n",
    "data = not_dank.append(df_sorted[0:sum(labels)])\n",
    "data.shape\n",
    "\n",
    "labels = np.array(data['dankorNot'])"
   ]
  },
  {
   "cell_type": "code",
   "execution_count": 31,
   "metadata": {},
   "outputs": [
    {
     "data": {
      "text/plain": [
       "(1677, 48)"
      ]
     },
     "execution_count": 31,
     "metadata": {},
     "output_type": "execute_result"
    }
   ],
   "source": [
    "# add all-numerical features-set, excludes target var\n",
    "features = data[['created_utc','tech', 'envelope', 'monitor','uniforms','animals', 'formatted']].copy()\n",
    "features['violent'] = data['violent']; features['tech'] = data['tech']; features['subscribers_x'] = data['subscribers_x']; features['avg_hue'] = data['avg_hue']; features['TextLength'] = data['TextLength'];features['Sentiment'] = data['Sentiment']; features['r/dank_meme'] = data['r/dank_meme']; features['r/dankmeme'] = data['r/dankmeme'] \n",
    "features['avg_saturation'] = data['avg_saturation']; features['avg_value'] = data['avg_value']; features['avg_redRGB'] = data['avg_redRGB']; features['off-white'] = data['off-white'];features['black'] = data['black']; features['salmon'] = data['salmon']; features['dark-green'] = data['dark-green'];features['r/me_irl'] = data['r/me_irl'] \n",
    "features['avg_saturation'] = data['avg_saturation']; features['avg_value'] = data['avg_value']; features['avg_redRGB'] = data['avg_redRGB']; features['off-white'] = data['off-white'];features['black'] = data['black']; features['r/MemeEconomy'] = data['r/MemeEconomy']; features['r/memes'] = data['r/memes']; features['thumbnail.width'] = data['thumbnail.width']\n",
    "features['avg_blueRGB'] = data['avg_blueRGB']; features['avg_greenRGB'] = data['avg_greenRGB']; features['avg_tan'] = data['avg_tan']; features['aqua'] = data['aqua']; features['mustard'] = data['mustard']; features['gray-blue'] = data['gray-blue']; features['orange'] = data['orange']; features['thumbnail.height'] = data['thumbnail.height']\n",
    "features['avg_orange'] = data['avg_orange']; features[ 'vgg1_prob'] = data['vgg1_prob']; features[ 'virus'] = data['virus']; features[ 'coronavirus'] = data['coronavirus']; features['purple'] = data['purple']; features['dust-brown'] = data['dust-brown']; features['bright-yellow'] = data['bright-yellow']\n",
    "features[ 'meme'] = data['meme']; features[ 'like'] = data['like']; features[ 'peopl'] = data['peopl']; features[ 'time'] = data['time']; features['toilet'] = data['toilet']; features['red-brown'] = data['red-brown']; features['pink'] = data['pink']; features['yellow-green'] = data['yellow-green']\n",
    "\n",
    "# Saving feature names for later use # Convert to numpy array\n",
    "feature_list = list(features.columns)\n",
    "#features = features.sample(n=sum(labels),axis=0)\n",
    "features = np.array(features)\n",
    "features.shape"
   ]
  },
  {
   "cell_type": "code",
   "execution_count": 32,
   "metadata": {},
   "outputs": [],
   "source": [
    "# Using Skicit-learn to split data into training and testing sets\n",
    "from sklearn.model_selection import train_test_split\n",
    "\n",
    "train_features, test_features, train_labels, test_labels = train_test_split(features, labels, test_size = 0.25, random_state = 42)"
   ]
  },
  {
   "cell_type": "code",
   "execution_count": 33,
   "metadata": {},
   "outputs": [
    {
     "name": "stderr",
     "output_type": "stream",
     "text": [
      "Using TensorFlow backend.\n"
     ]
    }
   ],
   "source": [
    "# OPTIONAL: try model with over sampled data\n",
    "from imblearn.over_sampling import SMOTE, ADASYN\n",
    "\n",
    "X_resampled, y_resampled = SMOTE().fit_resample(train_features, train_labels)\n",
    "train_features, train_labels = X_resampled, y_resampled"
   ]
  },
  {
   "cell_type": "code",
   "execution_count": 34,
   "metadata": {},
   "outputs": [],
   "source": [
    "# OPTIONAL: scale the features, helpful for some color attributes\n",
    "from sklearn.preprocessing import StandardScaler\n",
    "\n",
    "sc = StandardScaler()\n",
    "train_features = sc.fit_transform(train_features)\n",
    "test_features = sc.transform(test_features)"
   ]
  },
  {
   "cell_type": "code",
   "execution_count": 40,
   "metadata": {},
   "outputs": [],
   "source": [
    "# Instantiate and train model\n",
    "from sklearn.ensemble import RandomForestRegressor\n",
    "\n",
    "rf = RandomForestRegressor(n_estimators = 900, random_state = 42)\n",
    "rf = rf.fit(train_features, train_labels)"
   ]
  },
  {
   "cell_type": "code",
   "execution_count": 41,
   "metadata": {},
   "outputs": [
    {
     "name": "stderr",
     "output_type": "stream",
     "text": [
      "No handles with labels found to put in legend.\n"
     ]
    },
    {
     "name": "stdout",
     "output_type": "stream",
     "text": [
      "Mean Absolute Error: 0.44 degrees.\n",
      "AUC= 0.6142502368212192\n"
     ]
    },
    {
     "data": {
      "image/png": "[encoded data removed]",
      "text/plain": [
       "<Figure size 360x360 with 1 Axes>"
      ]
     },
     "metadata": {
      "needs_background": "light"
     },
     "output_type": "display_data"
    }
   ],
   "source": [
    "# Use the forest's predict method on the test data\n",
    "from sklearn import metrics\n",
    "\n",
    "predictions = rf.predict(test_features)\n",
    "\n",
    "errors = abs(predictions - test_labels)\n",
    "print('Mean Absolute Error:', round(np.mean(errors), 2), 'degrees.')\n",
    "\n",
    "fpr, tpr, thresholds = metrics.roc_curve(test_labels, predictions, pos_label=1, sample_weight=None)\n",
    "auc = metrics.roc_auc_score(test_labels, predictions, sample_weight=None)\n",
    "print(\"AUC=\",auc)\n",
    "\n",
    "# plot ROC curves \n",
    "plt.figure(figsize=(5,5))\n",
    "plt.plot(fpr,tpr,linewidth=2.0,color='blue')\n",
    "plt.plot([0,1],[0,1],color='red')\n",
    "plt.legend()\n",
    "plt.xlabel('False positive rate',fontsize=12); plt.ylabel('True positive rate',fontsize=12)\n",
    "plt.xlim([0,1]); plt.ylim([0,1])\n",
    "plt.title('Random Forest Performance ROC', fontsize=16)\n",
    "plt.show()"
   ]
  },
  {
   "cell_type": "code",
   "execution_count": 37,
   "metadata": {},
   "outputs": [
    {
     "data": {
      "text/plain": [
       "0.65"
      ]
     },
     "execution_count": 37,
     "metadata": {},
     "output_type": "execute_result"
    }
   ],
   "source": [
    "# Calculate accurancy on test set - percent of labels calculated correctly \n",
    "good = 0; bad = 0\n",
    "for i in range(0,len(predictions)):\n",
    "    if (predictions[i]>0.5) and (test_labels[i]==1):\n",
    "        good += 1\n",
    "    elif (predictions[i]<0.5) and (test_labels[i]==0):\n",
    "        good += 1\n",
    "    else:\n",
    "        bad +=1\n",
    "good/(good+bad)"
   ]
  },
  {
   "cell_type": "code",
   "execution_count": 38,
   "metadata": {},
   "outputs": [
    {
     "data": {
      "text/plain": [
       "[('formatted', 0.1),\n",
       " ('created_utc', 0.06),\n",
       " ('subscribers_x', 0.05),\n",
       " ('TextLength', 0.05),\n",
       " ('thumbnail.height', 0.05),\n",
       " ('avg_hue', 0.04),\n",
       " ('Sentiment', 0.04),\n",
       " ('avg_saturation', 0.04),\n",
       " ('off-white', 0.04),\n",
       " ('black', 0.04),\n",
       " ('avg_tan', 0.04),\n",
       " ('vgg1_prob', 0.04),\n",
       " ('dust-brown', 0.04),\n",
       " ('red-brown', 0.04),\n",
       " ('avg_value', 0.03),\n",
       " ('avg_redRGB', 0.03),\n",
       " ('avg_blueRGB', 0.03),\n",
       " ('gray-blue', 0.03),\n",
       " ('tech', 0.02),\n",
       " ('salmon', 0.02),\n",
       " ('dark-green', 0.02),\n",
       " ('avg_greenRGB', 0.02),\n",
       " ('orange', 0.02),\n",
       " ('avg_orange', 0.02),\n",
       " ('envelope', 0.01),\n",
       " ('animals', 0.01),\n",
       " ('violent', 0.01),\n",
       " ('aqua', 0.01),\n",
       " ('mustard', 0.01),\n",
       " ('yellow-green', 0.01)]"
      ]
     },
     "execution_count": 38,
     "metadata": {},
     "output_type": "execute_result"
    }
   ],
   "source": [
    "# tree visualization code\n",
    "from sklearn.tree import export_graphviz\n",
    "tree = rf.estimators_[5]\n",
    "export_graphviz(tree, out_file = 'tree.dot', feature_names = feature_list, rounded = True, precision = 1)\n",
    "\n",
    "# Get numerical feature importances\n",
    "importances = list(rf.feature_importances_) # List of tuples, \"variable - importance\"\n",
    "feature_importances = [(feature, round(importance, 2)) for feature, importance in zip(feature_list, importances)] # sort features by most important first\n",
    "feature_importances = sorted(feature_importances, key = lambda x: x[1], reverse = True)\n",
    "\n",
    "# list with 0-importance features eliminated for plotting\n",
    "plot_feature_importances = []\n",
    "for i in range(0,len(feature_importances)):\n",
    "    if (feature_importances[i][1] > 0.0):\n",
    "        plot_feature_importances.append(feature_importances[i])\n",
    "#check\n",
    "plot_feature_importances"
   ]
  },
  {
   "cell_type": "code",
   "execution_count": 39,
   "metadata": {},
   "outputs": [
    {
     "data": {
      "text/plain": [
       "Text(0.5, 0, 'Importance')"
      ]
     },
     "execution_count": 39,
     "metadata": {},
     "output_type": "execute_result"
    },
    {
     "data": {
      "image/png": "[encoded data removed]",
      "text/plain": [
       "<Figure size 360x720 with 1 Axes>"
      ]
     },
     "metadata": {
      "needs_background": "light"
     },
     "output_type": "display_data"
    }
   ],
   "source": [
    "# display feature importance on plot\n",
    "x = []; y = []\n",
    "for i in range(0, len(plot_feature_importances)):\n",
    "    x.append(plot_feature_importances[i][0])\n",
    "    y.append(plot_feature_importances[i][1])\n",
    "\n",
    "fig, ax = plt.subplots(figsize=(5,10))\n",
    "width = 0.75\n",
    "ind = np.arange(len(y))\n",
    "plt.barh(ind,y,width)\n",
    "ax.set_yticks(ind+width/2)\n",
    "ax.set_yticklabels(x, minor=False,fontsize=13)\n",
    "plt.title('Relative Importance of Data Features',fontsize=16)\n",
    "plt.xlabel('Importance',fontsize=13)"
   ]
  },
  {
   "cell_type": "code",
   "execution_count": 93,
   "metadata": {},
   "outputs": [
    {
     "ename": "NotFittedError",
     "evalue": "This RandomForestRegressor instance is not fitted yet. Call 'fit' with appropriate arguments before using this method.",
     "output_type": "error",
     "traceback": [
      "\u001b[0;31m---------------------------------------------------------------------------\u001b[0m",
      "\u001b[0;31mNotFittedError\u001b[0m                            Traceback (most recent call last)",
      "\u001b[0;32m<ipython-input-93-f4d3d3adc4e6>\u001b[0m in \u001b[0;36m<module>\u001b[0;34m\u001b[0m\n\u001b[1;32m      6\u001b[0m \u001b[0;31m# display tree #1\u001b[0m\u001b[0;34m\u001b[0m\u001b[0;34m\u001b[0m\u001b[0;34m\u001b[0m\u001b[0m\n\u001b[1;32m      7\u001b[0m \u001b[0mfeature_names\u001b[0m\u001b[0;34m=\u001b[0m\u001b[0mfeature_list\u001b[0m\u001b[0;34m\u001b[0m\u001b[0;34m\u001b[0m\u001b[0m\n\u001b[0;32m----> 8\u001b[0;31m \u001b[0mgraph\u001b[0m \u001b[0;34m=\u001b[0m \u001b[0mSource\u001b[0m\u001b[0;34m(\u001b[0m \u001b[0mtree\u001b[0m\u001b[0;34m.\u001b[0m\u001b[0mexport_graphviz\u001b[0m\u001b[0;34m(\u001b[0m\u001b[0mrf\u001b[0m\u001b[0;34m,\u001b[0m \u001b[0mout_file\u001b[0m\u001b[0;34m=\u001b[0m\u001b[0;32mNone\u001b[0m\u001b[0;34m,\u001b[0m \u001b[0mfeature_names\u001b[0m\u001b[0;34m=\u001b[0m\u001b[0mfeature_names\u001b[0m\u001b[0;34m)\u001b[0m\u001b[0;34m)\u001b[0m\u001b[0;34m\u001b[0m\u001b[0;34m\u001b[0m\u001b[0m\n\u001b[0m\u001b[1;32m      9\u001b[0m \u001b[0mSVG\u001b[0m\u001b[0;34m(\u001b[0m\u001b[0mgraph\u001b[0m\u001b[0;34m.\u001b[0m\u001b[0mpipe\u001b[0m\u001b[0;34m(\u001b[0m\u001b[0mformat\u001b[0m\u001b[0;34m=\u001b[0m\u001b[0;34m'svg'\u001b[0m\u001b[0;34m)\u001b[0m\u001b[0;34m)\u001b[0m\u001b[0;34m\u001b[0m\u001b[0;34m\u001b[0m\u001b[0m\n",
      "\u001b[0;32m/opt/anaconda3/lib/python3.7/site-packages/sklearn/tree/export.py\u001b[0m in \u001b[0;36mexport_graphviz\u001b[0;34m(decision_tree, out_file, max_depth, feature_names, class_names, label, filled, leaves_parallel, impurity, node_ids, proportion, rotate, rounded, special_characters, precision)\u001b[0m\n\u001b[1;32m    755\u001b[0m     \"\"\"\n\u001b[1;32m    756\u001b[0m \u001b[0;34m\u001b[0m\u001b[0m\n\u001b[0;32m--> 757\u001b[0;31m     \u001b[0mcheck_is_fitted\u001b[0m\u001b[0;34m(\u001b[0m\u001b[0mdecision_tree\u001b[0m\u001b[0;34m,\u001b[0m \u001b[0;34m'tree_'\u001b[0m\u001b[0;34m)\u001b[0m\u001b[0;34m\u001b[0m\u001b[0;34m\u001b[0m\u001b[0m\n\u001b[0m\u001b[1;32m    758\u001b[0m     \u001b[0mown_file\u001b[0m \u001b[0;34m=\u001b[0m \u001b[0;32mFalse\u001b[0m\u001b[0;34m\u001b[0m\u001b[0;34m\u001b[0m\u001b[0m\n\u001b[1;32m    759\u001b[0m     \u001b[0mreturn_string\u001b[0m \u001b[0;34m=\u001b[0m \u001b[0;32mFalse\u001b[0m\u001b[0;34m\u001b[0m\u001b[0;34m\u001b[0m\u001b[0m\n",
      "\u001b[0;32m/opt/anaconda3/lib/python3.7/site-packages/sklearn/utils/validation.py\u001b[0m in \u001b[0;36mcheck_is_fitted\u001b[0;34m(estimator, attributes, msg, all_or_any)\u001b[0m\n\u001b[1;32m    912\u001b[0m \u001b[0;34m\u001b[0m\u001b[0m\n\u001b[1;32m    913\u001b[0m     \u001b[0;32mif\u001b[0m \u001b[0;32mnot\u001b[0m \u001b[0mall_or_any\u001b[0m\u001b[0;34m(\u001b[0m\u001b[0;34m[\u001b[0m\u001b[0mhasattr\u001b[0m\u001b[0;34m(\u001b[0m\u001b[0mestimator\u001b[0m\u001b[0;34m,\u001b[0m \u001b[0mattr\u001b[0m\u001b[0;34m)\u001b[0m \u001b[0;32mfor\u001b[0m \u001b[0mattr\u001b[0m \u001b[0;32min\u001b[0m \u001b[0mattributes\u001b[0m\u001b[0;34m]\u001b[0m\u001b[0;34m)\u001b[0m\u001b[0;34m:\u001b[0m\u001b[0;34m\u001b[0m\u001b[0;34m\u001b[0m\u001b[0m\n\u001b[0;32m--> 914\u001b[0;31m         \u001b[0;32mraise\u001b[0m \u001b[0mNotFittedError\u001b[0m\u001b[0;34m(\u001b[0m\u001b[0mmsg\u001b[0m \u001b[0;34m%\u001b[0m \u001b[0;34m{\u001b[0m\u001b[0;34m'name'\u001b[0m\u001b[0;34m:\u001b[0m \u001b[0mtype\u001b[0m\u001b[0;34m(\u001b[0m\u001b[0mestimator\u001b[0m\u001b[0;34m)\u001b[0m\u001b[0;34m.\u001b[0m\u001b[0m__name__\u001b[0m\u001b[0;34m}\u001b[0m\u001b[0;34m)\u001b[0m\u001b[0;34m\u001b[0m\u001b[0;34m\u001b[0m\u001b[0m\n\u001b[0m\u001b[1;32m    915\u001b[0m \u001b[0;34m\u001b[0m\u001b[0m\n\u001b[1;32m    916\u001b[0m \u001b[0;34m\u001b[0m\u001b[0m\n",
      "\u001b[0;31mNotFittedError\u001b[0m: This RandomForestRegressor instance is not fitted yet. Call 'fit' with appropriate arguments before using this method."
     ]
    }
   ],
   "source": [
    "# self-note, importing with homebrew \"brew install graphviz\" \n",
    "from graphviz import Source\n",
    "from sklearn import tree\n",
    "from IPython.display import SVG\n",
    "\n",
    "# display tree #1\n",
    "feature_names=feature_list\n",
    "graph = Source( tree.export_graphviz(rf, out_file=None, feature_names=feature_names))\n",
    "SVG(graph.pipe(format='svg'))"
   ]
  },
  {
   "cell_type": "code",
   "execution_count": null,
   "metadata": {},
   "outputs": [],
   "source": []
  }
 ],
 "metadata": {
  "kernelspec": {
   "display_name": "Python 3",
   "language": "python",
   "name": "python3"
  },
  "language_info": {
   "codemirror_mode": {
    "name": "ipython",
    "version": 3
   },
   "file_extension": ".py",
   "mimetype": "text/x-python",
   "name": "python",
   "nbconvert_exporter": "python",
   "pygments_lexer": "ipython3",
   "version": "3.7.4"
  }
 },
 "nbformat": 4,
 "nbformat_minor": 2
}
