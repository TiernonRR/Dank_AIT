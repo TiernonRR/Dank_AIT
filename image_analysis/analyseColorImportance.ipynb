{
 "cells": [
  {
   "cell_type": "code",
   "execution_count": 99,
   "metadata": {},
   "outputs": [],
   "source": [
    "import numpy as np\n",
    "import pandas as pd\n",
    "import matplotlib.pyplot as plt"
   ]
  },
  {
   "cell_type": "code",
   "execution_count": 100,
   "metadata": {},
   "outputs": [
    {
     "data": {
      "text/plain": [
       "Index(['author', 'awards', 'created_utc', 'text_from_image', 'words',\n",
       "       'processed_words', 'downs', 'id', 'is_nsfw', 'media', 'subreddit',\n",
       "       'subscribers', 'thumbnail.height', 'thumbnail.thumbnail',\n",
       "       'thumbnail.width', 'title', 'ups', 'url', 'avg_hue', 'avg_saturation',\n",
       "       'avg_value', 'avg_redRGB', 'avg_greenRGB', 'avg_blueRGB', 'avg_tan',\n",
       "       'avg_orange', 'vgg_general', 'vgg_feature_1', 'vgg1_prob',\n",
       "       'vgg_feature_2', 'vgg2_prob', 'vgg_feature_3', 'vgg3_prob', 'off-white',\n",
       "       'aqua', 'mustard', 'black', 'purple', 'red-brown', 'dust-brown',\n",
       "       'gray-blue', 'orange', 'salmon', 'dark-green', 'pink', 'white',\n",
       "       'yellow-green', 'bright-yellow'],\n",
       "      dtype='object')"
      ]
     },
     "execution_count": 100,
     "metadata": {},
     "output_type": "execute_result"
    }
   ],
   "source": [
    "df = pd.read_json ('./dank_cleaned.json')\n",
    "df.columns"
   ]
  },
  {
   "cell_type": "code",
   "execution_count": 101,
   "metadata": {},
   "outputs": [
    {
     "data": {
      "text/plain": [
       "271"
      ]
     },
     "execution_count": 101,
     "metadata": {},
     "output_type": "execute_result"
    }
   ],
   "source": [
    "dank_indexes = []\n",
    "for i in range(0,len(df)):\n",
    "    if (df.iloc[i]['ups'] > 1000):\n",
    "        dank_indexes.append(i)\n",
    "#check\n",
    "len(dank_indexes)"
   ]
  },
  {
   "cell_type": "code",
   "execution_count": 102,
   "metadata": {},
   "outputs": [],
   "source": [
    "colr_labl = [ 'off-white',\n",
    "              'aqua',\n",
    "              'mustard',\n",
    "              'black',\n",
    "              'purple',\n",
    "              'red-brown',\n",
    "              'dust-brown',\n",
    "              'gray-blue',\n",
    "              'orange',\n",
    "              'salmon',\n",
    "              'dark-green',\n",
    "              'pink',\n",
    "              'white',\n",
    "              'yellow-green',\n",
    "              'bright-yellow',\n",
    "              'avg_tan',\n",
    "              'avg_orange'\n",
    "            ]\n",
    "dank_colr = { 'off-white': [],\n",
    "              'aqua': [],\n",
    "              'mustard': [],\n",
    "              'black': [],\n",
    "              'purple': [],\n",
    "              'red-brown': [],\n",
    "              'dust-brown': [],\n",
    "              'gray-blue': [],\n",
    "              'orange': [],\n",
    "              'salmon': [],\n",
    "              'dark-green': [],\n",
    "              'pink': [],\n",
    "              'white': [],\n",
    "              'yellow-green': [],\n",
    "              'bright-yellow': [],\n",
    "              'avg_tan': [],\n",
    "              'avg_orange': []\n",
    "            }\n",
    "for index in dank_indexes:\n",
    "    for label in colr_labl:\n",
    "        dank_colr[label].append(df.iloc[index][label])"
   ]
  },
  {
   "cell_type": "code",
   "execution_count": 104,
   "metadata": {},
   "outputs": [
    {
     "name": "stdout",
     "output_type": "stream",
     "text": [
      "[4.58350232413358, 0.040338501176752764, 0.15698305763800738, 15.4778784475487, 0.0, 1.8188493606166056, 1.5855520464549822, 0.5608913631221404, 0.8944757941029522, 1.69655069455904, 0.3823076821789668, 0.0, 0.0, 0.0029681529394833947, 0.17404920442988928, 18.566387259693727, 0.8297874657191878, 0.02201377168876531, 0.0, 0.0, 1.2927500111782941, 0.0, 0.0, 0.0, 0.6852466922924951, 0.0, 0.011879838155030445, 1.0318146363000185, 0.38893842676016294]\n"
     ]
    }
   ],
   "source": [
    "dank_avgs = []\n",
    "for label in colr_labl:\n",
    "    dank_avgs.append( (sum(dank_colr[label][137:271])+sum(dank_colr[label][0:136])) / len(dank_colr[label]) )\n",
    "more_from_other_file = [0.02201377168876531, 0.0, 0.0, 1.2927500111782941, 0.0, 0.0, 0.0, 0.6852466922924951, 0.0, 0.011879838155030445, 1.0318146363000185, 0.38893842676016294]\n",
    "for rec in more_from_other_file:\n",
    "    dank_avgs.append(rec)\n",
    "print(dank_avgs)    "
   ]
  },
  {
   "cell_type": "code",
   "execution_count": 105,
   "metadata": {},
   "outputs": [],
   "source": [
    "rgb_colors = [(250/255,235/255,215/255,1.0),\n",
    "              (127/255,255/255,212/255,1.0),\n",
    "              (227/255,207/255,87/255,1.0),\n",
    "              (0.0,0.0,0.0,1.0),\n",
    "              (138/255,43/255,226/255,1.0),\n",
    "              (165/255,42/255,42/255,1.0),\n",
    "              (139/255,115/255,85/255,1.0),\n",
    "              (83/255,134/255,139/255,1.0),\n",
    "              (255/255,97/255,3/255,1.0),\n",
    "              (255/255,127/255,80/255,1.0),\n",
    "              (0.0,100/255,0.0,1.0),\n",
    "              (255/255,20/255,147/255,1.0),\n",
    "              (238/255,238/255,235/255,1.0),\n",
    "              (173/255,255/255,47/255,1.0),\n",
    "              (255/255,255/255,0.0,1.0),\n",
    "              (206/255,166/255,149/255,1.0),\n",
    "              (232/255,91/255,31/255,1.0),\n",
    "              (60/255,179/255,113/255,1.0),\n",
    "               (30/255,144/255,255/255,1.0),\n",
    "               (221/255,160/255,221/255,1.0),\n",
    "               (139/255,69/255,19/255,1.0),\n",
    "               (199/255,21/255,133/255,1.0),\n",
    "               (72/255,61/255,139/255,1.0),\n",
    "               (25/255,25/255,112/255,1.0),\n",
    "               (95/255,158/255,160/255,1.0),\n",
    "               (0.0,250/255,154/255,1.0),\n",
    "               (128/255,128/255,0.0,1.0),\n",
    "               (255/255,99/255,71/255,1.0),\n",
    "               (34/255,139/255,34/255,1.0)\n",
    "             ]"
   ]
  },
  {
   "cell_type": "code",
   "execution_count": 106,
   "metadata": {},
   "outputs": [
    {
     "data": {
      "text/plain": [
       "Text(0, 0.5, '% Pixels in Dank Memes (90 Percentile of Upvotes)')"
      ]
     },
     "execution_count": 106,
     "metadata": {},
     "output_type": "execute_result"
    },
    {
     "data": {
      "image/png": "[encoded data removed]",
      "text/plain": [
       "<Figure size 720x720 with 1 Axes>"
      ]
     },
     "metadata": {
      "needs_background": "light"
     },
     "output_type": "display_data"
    }
   ],
   "source": [
    "for i in range(0,len(dank_avgs)):\n",
    "    if dank_avgs[i] == 0:\n",
    "        dank_avgs[i] = -0.25\n",
    "    elif dank_avgs[i] <0.15:\n",
    "        dank_avgs[i] = 0.25\n",
    "\n",
    "fig,ax = plt.subplots(figsize=[10,10])\n",
    "plt.bar(np.linspace(1,len(dank_avgs),len(dank_avgs)),dank_avgs, color=rgb_colors)\n",
    "plt.ylim(top=5,bottom=-0.5) \n",
    "_ = plt.setp(ax.get_xticklabels(), visible=False)\n",
    "ax.tick_params(axis='x', which='both', length=0)\n",
    "plt.title(\"Importance of Colors to Popularity of Meme\",fontsize=20)\n",
    "plt.xlabel('Colors',fontsize=15); plt.ylabel('% Pixels in Dank Memes (90 Percentile of Upvotes)',fontsize=15)"
   ]
  },
  {
   "cell_type": "code",
   "execution_count": null,
   "metadata": {},
   "outputs": [],
   "source": []
  }
 ],
 "metadata": {
  "kernelspec": {
   "display_name": "Python 3",
   "language": "python",
   "name": "python3"
  },
  "language_info": {
   "codemirror_mode": {
    "name": "ipython",
    "version": 3
   },
   "file_extension": ".py",
   "mimetype": "text/x-python",
   "name": "python",
   "nbconvert_exporter": "python",
   "pygments_lexer": "ipython3",
   "version": "3.7.4"
  }
 },
 "nbformat": 4,
 "nbformat_minor": 2
}
