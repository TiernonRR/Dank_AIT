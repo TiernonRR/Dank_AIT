{
 "cells": [
  {
   "cell_type": "code",
   "execution_count": 1,
   "metadata": {},
   "outputs": [],
   "source": [
    "import numpy as np\n",
    "import pandas as pd\n",
    "from pandas import DataFrame, Series\n",
    "import datetime\n",
    "import matplotlib as mpl\n",
    "import matplotlib.pyplot as plt\n",
    "import seaborn as sns\n",
    "import json \n",
    "from pandas.io.json import json_normalize\n",
    "import seaborn as sns\n",
    "\n",
    "from urllib.request import urlopen\n",
    "import requests\n",
    "import cv2\n",
    "from time import time"
   ]
  },
  {
   "cell_type": "code",
   "execution_count": 2,
   "metadata": {},
   "outputs": [
    {
     "name": "stdout",
     "output_type": "stream",
     "text": [
      "(38035, 18)\n"
     ]
    },
    {
     "data": {
      "text/html": [
       "<div>\n",
       "<style scoped>\n",
       "    .dataframe tbody tr th:only-of-type {\n",
       "        vertical-align: middle;\n",
       "    }\n",
       "\n",
       "    .dataframe tbody tr th {\n",
       "        vertical-align: top;\n",
       "    }\n",
       "\n",
       "    .dataframe thead th {\n",
       "        text-align: right;\n",
       "    }\n",
       "</style>\n",
       "<table border=\"1\" class=\"dataframe\">\n",
       "  <thead>\n",
       "    <tr style=\"text-align: right;\">\n",
       "      <th></th>\n",
       "      <th>author</th>\n",
       "      <th>awards</th>\n",
       "      <th>created_utc</th>\n",
       "      <th>text_from_image</th>\n",
       "      <th>words</th>\n",
       "      <th>processed_words</th>\n",
       "      <th>downs</th>\n",
       "      <th>id</th>\n",
       "      <th>is_nsfw</th>\n",
       "      <th>media</th>\n",
       "      <th>subreddit</th>\n",
       "      <th>subscribers</th>\n",
       "      <th>thumbnail.height</th>\n",
       "      <th>thumbnail.thumbnail</th>\n",
       "      <th>thumbnail.width</th>\n",
       "      <th>title</th>\n",
       "      <th>ups</th>\n",
       "      <th>url</th>\n",
       "    </tr>\n",
       "  </thead>\n",
       "  <tbody>\n",
       "    <tr>\n",
       "      <td>1</td>\n",
       "      <td>L71U</td>\n",
       "      <td>[]</td>\n",
       "      <td>1584295514</td>\n",
       "      <td>NICE DICK\\r\\n</td>\n",
       "      <td>Ricardo😎NICE DICK\\r\\n</td>\n",
       "      <td>[ricardo, nice, dick]</td>\n",
       "      <td>0</td>\n",
       "      <td>fj5ixk</td>\n",
       "      <td>False</td>\n",
       "      <td>https://i.redd.it/w6acm47gmvm41.jpg</td>\n",
       "      <td>r/dank_meme</td>\n",
       "      <td>743116</td>\n",
       "      <td>136.0</td>\n",
       "      <td>https://b.thumbs.redditmedia.com/PixKjoPWVw738...</td>\n",
       "      <td>140.0</td>\n",
       "      <td>Ricardo😎</td>\n",
       "      <td>35</td>\n",
       "      <td>/r/dank_meme/comments/fj5ixk/ricardo/</td>\n",
       "    </tr>\n",
       "    <tr>\n",
       "      <td>2</td>\n",
       "      <td>Awesome-ness5</td>\n",
       "      <td>[]</td>\n",
       "      <td>1584294841</td>\n",
       "      <td>Nvidia's calling on gaming PC owners to\\r\\nput...</td>\n",
       "      <td>Gamers AssembleNvidia's calling on gaming PC o...</td>\n",
       "      <td>[gamer, assemblenvidia, call, game, owner, sys...</td>\n",
       "      <td>0</td>\n",
       "      <td>fj5bzj</td>\n",
       "      <td>False</td>\n",
       "      <td>https://i.redd.it/bqawbb5gkvm41.jpg</td>\n",
       "      <td>r/dank_meme</td>\n",
       "      <td>743116</td>\n",
       "      <td>140.0</td>\n",
       "      <td>https://b.thumbs.redditmedia.com/Fj8eeEt78J-I6...</td>\n",
       "      <td>140.0</td>\n",
       "      <td>Gamers Assemble</td>\n",
       "      <td>11</td>\n",
       "      <td>/r/dank_meme/comments/fj5bzj/gamers_assemble/</td>\n",
       "    </tr>\n",
       "    <tr>\n",
       "      <td>5</td>\n",
       "      <td>None</td>\n",
       "      <td>[]</td>\n",
       "      <td>1584293979</td>\n",
       "      <td>JANUARY\\r\\nFEBRUARY\\r\\nMARCH\\r\\nAPRIL\\r\\ncnu\\r...</td>\n",
       "      <td>2020 in a nutshellJANUARY\\r\\nFEBRUARY\\r\\nMARCH...</td>\n",
       "      <td>[nutshelljanuari, februari, march, april, plag...</td>\n",
       "      <td>0</td>\n",
       "      <td>fj53jo</td>\n",
       "      <td>False</td>\n",
       "      <td>https://i.imgur.com/7LmxYnC.png</td>\n",
       "      <td>r/dank_meme</td>\n",
       "      <td>743116</td>\n",
       "      <td>140.0</td>\n",
       "      <td>default</td>\n",
       "      <td>140.0</td>\n",
       "      <td>2020 in a nutshell</td>\n",
       "      <td>1</td>\n",
       "      <td>/r/dank_meme/comments/fj53jo/2020_in_a_nutshell/</td>\n",
       "    </tr>\n",
       "    <tr>\n",
       "      <td>7</td>\n",
       "      <td>notaspop</td>\n",
       "      <td>[]</td>\n",
       "      <td>1584293653</td>\n",
       "      <td>When you post a low-effort meme\\r\\nfor fun to ...</td>\n",
       "      <td>I mean.... Not Corona time?When you post a low...</td>\n",
       "      <td>[mean, corona, time, post, effort, meme, peopl...</td>\n",
       "      <td>0</td>\n",
       "      <td>fj50df</td>\n",
       "      <td>False</td>\n",
       "      <td>https://i.redd.it/v5pea6wwgvm41.jpg</td>\n",
       "      <td>r/dank_meme</td>\n",
       "      <td>743116</td>\n",
       "      <td>140.0</td>\n",
       "      <td>default</td>\n",
       "      <td>140.0</td>\n",
       "      <td>I mean.... Not Corona time?</td>\n",
       "      <td>1</td>\n",
       "      <td>/r/dank_meme/comments/fj50df/i_mean_not_corona...</td>\n",
       "    </tr>\n",
       "    <tr>\n",
       "      <td>8</td>\n",
       "      <td>Gaunja420</td>\n",
       "      <td>[]</td>\n",
       "      <td>1584293617</td>\n",
       "      <td>H A p pyt1A\\r\\n</td>\n",
       "      <td>WheNH A p pyt1A\\r\\n</td>\n",
       "      <td>[whenh]</td>\n",
       "      <td>0</td>\n",
       "      <td>fj501g</td>\n",
       "      <td>False</td>\n",
       "      <td>https://i.redd.it/809pja1tgvm41.gif</td>\n",
       "      <td>r/dank_meme</td>\n",
       "      <td>743116</td>\n",
       "      <td>140.0</td>\n",
       "      <td>default</td>\n",
       "      <td>140.0</td>\n",
       "      <td>WheN</td>\n",
       "      <td>1</td>\n",
       "      <td>/r/dank_meme/comments/fj501g/when/</td>\n",
       "    </tr>\n",
       "  </tbody>\n",
       "</table>\n",
       "</div>"
      ],
      "text/plain": [
       "          author awards  created_utc  \\\n",
       "1           L71U     []   1584295514   \n",
       "2  Awesome-ness5     []   1584294841   \n",
       "5           None     []   1584293979   \n",
       "7       notaspop     []   1584293653   \n",
       "8      Gaunja420     []   1584293617   \n",
       "\n",
       "                                     text_from_image  \\\n",
       "1                                      NICE DICK\\r\\n   \n",
       "2  Nvidia's calling on gaming PC owners to\\r\\nput...   \n",
       "5  JANUARY\\r\\nFEBRUARY\\r\\nMARCH\\r\\nAPRIL\\r\\ncnu\\r...   \n",
       "7  When you post a low-effort meme\\r\\nfor fun to ...   \n",
       "8                                    H A p pyt1A\\r\\n   \n",
       "\n",
       "                                               words  \\\n",
       "1                              Ricardo😎NICE DICK\\r\\n   \n",
       "2  Gamers AssembleNvidia's calling on gaming PC o...   \n",
       "5  2020 in a nutshellJANUARY\\r\\nFEBRUARY\\r\\nMARCH...   \n",
       "7  I mean.... Not Corona time?When you post a low...   \n",
       "8                                WheNH A p pyt1A\\r\\n   \n",
       "\n",
       "                                     processed_words  downs      id  is_nsfw  \\\n",
       "1                              [ricardo, nice, dick]      0  fj5ixk    False   \n",
       "2  [gamer, assemblenvidia, call, game, owner, sys...      0  fj5bzj    False   \n",
       "5  [nutshelljanuari, februari, march, april, plag...      0  fj53jo    False   \n",
       "7  [mean, corona, time, post, effort, meme, peopl...      0  fj50df    False   \n",
       "8                                            [whenh]      0  fj501g    False   \n",
       "\n",
       "                                 media    subreddit  subscribers  \\\n",
       "1  https://i.redd.it/w6acm47gmvm41.jpg  r/dank_meme       743116   \n",
       "2  https://i.redd.it/bqawbb5gkvm41.jpg  r/dank_meme       743116   \n",
       "5      https://i.imgur.com/7LmxYnC.png  r/dank_meme       743116   \n",
       "7  https://i.redd.it/v5pea6wwgvm41.jpg  r/dank_meme       743116   \n",
       "8  https://i.redd.it/809pja1tgvm41.gif  r/dank_meme       743116   \n",
       "\n",
       "   thumbnail.height                                thumbnail.thumbnail  \\\n",
       "1             136.0  https://b.thumbs.redditmedia.com/PixKjoPWVw738...   \n",
       "2             140.0  https://b.thumbs.redditmedia.com/Fj8eeEt78J-I6...   \n",
       "5             140.0                                            default   \n",
       "7             140.0                                            default   \n",
       "8             140.0                                            default   \n",
       "\n",
       "   thumbnail.width                        title  ups  \\\n",
       "1            140.0                     Ricardo😎   35   \n",
       "2            140.0              Gamers Assemble   11   \n",
       "5            140.0           2020 in a nutshell    1   \n",
       "7            140.0  I mean.... Not Corona time?    1   \n",
       "8            140.0                         WheN    1   \n",
       "\n",
       "                                                 url  \n",
       "1              /r/dank_meme/comments/fj5ixk/ricardo/  \n",
       "2      /r/dank_meme/comments/fj5bzj/gamers_assemble/  \n",
       "5   /r/dank_meme/comments/fj53jo/2020_in_a_nutshell/  \n",
       "7  /r/dank_meme/comments/fj50df/i_mean_not_corona...  \n",
       "8                 /r/dank_meme/comments/fj501g/when/  "
      ]
     },
     "execution_count": 2,
     "metadata": {},
     "output_type": "execute_result"
    }
   ],
   "source": [
    "# read in data from our github repository\n",
    "dframe = pd.read_json (\"https://raw.githubusercontent.com/TiernonRR/Dank_AIT/master/text%20analysis/dank_cleaned.json?token=APDMU6RVFWXJKGVBUQKSBG26W4EA4\" )\n",
    "\n",
    "# checks\n",
    "print(dframe.shape)\n",
    "dframe.head()"
   ]
  },
  {
   "cell_type": "code",
   "execution_count": 3,
   "metadata": {},
   "outputs": [
    {
     "data": {
      "image/png": "[encoded data removed]",
      "text/plain": [
       "<Figure size 432x288 with 1 Axes>"
      ]
     },
     "metadata": {
      "needs_background": "light"
     },
     "output_type": "display_data"
    }
   ],
   "source": [
    "# get an image from media attr to analyze\n",
    "def url_to_image(url):\n",
    "    try: \n",
    "        request = requests.get(url)\n",
    "        get_image = urlopen(url)\n",
    "        arr_image = np.asarray(bytearray(get_image.read()), dtype=\"uint8\") \n",
    "        image = cv2.imdecode(arr_image, cv2.IMREAD_COLOR)\n",
    "    except:\n",
    "        image = np.array([None,None,None])   \n",
    "    return image\n",
    "\n",
    "# check\n",
    "row = dframe.iloc[3]; test_url = row['media']\n",
    "im = url_to_image(test_url)\n",
    "meme1 = cv2.cvtColor(im, cv2.COLOR_BGR2RGB)\n",
    "plt.imshow(meme1)\n",
    "plt.show()"
   ]
  },
  {
   "cell_type": "code",
   "execution_count": 4,
   "metadata": {},
   "outputs": [
    {
     "data": {
      "text/plain": [
       "[43.803375034797384, 10.925645257791498, 194.97032458170426]"
      ]
     },
     "execution_count": 4,
     "metadata": {},
     "output_type": "execute_result"
    }
   ],
   "source": [
    "# compute average h s and v components\n",
    "def average_hsv(meme):\n",
    "    hsv_meme1 = cv2.cvtColor(meme, cv2.COLOR_RGB2HSV)\n",
    "    h, s, v = cv2.split(hsv_meme1)\n",
    "    return [h.mean(),s.mean(),v.mean()]\n",
    "\n",
    "# check function\n",
    "average_hsv(meme1)"
   ]
  },
  {
   "cell_type": "code",
   "execution_count": 5,
   "metadata": {},
   "outputs": [
    {
     "data": {
      "text/plain": [
       "[193.35118716215374, 190.73902739748794, 188.95863006327932]"
      ]
     },
     "execution_count": 5,
     "metadata": {},
     "output_type": "execute_result"
    }
   ],
   "source": [
    "# compute average r g and b components\n",
    "def average_rgb(meme):\n",
    "    r, g, b = cv2.split(meme)\n",
    "    return [r.mean(),g.mean(),b.mean()]\n",
    "\n",
    "# check function\n",
    "average_rgb(meme1)"
   ]
  },
  {
   "cell_type": "code",
   "execution_count": 6,
   "metadata": {},
   "outputs": [],
   "source": [
    "# colors in hsv\n",
    "colors_to_mask = []\n",
    "tan1 = (0, 45, 140)\n",
    "tan2 = (30, 130, 250)\n",
    "colors_to_mask.append([tan1,tan2])\n",
    "light_orange = (1, 190, 200)\n",
    "dark_orange = (18, 255, 255)\n",
    "colors_to_mask.append([light_orange,dark_orange])"
   ]
  },
  {
   "cell_type": "code",
   "execution_count": 7,
   "metadata": {},
   "outputs": [
    {
     "data": {
      "text/plain": [
       "9.71497565221727"
      ]
     },
     "execution_count": 7,
     "metadata": {},
     "output_type": "execute_result"
    }
   ],
   "source": [
    "# function gets data about the amount of one color in image\n",
    "def getColorMask(meme,color1,color2):\n",
    "    hsv_meme1 = cv2.cvtColor(meme, cv2.COLOR_RGB2HSV)\n",
    "    mask = cv2.inRange(hsv_meme1, color1, color2)\n",
    "    result = cv2.bitwise_and(meme, meme, mask=mask)\n",
    "    return (np.sum(mask)/(meme.shape[0]*meme.shape[1]))\n",
    "\n",
    "# check\n",
    "getColorMask(meme1,tan1,tan2)"
   ]
  },
  {
   "cell_type": "code",
   "execution_count": 14,
   "metadata": {},
   "outputs": [
    {
     "name": "stdout",
     "output_type": "stream",
     "text": [
      "seconds to run: 2312.046676\n"
     ]
    }
   ],
   "source": [
    "# loop over rows of data frame and gather average r,g,b and h,s,v data\n",
    "# do this in sections / copy this file and run multiple sections of data simultaneousnessly on different kernel\n",
    "# takes ~7 minutes to run over 500 records\n",
    "avg_hsv_list = []; avg_rgb_list = []; color_list = [[],[]]\n",
    "t0 = time()\n",
    "for df_row in range(0,dframe.shape[0]):\n",
    "    row = dframe.iloc[df_row]; url = row['media']\n",
    "    im = url_to_image(url)\n",
    "    try:\n",
    "        meme = cv2.cvtColor(im, cv2.COLOR_BGR2RGB)\n",
    "        avg_hsv_list.append(average_hsv(meme))\n",
    "        avg_rgb_list.append(average_rgb(meme))\n",
    "        for i in range(0,len(colors_to_mask)):\n",
    "            color_list[i].append(getColorMask(meme,colors_to_mask[i][0],colors_to_mask[i][1]))\n",
    "    except:\n",
    "        avg_hsv_list.append([None,None,None])\n",
    "        avg_rgb_list.append([None,None,None])\n",
    "        color_list[0].append(None); color_list[1].append(None); continue\n",
    "t1 = time()\n",
    "print('seconds to run: %f' %(t1-t0))"
   ]
  },
  {
   "cell_type": "code",
   "execution_count": null,
   "metadata": {},
   "outputs": [],
   "source": [
    "# add attributes to data frame\n",
    "dframe['avg_hue'] = [row[0] for row in avg_hsv_list]\n",
    "dframe['avg_saturation'] = [row[1] for row in avg_hsv_list]\n",
    "dframe['avg_value'] = [row[2] for row in avg_hsv_list]\n",
    "dframe['avg_redRGB'] = [row[0] for row in avg_rgb_list]\n",
    "dframe['avg_greenRGB'] = [row[1] for row in avg_rgb_list]\n",
    "dframe['avg_blueRGB'] = [row[2] for row in avg_rgb_list]\n",
    "dframe['avg_tan'] = color_list[0]\n",
    "dframe['avg_orange'] = color_list[1]"
   ]
  },
  {
   "cell_type": "code",
   "execution_count": null,
   "metadata": {},
   "outputs": [],
   "source": [
    "# save new data frame to json file\n",
    "dframe.to_json(r'./dank_cleaned.json')"
   ]
  }
 ],
 "metadata": {
  "kernelspec": {
   "display_name": "Python 3",
   "language": "python",
   "name": "python3"
  },
  "language_info": {
   "codemirror_mode": {
    "name": "ipython",
    "version": 3
   },
   "file_extension": ".py",
   "mimetype": "text/x-python",
   "name": "python",
   "nbconvert_exporter": "python",
   "pygments_lexer": "ipython3",
   "version": "3.7.7"
  }
 },
 "nbformat": 4,
 "nbformat_minor": 2
}
