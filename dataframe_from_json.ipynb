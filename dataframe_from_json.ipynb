{
 "cells": [
  {
   "cell_type": "code",
   "execution_count": 11,
   "metadata": {},
   "outputs": [],
   "source": [
    "import pandas as pd\n",
    "import json"
   ]
  },
  {
   "cell_type": "code",
   "execution_count": 12,
   "metadata": {},
   "outputs": [],
   "source": [
    "dank = \"memesDatabase_dank_meme.json\"\n",
    "me_irl = \"memeDatabase_me_irl.json\""
   ]
  },
  {
   "cell_type": "code",
   "execution_count": 24,
   "metadata": {},
   "outputs": [],
   "source": [
    "dank_data = pd.read_json(dank)\n",
    "dank_data = dank_data[\"_default\"]"
   ]
  },
  {
   "cell_type": "code",
   "execution_count": 25,
   "metadata": {},
   "outputs": [
    {
     "data": {
      "text/plain": [
       "1      {'title': 'Me when make a combination with wri...\n",
       "10     {'title': 'When you lost your diamond pickaxe'...\n",
       "100    {'title': 'Thank you, very cool', 'thumbnail':...\n",
       "101    {'title': 'Coronavirus good', 'thumbnail': {'t...\n",
       "102    {'title': 'https://www.youtube.com/watch?v=IO9...\n",
       "103    {'title': 'noice', 'thumbnail': {'thumbnail': ...\n",
       "104    {'title': 'why mom', 'thumbnail': {'thumbnail'...\n",
       "105    {'title': 'Heaters do be kinda hungry doe', 't...\n",
       "106    {'title': 'Find it boys', 'thumbnail': {'thumb...\n",
       "107    {'title': 'Find it boys', 'thumbnail': {'thumb...\n",
       "108    {'title': 'Enough is enough', 'thumbnail': {'t...\n",
       "109    {'title': '2 years bröthers', 'thumbnail': {'t...\n",
       "11     {'title': 'Stinky ass', 'thumbnail': {'thumbna...\n",
       "110    {'title': 'A little bit more fun meme', 'thumb...\n",
       "111    {'title': 'Big boss', 'thumbnail': {'thumbnail...\n",
       "112    {'title': 'Ching chang chong, touch me and you...\n",
       "113    {'title': 'Its corona time even in pubg', 'thu...\n",
       "114    {'title': 'Its corona time even in pubg', 'thu...\n",
       "115    {'title': 'my little san andreas', 'thumbnail'...\n",
       "116    {'title': 'Gotta go fast...', 'thumbnail': {'t...\n",
       "117    {'title': 'Me and the boys when she says her p...\n",
       "118    {'title': 'Careful', 'thumbnail': {'thumbnail'...\n",
       "119    {'title': 'Come here Anne', 'thumbnail': {'thu...\n",
       "12     {'title': '...', 'thumbnail': {'thumbnail': 'd...\n",
       "120    {'title': 'LEGO be going crazy', 'thumbnail': ...\n",
       "121    {'title': 'Thicc Stalin property of the ussr',...\n",
       "122    {'title': 'People are insane', 'thumbnail': {'...\n",
       "123    {'title': 'What men really want', 'thumbnail':...\n",
       "124    {'title': 'Nationwide Chansey-based Healthcare...\n",
       "125    {'title': 'crazy mukbang youtuber must be stop...\n",
       "                             ...                        \n",
       "72     {'title': 'That's humanity for you.', 'thumbna...\n",
       "73     {'title': 'It's fasttttyyyyyy', 'thumbnail': {...\n",
       "74     {'title': 'Every time...', 'thumbnail': {'thum...\n",
       "75     {'title': 'The Local Chinese Restaurant Has A ...\n",
       "76     {'title': 'That's it.', 'thumbnail': {'thumbna...\n",
       "77     {'title': 'Me and the boys at 9 grade', 'thumb...\n",
       "78     {'title': 'ok...', 'thumbnail': {'thumbnail': ...\n",
       "79     {'title': 'Can anybody relate?', 'thumbnail': ...\n",
       "8      {'title': 'Gotta Stay fly and Dry', 'thumbnail...\n",
       "80     {'title': 'I feel bad when this happens', 'thu...\n",
       "81     {'title': '2020 be like:', 'thumbnail': {'thum...\n",
       "82     {'title': '2020 be like:', 'thumbnail': {'thum...\n",
       "83     {'title': 'Rousing Covid-19 speeches', 'thumbn...\n",
       "84     {'title': 'No toilet paper!?', 'thumbnail': {'...\n",
       "85     {'title': 'help us!', 'thumbnail': {'thumbnail...\n",
       "86     {'title': 'What I wouldn’t give to be Matt Dam...\n",
       "87     {'title': 'From China with Love', 'thumbnail':...\n",
       "88     {'title': 'Am I the only one who laugh at this...\n",
       "89     {'title': 'Let's get this done FOR THE PEOPLE'...\n",
       "9      {'title': 'Time to get e d g y', 'thumbnail': ...\n",
       "90     {'title': 'When’re people gonna realise', 'thu...\n",
       "91     {'title': 'This is what we need', 'thumbnail':...\n",
       "92     {'title': '...', 'thumbnail': {'thumbnail': 'd...\n",
       "93     {'title': 'Interesting Title', 'thumbnail': {'...\n",
       "94     {'title': 'To antartica it is', 'thumbnail': {...\n",
       "95     {'title': 'This is how my local Walmart feels'...\n",
       "96     {'title': 'Sequel arrived', 'thumbnail': {'thu...\n",
       "97     {'title': 'Sexists are so dumb', 'thumbnail': ...\n",
       "98     {'title': 'Reality can be whatever I want', 't...\n",
       "99     {'title': 'The art of the trade', 'thumbnail':...\n",
       "Name: _default, Length: 639, dtype: object"
      ]
     },
     "execution_count": 25,
     "metadata": {},
     "output_type": "execute_result"
    }
   ],
   "source": [
    "dank_data"
   ]
  },
  {
   "cell_type": "code",
   "execution_count": null,
   "metadata": {},
   "outputs": [],
   "source": []
  }
 ],
 "metadata": {
  "kernelspec": {
   "display_name": "Python 3",
   "language": "python",
   "name": "python3"
  },
  "language_info": {
   "codemirror_mode": {
    "name": "ipython",
    "version": 3
   },
   "file_extension": ".py",
   "mimetype": "text/x-python",
   "name": "python",
   "nbconvert_exporter": "python",
   "pygments_lexer": "ipython3",
   "version": "3.7.3"
  }
 },
 "nbformat": 4,
 "nbformat_minor": 2
}
