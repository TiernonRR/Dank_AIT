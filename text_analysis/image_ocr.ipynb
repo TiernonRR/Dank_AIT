{
 "cells": [
  {
   "cell_type": "code",
   "execution_count": null,
   "metadata": {},
   "outputs": [],
   "source": [
    "import time \n",
    "import pandas as pd\n",
    "\n",
    "dank_data = pd.read_csv(\"./dank_with_timeOfDay.csv\", delimiter = \",\")"
   ]
  },
  {
   "cell_type": "code",
   "execution_count": null,
   "metadata": {},
   "outputs": [],
   "source": [
    "dank_data.insert(3, \"text_from_image\", \"NotStarted\") "
   ]
  },
  {
   "cell_type": "code",
   "execution_count": null,
   "metadata": {},
   "outputs": [],
   "source": [
    "# using https://ocr.space/OCRAPI to convert immage to text\n",
    "import requests\n",
    "\n",
    "def ocr_space_url(url, overlay=False, api_key='xxxxxxxxx', language='eng'):\n",
    "    payload = {'url': url,\n",
    "               'isOverlayRequired': overlay,\n",
    "               'apikey': api_key,\n",
    "               'language': language,\n",
    "               }\n",
    "    r = requests.post('https://apipro1.ocr.space/parse/image',\n",
    "\n",
    "                      data=payload,\n",
    "                      )\n",
    "    return r.content.decode()"
   ]
  },
  {
   "cell_type": "code",
   "execution_count": null,
   "metadata": {},
   "outputs": [],
   "source": [
    "import json \n",
    "from pandas.io.json import json_normalize\n",
    "for ind in dank_data.index: \n",
    "    if dank_data['text_from_image'][ind] == 'NotStarted':\n",
    "        url_link = dank_data['media'][ind]\n",
    "        json_string = json.loads(ocr_space_url(url_link))\n",
    "        try:\n",
    "            ocr_meme_text = str(json_string['ParsedResults'][0]['ParsedText']) \n",
    "        except:\n",
    "            ocr_meme_text = 'Fail'\n",
    "        dank_data['text_from_image'][ind] = ocr_meme_text "
   ]
  },
  {
   "cell_type": "code",
   "execution_count": null,
   "metadata": {},
   "outputs": [],
   "source": [
    "dank_data.to_csv('data_ocr.csv', index = False)"
   ]
  }
 ],
 "metadata": {
  "kernelspec": {
   "display_name": "Python 3",
   "language": "python",
   "name": "python3"
  },
  "language_info": {
   "codemirror_mode": {
    "name": "ipython",
    "version": 3
   },
   "file_extension": ".py",
   "mimetype": "text/x-python",
   "name": "python",
   "nbconvert_exporter": "python",
   "pygments_lexer": "ipython3",
   "version": "3.7.6"
  }
 },
 "nbformat": 4,
 "nbformat_minor": 2
}
