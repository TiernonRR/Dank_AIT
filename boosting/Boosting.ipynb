{
 "cells": [
  {
   "cell_type": "code",
   "execution_count": 2,
   "metadata": {},
   "outputs": [],
   "source": [
    "import pandas as pd\n",
    "import seaborn as sns\n",
    "import matplotlib.pyplot as plt\n",
    "import numpy as np\n",
    "%matplotlib inline"
   ]
  },
  {
   "cell_type": "code",
   "execution_count": 3,
   "metadata": {},
   "outputs": [],
   "source": [
    "from sklearn.ensemble import GradientBoostingRegressor, GradientBoostingClassifier"
   ]
  },
  {
   "cell_type": "code",
   "execution_count": 4,
   "metadata": {},
   "outputs": [],
   "source": [
    "dank_data = pd.read_json(\"../image_analysis/dank_cleaned2.json\")"
   ]
  },
  {
   "cell_type": "code",
   "execution_count": 5,
   "metadata": {},
   "outputs": [
    {
     "data": {
      "text/plain": [
       "(24115, 26)"
      ]
     },
     "execution_count": 5,
     "metadata": {},
     "output_type": "execute_result"
    }
   ],
   "source": [
    "dank_data.shape"
   ]
  },
  {
   "cell_type": "code",
   "execution_count": 6,
   "metadata": {},
   "outputs": [
    {
     "data": {
      "text/plain": [
       "Text(0, 0.5, 'Upvote Concentration')"
      ]
     },
     "execution_count": 6,
     "metadata": {},
     "output_type": "execute_result"
    },
    {
     "data": {
      "image/png": "[encoded data removed]",
      "text/plain": [
       "<Figure size 432x288 with 1 Axes>"
      ]
     },
     "metadata": {
      "needs_background": "light"
     },
     "output_type": "display_data"
    }
   ],
   "source": [
    "sns.distplot(dank_data['ups']).set_title('Upvote Distribution')\n",
    "plt.ylabel('Upvote Concentration')"
   ]
  },
  {
   "cell_type": "code",
   "execution_count": 7,
   "metadata": {},
   "outputs": [],
   "source": [
    "dank_data = dank_data.dropna()"
   ]
  },
  {
   "cell_type": "code",
   "execution_count": 8,
   "metadata": {},
   "outputs": [],
   "source": [
    "words_count = {}\n",
    "for words in dank_data['processed_words']:\n",
    "    for word in words:\n",
    "        if word not in words_count:\n",
    "            words_count[word] = 1\n",
    "        else:\n",
    "            words_count[word] += 1"
   ]
  },
  {
   "cell_type": "code",
   "execution_count": 9,
   "metadata": {},
   "outputs": [],
   "source": [
    "words_count\n",
    "top_ten = list({k: v for k, v in sorted(words_count.items(), key = lambda item: item[1], reverse=True)}.keys())[0:10]"
   ]
  },
  {
   "cell_type": "code",
   "execution_count": 10,
   "metadata": {},
   "outputs": [],
   "source": [
    "for w in top_ten:\n",
    "    dank_data[w] = pd.Series(np.zeros(24115, dtype=int))"
   ]
  },
  {
   "cell_type": "code",
   "execution_count": 11,
   "metadata": {},
   "outputs": [
    {
     "data": {
      "text/html": [
       "<div>\n",
       "<style scoped>\n",
       "    .dataframe tbody tr th:only-of-type {\n",
       "        vertical-align: middle;\n",
       "    }\n",
       "\n",
       "    .dataframe tbody tr th {\n",
       "        vertical-align: top;\n",
       "    }\n",
       "\n",
       "    .dataframe thead th {\n",
       "        text-align: right;\n",
       "    }\n",
       "</style>\n",
       "<table border=\"1\" class=\"dataframe\">\n",
       "  <thead>\n",
       "    <tr style=\"text-align: right;\">\n",
       "      <th></th>\n",
       "      <th>author</th>\n",
       "      <th>awards</th>\n",
       "      <th>created_utc</th>\n",
       "      <th>text_from_image</th>\n",
       "      <th>words</th>\n",
       "      <th>processed_words</th>\n",
       "      <th>downs</th>\n",
       "      <th>id</th>\n",
       "      <th>is_nsfw</th>\n",
       "      <th>media</th>\n",
       "      <th>...</th>\n",
       "      <th>meme</th>\n",
       "      <th>reddit</th>\n",
       "      <th>coronavirus</th>\n",
       "      <th>like</th>\n",
       "      <th>toilet</th>\n",
       "      <th>paper</th>\n",
       "      <th>corona</th>\n",
       "      <th>peopl</th>\n",
       "      <th>post</th>\n",
       "      <th>time</th>\n",
       "    </tr>\n",
       "  </thead>\n",
       "  <tbody>\n",
       "    <tr>\n",
       "      <td>1</td>\n",
       "      <td>L71U</td>\n",
       "      <td>[]</td>\n",
       "      <td>1584295514</td>\n",
       "      <td>NICE DICK\\r\\n</td>\n",
       "      <td>Ricardo😎NICE DICK\\r\\n</td>\n",
       "      <td>[ricardo, nice, dick]</td>\n",
       "      <td>0</td>\n",
       "      <td>fj5ixk</td>\n",
       "      <td>False</td>\n",
       "      <td>https://i.redd.it/w6acm47gmvm41.jpg</td>\n",
       "      <td>...</td>\n",
       "      <td>0.0</td>\n",
       "      <td>0.0</td>\n",
       "      <td>0.0</td>\n",
       "      <td>0.0</td>\n",
       "      <td>0.0</td>\n",
       "      <td>0.0</td>\n",
       "      <td>0.0</td>\n",
       "      <td>0.0</td>\n",
       "      <td>0.0</td>\n",
       "      <td>0.0</td>\n",
       "    </tr>\n",
       "    <tr>\n",
       "      <td>2</td>\n",
       "      <td>Awesome-ness5</td>\n",
       "      <td>[]</td>\n",
       "      <td>1584294841</td>\n",
       "      <td>Nvidia's calling on gaming PC owners to\\r\\nput...</td>\n",
       "      <td>Gamers AssembleNvidia's calling on gaming PC o...</td>\n",
       "      <td>[gamer, assemblenvidia, call, game, owner, sys...</td>\n",
       "      <td>0</td>\n",
       "      <td>fj5bzj</td>\n",
       "      <td>False</td>\n",
       "      <td>https://i.redd.it/bqawbb5gkvm41.jpg</td>\n",
       "      <td>...</td>\n",
       "      <td>0.0</td>\n",
       "      <td>0.0</td>\n",
       "      <td>0.0</td>\n",
       "      <td>0.0</td>\n",
       "      <td>0.0</td>\n",
       "      <td>0.0</td>\n",
       "      <td>0.0</td>\n",
       "      <td>0.0</td>\n",
       "      <td>0.0</td>\n",
       "      <td>0.0</td>\n",
       "    </tr>\n",
       "    <tr>\n",
       "      <td>7</td>\n",
       "      <td>notaspop</td>\n",
       "      <td>[]</td>\n",
       "      <td>1584293653</td>\n",
       "      <td>When you post a low-effort meme\\r\\nfor fun to ...</td>\n",
       "      <td>I mean.... Not Corona time?When you post a low...</td>\n",
       "      <td>[mean, corona, time, post, effort, meme, peopl...</td>\n",
       "      <td>0</td>\n",
       "      <td>fj50df</td>\n",
       "      <td>False</td>\n",
       "      <td>https://i.redd.it/v5pea6wwgvm41.jpg</td>\n",
       "      <td>...</td>\n",
       "      <td>0.0</td>\n",
       "      <td>0.0</td>\n",
       "      <td>0.0</td>\n",
       "      <td>0.0</td>\n",
       "      <td>0.0</td>\n",
       "      <td>0.0</td>\n",
       "      <td>0.0</td>\n",
       "      <td>0.0</td>\n",
       "      <td>0.0</td>\n",
       "      <td>0.0</td>\n",
       "    </tr>\n",
       "    <tr>\n",
       "      <td>8</td>\n",
       "      <td>Gaunja420</td>\n",
       "      <td>[]</td>\n",
       "      <td>1584293617</td>\n",
       "      <td>H A p pyt1A\\r\\n</td>\n",
       "      <td>WheNH A p pyt1A\\r\\n</td>\n",
       "      <td>[whenh]</td>\n",
       "      <td>0</td>\n",
       "      <td>fj501g</td>\n",
       "      <td>False</td>\n",
       "      <td>https://i.redd.it/809pja1tgvm41.gif</td>\n",
       "      <td>...</td>\n",
       "      <td>0.0</td>\n",
       "      <td>0.0</td>\n",
       "      <td>0.0</td>\n",
       "      <td>0.0</td>\n",
       "      <td>0.0</td>\n",
       "      <td>0.0</td>\n",
       "      <td>0.0</td>\n",
       "      <td>0.0</td>\n",
       "      <td>0.0</td>\n",
       "      <td>0.0</td>\n",
       "    </tr>\n",
       "    <tr>\n",
       "      <td>9</td>\n",
       "      <td>In_An_Elmo_Cult</td>\n",
       "      <td>[]</td>\n",
       "      <td>1584293448</td>\n",
       "      <td>All of the internet:\\r\\nHe •I've seen this one...</td>\n",
       "      <td>.All of the internet:\\r\\nHe •I've seen this on...</td>\n",
       "      <td>[internet, see, internet, explor, whatdo, mean...</td>\n",
       "      <td>0</td>\n",
       "      <td>fj4ycc</td>\n",
       "      <td>False</td>\n",
       "      <td>https://i.redd.it/hakptfr2gvm41.png</td>\n",
       "      <td>...</td>\n",
       "      <td>0.0</td>\n",
       "      <td>0.0</td>\n",
       "      <td>0.0</td>\n",
       "      <td>0.0</td>\n",
       "      <td>0.0</td>\n",
       "      <td>0.0</td>\n",
       "      <td>0.0</td>\n",
       "      <td>0.0</td>\n",
       "      <td>0.0</td>\n",
       "      <td>0.0</td>\n",
       "    </tr>\n",
       "    <tr>\n",
       "      <td>...</td>\n",
       "      <td>...</td>\n",
       "      <td>...</td>\n",
       "      <td>...</td>\n",
       "      <td>...</td>\n",
       "      <td>...</td>\n",
       "      <td>...</td>\n",
       "      <td>...</td>\n",
       "      <td>...</td>\n",
       "      <td>...</td>\n",
       "      <td>...</td>\n",
       "      <td>...</td>\n",
       "      <td>...</td>\n",
       "      <td>...</td>\n",
       "      <td>...</td>\n",
       "      <td>...</td>\n",
       "      <td>...</td>\n",
       "      <td>...</td>\n",
       "      <td>...</td>\n",
       "      <td>...</td>\n",
       "      <td>...</td>\n",
       "      <td>...</td>\n",
       "    </tr>\n",
       "    <tr>\n",
       "      <td>38026</td>\n",
       "      <td>Caramelboi37</td>\n",
       "      <td>[]</td>\n",
       "      <td>1584120545</td>\n",
       "      <td>Add one word and repost this, soon we Will\\r\\n...</td>\n",
       "      <td>PleaseAdd one word and repost this, soon we Wi...</td>\n",
       "      <td>[pleaseadd, word, repost, soon, greatest, shor...</td>\n",
       "      <td>0</td>\n",
       "      <td>fi3c0z</td>\n",
       "      <td>False</td>\n",
       "      <td>https://i.redd.it/pwcwyle66hm41.jpg</td>\n",
       "      <td>...</td>\n",
       "      <td>NaN</td>\n",
       "      <td>NaN</td>\n",
       "      <td>NaN</td>\n",
       "      <td>NaN</td>\n",
       "      <td>NaN</td>\n",
       "      <td>NaN</td>\n",
       "      <td>NaN</td>\n",
       "      <td>NaN</td>\n",
       "      <td>NaN</td>\n",
       "      <td>NaN</td>\n",
       "    </tr>\n",
       "    <tr>\n",
       "      <td>38029</td>\n",
       "      <td>KyleSirTalksAlotYT</td>\n",
       "      <td>[]</td>\n",
       "      <td>1584120533</td>\n",
       "      <td>When you can't find the original\\r\\nThanos quo...</td>\n",
       "      <td>I watched this episode and thought I could use...</td>\n",
       "      <td>[watch, episod, think, meme, origin, thano, qu...</td>\n",
       "      <td>0</td>\n",
       "      <td>fi3bxg</td>\n",
       "      <td>False</td>\n",
       "      <td>https://i.redd.it/xyowc7756hm41.jpg</td>\n",
       "      <td>...</td>\n",
       "      <td>NaN</td>\n",
       "      <td>NaN</td>\n",
       "      <td>NaN</td>\n",
       "      <td>NaN</td>\n",
       "      <td>NaN</td>\n",
       "      <td>NaN</td>\n",
       "      <td>NaN</td>\n",
       "      <td>NaN</td>\n",
       "      <td>NaN</td>\n",
       "      <td>NaN</td>\n",
       "    </tr>\n",
       "    <tr>\n",
       "      <td>38032</td>\n",
       "      <td>Joeniek</td>\n",
       "      <td>[]</td>\n",
       "      <td>1584120516</td>\n",
       "      <td>UVE\\r\\nBREAKING NEWS\\r\\nCOVID-19 FOUND IN TOIL...</td>\n",
       "      <td>Look at thatUVE\\r\\nBREAKING NEWS\\r\\nCOVID-19 F...</td>\n",
       "      <td>[look, thatuv, break, news, covid, toilet, pap...</td>\n",
       "      <td>0</td>\n",
       "      <td>fi3bsv</td>\n",
       "      <td>False</td>\n",
       "      <td>https://i.redd.it/1qv2uk936hm41.jpg</td>\n",
       "      <td>...</td>\n",
       "      <td>NaN</td>\n",
       "      <td>NaN</td>\n",
       "      <td>NaN</td>\n",
       "      <td>NaN</td>\n",
       "      <td>NaN</td>\n",
       "      <td>NaN</td>\n",
       "      <td>NaN</td>\n",
       "      <td>NaN</td>\n",
       "      <td>NaN</td>\n",
       "      <td>NaN</td>\n",
       "    </tr>\n",
       "    <tr>\n",
       "      <td>38033</td>\n",
       "      <td>5k3tchy</td>\n",
       "      <td>[]</td>\n",
       "      <td>1584120513</td>\n",
       "      <td>When I remind myself about\\r\\ncompliment that ...</td>\n",
       "      <td>That made me feel good about myself.When I rem...</td>\n",
       "      <td>[feel, good, remind, compliment, tell, year]</td>\n",
       "      <td>0</td>\n",
       "      <td>fi3bru</td>\n",
       "      <td>False</td>\n",
       "      <td>https://i.redd.it/pi0wpta26hm41.jpg</td>\n",
       "      <td>...</td>\n",
       "      <td>NaN</td>\n",
       "      <td>NaN</td>\n",
       "      <td>NaN</td>\n",
       "      <td>NaN</td>\n",
       "      <td>NaN</td>\n",
       "      <td>NaN</td>\n",
       "      <td>NaN</td>\n",
       "      <td>NaN</td>\n",
       "      <td>NaN</td>\n",
       "      <td>NaN</td>\n",
       "    </tr>\n",
       "    <tr>\n",
       "      <td>38034</td>\n",
       "      <td>5k3tchy</td>\n",
       "      <td>[]</td>\n",
       "      <td>1584120512</td>\n",
       "      <td>When I remind myself about\\r\\ncompliment that ...</td>\n",
       "      <td>That made me feel good about myself.When I rem...</td>\n",
       "      <td>[feel, good, remind, compliment, tell, year]</td>\n",
       "      <td>0</td>\n",
       "      <td>fi3bro</td>\n",
       "      <td>False</td>\n",
       "      <td>https://i.redd.it/ydyr7y126hm41.jpg</td>\n",
       "      <td>...</td>\n",
       "      <td>NaN</td>\n",
       "      <td>NaN</td>\n",
       "      <td>NaN</td>\n",
       "      <td>NaN</td>\n",
       "      <td>NaN</td>\n",
       "      <td>NaN</td>\n",
       "      <td>NaN</td>\n",
       "      <td>NaN</td>\n",
       "      <td>NaN</td>\n",
       "      <td>NaN</td>\n",
       "    </tr>\n",
       "  </tbody>\n",
       "</table>\n",
       "<p>24115 rows × 36 columns</p>\n",
       "</div>"
      ],
      "text/plain": [
       "                   author awards  created_utc  \\\n",
       "1                    L71U     []   1584295514   \n",
       "2           Awesome-ness5     []   1584294841   \n",
       "7                notaspop     []   1584293653   \n",
       "8               Gaunja420     []   1584293617   \n",
       "9         In_An_Elmo_Cult     []   1584293448   \n",
       "...                   ...    ...          ...   \n",
       "38026        Caramelboi37     []   1584120545   \n",
       "38029  KyleSirTalksAlotYT     []   1584120533   \n",
       "38032             Joeniek     []   1584120516   \n",
       "38033             5k3tchy     []   1584120513   \n",
       "38034             5k3tchy     []   1584120512   \n",
       "\n",
       "                                         text_from_image  \\\n",
       "1                                          NICE DICK\\r\\n   \n",
       "2      Nvidia's calling on gaming PC owners to\\r\\nput...   \n",
       "7      When you post a low-effort meme\\r\\nfor fun to ...   \n",
       "8                                        H A p pyt1A\\r\\n   \n",
       "9      All of the internet:\\r\\nHe •I've seen this one...   \n",
       "...                                                  ...   \n",
       "38026  Add one word and repost this, soon we Will\\r\\n...   \n",
       "38029  When you can't find the original\\r\\nThanos quo...   \n",
       "38032  UVE\\r\\nBREAKING NEWS\\r\\nCOVID-19 FOUND IN TOIL...   \n",
       "38033  When I remind myself about\\r\\ncompliment that ...   \n",
       "38034  When I remind myself about\\r\\ncompliment that ...   \n",
       "\n",
       "                                                   words  \\\n",
       "1                                  Ricardo😎NICE DICK\\r\\n   \n",
       "2      Gamers AssembleNvidia's calling on gaming PC o...   \n",
       "7      I mean.... Not Corona time?When you post a low...   \n",
       "8                                    WheNH A p pyt1A\\r\\n   \n",
       "9      .All of the internet:\\r\\nHe •I've seen this on...   \n",
       "...                                                  ...   \n",
       "38026  PleaseAdd one word and repost this, soon we Wi...   \n",
       "38029  I watched this episode and thought I could use...   \n",
       "38032  Look at thatUVE\\r\\nBREAKING NEWS\\r\\nCOVID-19 F...   \n",
       "38033  That made me feel good about myself.When I rem...   \n",
       "38034  That made me feel good about myself.When I rem...   \n",
       "\n",
       "                                         processed_words  downs      id  \\\n",
       "1                                  [ricardo, nice, dick]      0  fj5ixk   \n",
       "2      [gamer, assemblenvidia, call, game, owner, sys...      0  fj5bzj   \n",
       "7      [mean, corona, time, post, effort, meme, peopl...      0  fj50df   \n",
       "8                                                [whenh]      0  fj501g   \n",
       "9      [internet, see, internet, explor, whatdo, mean...      0  fj4ycc   \n",
       "...                                                  ...    ...     ...   \n",
       "38026  [pleaseadd, word, repost, soon, greatest, shor...      0  fi3c0z   \n",
       "38029  [watch, episod, think, meme, origin, thano, qu...      0  fi3bxg   \n",
       "38032  [look, thatuv, break, news, covid, toilet, pap...      0  fi3bsv   \n",
       "38033       [feel, good, remind, compliment, tell, year]      0  fi3bru   \n",
       "38034       [feel, good, remind, compliment, tell, year]      0  fi3bro   \n",
       "\n",
       "       is_nsfw                                media  ... meme  reddit  \\\n",
       "1        False  https://i.redd.it/w6acm47gmvm41.jpg  ...  0.0     0.0   \n",
       "2        False  https://i.redd.it/bqawbb5gkvm41.jpg  ...  0.0     0.0   \n",
       "7        False  https://i.redd.it/v5pea6wwgvm41.jpg  ...  0.0     0.0   \n",
       "8        False  https://i.redd.it/809pja1tgvm41.gif  ...  0.0     0.0   \n",
       "9        False  https://i.redd.it/hakptfr2gvm41.png  ...  0.0     0.0   \n",
       "...        ...                                  ...  ...  ...     ...   \n",
       "38026    False  https://i.redd.it/pwcwyle66hm41.jpg  ...  NaN     NaN   \n",
       "38029    False  https://i.redd.it/xyowc7756hm41.jpg  ...  NaN     NaN   \n",
       "38032    False  https://i.redd.it/1qv2uk936hm41.jpg  ...  NaN     NaN   \n",
       "38033    False  https://i.redd.it/pi0wpta26hm41.jpg  ...  NaN     NaN   \n",
       "38034    False  https://i.redd.it/ydyr7y126hm41.jpg  ...  NaN     NaN   \n",
       "\n",
       "       coronavirus like  toilet paper  corona peopl  post  time  \n",
       "1              0.0  0.0     0.0   0.0     0.0   0.0   0.0   0.0  \n",
       "2              0.0  0.0     0.0   0.0     0.0   0.0   0.0   0.0  \n",
       "7              0.0  0.0     0.0   0.0     0.0   0.0   0.0   0.0  \n",
       "8              0.0  0.0     0.0   0.0     0.0   0.0   0.0   0.0  \n",
       "9              0.0  0.0     0.0   0.0     0.0   0.0   0.0   0.0  \n",
       "...            ...  ...     ...   ...     ...   ...   ...   ...  \n",
       "38026          NaN  NaN     NaN   NaN     NaN   NaN   NaN   NaN  \n",
       "38029          NaN  NaN     NaN   NaN     NaN   NaN   NaN   NaN  \n",
       "38032          NaN  NaN     NaN   NaN     NaN   NaN   NaN   NaN  \n",
       "38033          NaN  NaN     NaN   NaN     NaN   NaN   NaN   NaN  \n",
       "38034          NaN  NaN     NaN   NaN     NaN   NaN   NaN   NaN  \n",
       "\n",
       "[24115 rows x 36 columns]"
      ]
     },
     "execution_count": 11,
     "metadata": {},
     "output_type": "execute_result"
    }
   ],
   "source": [
    "dank_data"
   ]
  },
  {
   "cell_type": "code",
   "execution_count": 12,
   "metadata": {},
   "outputs": [
    {
     "data": {
      "text/plain": [
       "1        4.709897e-05\n",
       "2        1.480253e-05\n",
       "7        1.345685e-06\n",
       "8        1.345685e-06\n",
       "9        1.345685e-06\n",
       "             ...     \n",
       "38026    1.051794e-07\n",
       "38029    4.943432e-06\n",
       "38032    1.220081e-05\n",
       "38033    2.103588e-06\n",
       "38034    9.466146e-07\n",
       "Name: ups_normed, Length: 24115, dtype: float64"
      ]
     },
     "execution_count": 12,
     "metadata": {},
     "output_type": "execute_result"
    }
   ],
   "source": [
    "def normalize(x):\n",
    "    return x['ups'] / x['subscribers']\n",
    "\n",
    "dank_data['ups_normed'] = dank_data.apply(normalize, axis=1)\n",
    "dank_data['ups_normed']"
   ]
  },
  {
   "cell_type": "code",
   "execution_count": 13,
   "metadata": {},
   "outputs": [
    {
     "data": {
      "text/plain": [
       "1        0\n",
       "2        0\n",
       "7        0\n",
       "8        0\n",
       "9        0\n",
       "        ..\n",
       "38026    0\n",
       "38029    0\n",
       "38032    0\n",
       "38033    0\n",
       "38034    0\n",
       "Name: is_nsfw, Length: 24115, dtype: int64"
      ]
     },
     "execution_count": 13,
     "metadata": {},
     "output_type": "execute_result"
    }
   ],
   "source": [
    "def f(x):\n",
    "    return int(x['is_nsfw'])\n",
    "\n",
    "dank_data['is_nsfw'] = dank_data.apply(f, axis=1)\n",
    "dank_data['is_nsfw']"
   ]
  },
  {
   "cell_type": "code",
   "execution_count": 14,
   "metadata": {},
   "outputs": [
    {
     "data": {
      "text/plain": [
       "(24115, 37)"
      ]
     },
     "execution_count": 14,
     "metadata": {},
     "output_type": "execute_result"
    }
   ],
   "source": [
    "dank_data.shape"
   ]
  },
  {
   "cell_type": "code",
   "execution_count": 15,
   "metadata": {},
   "outputs": [
    {
     "data": {
      "text/plain": [
       "array(['r/dank_meme', 'r/dankmeme', 'r/me_irl', 'r/MemeEconomy',\n",
       "       'r/memes'], dtype=object)"
      ]
     },
     "execution_count": 15,
     "metadata": {},
     "output_type": "execute_result"
    }
   ],
   "source": [
    "dank_data[\"subreddit\"].unique()"
   ]
  },
  {
   "cell_type": "code",
   "execution_count": 16,
   "metadata": {},
   "outputs": [],
   "source": [
    "dank_data = dank_data.drop(columns = [\"id\", \"ups\",\"downs\", \"words\", \"text_from_image\",\"media\", \"url\", \"awards\", \"author\", \"title\"])"
   ]
  },
  {
   "cell_type": "markdown",
   "metadata": {},
   "source": [
    "Convert thumbnail column to binary data column that indicates whether the thumbnail is default or not."
   ]
  },
  {
   "cell_type": "code",
   "execution_count": 17,
   "metadata": {},
   "outputs": [],
   "source": [
    "mapping = {\"r/me_irl\":0, \"r/dank_meme\":1, \"r/dankmeme\":2, \"r/MemeEconomy\":3, \"r/memes\":4}\n",
    "\n",
    "dank_data[\"thumbnail.thumbnail\"] = [int(t == \"default\") for t in dank_data[\"thumbnail.thumbnail\"]]\n",
    "dank_data[\"subreddit\"] = dank_data[\"subreddit\"].map(mapping)"
   ]
  },
  {
   "cell_type": "markdown",
   "metadata": {},
   "source": [
    "Convert processed words column to TF-IDF vector to gain understanding of the words' contribution to popularity. "
   ]
  },
  {
   "cell_type": "code",
   "execution_count": 18,
   "metadata": {},
   "outputs": [
    {
     "data": {
      "text/html": [
       "<div>\n",
       "<style scoped>\n",
       "    .dataframe tbody tr th:only-of-type {\n",
       "        vertical-align: middle;\n",
       "    }\n",
       "\n",
       "    .dataframe tbody tr th {\n",
       "        vertical-align: top;\n",
       "    }\n",
       "\n",
       "    .dataframe thead th {\n",
       "        text-align: right;\n",
       "    }\n",
       "</style>\n",
       "<table border=\"1\" class=\"dataframe\">\n",
       "  <thead>\n",
       "    <tr style=\"text-align: right;\">\n",
       "      <th></th>\n",
       "      <th>created_utc</th>\n",
       "      <th>processed_words</th>\n",
       "      <th>is_nsfw</th>\n",
       "      <th>subreddit</th>\n",
       "      <th>subscribers</th>\n",
       "      <th>thumbnail.height</th>\n",
       "      <th>thumbnail.thumbnail</th>\n",
       "      <th>thumbnail.width</th>\n",
       "      <th>avg_hue</th>\n",
       "      <th>avg_saturation</th>\n",
       "      <th>...</th>\n",
       "      <th>reddit</th>\n",
       "      <th>coronavirus</th>\n",
       "      <th>like</th>\n",
       "      <th>toilet</th>\n",
       "      <th>paper</th>\n",
       "      <th>corona</th>\n",
       "      <th>peopl</th>\n",
       "      <th>post</th>\n",
       "      <th>time</th>\n",
       "      <th>ups_normed</th>\n",
       "    </tr>\n",
       "  </thead>\n",
       "  <tbody>\n",
       "    <tr>\n",
       "      <td>1</td>\n",
       "      <td>1584295514</td>\n",
       "      <td>[ricardo, nice, dick]</td>\n",
       "      <td>0</td>\n",
       "      <td>1</td>\n",
       "      <td>743116</td>\n",
       "      <td>136</td>\n",
       "      <td>0</td>\n",
       "      <td>140</td>\n",
       "      <td>30.615726</td>\n",
       "      <td>54.625239</td>\n",
       "      <td>...</td>\n",
       "      <td>0</td>\n",
       "      <td>0</td>\n",
       "      <td>0</td>\n",
       "      <td>0</td>\n",
       "      <td>0</td>\n",
       "      <td>0</td>\n",
       "      <td>0</td>\n",
       "      <td>0</td>\n",
       "      <td>0</td>\n",
       "      <td>4.709897e-05</td>\n",
       "    </tr>\n",
       "    <tr>\n",
       "      <td>2</td>\n",
       "      <td>1584294841</td>\n",
       "      <td>[gamer, assemblenvidia, call, game, owner, sys...</td>\n",
       "      <td>0</td>\n",
       "      <td>1</td>\n",
       "      <td>743116</td>\n",
       "      <td>140</td>\n",
       "      <td>0</td>\n",
       "      <td>140</td>\n",
       "      <td>24.111360</td>\n",
       "      <td>54.654363</td>\n",
       "      <td>...</td>\n",
       "      <td>0</td>\n",
       "      <td>0</td>\n",
       "      <td>0</td>\n",
       "      <td>0</td>\n",
       "      <td>0</td>\n",
       "      <td>0</td>\n",
       "      <td>0</td>\n",
       "      <td>0</td>\n",
       "      <td>0</td>\n",
       "      <td>1.480253e-05</td>\n",
       "    </tr>\n",
       "    <tr>\n",
       "      <td>7</td>\n",
       "      <td>1584293653</td>\n",
       "      <td>[mean, corona, time, post, effort, meme, peopl...</td>\n",
       "      <td>0</td>\n",
       "      <td>1</td>\n",
       "      <td>743116</td>\n",
       "      <td>140</td>\n",
       "      <td>1</td>\n",
       "      <td>140</td>\n",
       "      <td>24.042466</td>\n",
       "      <td>31.159050</td>\n",
       "      <td>...</td>\n",
       "      <td>0</td>\n",
       "      <td>0</td>\n",
       "      <td>0</td>\n",
       "      <td>0</td>\n",
       "      <td>0</td>\n",
       "      <td>1</td>\n",
       "      <td>1</td>\n",
       "      <td>1</td>\n",
       "      <td>1</td>\n",
       "      <td>1.345685e-06</td>\n",
       "    </tr>\n",
       "    <tr>\n",
       "      <td>8</td>\n",
       "      <td>1584293617</td>\n",
       "      <td>[whenh]</td>\n",
       "      <td>0</td>\n",
       "      <td>1</td>\n",
       "      <td>743116</td>\n",
       "      <td>140</td>\n",
       "      <td>1</td>\n",
       "      <td>140</td>\n",
       "      <td>44.428757</td>\n",
       "      <td>66.669514</td>\n",
       "      <td>...</td>\n",
       "      <td>0</td>\n",
       "      <td>0</td>\n",
       "      <td>0</td>\n",
       "      <td>0</td>\n",
       "      <td>0</td>\n",
       "      <td>0</td>\n",
       "      <td>0</td>\n",
       "      <td>0</td>\n",
       "      <td>0</td>\n",
       "      <td>1.345685e-06</td>\n",
       "    </tr>\n",
       "    <tr>\n",
       "      <td>9</td>\n",
       "      <td>1584293448</td>\n",
       "      <td>[internet, see, internet, explor, whatdo, mean...</td>\n",
       "      <td>0</td>\n",
       "      <td>1</td>\n",
       "      <td>743116</td>\n",
       "      <td>140</td>\n",
       "      <td>1</td>\n",
       "      <td>140</td>\n",
       "      <td>15.506512</td>\n",
       "      <td>27.647186</td>\n",
       "      <td>...</td>\n",
       "      <td>0</td>\n",
       "      <td>0</td>\n",
       "      <td>0</td>\n",
       "      <td>0</td>\n",
       "      <td>0</td>\n",
       "      <td>0</td>\n",
       "      <td>0</td>\n",
       "      <td>0</td>\n",
       "      <td>0</td>\n",
       "      <td>1.345685e-06</td>\n",
       "    </tr>\n",
       "    <tr>\n",
       "      <td>...</td>\n",
       "      <td>...</td>\n",
       "      <td>...</td>\n",
       "      <td>...</td>\n",
       "      <td>...</td>\n",
       "      <td>...</td>\n",
       "      <td>...</td>\n",
       "      <td>...</td>\n",
       "      <td>...</td>\n",
       "      <td>...</td>\n",
       "      <td>...</td>\n",
       "      <td>...</td>\n",
       "      <td>...</td>\n",
       "      <td>...</td>\n",
       "      <td>...</td>\n",
       "      <td>...</td>\n",
       "      <td>...</td>\n",
       "      <td>...</td>\n",
       "      <td>...</td>\n",
       "      <td>...</td>\n",
       "      <td>...</td>\n",
       "      <td>...</td>\n",
       "    </tr>\n",
       "    <tr>\n",
       "      <td>38026</td>\n",
       "      <td>1584120545</td>\n",
       "      <td>[pleaseadd, word, repost, soon, greatest, shor...</td>\n",
       "      <td>0</td>\n",
       "      <td>4</td>\n",
       "      <td>9507565</td>\n",
       "      <td>125</td>\n",
       "      <td>1</td>\n",
       "      <td>140</td>\n",
       "      <td>36.669186</td>\n",
       "      <td>55.179987</td>\n",
       "      <td>...</td>\n",
       "      <td>0</td>\n",
       "      <td>0</td>\n",
       "      <td>0</td>\n",
       "      <td>0</td>\n",
       "      <td>0</td>\n",
       "      <td>0</td>\n",
       "      <td>0</td>\n",
       "      <td>0</td>\n",
       "      <td>0</td>\n",
       "      <td>1.051794e-07</td>\n",
       "    </tr>\n",
       "    <tr>\n",
       "      <td>38029</td>\n",
       "      <td>1584120533</td>\n",
       "      <td>[watch, episod, think, meme, origin, thano, qu...</td>\n",
       "      <td>0</td>\n",
       "      <td>4</td>\n",
       "      <td>9507565</td>\n",
       "      <td>99</td>\n",
       "      <td>0</td>\n",
       "      <td>140</td>\n",
       "      <td>39.328894</td>\n",
       "      <td>78.810628</td>\n",
       "      <td>...</td>\n",
       "      <td>0</td>\n",
       "      <td>0</td>\n",
       "      <td>0</td>\n",
       "      <td>0</td>\n",
       "      <td>0</td>\n",
       "      <td>0</td>\n",
       "      <td>0</td>\n",
       "      <td>0</td>\n",
       "      <td>0</td>\n",
       "      <td>4.943432e-06</td>\n",
       "    </tr>\n",
       "    <tr>\n",
       "      <td>38032</td>\n",
       "      <td>1584120516</td>\n",
       "      <td>[look, thatuv, break, news, covid, toilet, pap...</td>\n",
       "      <td>0</td>\n",
       "      <td>4</td>\n",
       "      <td>9507565</td>\n",
       "      <td>140</td>\n",
       "      <td>0</td>\n",
       "      <td>140</td>\n",
       "      <td>12.169112</td>\n",
       "      <td>67.386601</td>\n",
       "      <td>...</td>\n",
       "      <td>0</td>\n",
       "      <td>0</td>\n",
       "      <td>0</td>\n",
       "      <td>1</td>\n",
       "      <td>1</td>\n",
       "      <td>0</td>\n",
       "      <td>0</td>\n",
       "      <td>0</td>\n",
       "      <td>0</td>\n",
       "      <td>1.220081e-05</td>\n",
       "    </tr>\n",
       "    <tr>\n",
       "      <td>38033</td>\n",
       "      <td>1584120513</td>\n",
       "      <td>[feel, good, remind, compliment, tell, year]</td>\n",
       "      <td>0</td>\n",
       "      <td>4</td>\n",
       "      <td>9507565</td>\n",
       "      <td>140</td>\n",
       "      <td>0</td>\n",
       "      <td>140</td>\n",
       "      <td>54.032949</td>\n",
       "      <td>18.939318</td>\n",
       "      <td>...</td>\n",
       "      <td>0</td>\n",
       "      <td>0</td>\n",
       "      <td>0</td>\n",
       "      <td>0</td>\n",
       "      <td>0</td>\n",
       "      <td>0</td>\n",
       "      <td>0</td>\n",
       "      <td>0</td>\n",
       "      <td>0</td>\n",
       "      <td>2.103588e-06</td>\n",
       "    </tr>\n",
       "    <tr>\n",
       "      <td>38034</td>\n",
       "      <td>1584120512</td>\n",
       "      <td>[feel, good, remind, compliment, tell, year]</td>\n",
       "      <td>0</td>\n",
       "      <td>4</td>\n",
       "      <td>9507565</td>\n",
       "      <td>140</td>\n",
       "      <td>0</td>\n",
       "      <td>140</td>\n",
       "      <td>66.046086</td>\n",
       "      <td>70.021117</td>\n",
       "      <td>...</td>\n",
       "      <td>0</td>\n",
       "      <td>0</td>\n",
       "      <td>0</td>\n",
       "      <td>0</td>\n",
       "      <td>0</td>\n",
       "      <td>0</td>\n",
       "      <td>0</td>\n",
       "      <td>0</td>\n",
       "      <td>0</td>\n",
       "      <td>9.466146e-07</td>\n",
       "    </tr>\n",
       "  </tbody>\n",
       "</table>\n",
       "<p>24115 rows × 27 columns</p>\n",
       "</div>"
      ],
      "text/plain": [
       "       created_utc                                    processed_words  \\\n",
       "1       1584295514                              [ricardo, nice, dick]   \n",
       "2       1584294841  [gamer, assemblenvidia, call, game, owner, sys...   \n",
       "7       1584293653  [mean, corona, time, post, effort, meme, peopl...   \n",
       "8       1584293617                                            [whenh]   \n",
       "9       1584293448  [internet, see, internet, explor, whatdo, mean...   \n",
       "...            ...                                                ...   \n",
       "38026   1584120545  [pleaseadd, word, repost, soon, greatest, shor...   \n",
       "38029   1584120533  [watch, episod, think, meme, origin, thano, qu...   \n",
       "38032   1584120516  [look, thatuv, break, news, covid, toilet, pap...   \n",
       "38033   1584120513       [feel, good, remind, compliment, tell, year]   \n",
       "38034   1584120512       [feel, good, remind, compliment, tell, year]   \n",
       "\n",
       "       is_nsfw  subreddit  subscribers  thumbnail.height  thumbnail.thumbnail  \\\n",
       "1            0          1       743116               136                    0   \n",
       "2            0          1       743116               140                    0   \n",
       "7            0          1       743116               140                    1   \n",
       "8            0          1       743116               140                    1   \n",
       "9            0          1       743116               140                    1   \n",
       "...        ...        ...          ...               ...                  ...   \n",
       "38026        0          4      9507565               125                    1   \n",
       "38029        0          4      9507565                99                    0   \n",
       "38032        0          4      9507565               140                    0   \n",
       "38033        0          4      9507565               140                    0   \n",
       "38034        0          4      9507565               140                    0   \n",
       "\n",
       "       thumbnail.width    avg_hue  avg_saturation  ...  reddit  coronavirus  \\\n",
       "1                  140  30.615726       54.625239  ...       0            0   \n",
       "2                  140  24.111360       54.654363  ...       0            0   \n",
       "7                  140  24.042466       31.159050  ...       0            0   \n",
       "8                  140  44.428757       66.669514  ...       0            0   \n",
       "9                  140  15.506512       27.647186  ...       0            0   \n",
       "...                ...        ...             ...  ...     ...          ...   \n",
       "38026              140  36.669186       55.179987  ...       0            0   \n",
       "38029              140  39.328894       78.810628  ...       0            0   \n",
       "38032              140  12.169112       67.386601  ...       0            0   \n",
       "38033              140  54.032949       18.939318  ...       0            0   \n",
       "38034              140  66.046086       70.021117  ...       0            0   \n",
       "\n",
       "       like  toilet  paper  corona  peopl  post  time    ups_normed  \n",
       "1         0       0      0       0      0     0     0  4.709897e-05  \n",
       "2         0       0      0       0      0     0     0  1.480253e-05  \n",
       "7         0       0      0       1      1     1     1  1.345685e-06  \n",
       "8         0       0      0       0      0     0     0  1.345685e-06  \n",
       "9         0       0      0       0      0     0     0  1.345685e-06  \n",
       "...     ...     ...    ...     ...    ...   ...   ...           ...  \n",
       "38026     0       0      0       0      0     0     0  1.051794e-07  \n",
       "38029     0       0      0       0      0     0     0  4.943432e-06  \n",
       "38032     0       1      1       0      0     0     0  1.220081e-05  \n",
       "38033     0       0      0       0      0     0     0  2.103588e-06  \n",
       "38034     0       0      0       0      0     0     0  9.466146e-07  \n",
       "\n",
       "[24115 rows x 27 columns]"
      ]
     },
     "execution_count": 18,
     "metadata": {},
     "output_type": "execute_result"
    }
   ],
   "source": [
    "def set_ten(word_check):\n",
    "    def top_ten_words(x):\n",
    "        for word in x['processed_words']:\n",
    "            if word == word_check:\n",
    "                return 1\n",
    "        return 0\n",
    "                \n",
    "                \n",
    "    dank_data[word_check] = dank_data.apply(top_ten_words, axis=1)\n",
    "for word in top_ten:\n",
    "    set_ten(word)\n",
    "dank_data"
   ]
  },
  {
   "cell_type": "code",
   "execution_count": 19,
   "metadata": {},
   "outputs": [
    {
     "data": {
      "text/plain": [
       "<matplotlib.axes._subplots.AxesSubplot at 0x191c5528688>"
      ]
     },
     "execution_count": 19,
     "metadata": {},
     "output_type": "execute_result"
    },
    {
     "data": {
      "image/png": "[encoded data removed]",
      "text/plain": [
       "<Figure size 432x288 with 1 Axes>"
      ]
     },
     "metadata": {
      "needs_background": "light"
     },
     "output_type": "display_data"
    }
   ],
   "source": [
    "sns.distplot(dank_data[\"ups_normed\"])"
   ]
  },
  {
   "cell_type": "code",
   "execution_count": 20,
   "metadata": {},
   "outputs": [],
   "source": [
    "def threshold(x):\n",
    "    if x['ups_normed'] < 0.00005: return 0\n",
    "    else: return 1\n",
    "\n",
    "dank_data['dank'] = dank_data.apply(threshold, axis=1)"
   ]
  },
  {
   "cell_type": "code",
   "execution_count": 24,
   "metadata": {},
   "outputs": [
    {
     "data": {
      "text/plain": [
       "Text(0.5, 1.0, 'Dank or Not Dank')"
      ]
     },
     "execution_count": 24,
     "metadata": {},
     "output_type": "execute_result"
    },
    {
     "data": {
      "image/png": "[encoded data removed]",
      "text/plain": [
       "<Figure size 432x288 with 1 Axes>"
      ]
     },
     "metadata": {
      "needs_background": "light"
     },
     "output_type": "display_data"
    }
   ],
   "source": [
    "plt.hist(dank_data[\"dank\"], bins=2)\n",
    "plt.xlabel('Dank')\n",
    "plt.ylabel('Number of Records')\n",
    "plt.title('Dank or Not Dank')"
   ]
  },
  {
   "cell_type": "code",
   "execution_count": 20,
   "metadata": {},
   "outputs": [],
   "source": [
    "dank_data = dank_data.drop(columns=[\"ups_normed\", \"processed_words\"])"
   ]
  },
  {
   "cell_type": "code",
   "execution_count": 21,
   "metadata": {},
   "outputs": [],
   "source": [
    "from sklearn.model_selection import train_test_split"
   ]
  },
  {
   "cell_type": "code",
   "execution_count": 22,
   "metadata": {},
   "outputs": [],
   "source": [
    "X, y = dank_data.drop(columns=[\"dank\"]), dank_data[\"dank\"]\n",
    "X_train, X_test, y_train, y_test = train_test_split(X, y, test_size=0.33, random_state=42)"
   ]
  },
  {
   "cell_type": "markdown",
   "metadata": {},
   "source": [
    "Compare different parameter selections for GradientBoostingClassifier on dataset."
   ]
  },
  {
   "cell_type": "code",
   "execution_count": 23,
   "metadata": {},
   "outputs": [],
   "source": [
    "def make_model_and_score(loss, learning_rate, n_estimators, subsample, criterion, max_depth, random_state, verbose, validation_fraction):\n",
    "    model = GradientBoostingClassifier(loss=loss, learning_rate=learning_rate, n_estimators=n_estimators, subsample=subsample, criterion=criterion, max_depth=max_depth, random_state=random_state, verbose=verbose, validation_fraction=validation_fraction)\n",
    "    model.fit(X_train, y_train)\n",
    "    score = model.score(X_test, y_test)\n",
    "    return score"
   ]
  },
  {
   "cell_type": "code",
   "execution_count": 24,
   "metadata": {},
   "outputs": [],
   "source": [
    "from sklearn import metrics\n",
    "from sklearn.model_selection import GridSearchCV, cross_val_score"
   ]
  },
  {
   "cell_type": "markdown",
   "metadata": {},
   "source": [
    "Help from the following link: https://www.analyticsvidhya.com/blog/2016/02/complete-guide-parameter-tuning-gradient-boosting-gbm-python/"
   ]
  },
  {
   "cell_type": "code",
   "execution_count": 25,
   "metadata": {},
   "outputs": [],
   "source": [
    "def make_model(loss, learning_rate, n_estimators, subsample, criterion, max_depth, random_state, verbose, validation_fraction, min_samples_split=500, min_samples_leaf=50, max_features='sqrt'):\n",
    "    return GradientBoostingClassifier(loss=loss, learning_rate=learning_rate, n_estimators=n_estimators, subsample=subsample, criterion=criterion, max_depth=max_depth, random_state=random_state, verbose=verbose, validation_fraction=validation_fraction, min_samples_split=min_samples_split, min_samples_leaf=min_samples_leaf, max_features=max_features)\n",
    "\n",
    "def model_fit(model, printFeatureImportance=True, cv_folds=5):\n",
    "    model.fit(X_train, y_train)\n",
    "    \n",
    "    predictions = model.predict(X_test)\n",
    "    cv_score = cross_val_score(model, X_train, y_train, cv=cv_folds)\n",
    "    \n",
    "    print(\"CV Score : Mean - %.7g | Std - %.7g | Min - %.7g | Max - %.7g\" % (np.mean(cv_score),np.std(cv_score),np.min(cv_score),np.max(cv_score)))\n",
    "    \n",
    "    if printFeatureImportance:\n",
    "        feat_imp = pd.Series(model.feature_importances_, X_train.columns).sort_values(ascending=False)\n",
    "        feat_imp.plot(kind='bar', title='Feature Importances')\n",
    "        plt.ylabel('Feature Importance Score')"
   ]
  },
  {
   "cell_type": "code",
   "execution_count": 26,
   "metadata": {},
   "outputs": [],
   "source": [
    "model = make_model(\"exponential\", 0.2, 150, 0.8, \"friedman_mse\", 5, 42, 1.0, 0.1)"
   ]
  },
  {
   "cell_type": "code",
   "execution_count": 27,
   "metadata": {},
   "outputs": [
    {
     "name": "stdout",
     "output_type": "stream",
     "text": [
      "      Iter       Train Loss      OOB Improve   Remaining Time \n",
      "         1           0.4521           0.0017            2.23s\n",
      "         2           0.4515           0.0029            2.21s\n",
      "         3           0.4367           0.0032            2.15s\n",
      "         4           0.4412          -0.0002            1.97s\n",
      "         5           0.4331           0.0019            1.94s\n",
      "         6           0.4322           0.0013            1.87s\n",
      "         7           0.4340           0.0001            1.83s\n",
      "         8           0.4287           0.0016            1.80s\n",
      "         9           0.4217           0.0011            1.76s\n",
      "        10           0.4218          -0.0012            1.70s\n",
      "        20           0.4049          -0.0003            1.59s\n",
      "        30           0.3922          -0.0003            1.40s\n",
      "        40           0.3847           0.0002            1.25s\n",
      "        50           0.3711          -0.0019            1.13s\n",
      "        60           0.3652          -0.0010            0.99s\n",
      "        70           0.3577          -0.0009            0.88s\n",
      "        80           0.3469          -0.0007            0.80s\n",
      "        90           0.3366          -0.0014            0.73s\n",
      "       100           0.3312          -0.0006            0.63s\n",
      "      Iter       Train Loss      OOB Improve   Remaining Time \n",
      "         1           0.4521           0.0040            1.19s\n",
      "         2           0.4485           0.0033            1.26s\n",
      "         3           0.4423          -0.0004            1.27s\n",
      "         4           0.4361           0.0034            1.27s\n",
      "         5           0.4336           0.0002            1.27s\n",
      "         6           0.4286           0.0001            1.24s\n",
      "         7           0.4263          -0.0015            1.24s\n",
      "         8           0.4225          -0.0001            1.22s\n",
      "         9           0.4243          -0.0004            1.20s\n",
      "        10           0.4264          -0.0003            1.21s\n",
      "        20           0.4056          -0.0008            1.12s\n",
      "        30           0.3918          -0.0010            1.06s\n",
      "        40           0.3749          -0.0013            0.95s\n",
      "        50           0.3636          -0.0009            0.86s\n",
      "        60           0.3570          -0.0018            0.78s\n",
      "        70           0.3541          -0.0011            0.69s\n",
      "        80           0.3392          -0.0021            0.60s\n",
      "        90           0.3314          -0.0015            0.54s\n",
      "       100           0.3208          -0.0023            0.46s\n",
      "      Iter       Train Loss      OOB Improve   Remaining Time \n",
      "         1           0.4511           0.0022            1.63s\n",
      "         2           0.4517           0.0030            1.70s\n",
      "         3           0.4424           0.0029            1.76s\n",
      "         4           0.4400           0.0003            1.64s\n",
      "         5           0.4373           0.0019            1.68s\n",
      "         6           0.4335           0.0008            1.63s\n",
      "         7           0.4300          -0.0012            1.61s\n",
      "         8           0.4297           0.0013            1.59s\n",
      "         9           0.4284          -0.0009            1.63s\n",
      "        10           0.4221          -0.0021            1.62s\n",
      "        20           0.4073          -0.0009            1.30s\n",
      "        30           0.3972          -0.0009            1.15s\n",
      "        40           0.3791          -0.0018            1.03s\n",
      "        50           0.3655          -0.0012            0.91s\n",
      "        60           0.3647          -0.0010            0.82s\n",
      "        70           0.3542          -0.0018            0.71s\n",
      "        80           0.3427          -0.0015            0.63s\n",
      "        90           0.3315          -0.0007            0.55s\n",
      "       100           0.3250          -0.0006            0.45s\n",
      "      Iter       Train Loss      OOB Improve   Remaining Time \n",
      "         1           0.4530           0.0057            1.19s\n",
      "         2           0.4421           0.0033            1.25s\n",
      "         3           0.4394           0.0012            1.32s\n",
      "         4           0.4426           0.0017            1.31s\n",
      "         5           0.4406           0.0011            1.27s\n",
      "         6           0.4325           0.0004            1.32s\n",
      "         7           0.4206          -0.0001            1.28s\n",
      "         8           0.4339          -0.0002            1.26s\n",
      "         9           0.4233          -0.0004            1.22s\n",
      "        10           0.4246          -0.0006            1.20s\n",
      "        20           0.4077           0.0000            1.14s\n",
      "        30           0.3932          -0.0013            1.06s\n",
      "        40           0.3817          -0.0008            0.94s\n",
      "        50           0.3711          -0.0009            0.84s\n",
      "        60           0.3630          -0.0013            0.76s\n",
      "        70           0.3567          -0.0006            0.68s\n",
      "        80           0.3398          -0.0010            0.59s\n",
      "        90           0.3248          -0.0021            0.51s\n",
      "       100           0.3292          -0.0015            0.42s\n",
      "      Iter       Train Loss      OOB Improve   Remaining Time \n",
      "         1           0.4499           0.0038            1.34s\n",
      "         2           0.4398           0.0022            1.33s\n",
      "         3           0.4333           0.0045            1.42s\n",
      "         4           0.4402           0.0010            1.38s\n",
      "         5           0.4379          -0.0008            1.33s\n",
      "         6           0.4314          -0.0009            1.29s\n",
      "         7           0.4213           0.0019            1.26s\n",
      "         8           0.4297           0.0002            1.24s\n",
      "         9           0.4213           0.0005            1.24s\n",
      "        10           0.4177          -0.0000            1.23s\n",
      "        20           0.4057           0.0003            1.10s\n",
      "        30           0.3950          -0.0005            1.00s\n",
      "        40           0.3864          -0.0018            0.89s\n",
      "        50           0.3689          -0.0003            0.81s\n",
      "        60           0.3598          -0.0003            0.74s\n",
      "        70           0.3531          -0.0009            0.66s\n",
      "        80           0.3429          -0.0016            0.58s\n",
      "        90           0.3299          -0.0010            0.50s\n",
      "       100           0.3282          -0.0004            0.42s\n",
      "      Iter       Train Loss      OOB Improve   Remaining Time \n",
      "         1           0.4517           0.0039            1.49s\n",
      "         2           0.4403           0.0034            1.33s\n",
      "         3           0.4313           0.0041            1.37s\n",
      "         4           0.4377          -0.0014            1.31s\n",
      "         5           0.4369           0.0020            1.33s\n",
      "         6           0.4320          -0.0006            1.32s\n",
      "         7           0.4194          -0.0001            1.28s\n",
      "         8           0.4237           0.0002            1.26s\n",
      "         9           0.4187           0.0002            1.23s\n",
      "        10           0.4150          -0.0014            1.24s\n",
      "        20           0.4063          -0.0011            1.14s\n",
      "        30           0.3901          -0.0004            1.07s\n",
      "        40           0.3818          -0.0013            0.97s\n",
      "        50           0.3695          -0.0005            0.86s\n",
      "        60           0.3584          -0.0005            0.77s\n",
      "        70           0.3495          -0.0012            0.67s\n",
      "        80           0.3444          -0.0020            0.58s\n",
      "        90           0.3307          -0.0011            0.51s\n",
      "       100           0.3282          -0.0004            0.43s\n",
      "CV Score : Mean - 0.9447298 | Std - 0.0002527544 | Min - 0.9445992 | Max - 0.9452351\n"
     ]
    },
    {
     "data": {
      "image/png": "[encoded data removed]",
      "text/plain": [
       "<Figure size 432x288 with 1 Axes>"
      ]
     },
     "metadata": {
      "needs_background": "light"
     },
     "output_type": "display_data"
    }
   ],
   "source": [
    "model_fit(model)"
   ]
  },
  {
   "cell_type": "code",
   "execution_count": 28,
   "metadata": {},
   "outputs": [],
   "source": [
    "def make_model_tuning(loss, learning_rate, subsample, criterion, max_depth, random_state, verbose, validation_fraction, min_samples_split=500, min_samples_leaf=50, max_features='sqrt'):\n",
    "    return GradientBoostingClassifier(loss=loss, learning_rate=learning_rate, subsample=subsample, criterion=criterion, max_depth=max_depth, random_state=random_state, verbose=verbose, validation_fraction=validation_fraction, min_samples_split=min_samples_split, min_samples_leaf=min_samples_leaf, max_features=max_features)"
   ]
  },
  {
   "cell_type": "code",
   "execution_count": 29,
   "metadata": {},
   "outputs": [],
   "source": [
    "def gridSearch(estimator, param_grid, scoring=\"roc_auc\", n_jobs=4, cv=5):\n",
    "    gsearch = GridSearchCV(estimator=estimator, param_grid=param_grid, scoring=scoring, n_jobs=n_jobs, iid=False, cv=cv, return_train_score=True)\n",
    "    gsearch.fit(X_train, y_train)\n",
    "    return gsearch"
   ]
  },
  {
   "cell_type": "code",
   "execution_count": 30,
   "metadata": {},
   "outputs": [
    {
     "name": "stdout",
     "output_type": "stream",
     "text": [
      "      Iter       Train Loss      OOB Improve   Remaining Time \n",
      "         1           0.4521           0.0017            0.17s\n",
      "         2           0.4515           0.0029            0.16s\n",
      "         3           0.4367           0.0032            0.16s\n",
      "         4           0.4412          -0.0002            0.16s\n",
      "         5           0.4331           0.0019            0.15s\n",
      "         6           0.4322           0.0013            0.14s\n",
      "         7           0.4340           0.0001            0.14s\n",
      "         8           0.4287           0.0016            0.13s\n",
      "         9           0.4217           0.0011            0.12s\n",
      "        10           0.4218          -0.0012            0.11s\n",
      "        20           0.4049          -0.0003            0.00s\n"
     ]
    }
   ],
   "source": [
    "param_test1 = {'n_estimators':range(20,81,10)}\n",
    "model_tuning = make_model_tuning(\"exponential\", 0.2, 0.8, \"mse\", 5, 42, 1.0, 0.1)\n",
    "gs1 = gridSearch(model_tuning, param_grid=param_test1)"
   ]
  },
  {
   "cell_type": "code",
   "execution_count": 31,
   "metadata": {},
   "outputs": [
    {
     "data": {
      "text/plain": [
       "{'mean_fit_time': array([0.38536725, 0.5401546 , 0.70252032, 0.83636355, 0.95305343,\n",
       "        1.11581206, 1.20897856]),\n",
       " 'std_fit_time': array([0.01028301, 0.00689769, 0.0066052 , 0.01043352, 0.00731835,\n",
       "        0.01523551, 0.08155942]),\n",
       " 'mean_score_time': array([0.00957413, 0.00937495, 0.01077514, 0.01077256, 0.01196609,\n",
       "        0.01257091, 0.01317782]),\n",
       " 'std_score_time': array([0.00135242, 0.00048874, 0.00097633, 0.00074555, 0.00063041,\n",
       "        0.0004927 , 0.00210338]),\n",
       " 'param_n_estimators': masked_array(data=[20, 30, 40, 50, 60, 70, 80],\n",
       "              mask=[False, False, False, False, False, False, False],\n",
       "        fill_value='?',\n",
       "             dtype=object),\n",
       " 'params': [{'n_estimators': 20},\n",
       "  {'n_estimators': 30},\n",
       "  {'n_estimators': 40},\n",
       "  {'n_estimators': 50},\n",
       "  {'n_estimators': 60},\n",
       "  {'n_estimators': 70},\n",
       "  {'n_estimators': 80}],\n",
       " 'split0_test_score': array([0.65644982, 0.64151362, 0.65132208, 0.64575561, 0.64487539,\n",
       "        0.64406047, 0.64919649]),\n",
       " 'split1_test_score': array([0.64599383, 0.63970534, 0.64360058, 0.63954254, 0.63741235,\n",
       "        0.63511107, 0.63452977]),\n",
       " 'split2_test_score': array([0.64889941, 0.64325935, 0.64283611, 0.64957106, 0.6466029 ,\n",
       "        0.64315446, 0.64561474]),\n",
       " 'split3_test_score': array([0.63201419, 0.64457505, 0.62929445, 0.63565769, 0.63347619,\n",
       "        0.63420213, 0.62460207]),\n",
       " 'split4_test_score': array([0.67861875, 0.67206045, 0.66646088, 0.65633913, 0.65089229,\n",
       "        0.64934288, 0.64771803]),\n",
       " 'mean_test_score': array([0.6523952 , 0.64822276, 0.64670282, 0.64537321, 0.64265182,\n",
       "        0.6411742 , 0.64033222]),\n",
       " 'std_test_score': array([0.01531469, 0.01203109, 0.01216014, 0.00729942, 0.00632621,\n",
       "        0.00573325, 0.00940358]),\n",
       " 'rank_test_score': array([1, 2, 3, 4, 5, 6, 7]),\n",
       " 'split0_train_score': array([0.77726879, 0.81619616, 0.83490205, 0.85133042, 0.86534466,\n",
       "        0.88056111, 0.89178982]),\n",
       " 'split1_train_score': array([0.76983899, 0.80005931, 0.82920213, 0.8460893 , 0.8653595 ,\n",
       "        0.87791692, 0.89036463]),\n",
       " 'split2_train_score': array([0.78068166, 0.81098132, 0.8254454 , 0.84649994, 0.86179742,\n",
       "        0.87905508, 0.89247741]),\n",
       " 'split3_train_score': array([0.77405562, 0.80050166, 0.81549688, 0.84208045, 0.86084012,\n",
       "        0.8766113 , 0.88887022]),\n",
       " 'split4_train_score': array([0.78870432, 0.81259515, 0.83177224, 0.85185108, 0.86708831,\n",
       "        0.87847001, 0.88761182]),\n",
       " 'mean_train_score': array([0.77810987, 0.80806672, 0.82736374, 0.84757024, 0.864086  ,\n",
       "        0.87852289, 0.89022278]),\n",
       " 'std_train_score': array([0.00639388, 0.00657933, 0.00669542, 0.00363156, 0.00236614,\n",
       "        0.0013009 , 0.00180031])}"
      ]
     },
     "execution_count": 31,
     "metadata": {},
     "output_type": "execute_result"
    }
   ],
   "source": [
    "gs1.cv_results_"
   ]
  },
  {
   "cell_type": "code",
   "execution_count": 32,
   "metadata": {},
   "outputs": [
    {
     "data": {
      "text/plain": [
       "{'n_estimators': 20}"
      ]
     },
     "execution_count": 32,
     "metadata": {},
     "output_type": "execute_result"
    }
   ],
   "source": [
    "gs1.best_params_"
   ]
  },
  {
   "cell_type": "code",
   "execution_count": 33,
   "metadata": {},
   "outputs": [
    {
     "data": {
      "text/plain": [
       "0.6523951997959162"
      ]
     },
     "execution_count": 33,
     "metadata": {},
     "output_type": "execute_result"
    }
   ],
   "source": [
    "gs1.best_score_"
   ]
  },
  {
   "cell_type": "code",
   "execution_count": 34,
   "metadata": {},
   "outputs": [
    {
     "name": "stdout",
     "output_type": "stream",
     "text": [
      "      Iter       Train Loss      OOB Improve   Remaining Time \n",
      "         1           0.4532           0.0011            0.21s\n",
      "         2           0.4543           0.0022            0.18s\n",
      "         3           0.4416           0.0026            0.17s\n",
      "         4           0.4453           0.0003            0.15s\n",
      "         5           0.4415          -0.0002            0.14s\n",
      "         6           0.4413           0.0025            0.12s\n",
      "         7           0.4457           0.0012            0.11s\n",
      "         8           0.4416           0.0017            0.10s\n",
      "         9           0.4367           0.0003            0.09s\n",
      "        10           0.4371           0.0002            0.08s\n",
      "        20           0.4257           0.0001            0.00s\n",
      "      Iter       Train Loss      OOB Improve   Remaining Time \n",
      "         1           0.4502           0.0026            0.25s\n",
      "         2           0.4483           0.0032            0.24s\n",
      "         3           0.4343           0.0038            0.23s\n",
      "         4           0.4373           0.0015            0.21s\n",
      "         5           0.4304           0.0004            0.19s\n",
      "         6           0.4292           0.0012            0.19s\n",
      "         7           0.4311           0.0005            0.17s\n",
      "         8           0.4253           0.0012            0.16s\n",
      "         9           0.4199          -0.0004            0.15s\n",
      "        10           0.4183          -0.0011            0.14s\n",
      "        20           0.3988          -0.0010            0.00s\n"
     ]
    }
   ],
   "source": [
    "model_tuning_2 = GradientBoostingClassifier(loss=\"exponential\", learning_rate=0.2, subsample=0.8, criterion=\"mse\", random_state=42, verbose=1.0, validation_fraction=0.1, n_estimators=20, max_features='sqrt')\n",
    "model_tuning_2.fit(X_train, y_train)\n",
    "param_test2 = {'max_depth':range(5,16,2), 'min_samples_split':range(200,1001,200)}\n",
    "gs2 = gridSearch(model_tuning_2, param_grid=param_test2)"
   ]
  },
  {
   "cell_type": "code",
   "execution_count": 35,
   "metadata": {},
   "outputs": [
    {
     "data": {
      "text/plain": [
       "{'mean_fit_time': array([0.39613547, 0.37060914, 0.37200503, 0.34807267, 0.33171463,\n",
       "        0.55112653, 0.4823103 , 0.46256509, 0.43443446, 0.41668696,\n",
       "        0.68196945, 0.6033854 , 0.58443832, 0.5257946 , 0.5070446 ,\n",
       "        0.82599015, 0.69673877, 0.64227791, 0.60538092, 0.56987066,\n",
       "        0.96362238, 0.78829465, 0.69813299, 0.67758803, 0.61335831,\n",
       "        1.05039101, 0.85750308, 0.74780006, 0.68098264, 0.58777862]),\n",
       " 'std_fit_time': array([0.01160487, 0.01227198, 0.01036404, 0.01421675, 0.00537542,\n",
       "        0.0135372 , 0.01863356, 0.01481357, 0.01134367, 0.00757962,\n",
       "        0.01484456, 0.02458471, 0.02254814, 0.01204003, 0.00426122,\n",
       "        0.02358717, 0.01389836, 0.01345466, 0.01493931, 0.0039119 ,\n",
       "        0.01963887, 0.02423884, 0.01855142, 0.01840733, 0.01106866,\n",
       "        0.01369429, 0.0088412 , 0.00967818, 0.01608149, 0.09653012]),\n",
       " 'mean_score_time': array([0.01117063, 0.00817776, 0.0083787 , 0.00797801, 0.00937505,\n",
       "        0.01177182, 0.00897689, 0.00937462, 0.00857434, 0.01116953,\n",
       "        0.01037798, 0.00938177, 0.01057358, 0.01017327, 0.01017237,\n",
       "        0.01097255, 0.01076937, 0.01017241, 0.01057191, 0.00957551,\n",
       "        0.01237402, 0.01156373, 0.01057172, 0.01017685, 0.01017184,\n",
       "        0.01177187, 0.01117229, 0.01217051, 0.01236768, 0.01017442]),\n",
       " 'std_score_time': array([0.00396062, 0.00039721, 0.00149234, 0.00063157, 0.00331276,\n",
       "        0.00336229, 0.0015453 , 0.00048755, 0.00048523, 0.00255429,\n",
       "        0.00135828, 0.00048385, 0.0016195 , 0.00097569, 0.00222255,\n",
       "        0.00062862, 0.00074872, 0.00074507, 0.00119744, 0.00048805,\n",
       "        0.00049075, 0.00080193, 0.00079858, 0.00039754, 0.0003995 ,\n",
       "        0.00074757, 0.00097947, 0.00098119, 0.00381552, 0.00171397]),\n",
       " 'param_max_depth': masked_array(data=[5, 5, 5, 5, 5, 7, 7, 7, 7, 7, 9, 9, 9, 9, 9, 11, 11,\n",
       "                    11, 11, 11, 13, 13, 13, 13, 13, 15, 15, 15, 15, 15],\n",
       "              mask=[False, False, False, False, False, False, False, False,\n",
       "                    False, False, False, False, False, False, False, False,\n",
       "                    False, False, False, False, False, False, False, False,\n",
       "                    False, False, False, False, False, False],\n",
       "        fill_value='?',\n",
       "             dtype=object),\n",
       " 'param_min_samples_split': masked_array(data=[200, 400, 600, 800, 1000, 200, 400, 600, 800, 1000,\n",
       "                    200, 400, 600, 800, 1000, 200, 400, 600, 800, 1000,\n",
       "                    200, 400, 600, 800, 1000, 200, 400, 600, 800, 1000],\n",
       "              mask=[False, False, False, False, False, False, False, False,\n",
       "                    False, False, False, False, False, False, False, False,\n",
       "                    False, False, False, False, False, False, False, False,\n",
       "                    False, False, False, False, False, False],\n",
       "        fill_value='?',\n",
       "             dtype=object),\n",
       " 'params': [{'max_depth': 5, 'min_samples_split': 200},\n",
       "  {'max_depth': 5, 'min_samples_split': 400},\n",
       "  {'max_depth': 5, 'min_samples_split': 600},\n",
       "  {'max_depth': 5, 'min_samples_split': 800},\n",
       "  {'max_depth': 5, 'min_samples_split': 1000},\n",
       "  {'max_depth': 7, 'min_samples_split': 200},\n",
       "  {'max_depth': 7, 'min_samples_split': 400},\n",
       "  {'max_depth': 7, 'min_samples_split': 600},\n",
       "  {'max_depth': 7, 'min_samples_split': 800},\n",
       "  {'max_depth': 7, 'min_samples_split': 1000},\n",
       "  {'max_depth': 9, 'min_samples_split': 200},\n",
       "  {'max_depth': 9, 'min_samples_split': 400},\n",
       "  {'max_depth': 9, 'min_samples_split': 600},\n",
       "  {'max_depth': 9, 'min_samples_split': 800},\n",
       "  {'max_depth': 9, 'min_samples_split': 1000},\n",
       "  {'max_depth': 11, 'min_samples_split': 200},\n",
       "  {'max_depth': 11, 'min_samples_split': 400},\n",
       "  {'max_depth': 11, 'min_samples_split': 600},\n",
       "  {'max_depth': 11, 'min_samples_split': 800},\n",
       "  {'max_depth': 11, 'min_samples_split': 1000},\n",
       "  {'max_depth': 13, 'min_samples_split': 200},\n",
       "  {'max_depth': 13, 'min_samples_split': 400},\n",
       "  {'max_depth': 13, 'min_samples_split': 600},\n",
       "  {'max_depth': 13, 'min_samples_split': 800},\n",
       "  {'max_depth': 13, 'min_samples_split': 1000},\n",
       "  {'max_depth': 15, 'min_samples_split': 200},\n",
       "  {'max_depth': 15, 'min_samples_split': 400},\n",
       "  {'max_depth': 15, 'min_samples_split': 600},\n",
       "  {'max_depth': 15, 'min_samples_split': 800},\n",
       "  {'max_depth': 15, 'min_samples_split': 1000}],\n",
       " 'split0_test_score': array([0.64108408, 0.65724175, 0.6474158 , 0.64430881, 0.66191052,\n",
       "        0.63302043, 0.65446403, 0.66071665, 0.65688487, 0.64464177,\n",
       "        0.61739807, 0.64663676, 0.63531986, 0.64622194, 0.64488643,\n",
       "        0.60955424, 0.63804239, 0.64153937, 0.6349915 , 0.63938802,\n",
       "        0.60490203, 0.62324323, 0.64497105, 0.63686048, 0.64311034,\n",
       "        0.6238604 , 0.63491056, 0.647597  , 0.62275667, 0.62627021]),\n",
       " 'split1_test_score': array([0.64407059, 0.62624721, 0.6221441 , 0.63959313, 0.64787477,\n",
       "        0.6280794 , 0.62884833, 0.6381822 , 0.63596462, 0.63797433,\n",
       "        0.62881614, 0.62762595, 0.64663676, 0.64067294, 0.63281072,\n",
       "        0.61013646, 0.61926613, 0.63308757, 0.65387537, 0.65274957,\n",
       "        0.61470221, 0.63029974, 0.63204271, 0.64107304, 0.64261918,\n",
       "        0.62434052, 0.6024683 , 0.64952209, 0.6316656 , 0.62827623]),\n",
       " 'split2_test_score': array([0.6443432 , 0.66318633, 0.64622659, 0.6365014 , 0.64382979,\n",
       "        0.64868411, 0.64164186, 0.63832867, 0.64453549, 0.64601497,\n",
       "        0.62612479, 0.65061995, 0.64170442, 0.62369395, 0.65031816,\n",
       "        0.62948307, 0.63510564, 0.63966553, 0.64026542, 0.62320171,\n",
       "        0.60019984, 0.64649341, 0.66695772, 0.64947261, 0.6289439 ,\n",
       "        0.60031393, 0.6281968 , 0.64253985, 0.64124254, 0.65972869]),\n",
       " 'split3_test_score': array([0.63367217, 0.63294163, 0.6016462 , 0.61409205, 0.5974433 ,\n",
       "        0.616936  , 0.6087639 , 0.60955424, 0.63662101, 0.62142321,\n",
       "        0.61721663, 0.61270274, 0.63441191, 0.62243713, 0.63186054,\n",
       "        0.6029435 , 0.6252636 , 0.62025563, 0.61231723, 0.62304714,\n",
       "        0.6045932 , 0.63150355, 0.61585492, 0.61522006, 0.64350409,\n",
       "        0.61014309, 0.61865378, 0.61746781, 0.61040807, 0.61192988]),\n",
       " 'split4_test_score': array([0.66310536, 0.6525383 , 0.66439163, 0.65010378, 0.65356051,\n",
       "        0.64934932, 0.65544022, 0.67079995, 0.6591748 , 0.67069322,\n",
       "        0.65901931, 0.65697858, 0.65884266, 0.66008568, 0.65394878,\n",
       "        0.63452324, 0.64802257, 0.66591343, 0.64767203, 0.65474372,\n",
       "        0.65248402, 0.65552947, 0.64813666, 0.64727455, 0.65189149,\n",
       "        0.63741871, 0.65441066, 0.66253308, 0.64301829, 0.65880769]),\n",
       " 'mean_test_score': array([0.64525508, 0.64643104, 0.63636486, 0.63691983, 0.64092378,\n",
       "        0.63521385, 0.63783167, 0.64351634, 0.64663616, 0.6441495 ,\n",
       "        0.62971499, 0.6389128 , 0.64338312, 0.63862233, 0.64276492,\n",
       "        0.6173281 , 0.63314007, 0.64009231, 0.63782431, 0.63862603,\n",
       "        0.61537626, 0.63741388, 0.64159261, 0.63798015, 0.6420138 ,\n",
       "        0.61921533, 0.62772802, 0.64393196, 0.62981823, 0.63700254]),\n",
       " 'std_test_score': array([0.00972037, 0.01431266, 0.02196585, 0.01230319, 0.02257186,\n",
       "        0.01241814, 0.01747484, 0.02120865, 0.00980665, 0.01589282,\n",
       "        0.01536461, 0.01635512, 0.00892077, 0.01419473, 0.00899581,\n",
       "        0.01234897, 0.01003903, 0.01491017, 0.01427732, 0.01371456,\n",
       "        0.01915071, 0.01180646, 0.01703676, 0.01222541, 0.00737809,\n",
       "        0.01279669, 0.01722885, 0.01478494, 0.01212262, 0.01903635]),\n",
       " 'rank_test_score': array([ 3,  2, 22, 21, 11, 23, 17,  6,  1,  4, 26, 13,  7, 15,  8, 29, 24,\n",
       "        12, 18, 14, 30, 19, 10, 16,  9, 28, 27,  5, 25, 20]),\n",
       " 'split0_train_score': array([0.77823973, 0.76471275, 0.74749398, 0.74150978, 0.74385021,\n",
       "        0.84372513, 0.80916719, 0.79355594, 0.7766268 , 0.77273215,\n",
       "        0.89299387, 0.84984428, 0.83550465, 0.80737692, 0.79749653,\n",
       "        0.93994312, 0.88384476, 0.86267132, 0.8333875 , 0.8369123 ,\n",
       "        0.945726  , 0.89572891, 0.88137077, 0.8527275 , 0.83336576,\n",
       "        0.96360574, 0.91731343, 0.8925782 , 0.86525628, 0.85227222]),\n",
       " 'split1_train_score': array([0.78002551, 0.75457435, 0.75024098, 0.74954201, 0.74572562,\n",
       "        0.84521398, 0.81404295, 0.80070302, 0.78158347, 0.77422951,\n",
       "        0.89278681, 0.86122335, 0.84437068, 0.81281228, 0.80542946,\n",
       "        0.9253487 , 0.88502035, 0.86649305, 0.84401815, 0.82846981,\n",
       "        0.95581006, 0.91375642, 0.89010645, 0.85146141, 0.84238417,\n",
       "        0.96919358, 0.92868543, 0.90314647, 0.86776978, 0.86426861]),\n",
       " 'split2_train_score': array([0.78388524, 0.76016453, 0.75417945, 0.74235951, 0.73763173,\n",
       "        0.84768388, 0.82566107, 0.79776258, 0.78603326, 0.77757427,\n",
       "        0.8938895 , 0.87808192, 0.84250339, 0.82380731, 0.80237112,\n",
       "        0.92637651, 0.90431482, 0.86684533, 0.83784961, 0.83367372,\n",
       "        0.95954012, 0.92075905, 0.87756481, 0.8628735 , 0.83885382,\n",
       "        0.97019992, 0.92620747, 0.89463314, 0.87743705, 0.84991648]),\n",
       " 'split3_train_score': array([0.78323985, 0.7726199 , 0.76584529, 0.74822225, 0.7314683 ,\n",
       "        0.84190043, 0.80555233, 0.79281328, 0.76896803, 0.76832863,\n",
       "        0.8883009 , 0.85271294, 0.8464402 , 0.81352738, 0.79987766,\n",
       "        0.91887245, 0.89334662, 0.86951173, 0.83531579, 0.81452452,\n",
       "        0.95347759, 0.89121073, 0.86667842, 0.86138305, 0.83089532,\n",
       "        0.96721281, 0.92792819, 0.89856955, 0.87196845, 0.84229347]),\n",
       " 'split4_train_score': array([0.78114122, 0.77414232, 0.7652459 , 0.73544019, 0.7296538 ,\n",
       "        0.84838711, 0.81914582, 0.80411046, 0.78159877, 0.75675155,\n",
       "        0.90035886, 0.86463102, 0.82788522, 0.80841933, 0.80868887,\n",
       "        0.93517644, 0.88230012, 0.85597907, 0.83904867, 0.8132828 ,\n",
       "        0.95458322, 0.91099905, 0.86802427, 0.85641776, 0.83387674,\n",
       "        0.95889985, 0.93094197, 0.89443599, 0.87360528, 0.85230047]),\n",
       " 'mean_train_score': array([0.78130631, 0.76524277, 0.75660112, 0.74341475, 0.73766593,\n",
       "        0.84538211, 0.81471387, 0.79778906, 0.77896207, 0.76992322,\n",
       "        0.89366599, 0.8612987 , 0.83934083, 0.81318865, 0.80277273,\n",
       "        0.92914344, 0.88976533, 0.8643001 , 0.83792394, 0.82537263,\n",
       "        0.9538274 , 0.90649083, 0.87674894, 0.85697264, 0.83587516,\n",
       "        0.96582238, 0.9262153 , 0.89667267, 0.87120737, 0.85221025]),\n",
       " 'std_train_score': array([0.00207177, 0.00739606, 0.00760845, 0.0050792 , 0.00641576,\n",
       "        0.00241761, 0.00713629, 0.00426918, 0.00581653, 0.00722507,\n",
       "        0.0038692 , 0.00997703, 0.00680661, 0.00582297, 0.00396081,\n",
       "        0.00749105, 0.00821962, 0.00469768, 0.00362744, 0.00975203,\n",
       "        0.00453635, 0.01118924, 0.00869466, 0.00453816, 0.00415522,\n",
       "        0.00413028, 0.00470362, 0.00377982, 0.00429815, 0.00705719])}"
      ]
     },
     "execution_count": 35,
     "metadata": {},
     "output_type": "execute_result"
    }
   ],
   "source": [
    "gs2.cv_results_"
   ]
  },
  {
   "cell_type": "code",
   "execution_count": 36,
   "metadata": {},
   "outputs": [
    {
     "data": {
      "text/plain": [
       "{'max_depth': 7, 'min_samples_split': 800}"
      ]
     },
     "execution_count": 36,
     "metadata": {},
     "output_type": "execute_result"
    }
   ],
   "source": [
    "gs2.best_params_"
   ]
  },
  {
   "cell_type": "code",
   "execution_count": 37,
   "metadata": {},
   "outputs": [
    {
     "data": {
      "text/plain": [
       "0.6466361592354486"
      ]
     },
     "execution_count": 37,
     "metadata": {},
     "output_type": "execute_result"
    }
   ],
   "source": [
    "gs2.best_score_"
   ]
  },
  {
   "cell_type": "code",
   "execution_count": 38,
   "metadata": {},
   "outputs": [
    {
     "name": "stdout",
     "output_type": "stream",
     "text": [
      "      Iter       Train Loss      OOB Improve   Remaining Time \n",
      "         1           0.4193           0.0003            1.58s\n",
      "         2           0.4163           0.0038            1.56s\n",
      "         3           0.3979           0.0030            1.54s\n",
      "         4           0.4026          -0.0002            1.40s\n",
      "         5           0.3943           0.0005            1.32s\n",
      "         6           0.3949           0.0002            1.33s\n",
      "         7           0.4009          -0.0003            1.32s\n",
      "         8           0.3945          -0.0000            1.36s\n",
      "         9           0.3860          -0.0008            1.29s\n",
      "        10           0.3857          -0.0013            1.26s\n",
      "        20           0.3650          -0.0004            0.98s\n",
      "        30           0.3510          -0.0002            0.76s\n",
      "        40           0.3390          -0.0014            0.60s\n",
      "        50           0.3190          -0.0019            0.45s\n",
      "        60           0.3064          -0.0014            0.30s\n",
      "        70           0.2941          -0.0004            0.15s\n",
      "        80           0.2741          -0.0015            0.00s\n",
      "      Iter       Train Loss      OOB Improve   Remaining Time \n",
      "         1           0.4100           0.0153            4.02s\n",
      "         2           0.4061           0.0016            4.32s\n",
      "         3           0.3890           0.0012            4.56s\n",
      "         4           0.3909           0.0004            5.06s\n",
      "         5           0.3823           0.0002            5.01s\n",
      "         6           0.3806           0.0014            5.07s\n",
      "         7           0.3838          -0.0011            5.05s\n",
      "         8           0.3784          -0.0012            4.81s\n",
      "         9           0.3708          -0.0015            4.55s\n",
      "        10           0.3707           0.0002            4.28s\n",
      "        20           0.3464          -0.0019            3.18s\n",
      "        30           0.3320           0.0004            2.52s\n",
      "        40           0.3133          -0.0004            1.94s\n",
      "        50           0.2953          -0.0007            1.42s\n",
      "        60           0.2863          -0.0002            0.92s\n",
      "        70           0.2726          -0.0008            0.45s\n",
      "        80           0.2550          -0.0008            0.00s\n"
     ]
    }
   ],
   "source": [
    "model_tuning_3 = GradientBoostingClassifier(loss=\"deviance\", learning_rate=0.2, subsample=0.8, criterion=\"mse\", random_state=42, verbose=1.0, validation_fraction=0.1, n_estimators=80, max_features='sqrt', max_depth=7, min_samples_split=600)\n",
    "model_tuning_3.fit(X_train, y_train)\n",
    "param_test3 = {'max_features':range(12, 26, 2)}\n",
    "gs3 = gridSearch(model_tuning_3, param_grid=param_test3)"
   ]
  },
  {
   "cell_type": "code",
   "execution_count": 39,
   "metadata": {},
   "outputs": [
    {
     "data": {
      "text/plain": [
       "{'mean_fit_time': array([2.75523553, 3.09073634, 3.50362997, 3.89478245, 4.22030797,\n",
       "        4.54942904, 4.46247873]),\n",
       " 'std_fit_time': array([0.02067257, 0.04941154, 0.0558355 , 0.03751609, 0.0373193 ,\n",
       "        0.03198553, 0.36625672]),\n",
       " 'mean_score_time': array([0.01575308, 0.0159564 , 0.01635528, 0.01655822, 0.01576161,\n",
       "        0.01595888, 0.01315136]),\n",
       " 'std_score_time': array([0.00116015, 0.00089319, 0.00079573, 0.00119473, 0.00040021,\n",
       "        0.00063098, 0.00221794]),\n",
       " 'param_max_features': masked_array(data=[12, 14, 16, 18, 20, 22, 24],\n",
       "              mask=[False, False, False, False, False, False, False],\n",
       "        fill_value='?',\n",
       "             dtype=object),\n",
       " 'params': [{'max_features': 12},\n",
       "  {'max_features': 14},\n",
       "  {'max_features': 16},\n",
       "  {'max_features': 18},\n",
       "  {'max_features': 20},\n",
       "  {'max_features': 22},\n",
       "  {'max_features': 24}],\n",
       " 'split0_test_score': array([0.61858826, 0.62437731, 0.63878649, 0.65209193, 0.61439593,\n",
       "        0.62655902, 0.62769954]),\n",
       " 'split1_test_score': array([0.61066349, 0.63798261, 0.61578295, 0.6349124 , 0.62152418,\n",
       "        0.62781911, 0.64039425]),\n",
       " 'split2_test_score': array([0.63304468, 0.61873567, 0.61043659, 0.61801801, 0.6259785 ,\n",
       "        0.62281896, 0.63097819]),\n",
       " 'split3_test_score': array([0.60001491, 0.60443403, 0.61501857, 0.61405617, 0.61177254,\n",
       "        0.61431379, 0.61333667]),\n",
       " 'split4_test_score': array([0.6335636 , 0.63994156, 0.63275025, 0.634618  , 0.63172161,\n",
       "        0.62974161, 0.64886444]),\n",
       " 'mean_test_score': array([0.61917498, 0.62509423, 0.62255497, 0.6307393 , 0.62107855,\n",
       "        0.6242505 , 0.63225462]),\n",
       " 'std_test_score': array([0.01295607, 0.01307167, 0.01110782, 0.01362756, 0.00733133,\n",
       "        0.00545901, 0.01202004]),\n",
       " 'rank_test_score': array([7, 3, 5, 2, 6, 4, 1]),\n",
       " 'split0_train_score': array([0.93614818, 0.93429616, 0.93565316, 0.93767348, 0.93869508,\n",
       "        0.94231373, 0.93304778]),\n",
       " 'split1_train_score': array([0.93860147, 0.93528775, 0.94037828, 0.93048121, 0.94492054,\n",
       "        0.93747804, 0.92895832]),\n",
       " 'split2_train_score': array([0.93596896, 0.93545219, 0.93701026, 0.94228263, 0.94103377,\n",
       "        0.94163109, 0.94943556]),\n",
       " 'split3_train_score': array([0.94064028, 0.93763   , 0.94369098, 0.94210382, 0.94003704,\n",
       "        0.94123627, 0.94922869]),\n",
       " 'split4_train_score': array([0.9457017 , 0.94898123, 0.93819857, 0.93366052, 0.94100405,\n",
       "        0.94456347, 0.94095363]),\n",
       " 'mean_train_score': array([0.93941212, 0.93832946, 0.93898625, 0.93724033, 0.9411381 ,\n",
       "        0.94144452, 0.94032479]),\n",
       " 'std_train_score': array([0.00358422, 0.00543595, 0.00281804, 0.00464256, 0.00207444,\n",
       "        0.00229323, 0.00830461])}"
      ]
     },
     "execution_count": 39,
     "metadata": {},
     "output_type": "execute_result"
    }
   ],
   "source": [
    "gs3.cv_results_"
   ]
  },
  {
   "cell_type": "code",
   "execution_count": 40,
   "metadata": {},
   "outputs": [
    {
     "data": {
      "text/plain": [
       "{'max_features': 24}"
      ]
     },
     "execution_count": 40,
     "metadata": {},
     "output_type": "execute_result"
    }
   ],
   "source": [
    "gs3.best_params_"
   ]
  },
  {
   "cell_type": "code",
   "execution_count": 41,
   "metadata": {},
   "outputs": [
    {
     "data": {
      "text/plain": [
       "0.6322546176006023"
      ]
     },
     "execution_count": 41,
     "metadata": {},
     "output_type": "execute_result"
    }
   ],
   "source": [
    "gs3.best_score_"
   ]
  },
  {
   "cell_type": "code",
   "execution_count": 42,
   "metadata": {},
   "outputs": [
    {
     "name": "stdout",
     "output_type": "stream",
     "text": [
      "      Iter       Train Loss      OOB Improve   Remaining Time \n",
      "         1           0.4100           0.0153            4.57s\n",
      "         2           0.4061           0.0016            4.55s\n",
      "         3           0.3890           0.0012            4.48s\n",
      "         4           0.3909           0.0004            4.38s\n",
      "         5           0.3823           0.0002            4.26s\n",
      "         6           0.3806           0.0014            4.17s\n",
      "         7           0.3838          -0.0011            4.15s\n",
      "         8           0.3784          -0.0012            4.03s\n",
      "         9           0.3708          -0.0015            3.90s\n",
      "        10           0.3707           0.0002            3.71s\n",
      "        20           0.3464          -0.0019            2.94s\n",
      "        30           0.3320           0.0004            2.39s\n",
      "        40           0.3133          -0.0004            1.86s\n",
      "        50           0.2953          -0.0007            1.37s\n",
      "        60           0.2863          -0.0002            0.89s\n",
      "        70           0.2726          -0.0008            0.45s\n",
      "        80           0.2550          -0.0008            0.00s\n",
      "      Iter       Train Loss      OOB Improve   Remaining Time \n",
      "         1           0.4177           0.0044            2.91s\n",
      "         2           0.4103          -0.0011            3.03s\n",
      "         3           0.4065           0.0018            2.87s\n",
      "         4           0.3991           0.0003            2.75s\n",
      "         5           0.3946           0.0019            2.84s\n",
      "         6           0.3827           0.0004            2.78s\n",
      "         7           0.3812          -0.0009            2.72s\n",
      "         8           0.3718          -0.0020            2.72s\n",
      "         9           0.3782          -0.0006            2.61s\n",
      "        10           0.3793          -0.0001            2.55s\n",
      "        20           0.3535          -0.0012            2.06s\n",
      "        30           0.3371          -0.0009            1.67s\n",
      "        40           0.3125          -0.0008            1.33s\n",
      "        50           0.2907          -0.0035            0.99s\n",
      "        60           0.2839          -0.0007            0.66s\n",
      "        70           0.2789          -0.0010            0.33s\n",
      "        80           0.2570          -0.0043            0.00s\n",
      "      Iter       Train Loss      OOB Improve   Remaining Time \n",
      "         1           0.4153           0.0062            2.84s\n",
      "         2           0.4136          -0.0014            3.07s\n",
      "         3           0.4016           0.0020            2.97s\n",
      "         4           0.3967          -0.0014            2.90s\n",
      "         5           0.3949          -0.0030            2.96s\n",
      "         6           0.3863          -0.0007            2.89s\n",
      "         7           0.3800          -0.0012            2.81s\n",
      "         8           0.3818          -0.0006            2.76s\n",
      "         9           0.3838          -0.0005            2.62s\n",
      "        10           0.3775          -0.0014            2.57s\n",
      "        20           0.3569          -0.0011            2.10s\n",
      "        30           0.3442          -0.0008            1.69s\n",
      "        40           0.3220          -0.0004            1.32s\n",
      "        50           0.2989          -0.0007            0.98s\n",
      "        60           0.2925          -0.0009            0.66s\n",
      "        70           0.2780          -0.0004            0.33s\n",
      "        80           0.2627          -0.0009            0.00s\n",
      "      Iter       Train Loss      OOB Improve   Remaining Time \n",
      "         1           0.4132           0.0057            3.15s\n",
      "         2           0.3981           0.0002            3.03s\n",
      "         3           0.3927           0.0021            3.10s\n",
      "         4           0.4002           0.0011            3.01s\n",
      "         5           0.3918           0.0031            3.13s\n",
      "         6           0.3794          -0.0032            3.08s\n",
      "         7           0.3663          -0.0020            2.92s\n",
      "         8           0.3812          -0.0006            2.86s\n",
      "         9           0.3634          -0.0034            2.79s\n",
      "        10           0.3678           0.0002            2.69s\n",
      "        20           0.3439          -0.0001            2.24s\n",
      "        30           0.3226          -0.0003            1.74s\n",
      "        40           0.3068          -0.0013            1.35s\n",
      "        50           0.2884          -0.0022            1.02s\n",
      "        60           0.2767          -0.0007            0.68s\n",
      "        70           0.2616          -0.0006            0.34s\n",
      "        80           0.2364          -0.0011            0.00s\n",
      "      Iter       Train Loss      OOB Improve   Remaining Time \n",
      "         1           0.4108           0.0013            3.07s\n",
      "         2           0.3956           0.0057            2.92s\n",
      "         3           0.3906          -0.0007            2.82s\n",
      "         4           0.3996           0.0027            2.80s\n",
      "         5           0.3946           0.0013            2.83s\n",
      "         6           0.3867           0.0004            2.77s\n",
      "         7           0.3693          -0.0014            2.74s\n",
      "         8           0.3818          -0.0024            2.70s\n",
      "         9           0.3723          -0.0011            2.59s\n",
      "        10           0.3661          -0.0030            2.56s\n",
      "        20           0.3453          -0.0014            2.10s\n",
      "        30           0.3288          -0.0026            1.70s\n",
      "        40           0.3077          -0.0014            1.37s\n",
      "        50           0.2843          -0.0008            1.01s\n",
      "        60           0.2703          -0.0009            0.67s\n",
      "        70           0.2527          -0.0010            0.34s\n",
      "        80           0.2404          -0.0009            0.00s\n",
      "      Iter       Train Loss      OOB Improve   Remaining Time \n",
      "         1           0.4170           0.0038            3.23s\n",
      "         2           0.3982           0.0078            3.19s\n",
      "         3           0.3873          -0.0004            3.07s\n",
      "         4           0.3994          -0.0001            2.94s\n",
      "         5           0.3976           0.0005            2.90s\n",
      "         6           0.3906           0.0001            2.83s\n",
      "         7           0.3759          -0.0015            2.93s\n",
      "         8           0.3801          -0.0001            2.81s\n",
      "         9           0.3736           0.0001            2.71s\n",
      "        10           0.3723          -0.0004            2.67s\n",
      "        20           0.3637          -0.0009            2.19s\n",
      "        30           0.3345          -0.0015            1.78s\n",
      "        40           0.3258          -0.0007            1.42s\n",
      "        50           0.2974          -0.0004            1.06s\n",
      "        60           0.2846          -0.0014            0.70s\n",
      "        70           0.2722          -0.0013            0.34s\n",
      "        80           0.2479          -0.0015            0.00s\n",
      "CV Score : Mean - 0.9399024 | Std - 0.002086823 | Min - 0.935953 | Max - 0.9421232\n"
     ]
    },
    {
     "data": {
      "image/png": "[encoded data removed]",
      "text/plain": [
       "<Figure size 432x288 with 1 Axes>"
      ]
     },
     "metadata": {
      "needs_background": "light"
     },
     "output_type": "display_data"
    }
   ],
   "source": [
    "model_fit(gs3.best_estimator_)"
   ]
  },
  {
   "cell_type": "code",
   "execution_count": 43,
   "metadata": {},
   "outputs": [],
   "source": [
    "model = gs3.best_estimator_\n",
    "predictions_1 = model.predict(X_test)"
   ]
  },
  {
   "cell_type": "code",
   "execution_count": 44,
   "metadata": {},
   "outputs": [
    {
     "data": {
      "text/plain": [
       "0.9420708720784117"
      ]
     },
     "execution_count": 44,
     "metadata": {},
     "output_type": "execute_result"
    }
   ],
   "source": [
    "metrics.accuracy_score(y_test, predictions_1)"
   ]
  },
  {
   "cell_type": "code",
   "execution_count": 45,
   "metadata": {},
   "outputs": [
    {
     "data": {
      "text/plain": [
       "0    7529\n",
       "1     429\n",
       "Name: dank, dtype: int64"
      ]
     },
     "execution_count": 45,
     "metadata": {},
     "output_type": "execute_result"
    }
   ],
   "source": [
    "y_test.value_counts()"
   ]
  },
  {
   "cell_type": "markdown",
   "metadata": {},
   "source": [
    "Seems to be a satisfying result on first inspection, but upon looking at the value counts, 94% of the test values are zeros.  It is possible that the model is simply predictinig 0 for all values.  I will use xgboost to see if I can get a better result."
   ]
  },
  {
   "cell_type": "code",
   "execution_count": 46,
   "metadata": {},
   "outputs": [],
   "source": [
    "import xgboost as xgb"
   ]
  },
  {
   "cell_type": "code",
   "execution_count": 47,
   "metadata": {},
   "outputs": [
    {
     "data": {
      "text/plain": [
       "XGBClassifier(base_score=0.5, booster=None, colsample_bylevel=1,\n",
       "              colsample_bynode=1, colsample_bytree=1, gamma=0, gpu_id=-1,\n",
       "              importance_type='gain', interaction_constraints=None,\n",
       "              learning_rate=0.300000012, max_delta_step=0, max_depth=6,\n",
       "              min_child_weight=1, missing=nan, monotone_constraints=None,\n",
       "              n_estimators=100, n_jobs=0, num_parallel_tree=1,\n",
       "              objective='binary:logistic', random_state=0, reg_alpha=0,\n",
       "              reg_lambda=1, scale_pos_weight=1, subsample=1, tree_method=None,\n",
       "              validate_parameters=False, verbosity=None)"
      ]
     },
     "execution_count": 47,
     "metadata": {},
     "output_type": "execute_result"
    }
   ],
   "source": [
    "model = xgb.XGBClassifier()\n",
    "model.fit(X_train, y_train)"
   ]
  },
  {
   "cell_type": "code",
   "execution_count": 48,
   "metadata": {},
   "outputs": [],
   "source": [
    "preds = model.predict(X_test)"
   ]
  },
  {
   "cell_type": "code",
   "execution_count": 49,
   "metadata": {},
   "outputs": [
    {
     "data": {
      "text/plain": [
       "0.9453380246293038"
      ]
     },
     "execution_count": 49,
     "metadata": {},
     "output_type": "execute_result"
    }
   ],
   "source": [
    "metrics.accuracy_score(y_test, preds)"
   ]
  },
  {
   "cell_type": "markdown",
   "metadata": {},
   "source": [
    "We have an okay baseline, let us mess with the paremeters."
   ]
  },
  {
   "cell_type": "code",
   "execution_count": 50,
   "metadata": {},
   "outputs": [],
   "source": [
    "params = {'max_depth':range(1, 20, 4), 'num_parallel_tree':range(1, 6)}\n",
    "model_tuning = xgb.XGBClassifier(learning_rate=0.1, random_state=42)\n",
    "model_tuning.fit(X_train, y_train)\n",
    "gs = gridSearch(model_tuning, param_grid=params)"
   ]
  },
  {
   "cell_type": "code",
   "execution_count": 51,
   "metadata": {},
   "outputs": [
    {
     "data": {
      "text/plain": [
       "{'mean_fit_time': array([ 2.23761096,  3.12404165,  3.98972392,  4.84783273,  5.70992613,\n",
       "         5.82940574, 10.56194644, 15.45725317, 20.28294497, 25.74832582,\n",
       "        10.3160048 , 18.94352727, 27.78966489, 36.44331913, 45.40733957,\n",
       "        13.93791742, 26.57531128, 39.12833576, 51.91313896, 64.70552111,\n",
       "        17.24267545, 33.68469763, 49.80657001, 65.72559223, 84.05676799]),\n",
       " 'std_fit_time': array([0.0068363 , 0.0303848 , 0.02316725, 0.01227067, 0.04135925,\n",
       "        0.03552432, 0.12400837, 0.04065165, 0.10024531, 0.4421884 ,\n",
       "        0.25686631, 0.06622005, 0.15373319, 0.18374433, 0.23903734,\n",
       "        0.08996241, 0.17771255, 0.21738628, 0.27843518, 0.38501983,\n",
       "        0.09789282, 0.25814369, 0.31543889, 0.40687251, 4.82652709]),\n",
       " 'mean_score_time': array([0.01396289, 0.0175528 , 0.01914968, 0.02313771, 0.0259306 ,\n",
       "        0.0281323 , 0.04408202, 0.0626328 , 0.08218098, 0.09594398,\n",
       "        0.04687524, 0.08876357, 0.12107739, 0.15378866, 0.19487982,\n",
       "        0.06602387, 0.12207403, 0.1809166 , 0.24713898, 0.34627519,\n",
       "        0.07799253, 0.16356311, 0.25073023, 0.4003305 , 0.44181757]),\n",
       " 'std_score_time': array([0.00089164, 0.00079784, 0.00039904, 0.00074625, 0.00063075,\n",
       "        0.0023899 , 0.00171611, 0.00347707, 0.00391903, 0.00330174,\n",
       "        0.00362352, 0.00260065, 0.00264571, 0.00353594, 0.00852359,\n",
       "        0.00222148, 0.00184978, 0.00715332, 0.00706298, 0.04033662,\n",
       "        0.00116306, 0.02702718, 0.04664962, 0.07520133, 0.08756508]),\n",
       " 'param_max_depth': masked_array(data=[1, 1, 1, 1, 1, 5, 5, 5, 5, 5, 9, 9, 9, 9, 9, 13, 13,\n",
       "                    13, 13, 13, 17, 17, 17, 17, 17],\n",
       "              mask=[False, False, False, False, False, False, False, False,\n",
       "                    False, False, False, False, False, False, False, False,\n",
       "                    False, False, False, False, False, False, False, False,\n",
       "                    False],\n",
       "        fill_value='?',\n",
       "             dtype=object),\n",
       " 'param_num_parallel_tree': masked_array(data=[1, 2, 3, 4, 5, 1, 2, 3, 4, 5, 1, 2, 3, 4, 5, 1, 2, 3,\n",
       "                    4, 5, 1, 2, 3, 4, 5],\n",
       "              mask=[False, False, False, False, False, False, False, False,\n",
       "                    False, False, False, False, False, False, False, False,\n",
       "                    False, False, False, False, False, False, False, False,\n",
       "                    False],\n",
       "        fill_value='?',\n",
       "             dtype=object),\n",
       " 'params': [{'max_depth': 1, 'num_parallel_tree': 1},\n",
       "  {'max_depth': 1, 'num_parallel_tree': 2},\n",
       "  {'max_depth': 1, 'num_parallel_tree': 3},\n",
       "  {'max_depth': 1, 'num_parallel_tree': 4},\n",
       "  {'max_depth': 1, 'num_parallel_tree': 5},\n",
       "  {'max_depth': 5, 'num_parallel_tree': 1},\n",
       "  {'max_depth': 5, 'num_parallel_tree': 2},\n",
       "  {'max_depth': 5, 'num_parallel_tree': 3},\n",
       "  {'max_depth': 5, 'num_parallel_tree': 4},\n",
       "  {'max_depth': 5, 'num_parallel_tree': 5},\n",
       "  {'max_depth': 9, 'num_parallel_tree': 1},\n",
       "  {'max_depth': 9, 'num_parallel_tree': 2},\n",
       "  {'max_depth': 9, 'num_parallel_tree': 3},\n",
       "  {'max_depth': 9, 'num_parallel_tree': 4},\n",
       "  {'max_depth': 9, 'num_parallel_tree': 5},\n",
       "  {'max_depth': 13, 'num_parallel_tree': 1},\n",
       "  {'max_depth': 13, 'num_parallel_tree': 2},\n",
       "  {'max_depth': 13, 'num_parallel_tree': 3},\n",
       "  {'max_depth': 13, 'num_parallel_tree': 4},\n",
       "  {'max_depth': 13, 'num_parallel_tree': 5},\n",
       "  {'max_depth': 17, 'num_parallel_tree': 1},\n",
       "  {'max_depth': 17, 'num_parallel_tree': 2},\n",
       "  {'max_depth': 17, 'num_parallel_tree': 3},\n",
       "  {'max_depth': 17, 'num_parallel_tree': 4},\n",
       "  {'max_depth': 17, 'num_parallel_tree': 5}],\n",
       " 'split0_test_score': array([0.63618445, 0.63618445, 0.63618445, 0.63618445, 0.63618445,\n",
       "        0.65779637, 0.65779637, 0.65779637, 0.65779637, 0.65779545,\n",
       "        0.63944137, 0.63944045, 0.63944137, 0.63944137, 0.63944321,\n",
       "        0.62964026, 0.62963842, 0.62963842, 0.62964026, 0.62964026,\n",
       "        0.63770299, 0.63770299, 0.63770299, 0.63770299, 0.63770299]),\n",
       " 'split1_test_score': array([0.60516692, 0.60516692, 0.60516692, 0.60516692, 0.60516692,\n",
       "        0.65217287, 0.65217287, 0.65217287, 0.65217287, 0.65217287,\n",
       "        0.62051794, 0.62051794, 0.62051794, 0.62051794, 0.62051794,\n",
       "        0.63088195, 0.63088195, 0.63088195, 0.63088103, 0.63088011,\n",
       "        0.62386408, 0.62386408, 0.6214322 , 0.62386592, 0.6214322 ]),\n",
       " 'split2_test_score': array([0.62245277, 0.62245277, 0.62245277, 0.62245277, 0.62245277,\n",
       "        0.6532348 , 0.6532348 , 0.65323848, 0.6532348 , 0.65323848,\n",
       "        0.63700652, 0.63700652, 0.63700836, 0.63700652, 0.63700652,\n",
       "        0.60990663, 0.60990663, 0.60990663, 0.60990663, 0.60990663,\n",
       "        0.60917425, 0.60917425, 0.60917425, 0.60917241, 0.60917425]),\n",
       " 'split3_test_score': array([0.6291454 , 0.6291454 , 0.6291454 , 0.6291454 , 0.6291454 ,\n",
       "        0.63243835, 0.63243835, 0.63243651, 0.63243835, 0.63243651,\n",
       "        0.6171513 , 0.6171513 , 0.6171513 , 0.6171513 , 0.6171513 ,\n",
       "        0.60395927, 0.60395927, 0.61034459, 0.60395927, 0.61034275,\n",
       "        0.59945458, 0.59945458, 0.59945458, 0.59945458, 0.59945458]),\n",
       " 'split4_test_score': array([0.6569611 , 0.6569611 , 0.6569611 , 0.6569611 , 0.6569611 ,\n",
       "        0.66103519, 0.66103519, 0.66103519, 0.66103519, 0.66103519,\n",
       "        0.66461429, 0.66461429, 0.66461429, 0.66461337, 0.66461429,\n",
       "        0.63580858, 0.63580306, 0.6358049 , 0.6358049 , 0.63580674,\n",
       "        0.64362002, 0.64362002, 0.64362002, 0.64361818, 0.64362002]),\n",
       " 'mean_test_score': array([0.62998213, 0.62998213, 0.62998213, 0.62998213, 0.62998213,\n",
       "        0.65133552, 0.65133552, 0.65133588, 0.65133552, 0.6513357 ,\n",
       "        0.63574628, 0.6357461 , 0.63574665, 0.6357461 , 0.63574665,\n",
       "        0.62203934, 0.62203787, 0.6233153 , 0.62203842, 0.6233153 ,\n",
       "        0.62276318, 0.62276318, 0.62227681, 0.62276282, 0.62227681]),\n",
       " 'std_test_score': array([0.01696773, 0.01696773, 0.01696773, 0.01696773, 0.01696773,\n",
       "        0.00997234, 0.00997234, 0.00997318, 0.00997234, 0.00997306,\n",
       "        0.01688952, 0.01688948, 0.01688955, 0.0168892 , 0.0168896 ,\n",
       "        0.01264634, 0.01264492, 0.01096593, 0.01264541, 0.01096674,\n",
       "        0.01665754, 0.01665754, 0.01665379, 0.0166574 , 0.01665379]),\n",
       " 'rank_test_score': array([11, 11, 11, 11, 11,  3,  3,  1,  3,  2,  8,  9,  6, 10,  7, 23, 25,\n",
       "        16, 24, 16, 18, 18, 22, 20, 21]),\n",
       " 'split0_train_score': array([0.66166515, 0.66166515, 0.66166515, 0.66166515, 0.66166515,\n",
       "        0.9063625 , 0.90636244, 0.90636279, 0.9063625 , 0.90636238,\n",
       "        0.99571395, 0.99571395, 0.99571395, 0.99571395, 0.99571395,\n",
       "        0.99995711, 0.99995711, 0.99995711, 0.99995711, 0.99995711,\n",
       "        0.99999937, 0.99999937, 0.99999937, 0.99999937, 0.99999937]),\n",
       " 'split1_train_score': array([0.65432297, 0.65432297, 0.65432044, 0.65432297, 0.65432297,\n",
       "        0.91496501, 0.91496501, 0.91496501, 0.91496501, 0.91496536,\n",
       "        0.99748282, 0.99748282, 0.99748282, 0.99748282, 0.99748282,\n",
       "        0.9999785 , 0.9999785 , 0.9999785 , 0.9999785 , 0.9999785 ,\n",
       "        0.99999954, 0.99999954, 0.99999989, 0.99999954, 0.99999989]),\n",
       " 'split2_train_score': array([0.65994039, 0.65994039, 0.65994039, 0.65994039, 0.65994039,\n",
       "        0.91381356, 0.91381356, 0.91381356, 0.91381344, 0.91381356,\n",
       "        0.99883819, 0.99883819, 0.99883825, 0.99883819, 0.99883819,\n",
       "        0.99999316, 0.99999316, 0.99999316, 0.99999316, 0.99999316,\n",
       "        0.99999994, 0.99999994, 0.99999994, 0.99999994, 0.99999994]),\n",
       " 'split3_train_score': array([0.65956391, 0.65956391, 0.65956391, 0.65956391, 0.65956391,\n",
       "        0.91596222, 0.9159621 , 0.91596222, 0.91596222, 0.91596222,\n",
       "        0.99766546, 0.99766535, 0.99766535, 0.99766546, 0.99766546,\n",
       "        0.9999877 , 0.9999877 , 0.99998747, 0.9999877 , 0.99998747,\n",
       "        0.99999977, 0.99999977, 0.99999977, 0.99999977, 0.99999977]),\n",
       " 'split4_train_score': array([0.65459172, 0.65459172, 0.65459172, 0.65459172, 0.65459172,\n",
       "        0.91680009, 0.91680009, 0.91680009, 0.91679998, 0.91679998,\n",
       "        0.99725069, 0.99725069, 0.99725069, 0.99725069, 0.99725069,\n",
       "        0.99999166, 0.99999166, 0.99999166, 0.99999166, 0.99999166,\n",
       "        0.99999948, 0.99999948, 0.99999948, 0.99999948, 0.99999948]),\n",
       " 'mean_train_score': array([0.65801683, 0.65801683, 0.65801632, 0.65801683, 0.65801683,\n",
       "        0.91358068, 0.91358064, 0.91358073, 0.91358063, 0.9135807 ,\n",
       "        0.99739022, 0.9973902 , 0.99739021, 0.99739022, 0.99739022,\n",
       "        0.99998162, 0.99998162, 0.99998158, 0.99998162, 0.99998158,\n",
       "        0.99999962, 0.99999962, 0.99999969, 0.99999962, 0.99999969]),\n",
       " 'std_train_score': array([2.99264763e-03, 2.99264763e-03, 2.99327230e-03, 2.99264763e-03,\n",
       "        2.99264763e-03, 3.74457176e-03, 3.74457930e-03, 3.74446092e-03,\n",
       "        3.74455056e-03, 3.74462184e-03, 1.00102976e-03, 1.00102344e-03,\n",
       "        1.00104008e-03, 1.00102976e-03, 1.00102976e-03, 1.32790077e-05,\n",
       "        1.32790077e-05, 1.32582759e-05, 1.32790077e-05, 1.32582759e-05,\n",
       "        2.07636355e-07, 2.07636355e-07, 2.25933685e-07, 2.07636355e-07,\n",
       "        2.25933685e-07])}"
      ]
     },
     "execution_count": 51,
     "metadata": {},
     "output_type": "execute_result"
    }
   ],
   "source": [
    "gs.cv_results_"
   ]
  },
  {
   "cell_type": "code",
   "execution_count": 52,
   "metadata": {},
   "outputs": [
    {
     "data": {
      "text/plain": [
       "{'max_depth': 5, 'num_parallel_tree': 3}"
      ]
     },
     "execution_count": 52,
     "metadata": {},
     "output_type": "execute_result"
    }
   ],
   "source": [
    "gs.best_params_"
   ]
  },
  {
   "cell_type": "code",
   "execution_count": 53,
   "metadata": {},
   "outputs": [
    {
     "data": {
      "text/plain": [
       "0.651335884569161"
      ]
     },
     "execution_count": 53,
     "metadata": {},
     "output_type": "execute_result"
    }
   ],
   "source": [
    "gs.best_score_"
   ]
  },
  {
   "cell_type": "code",
   "execution_count": 54,
   "metadata": {},
   "outputs": [],
   "source": [
    "preds = gs.best_estimator_.predict(X_test)"
   ]
  },
  {
   "cell_type": "code",
   "execution_count": 55,
   "metadata": {},
   "outputs": [
    {
     "data": {
      "text/plain": [
       "0.9465946217642623"
      ]
     },
     "execution_count": 55,
     "metadata": {},
     "output_type": "execute_result"
    }
   ],
   "source": [
    "metrics.accuracy_score(y_test, preds)"
   ]
  },
  {
   "cell_type": "markdown",
   "metadata": {},
   "source": [
    "We see some incremental improvement.  It may simply due to the large number of negative records opposed to the small number of positive records.  It may be beneficial to remove some negative records at random to close the gap."
   ]
  },
  {
   "cell_type": "code",
   "execution_count": 56,
   "metadata": {},
   "outputs": [
    {
     "data": {
      "text/plain": [
       "0    15267\n",
       "1      890\n",
       "Name: dank, dtype: int64"
      ]
     },
     "execution_count": 56,
     "metadata": {},
     "output_type": "execute_result"
    }
   ],
   "source": [
    "y_train.value_counts()"
   ]
  },
  {
   "cell_type": "code",
   "execution_count": 57,
   "metadata": {},
   "outputs": [],
   "source": [
    "dank_data = dank_data.drop(dank_data.index[dank_data['dank'] == 0][0:10000])"
   ]
  },
  {
   "cell_type": "code",
   "execution_count": 58,
   "metadata": {},
   "outputs": [],
   "source": [
    "X, y = dank_data.drop(columns=[\"dank\"]), dank_data[\"dank\"]\n",
    "X_train, X_test, y_train, y_test = train_test_split(X, y, test_size=0.33, random_state=42)"
   ]
  },
  {
   "cell_type": "code",
   "execution_count": 59,
   "metadata": {},
   "outputs": [],
   "source": [
    "params = {'max_depth':range(1, 20, 4), 'num_parallel_tree':range(1, 6)}\n",
    "model_tuning = xgb.XGBClassifier(learning_rate=0.1, random_state=42)\n",
    "model_tuning.fit(X_train, y_train)\n",
    "gs = gridSearch(model_tuning, param_grid=params)"
   ]
  },
  {
   "cell_type": "code",
   "execution_count": 60,
   "metadata": {},
   "outputs": [
    {
     "data": {
      "text/plain": [
       "{'mean_fit_time': array([ 1.27498608,  1.81853285,  2.35090866,  2.88847189,  3.43082275,\n",
       "         3.4828815 ,  6.16151605,  8.8864284 , 11.71685681, 14.39489279,\n",
       "         5.66923308, 10.54439359, 15.71955104, 20.37569575, 25.38310232,\n",
       "         7.7943481 , 14.6019403 , 21.48333306, 28.40063004, 35.36958981,\n",
       "         9.3459981 , 17.92465014, 26.53143015, 36.31326313, 40.74979448]),\n",
       " 'std_fit_time': array([0.00537463, 0.01058652, 0.00736712, 0.00733972, 0.02117394,\n",
       "        0.0195783 , 0.02679175, 0.03093576, 0.04436172, 0.06925941,\n",
       "        0.03565177, 0.0472302 , 0.1153445 , 0.08082267, 0.2262193 ,\n",
       "        0.11567807, 0.05287535, 0.11907837, 0.17276031, 0.14015824,\n",
       "        0.03079043, 0.12101235, 0.15449314, 0.46710916, 3.98628107]),\n",
       " 'mean_score_time': array([0.00917625, 0.01177168, 0.01257463, 0.01496067, 0.01735268,\n",
       "        0.0169558 , 0.02513328, 0.03271303, 0.04109344, 0.05106373,\n",
       "        0.0245347 , 0.04448318, 0.06204066, 0.07679515, 0.08896289,\n",
       "        0.0329123 , 0.06023932, 0.08098431, 0.10352578, 0.12566795,\n",
       "        0.03849773, 0.06682162, 0.09315176, 0.14740601, 0.15040507]),\n",
       " 'std_score_time': array([0.00039852, 0.00116679, 0.00049072, 0.00063075, 0.00135361,\n",
       "        0.00154443, 0.00203402, 0.00074625, 0.00074552, 0.00132314,\n",
       "        0.00048871, 0.00184987, 0.00115713, 0.00109236, 0.00182773,\n",
       "        0.00109219, 0.00135293, 0.00116288, 0.00222081, 0.00362245,\n",
       "        0.00214795, 0.00154499, 0.00223915, 0.04666116, 0.01728069]),\n",
       " 'param_max_depth': masked_array(data=[1, 1, 1, 1, 1, 5, 5, 5, 5, 5, 9, 9, 9, 9, 9, 13, 13,\n",
       "                    13, 13, 13, 17, 17, 17, 17, 17],\n",
       "              mask=[False, False, False, False, False, False, False, False,\n",
       "                    False, False, False, False, False, False, False, False,\n",
       "                    False, False, False, False, False, False, False, False,\n",
       "                    False],\n",
       "        fill_value='?',\n",
       "             dtype=object),\n",
       " 'param_num_parallel_tree': masked_array(data=[1, 2, 3, 4, 5, 1, 2, 3, 4, 5, 1, 2, 3, 4, 5, 1, 2, 3,\n",
       "                    4, 5, 1, 2, 3, 4, 5],\n",
       "              mask=[False, False, False, False, False, False, False, False,\n",
       "                    False, False, False, False, False, False, False, False,\n",
       "                    False, False, False, False, False, False, False, False,\n",
       "                    False],\n",
       "        fill_value='?',\n",
       "             dtype=object),\n",
       " 'params': [{'max_depth': 1, 'num_parallel_tree': 1},\n",
       "  {'max_depth': 1, 'num_parallel_tree': 2},\n",
       "  {'max_depth': 1, 'num_parallel_tree': 3},\n",
       "  {'max_depth': 1, 'num_parallel_tree': 4},\n",
       "  {'max_depth': 1, 'num_parallel_tree': 5},\n",
       "  {'max_depth': 5, 'num_parallel_tree': 1},\n",
       "  {'max_depth': 5, 'num_parallel_tree': 2},\n",
       "  {'max_depth': 5, 'num_parallel_tree': 3},\n",
       "  {'max_depth': 5, 'num_parallel_tree': 4},\n",
       "  {'max_depth': 5, 'num_parallel_tree': 5},\n",
       "  {'max_depth': 9, 'num_parallel_tree': 1},\n",
       "  {'max_depth': 9, 'num_parallel_tree': 2},\n",
       "  {'max_depth': 9, 'num_parallel_tree': 3},\n",
       "  {'max_depth': 9, 'num_parallel_tree': 4},\n",
       "  {'max_depth': 9, 'num_parallel_tree': 5},\n",
       "  {'max_depth': 13, 'num_parallel_tree': 1},\n",
       "  {'max_depth': 13, 'num_parallel_tree': 2},\n",
       "  {'max_depth': 13, 'num_parallel_tree': 3},\n",
       "  {'max_depth': 13, 'num_parallel_tree': 4},\n",
       "  {'max_depth': 13, 'num_parallel_tree': 5},\n",
       "  {'max_depth': 17, 'num_parallel_tree': 1},\n",
       "  {'max_depth': 17, 'num_parallel_tree': 2},\n",
       "  {'max_depth': 17, 'num_parallel_tree': 3},\n",
       "  {'max_depth': 17, 'num_parallel_tree': 4},\n",
       "  {'max_depth': 17, 'num_parallel_tree': 5}],\n",
       " 'split0_test_score': array([0.83425819, 0.83425819, 0.83425819, 0.83425819, 0.83425819,\n",
       "        0.82597708, 0.82597708, 0.8259738 , 0.82597872, 0.82597708,\n",
       "        0.82462995, 0.82462995, 0.82462995, 0.82462995, 0.82462995,\n",
       "        0.8173764 , 0.8173764 , 0.8173764 , 0.8173764 , 0.8173764 ,\n",
       "        0.80312496, 0.80312496, 0.80312496, 0.80312496, 0.80312496]),\n",
       " 'split1_test_score': array([0.84270482, 0.84270482, 0.84270482, 0.84270482, 0.84270482,\n",
       "        0.83678694, 0.83678694, 0.83678694, 0.83678694, 0.83678694,\n",
       "        0.82476433, 0.82476433, 0.82476433, 0.82476433, 0.82476433,\n",
       "        0.82211595, 0.82211595, 0.82211595, 0.82211595, 0.82211595,\n",
       "        0.81098161, 0.81098161, 0.81098161, 0.81098161, 0.81098161]),\n",
       " 'split2_test_score': array([0.81323011, 0.81323011, 0.81323011, 0.81323011, 0.81323011,\n",
       "        0.81348905, 0.81348905, 0.81348905, 0.81348577, 0.81348905,\n",
       "        0.80813984, 0.80813984, 0.80813984, 0.80813984, 0.80813984,\n",
       "        0.80188599, 0.80188599, 0.80188599, 0.80188599, 0.80188599,\n",
       "        0.78951267, 0.78951267, 0.78951595, 0.78951267, 0.78951267]),\n",
       " 'split3_test_score': array([0.83526667, 0.83526667, 0.83526667, 0.83526667, 0.83526667,\n",
       "        0.81814216, 0.81814216, 0.81814216, 0.81814216, 0.81814216,\n",
       "        0.79514552, 0.7951488 , 0.7951488 , 0.79514552, 0.79514552,\n",
       "        0.80416117, 0.80416117, 0.80416117, 0.80416117, 0.80416117,\n",
       "        0.81077615, 0.81077615, 0.81077615, 0.81077615, 0.81077615]),\n",
       " 'split4_test_score': array([0.77551031, 0.77551031, 0.77551031, 0.77551031, 0.77551031,\n",
       "        0.79501387, 0.79501387, 0.79501387, 0.79501387, 0.79501387,\n",
       "        0.79195979, 0.79195979, 0.79195979, 0.79195979, 0.79195979,\n",
       "        0.79266559, 0.79266559, 0.79266559, 0.79266559, 0.79266559,\n",
       "        0.79125069, 0.79125069, 0.79125069, 0.79125069, 0.79124739]),\n",
       " 'mean_test_score': array([0.82019402, 0.82019402, 0.82019402, 0.82019402, 0.82019402,\n",
       "        0.81788182, 0.81788182, 0.81788116, 0.81788149, 0.81788182,\n",
       "        0.80892789, 0.80892854, 0.80892854, 0.80892789, 0.80892789,\n",
       "        0.80764102, 0.80764102, 0.80764102, 0.80764102, 0.80764102,\n",
       "        0.80112922, 0.80112922, 0.80112987, 0.80112922, 0.80112856]),\n",
       " 'std_test_score': array([0.02440021, 0.02440021, 0.02440021, 0.02440021, 0.02440021,\n",
       "        0.0138942 , 0.0138942 , 0.01389382, 0.0138946 , 0.0138942 ,\n",
       "        0.01397025, 0.0139696 , 0.0139696 , 0.01397025, 0.01397025,\n",
       "        0.01071256, 0.01071256, 0.01071256, 0.01071256, 0.01071256,\n",
       "        0.00923737, 0.00923737, 0.00923655, 0.00923737, 0.00923808]),\n",
       " 'rank_test_score': array([ 1,  1,  1,  1,  1,  6,  6, 10,  9,  6, 13, 11, 11, 13, 13, 16, 16,\n",
       "        16, 16, 16, 22, 22, 21, 22, 25]),\n",
       " 'split0_train_score': array([0.83689209, 0.83689209, 0.83689209, 0.83689209, 0.83689209,\n",
       "        0.9750917 , 0.9750917 , 0.97509149, 0.9750917 , 0.9750917 ,\n",
       "        0.99963545, 0.99963545, 0.99963545, 0.99963545, 0.99963545,\n",
       "        0.99999795, 0.99999795, 0.99999795, 0.99999795, 0.99999795,\n",
       "        1.        , 1.        , 1.        , 1.        , 1.        ]),\n",
       " 'split1_train_score': array([0.84080872, 0.84080872, 0.84080872, 0.84080872, 0.84080872,\n",
       "        0.97069417, 0.97069437, 0.97069417, 0.97069417, 0.97069437,\n",
       "        0.99949561, 0.99949561, 0.99949561, 0.99949561, 0.99949561,\n",
       "        0.99999938, 0.99999938, 0.99999938, 0.99999938, 0.99999938,\n",
       "        1.        , 1.        , 1.        , 1.        , 1.        ]),\n",
       " 'split2_train_score': array([0.84613079, 0.84613079, 0.84613079, 0.84613079, 0.84613079,\n",
       "        0.97901017, 0.97901038, 0.97901038, 0.97901017, 0.97901058,\n",
       "        0.99951418, 0.99951418, 0.99951418, 0.99951418, 0.99951418,\n",
       "        0.99999897, 0.99999897, 0.99999897, 0.99999897, 0.99999897,\n",
       "        1.        , 1.        , 1.        , 1.        , 1.        ]),\n",
       " 'split3_train_score': array([0.8442046 , 0.8442046 , 0.8442046 , 0.8442046 , 0.8442046 ,\n",
       "        0.97175201, 0.97175201, 0.97175201, 0.97175181, 0.97175201,\n",
       "        0.99970311, 0.99970311, 0.99970311, 0.99970311, 0.99970311,\n",
       "        0.99999877, 0.99999877, 0.99999877, 0.99999877, 0.99999877,\n",
       "        1.        , 1.        , 1.        , 1.        , 1.        ]),\n",
       " 'split4_train_score': array([0.85492813, 0.85492813, 0.85492813, 0.85492813, 0.85492813,\n",
       "        0.97622676, 0.97622676, 0.97622676, 0.97622676, 0.97622676,\n",
       "        0.99954085, 0.99954085, 0.99954085, 0.99954085, 0.99954085,\n",
       "        1.        , 1.        , 1.        , 1.        , 1.        ,\n",
       "        1.        , 1.        , 1.        , 1.        , 1.        ]),\n",
       " 'mean_train_score': array([0.84459286, 0.84459286, 0.84459286, 0.84459286, 0.84459286,\n",
       "        0.97455496, 0.97455504, 0.97455496, 0.97455492, 0.97455508,\n",
       "        0.99957784, 0.99957784, 0.99957784, 0.99957784, 0.99957784,\n",
       "        0.99999902, 0.99999902, 0.99999902, 0.99999902, 0.99999902,\n",
       "        1.        , 1.        , 1.        , 1.        , 1.        ]),\n",
       " 'std_train_score': array([6.04905501e-03, 6.04905501e-03, 6.04905501e-03, 6.04905501e-03,\n",
       "        6.04905501e-03, 3.02304880e-03, 3.02305687e-03, 3.02310200e-03,\n",
       "        3.02308685e-03, 3.02311736e-03, 7.89883489e-05, 7.89883489e-05,\n",
       "        7.89883489e-05, 7.89883489e-05, 7.89883489e-05, 6.79333849e-07,\n",
       "        6.79333849e-07, 6.79333849e-07, 6.79333849e-07, 6.79333849e-07,\n",
       "        0.00000000e+00, 0.00000000e+00, 0.00000000e+00, 4.96506831e-17,\n",
       "        0.00000000e+00])}"
      ]
     },
     "execution_count": 60,
     "metadata": {},
     "output_type": "execute_result"
    }
   ],
   "source": [
    "gs.cv_results_"
   ]
  },
  {
   "cell_type": "code",
   "execution_count": 61,
   "metadata": {},
   "outputs": [
    {
     "data": {
      "text/plain": [
       "{'max_depth': 1, 'num_parallel_tree': 1}"
      ]
     },
     "execution_count": 61,
     "metadata": {},
     "output_type": "execute_result"
    }
   ],
   "source": [
    "gs.best_params_"
   ]
  },
  {
   "cell_type": "code",
   "execution_count": 62,
   "metadata": {},
   "outputs": [
    {
     "data": {
      "text/plain": [
       "0.8201940184949285"
      ]
     },
     "execution_count": 62,
     "metadata": {},
     "output_type": "execute_result"
    }
   ],
   "source": [
    "gs.best_score_"
   ]
  },
  {
   "cell_type": "code",
   "execution_count": 63,
   "metadata": {},
   "outputs": [
    {
     "data": {
      "text/plain": [
       "0.9592099613568055"
      ]
     },
     "execution_count": 63,
     "metadata": {},
     "output_type": "execute_result"
    }
   ],
   "source": [
    "preds = gs.best_estimator_.predict(X_test)\n",
    "metrics.accuracy_score(y_test, preds)"
   ]
  },
  {
   "cell_type": "code",
   "execution_count": 64,
   "metadata": {},
   "outputs": [
    {
     "data": {
      "text/plain": [
       "0    4228\n",
       "1     430\n",
       "Name: dank, dtype: int64"
      ]
     },
     "execution_count": 64,
     "metadata": {},
     "output_type": "execute_result"
    }
   ],
   "source": [
    "y_test.value_counts()"
   ]
  },
  {
   "cell_type": "markdown",
   "metadata": {},
   "source": [
    "The results are much better.  The accuracy score suggests that the model is not guessing 'not dank' for all records."
   ]
  },
  {
   "cell_type": "code",
   "execution_count": 65,
   "metadata": {},
   "outputs": [
    {
     "name": "stdout",
     "output_type": "stream",
     "text": [
      "      Iter       Train Loss      OOB Improve   Remaining Time \n",
      "         1           0.4579           0.1728            1.10s\n",
      "         2           0.4280           0.0304            1.21s\n",
      "         3           0.4009           0.0216            1.10s\n",
      "         4           0.3918           0.0152            1.06s\n",
      "         5           0.3684           0.0106            1.12s\n",
      "         6           0.3575           0.0082            1.01s\n",
      "         7           0.3546           0.0027            0.97s\n",
      "         8           0.3475           0.0031            0.95s\n",
      "         9           0.3366           0.0025            0.90s\n",
      "        10           0.3396           0.0029            0.84s\n",
      "        20           0.3128           0.0001            0.60s\n",
      "        30           0.3004          -0.0014            0.47s\n",
      "        40           0.2707          -0.0015            0.36s\n",
      "        50           0.2441          -0.0012            0.27s\n",
      "        60           0.2409          -0.0017            0.17s\n",
      "        70           0.2087          -0.0015            0.09s\n",
      "        80           0.2047          -0.0023            0.00s\n",
      "      Iter       Train Loss      OOB Improve   Remaining Time \n",
      "         1           0.4432           0.1829            1.74s\n",
      "         2           0.4143           0.0263            1.67s\n",
      "         3           0.3848           0.0194            1.64s\n",
      "         4           0.3773           0.0147            1.59s\n",
      "         5           0.3565           0.0102            1.54s\n",
      "         6           0.3460           0.0062            1.51s\n",
      "         7           0.3418           0.0059            1.47s\n",
      "         8           0.3330           0.0035            1.44s\n",
      "         9           0.3224           0.0011            1.42s\n",
      "        10           0.3236           0.0020            1.40s\n",
      "        20           0.2924          -0.0029            1.31s\n",
      "        30           0.2754          -0.0013            1.10s\n",
      "        40           0.2373          -0.0004            0.91s\n",
      "        50           0.2134          -0.0004            0.67s\n",
      "        60           0.2051          -0.0023            0.44s\n",
      "        70           0.1791          -0.0009            0.22s\n",
      "        80           0.1740          -0.0016            0.00s\n"
     ]
    }
   ],
   "source": [
    "model_tuning_3 = GradientBoostingClassifier(loss=\"deviance\", learning_rate=0.2, subsample=0.8, criterion=\"mse\", random_state=42, verbose=1.0, validation_fraction=0.1, n_estimators=80, max_features='sqrt', max_depth=7, min_samples_split=600)\n",
    "model_tuning_3.fit(X_train, y_train)\n",
    "param_test3 = {'max_features':range(12, 26, 2)}\n",
    "gs3 = gridSearch(model_tuning_3, param_grid=param_test3)"
   ]
  },
  {
   "cell_type": "code",
   "execution_count": 66,
   "metadata": {},
   "outputs": [
    {
     "data": {
      "text/plain": [
       "{'mean_fit_time': array([1.49659557, 1.6737195 , 1.86620483, 2.03456326, 2.23901024,\n",
       "        2.38880172, 2.33755455]),\n",
       " 'std_fit_time': array([0.01235398, 0.01293166, 0.03690455, 0.01746824, 0.03116371,\n",
       "        0.04096189, 0.24762909]),\n",
       " 'mean_score_time': array([0.01137424, 0.01097107, 0.01256614, 0.01097445, 0.01037197,\n",
       "        0.01137414, 0.00957389]),\n",
       " 'std_score_time': array([8.00690525e-04, 9.53674316e-07, 2.23915259e-03, 1.95319392e-05,\n",
       "        4.88578098e-04, 4.93631043e-04, 2.05505896e-03]),\n",
       " 'param_max_features': masked_array(data=[12, 14, 16, 18, 20, 22, 24],\n",
       "              mask=[False, False, False, False, False, False, False],\n",
       "        fill_value='?',\n",
       "             dtype=object),\n",
       " 'params': [{'max_features': 12},\n",
       "  {'max_features': 14},\n",
       "  {'max_features': 16},\n",
       "  {'max_features': 18},\n",
       "  {'max_features': 20},\n",
       "  {'max_features': 22},\n",
       "  {'max_features': 24}],\n",
       " 'split0_test_score': array([0.81156176, 0.80031597, 0.80993274, 0.81611448, 0.8209032 ,\n",
       "        0.82219134, 0.81503284]),\n",
       " 'split1_test_score': array([0.8348957 , 0.82751105, 0.82803876, 0.83512514, 0.83914688,\n",
       "        0.84738046, 0.82383019]),\n",
       " 'split2_test_score': array([0.79692683, 0.81115532, 0.81532784, 0.79684161, 0.82117853,\n",
       "        0.80570451, 0.80032908]),\n",
       " 'split3_test_score': array([0.80879199, 0.79480444, 0.80966764, 0.82380278, 0.81027437,\n",
       "        0.80939544, 0.79935326]),\n",
       " 'split4_test_score': array([0.77389257, 0.78231272, 0.77048559, 0.79145847, 0.79848022,\n",
       "        0.7634556 , 0.78544266]),\n",
       " 'mean_test_score': array([0.80521377, 0.8032199 , 0.80669051, 0.8126685 , 0.81799664,\n",
       "        0.80962547, 0.80479761]),\n",
       " 'std_test_score': array([0.01991888, 0.01529309, 0.01929001, 0.01637378, 0.01346424,\n",
       "        0.02731456, 0.01335082]),\n",
       " 'rank_test_score': array([5, 7, 4, 2, 1, 3, 6]),\n",
       " 'split0_train_score': array([0.99111127, 0.99178167, 0.99287264, 0.99205695, 0.99481931,\n",
       "        0.99188089, 0.99532914]),\n",
       " 'split1_train_score': array([0.99099595, 0.99038013, 0.9889991 , 0.99224533, 0.99048458,\n",
       "        0.99035089, 0.99208291]),\n",
       " 'split2_train_score': array([0.99107444, 0.99041019, 0.99145478, 0.9905446 , 0.99084594,\n",
       "        0.99241103, 0.9907929 ]),\n",
       " 'split3_train_score': array([0.9924342 , 0.99153533, 0.99431359, 0.99260306, 0.99309814,\n",
       "        0.99087344, 0.99139643]),\n",
       " 'split4_train_score': array([0.99126038, 0.99184123, 0.99150911, 0.99251192, 0.99058057,\n",
       "        0.99392308, 0.99283882]),\n",
       " 'mean_train_score': array([0.99137525, 0.99118971, 0.99182985, 0.99199237, 0.99196571,\n",
       "        0.99188787, 0.99248804]),\n",
       " 'std_train_score': array([0.0005364 , 0.00065687, 0.00176142, 0.00074928, 0.00171998,\n",
       "        0.00124958, 0.00157634])}"
      ]
     },
     "execution_count": 66,
     "metadata": {},
     "output_type": "execute_result"
    }
   ],
   "source": [
    "gs3.cv_results_"
   ]
  },
  {
   "cell_type": "code",
   "execution_count": 67,
   "metadata": {},
   "outputs": [
    {
     "data": {
      "text/plain": [
       "{'max_features': 20}"
      ]
     },
     "execution_count": 67,
     "metadata": {},
     "output_type": "execute_result"
    }
   ],
   "source": [
    "gs3.best_params_"
   ]
  },
  {
   "cell_type": "code",
   "execution_count": 68,
   "metadata": {},
   "outputs": [
    {
     "data": {
      "text/plain": [
       "0.8179966403097622"
      ]
     },
     "execution_count": 68,
     "metadata": {},
     "output_type": "execute_result"
    }
   ],
   "source": [
    "gs3.best_score_"
   ]
  },
  {
   "cell_type": "code",
   "execution_count": 69,
   "metadata": {},
   "outputs": [
    {
     "name": "stdout",
     "output_type": "stream",
     "text": [
      "      Iter       Train Loss      OOB Improve   Remaining Time \n",
      "         1           0.5805           0.0010            0.13s\n",
      "         2           0.5446           0.0397            0.13s\n",
      "         3           0.5096           0.0305            0.12s\n",
      "         4           0.4954           0.0195            0.12s\n",
      "         5           0.4660           0.0240            0.10s\n",
      "         6           0.4487           0.0171            0.10s\n",
      "         7           0.4427           0.0092            0.09s\n",
      "         8           0.4418           0.0008            0.08s\n",
      "         9           0.4354           0.0009            0.07s\n",
      "        10           0.4333           0.0043            0.06s\n",
      "        20           0.3862           0.0012            0.00s\n",
      "      Iter       Train Loss      OOB Improve   Remaining Time \n",
      "         1           0.5648           0.0198            0.11s\n",
      "         2           0.5307           0.0359            0.11s\n",
      "         3           0.4985           0.0278            0.10s\n",
      "         4           0.4788           0.0243            0.10s\n",
      "         5           0.4529           0.0205            0.09s\n",
      "         6           0.4365           0.0130            0.09s\n",
      "         7           0.4284           0.0107            0.08s\n",
      "         8           0.4199           0.0080            0.07s\n",
      "         9           0.4042           0.0060            0.07s\n",
      "        10           0.4025           0.0059            0.06s\n",
      "        20           0.3640          -0.0007            0.00s\n"
     ]
    }
   ],
   "source": [
    "model_tuning_2 = GradientBoostingClassifier(loss=\"exponential\", learning_rate=0.2, subsample=0.8, criterion=\"mse\", random_state=42, verbose=1.0, validation_fraction=0.1, n_estimators=20, max_features='sqrt')\n",
    "model_tuning_2.fit(X_train, y_train)\n",
    "param_test2 = {'max_depth':range(5,16,2), 'min_samples_split':range(200,1001,200)}\n",
    "gs2 = gridSearch(model_tuning_2, param_grid=param_test2)"
   ]
  },
  {
   "cell_type": "code",
   "execution_count": 70,
   "metadata": {},
   "outputs": [
    {
     "data": {
      "text/plain": [
       "{'mean_fit_time': array([0.23755736, 0.21063981, 0.21043816, 0.21222506, 0.20585017,\n",
       "        0.28982563, 0.26409473, 0.25093594, 0.25312338, 0.24473987,\n",
       "        0.3628335 , 0.31515846, 0.3093729 , 0.28563566, 0.27466617,\n",
       "        0.42546282, 0.35784521, 0.33430533, 0.31714554, 0.31256504,\n",
       "        0.48330674, 0.39454079, 0.37041149, 0.3474719 , 0.32592316,\n",
       "        0.53018436, 0.43483777, 0.39115295, 0.35724478, 0.30797734]),\n",
       " 'std_fit_time': array([0.01086373, 0.00434597, 0.01028742, 0.00532478, 0.00926265,\n",
       "        0.00286573, 0.00990103, 0.0048632 , 0.01105887, 0.00669865,\n",
       "        0.01386938, 0.00646486, 0.0139695 , 0.00731843, 0.00401952,\n",
       "        0.00466135, 0.00680217, 0.0060315 , 0.00672049, 0.00789617,\n",
       "        0.0130898 , 0.00842519, 0.00833741, 0.00922427, 0.01285792,\n",
       "        0.01197327, 0.00652533, 0.01222069, 0.00886095, 0.03682393]),\n",
       " 'mean_score_time': array([0.00798006, 0.00777159, 0.00737944, 0.00678215, 0.0067811 ,\n",
       "        0.00817742, 0.00698123, 0.006775  , 0.00678248, 0.00698133,\n",
       "        0.00777378, 0.00737915, 0.00798426, 0.00817947, 0.0109695 ,\n",
       "        0.00837679, 0.00977092, 0.00718093, 0.00757713, 0.00737872,\n",
       "        0.00797839, 0.00837836, 0.00777731, 0.00797572, 0.00837917,\n",
       "        0.00838046, 0.00857701, 0.00777979, 0.0075789 , 0.00718026]),\n",
       " 'std_score_time': array([2.18442136e-03, 1.72106118e-03, 1.73774489e-03, 7.46761863e-04,\n",
       "        7.47628432e-04, 1.16309181e-03, 6.29848616e-04, 3.99920928e-04,\n",
       "        7.46153886e-04, 1.43368686e-06, 3.96071650e-04, 4.88157499e-04,\n",
       "        1.54080152e-03, 2.03655184e-03, 4.18347440e-03, 7.98845426e-04,\n",
       "        3.64773546e-03, 3.99113015e-04, 4.88876128e-04, 4.89106464e-04,\n",
       "        6.30601708e-04, 7.98058643e-04, 7.46832057e-04, 8.95080295e-04,\n",
       "        1.49230448e-03, 4.78981950e-04, 4.87371072e-04, 7.46213092e-04,\n",
       "        4.87780486e-04, 1.59689234e-03]),\n",
       " 'param_max_depth': masked_array(data=[5, 5, 5, 5, 5, 7, 7, 7, 7, 7, 9, 9, 9, 9, 9, 11, 11,\n",
       "                    11, 11, 11, 13, 13, 13, 13, 13, 15, 15, 15, 15, 15],\n",
       "              mask=[False, False, False, False, False, False, False, False,\n",
       "                    False, False, False, False, False, False, False, False,\n",
       "                    False, False, False, False, False, False, False, False,\n",
       "                    False, False, False, False, False, False],\n",
       "        fill_value='?',\n",
       "             dtype=object),\n",
       " 'param_min_samples_split': masked_array(data=[200, 400, 600, 800, 1000, 200, 400, 600, 800, 1000,\n",
       "                    200, 400, 600, 800, 1000, 200, 400, 600, 800, 1000,\n",
       "                    200, 400, 600, 800, 1000, 200, 400, 600, 800, 1000],\n",
       "              mask=[False, False, False, False, False, False, False, False,\n",
       "                    False, False, False, False, False, False, False, False,\n",
       "                    False, False, False, False, False, False, False, False,\n",
       "                    False, False, False, False, False, False],\n",
       "        fill_value='?',\n",
       "             dtype=object),\n",
       " 'params': [{'max_depth': 5, 'min_samples_split': 200},\n",
       "  {'max_depth': 5, 'min_samples_split': 400},\n",
       "  {'max_depth': 5, 'min_samples_split': 600},\n",
       "  {'max_depth': 5, 'min_samples_split': 800},\n",
       "  {'max_depth': 5, 'min_samples_split': 1000},\n",
       "  {'max_depth': 7, 'min_samples_split': 200},\n",
       "  {'max_depth': 7, 'min_samples_split': 400},\n",
       "  {'max_depth': 7, 'min_samples_split': 600},\n",
       "  {'max_depth': 7, 'min_samples_split': 800},\n",
       "  {'max_depth': 7, 'min_samples_split': 1000},\n",
       "  {'max_depth': 9, 'min_samples_split': 200},\n",
       "  {'max_depth': 9, 'min_samples_split': 400},\n",
       "  {'max_depth': 9, 'min_samples_split': 600},\n",
       "  {'max_depth': 9, 'min_samples_split': 800},\n",
       "  {'max_depth': 9, 'min_samples_split': 1000},\n",
       "  {'max_depth': 11, 'min_samples_split': 200},\n",
       "  {'max_depth': 11, 'min_samples_split': 400},\n",
       "  {'max_depth': 11, 'min_samples_split': 600},\n",
       "  {'max_depth': 11, 'min_samples_split': 800},\n",
       "  {'max_depth': 11, 'min_samples_split': 1000},\n",
       "  {'max_depth': 13, 'min_samples_split': 200},\n",
       "  {'max_depth': 13, 'min_samples_split': 400},\n",
       "  {'max_depth': 13, 'min_samples_split': 600},\n",
       "  {'max_depth': 13, 'min_samples_split': 800},\n",
       "  {'max_depth': 13, 'min_samples_split': 1000},\n",
       "  {'max_depth': 15, 'min_samples_split': 200},\n",
       "  {'max_depth': 15, 'min_samples_split': 400},\n",
       "  {'max_depth': 15, 'min_samples_split': 600},\n",
       "  {'max_depth': 15, 'min_samples_split': 800},\n",
       "  {'max_depth': 15, 'min_samples_split': 1000}],\n",
       " 'split0_test_score': array([0.80876424, 0.83598554, 0.8192201 , 0.82785848, 0.83632314,\n",
       "        0.82323529, 0.81611121, 0.82095892, 0.81763042, 0.82165544,\n",
       "        0.81933646, 0.82450212, 0.82476597, 0.83692296, 0.82435134,\n",
       "        0.8323686 , 0.80807101, 0.82819936, 0.83841923, 0.82641629,\n",
       "        0.82547887, 0.83748836, 0.81241724, 0.81622429, 0.8279437 ,\n",
       "        0.82707511, 0.79323942, 0.83053309, 0.81964784, 0.84669051]),\n",
       " 'split1_test_score': array([0.82855991, 0.82764871, 0.82395802, 0.83267015, 0.82243553,\n",
       "        0.82465781, 0.82864841, 0.83029873, 0.82787979, 0.8316852 ,\n",
       "        0.83710979, 0.81029001, 0.81678969, 0.82851402, 0.8185154 ,\n",
       "        0.82503966, 0.81432158, 0.82400391, 0.83220471, 0.81488043,\n",
       "        0.83168028, 0.81703224, 0.82761265, 0.81929549, 0.82119164,\n",
       "        0.81679297, 0.81573099, 0.82092451, 0.83390912, 0.82433823]),\n",
       " 'split2_test_score': array([0.79742012, 0.80835617, 0.79978498, 0.80657638, 0.80580448,\n",
       "        0.79829035, 0.80344945, 0.79291984, 0.80144022, 0.80839386,\n",
       "        0.79035668, 0.80127634, 0.80158116, 0.79929169, 0.8121796 ,\n",
       "        0.78749033, 0.7954027 , 0.8121583 , 0.79270843, 0.80342979,\n",
       "        0.80989669, 0.78647752, 0.81677658, 0.79945066, 0.79356063,\n",
       "        0.80855939, 0.79670395, 0.8068517 , 0.79136293, 0.79436695]),\n",
       " 'split3_test_score': array([0.82111185, 0.81393934, 0.80613222, 0.81687623, 0.81134189,\n",
       "        0.83254787, 0.82875499, 0.80791469, 0.82039854, 0.80656349,\n",
       "        0.81438537, 0.80671763, 0.81435257, 0.8210643 , 0.82403563,\n",
       "        0.81827171, 0.8117092 , 0.83189686, 0.81611372, 0.80609778,\n",
       "        0.81895387, 0.81200273, 0.82237943, 0.80576982, 0.81185515,\n",
       "        0.80234755, 0.81189122, 0.80477774, 0.82303207, 0.81318339]),\n",
       " 'split4_test_score': array([0.78872266, 0.79022167, 0.79095056, 0.77782065, 0.78373587,\n",
       "        0.78265903, 0.78473851, 0.78979291, 0.79047892, 0.78154755,\n",
       "        0.78053667, 0.77040643, 0.77134145, 0.77621776, 0.76998757,\n",
       "        0.77292786, 0.78916626, 0.77692851, 0.77004363, 0.78822464,\n",
       "        0.78725499, 0.78141728, 0.76749417, 0.78370619, 0.78552841,\n",
       "        0.78497597, 0.77316368, 0.78337143, 0.78488692, 0.77938397]),\n",
       " 'mean_test_score': array([0.80891576, 0.81523028, 0.80800918, 0.81236038, 0.81192818,\n",
       "        0.81227807, 0.81234051, 0.80837702, 0.81156558, 0.80996911,\n",
       "        0.80834499, 0.80263851, 0.80576617, 0.81240215, 0.80981391,\n",
       "        0.80721963, 0.80373415, 0.81463739, 0.80989795, 0.80780979,\n",
       "        0.81465294, 0.80688363, 0.80933601, 0.80488929, 0.80801591,\n",
       "        0.8079502 , 0.79814585, 0.80929169, 0.81056778, 0.81159261]),\n",
       " 'std_test_score': array([0.01465995, 0.0158704 , 0.01218366, 0.01949112, 0.01753949,\n",
       "        0.01874634, 0.01667647, 0.01564208, 0.01362444, 0.01691167,\n",
       "        0.02040389, 0.01785477, 0.01875533, 0.02198677, 0.0204012 ,\n",
       "        0.02296669, 0.00975848, 0.01998827, 0.02543044, 0.01266404,\n",
       "        0.01548482, 0.02064361, 0.02153955, 0.01276792, 0.01612513,\n",
       "        0.01416709, 0.01515542, 0.0160294 , 0.01903132, 0.02337077]),\n",
       " 'rank_test_score': array([17,  1, 21,  5,  8,  7,  6, 18, 10, 12, 19, 29, 26,  4, 14, 24, 28,\n",
       "         3, 13, 23,  2, 25, 15, 27, 20, 22, 30, 16, 11,  9]),\n",
       " 'split0_train_score': array([0.90317305, 0.90323082, 0.89250079, 0.89522539, 0.88699178,\n",
       "        0.94479114, 0.92666965, 0.92378489, 0.91227294, 0.91450566,\n",
       "        0.97234493, 0.95772126, 0.9414932 , 0.93256086, 0.92672957,\n",
       "        0.97935492, 0.97012883, 0.95524096, 0.94614641, 0.93446126,\n",
       "        0.99131925, 0.98201067, 0.96451157, 0.95888251, 0.94840078,\n",
       "        0.99326397, 0.98342083, 0.97198306, 0.96179867, 0.94620428]),\n",
       " 'split1_train_score': array([0.90148904, 0.89248017, 0.88865814, 0.88251607, 0.8760704 ,\n",
       "        0.93878512, 0.9253585 , 0.91002482, 0.90364748, 0.89876578,\n",
       "        0.96421967, 0.94193377, 0.92691713, 0.91733286, 0.91759675,\n",
       "        0.98095069, 0.96232368, 0.94471634, 0.93590651, 0.93334608,\n",
       "        0.98739215, 0.9641026 , 0.95524147, 0.94136751, 0.93914063,\n",
       "        0.99199734, 0.97676791, 0.96162968, 0.95517745, 0.94478159]),\n",
       " 'split2_train_score': array([0.90087343, 0.89876332, 0.89154639, 0.88744292, 0.88338777,\n",
       "        0.93688257, 0.93070715, 0.91146577, 0.90874137, 0.90711246,\n",
       "        0.96831749, 0.94322297, 0.94013372, 0.92659229, 0.91709903,\n",
       "        0.98041264, 0.95821591, 0.95105982, 0.93917501, 0.92849741,\n",
       "        0.9891253 , 0.97069714, 0.9603214 , 0.94660566, 0.9390604 ,\n",
       "        0.99329813, 0.97887505, 0.96745163, 0.945933  , 0.93596356]),\n",
       " 'split3_train_score': array([0.89319981, 0.89275078, 0.87624246, 0.8735872 , 0.88121701,\n",
       "        0.93778223, 0.91782441, 0.90851094, 0.91093107, 0.89816872,\n",
       "        0.95597391, 0.95055279, 0.93161233, 0.9238629 , 0.9233555 ,\n",
       "        0.97365542, 0.96731553, 0.94438977, 0.9391292 , 0.93309687,\n",
       "        0.98742456, 0.96967462, 0.95761622, 0.94455493, 0.94476493,\n",
       "        0.99349803, 0.98017698, 0.96512735, 0.95254534, 0.94352773]),\n",
       " 'split4_train_score': array([0.90636018, 0.9000924 , 0.89765682, 0.89297384, 0.88967302,\n",
       "        0.94237168, 0.92409266, 0.91551572, 0.91320337, 0.91222187,\n",
       "        0.96742423, 0.94636491, 0.94780874, 0.93258939, 0.92433555,\n",
       "        0.97825083, 0.96546952, 0.95433201, 0.9364351 , 0.93602687,\n",
       "        0.98864326, 0.97126544, 0.96509785, 0.94609006, 0.94668453,\n",
       "        0.99276793, 0.97776699, 0.97008478, 0.95073155, 0.94877949]),\n",
       " 'mean_train_score': array([0.9010191 , 0.8974635 , 0.88932092, 0.88634908, 0.883468  ,\n",
       "        0.94012255, 0.92493048, 0.91386043, 0.90975925, 0.9061549 ,\n",
       "        0.96565605, 0.94795914, 0.93759302, 0.92658766, 0.92182328,\n",
       "        0.9785249 , 0.96469069, 0.94994778, 0.93935845, 0.9330857 ,\n",
       "        0.9887809 , 0.97155009, 0.9605577 , 0.94750013, 0.94361025,\n",
       "        0.99296508, 0.97940155, 0.9672553 , 0.9532372 , 0.94385133]),\n",
       " 'std_train_score': array([0.00434856, 0.00421677, 0.00715593, 0.00776441, 0.00470568,\n",
       "        0.00298723, 0.00418989, 0.00548267, 0.00340422, 0.00672069,\n",
       "        0.00549105, 0.00571496, 0.00742658, 0.00574065, 0.00381872,\n",
       "        0.00260476, 0.00411328, 0.00462029, 0.00365033, 0.00251646,\n",
       "        0.00143868, 0.00581747, 0.00382666, 0.00597713, 0.00385778,\n",
       "        0.00054031, 0.00230829, 0.00364889, 0.00523778, 0.00431301])}"
      ]
     },
     "execution_count": 70,
     "metadata": {},
     "output_type": "execute_result"
    }
   ],
   "source": [
    "gs2.cv_results_"
   ]
  },
  {
   "cell_type": "code",
   "execution_count": 71,
   "metadata": {},
   "outputs": [
    {
     "data": {
      "text/plain": [
       "{'max_depth': 5, 'min_samples_split': 400}"
      ]
     },
     "execution_count": 71,
     "metadata": {},
     "output_type": "execute_result"
    }
   ],
   "source": [
    "gs2.best_params_"
   ]
  },
  {
   "cell_type": "code",
   "execution_count": 72,
   "metadata": {},
   "outputs": [
    {
     "data": {
      "text/plain": [
       "0.8152302848825996"
      ]
     },
     "execution_count": 72,
     "metadata": {},
     "output_type": "execute_result"
    }
   ],
   "source": [
    "gs2.best_score_"
   ]
  },
  {
   "cell_type": "code",
   "execution_count": 73,
   "metadata": {},
   "outputs": [
    {
     "data": {
      "text/plain": [
       "0.9594246457707171"
      ]
     },
     "execution_count": 73,
     "metadata": {},
     "output_type": "execute_result"
    }
   ],
   "source": [
    "preds = gs2.best_estimator_.predict(X_test)\n",
    "metrics.accuracy_score(y_test, preds)"
   ]
  },
  {
   "cell_type": "code",
   "execution_count": 74,
   "metadata": {},
   "outputs": [
    {
     "data": {
      "text/plain": [
       "0.9547015886646629"
      ]
     },
     "execution_count": 74,
     "metadata": {},
     "output_type": "execute_result"
    }
   ],
   "source": [
    "preds = gs3.best_estimator_.predict(X_test)\n",
    "metrics.accuracy_score(y_test, preds)"
   ]
  },
  {
   "cell_type": "markdown",
   "metadata": {},
   "source": [
    "Our second gradient boosting classifier built by GridSearchCV seems to give the best results.  It would be suggested to use this model for prediction."
   ]
  },
  {
   "cell_type": "markdown",
   "metadata": {},
   "source": [
    "## Training with Sentiment Analysis"
   ]
  },
  {
   "cell_type": "code",
   "execution_count": 106,
   "metadata": {},
   "outputs": [],
   "source": [
    "dank_data_with_sentiment = pd.read_json('../text_analysis/sentiment/dank_sentiment.json')"
   ]
  },
  {
   "cell_type": "code",
   "execution_count": 115,
   "metadata": {},
   "outputs": [],
   "source": [
    "dank_data_with_sentiment = dank_data_with_sentiment.join(dank_data['created_utc'], lsuffix='_sentiment', rsuffix='_original')"
   ]
  },
  {
   "cell_type": "code",
   "execution_count": 116,
   "metadata": {},
   "outputs": [
    {
     "name": "stdout",
     "output_type": "stream",
     "text": [
      "(34862, 9)\n"
     ]
    },
    {
     "data": {
      "text/html": [
       "<div>\n",
       "<style scoped>\n",
       "    .dataframe tbody tr th:only-of-type {\n",
       "        vertical-align: middle;\n",
       "    }\n",
       "\n",
       "    .dataframe tbody tr th {\n",
       "        vertical-align: top;\n",
       "    }\n",
       "\n",
       "    .dataframe thead th {\n",
       "        text-align: right;\n",
       "    }\n",
       "</style>\n",
       "<table border=\"1\" class=\"dataframe\">\n",
       "  <thead>\n",
       "    <tr style=\"text-align: right;\">\n",
       "      <th></th>\n",
       "      <th>author</th>\n",
       "      <th>processed_words</th>\n",
       "      <th>id</th>\n",
       "      <th>subscribers</th>\n",
       "      <th>ups</th>\n",
       "      <th>ups_normed</th>\n",
       "      <th>TextLength</th>\n",
       "      <th>Sentiment</th>\n",
       "      <th>created_utc</th>\n",
       "    </tr>\n",
       "  </thead>\n",
       "  <tbody>\n",
       "    <tr>\n",
       "      <td>1</td>\n",
       "      <td>L71U</td>\n",
       "      <td>[ricardo, nice, dick]</td>\n",
       "      <td>fj5ixk</td>\n",
       "      <td>743116</td>\n",
       "      <td>35</td>\n",
       "      <td>0.000047</td>\n",
       "      <td>17</td>\n",
       "      <td>0.51</td>\n",
       "      <td>1.584296e+09</td>\n",
       "    </tr>\n",
       "    <tr>\n",
       "      <td>2</td>\n",
       "      <td>Awesome-ness5</td>\n",
       "      <td>[gamer, assemblenvidia, call, game, owner, sys...</td>\n",
       "      <td>fj5bzj</td>\n",
       "      <td>743116</td>\n",
       "      <td>11</td>\n",
       "      <td>0.000015</td>\n",
       "      <td>117</td>\n",
       "      <td>0.43</td>\n",
       "      <td>1.584295e+09</td>\n",
       "    </tr>\n",
       "    <tr>\n",
       "      <td>7</td>\n",
       "      <td>notaspop</td>\n",
       "      <td>[mean, corona, time, post, effort, meme, peopl...</td>\n",
       "      <td>fj50df</td>\n",
       "      <td>743116</td>\n",
       "      <td>1</td>\n",
       "      <td>0.000001</td>\n",
       "      <td>300</td>\n",
       "      <td>0.19</td>\n",
       "      <td>1.584294e+09</td>\n",
       "    </tr>\n",
       "    <tr>\n",
       "      <td>8</td>\n",
       "      <td>Gaunja420</td>\n",
       "      <td>[whenh]</td>\n",
       "      <td>fj501g</td>\n",
       "      <td>743116</td>\n",
       "      <td>1</td>\n",
       "      <td>0.000001</td>\n",
       "      <td>15</td>\n",
       "      <td>0.45</td>\n",
       "      <td>1.584294e+09</td>\n",
       "    </tr>\n",
       "    <tr>\n",
       "      <td>9</td>\n",
       "      <td>In_An_Elmo_Cult</td>\n",
       "      <td>[internet, see, internet, explor, whatdo, mean...</td>\n",
       "      <td>fj4ycc</td>\n",
       "      <td>743116</td>\n",
       "      <td>1</td>\n",
       "      <td>0.000001</td>\n",
       "      <td>121</td>\n",
       "      <td>0.44</td>\n",
       "      <td>1.584293e+09</td>\n",
       "    </tr>\n",
       "    <tr>\n",
       "      <td>...</td>\n",
       "      <td>...</td>\n",
       "      <td>...</td>\n",
       "      <td>...</td>\n",
       "      <td>...</td>\n",
       "      <td>...</td>\n",
       "      <td>...</td>\n",
       "      <td>...</td>\n",
       "      <td>...</td>\n",
       "      <td>...</td>\n",
       "    </tr>\n",
       "    <tr>\n",
       "      <td>53940</td>\n",
       "      <td>slick_schick</td>\n",
       "      <td>[pay, harl, dent, éaéhiqg, mikimumynumb, page,...</td>\n",
       "      <td>fhkuab</td>\n",
       "      <td>9507605</td>\n",
       "      <td>21</td>\n",
       "      <td>0.000002</td>\n",
       "      <td>104</td>\n",
       "      <td>0.31</td>\n",
       "      <td>NaN</td>\n",
       "    </tr>\n",
       "    <tr>\n",
       "      <td>53941</td>\n",
       "      <td>MightyTHR0G</td>\n",
       "      <td>[wash, coronäirus, sever, chap, hand]</td>\n",
       "      <td>fhkua0</td>\n",
       "      <td>9507605</td>\n",
       "      <td>22</td>\n",
       "      <td>0.000002</td>\n",
       "      <td>47</td>\n",
       "      <td>0.42</td>\n",
       "      <td>NaN</td>\n",
       "    </tr>\n",
       "    <tr>\n",
       "      <td>53943</td>\n",
       "      <td>Abk0306</td>\n",
       "      <td>[mother, fuckersanti, mom, defeat, societi, kn...</td>\n",
       "      <td>fhku7w</td>\n",
       "      <td>9507605</td>\n",
       "      <td>42</td>\n",
       "      <td>0.000004</td>\n",
       "      <td>93</td>\n",
       "      <td>0.45</td>\n",
       "      <td>NaN</td>\n",
       "    </tr>\n",
       "    <tr>\n",
       "      <td>53946</td>\n",
       "      <td>M1CKYMC</td>\n",
       "      <td>[need, panic, cost, piecearsquar, meme]</td>\n",
       "      <td>fhku3d</td>\n",
       "      <td>9507605</td>\n",
       "      <td>14</td>\n",
       "      <td>0.000001</td>\n",
       "      <td>85</td>\n",
       "      <td>0.40</td>\n",
       "      <td>NaN</td>\n",
       "    </tr>\n",
       "    <tr>\n",
       "      <td>53947</td>\n",
       "      <td>saksham_chauhan7</td>\n",
       "      <td>[sweat, right, choic, requir, slrongest, will]</td>\n",
       "      <td>fhku3a</td>\n",
       "      <td>9507605</td>\n",
       "      <td>57</td>\n",
       "      <td>0.000006</td>\n",
       "      <td>87</td>\n",
       "      <td>0.48</td>\n",
       "      <td>NaN</td>\n",
       "    </tr>\n",
       "  </tbody>\n",
       "</table>\n",
       "<p>34862 rows × 9 columns</p>\n",
       "</div>"
      ],
      "text/plain": [
       "                 author                                    processed_words  \\\n",
       "1                  L71U                              [ricardo, nice, dick]   \n",
       "2         Awesome-ness5  [gamer, assemblenvidia, call, game, owner, sys...   \n",
       "7              notaspop  [mean, corona, time, post, effort, meme, peopl...   \n",
       "8             Gaunja420                                            [whenh]   \n",
       "9       In_An_Elmo_Cult  [internet, see, internet, explor, whatdo, mean...   \n",
       "...                 ...                                                ...   \n",
       "53940      slick_schick  [pay, harl, dent, éaéhiqg, mikimumynumb, page,...   \n",
       "53941       MightyTHR0G              [wash, coronäirus, sever, chap, hand]   \n",
       "53943           Abk0306  [mother, fuckersanti, mom, defeat, societi, kn...   \n",
       "53946           M1CKYMC            [need, panic, cost, piecearsquar, meme]   \n",
       "53947  saksham_chauhan7     [sweat, right, choic, requir, slrongest, will]   \n",
       "\n",
       "           id  subscribers  ups  ups_normed  TextLength  Sentiment  \\\n",
       "1      fj5ixk       743116   35    0.000047          17       0.51   \n",
       "2      fj5bzj       743116   11    0.000015         117       0.43   \n",
       "7      fj50df       743116    1    0.000001         300       0.19   \n",
       "8      fj501g       743116    1    0.000001          15       0.45   \n",
       "9      fj4ycc       743116    1    0.000001         121       0.44   \n",
       "...       ...          ...  ...         ...         ...        ...   \n",
       "53940  fhkuab      9507605   21    0.000002         104       0.31   \n",
       "53941  fhkua0      9507605   22    0.000002          47       0.42   \n",
       "53943  fhku7w      9507605   42    0.000004          93       0.45   \n",
       "53946  fhku3d      9507605   14    0.000001          85       0.40   \n",
       "53947  fhku3a      9507605   57    0.000006          87       0.48   \n",
       "\n",
       "        created_utc  \n",
       "1      1.584296e+09  \n",
       "2      1.584295e+09  \n",
       "7      1.584294e+09  \n",
       "8      1.584294e+09  \n",
       "9      1.584293e+09  \n",
       "...             ...  \n",
       "53940           NaN  \n",
       "53941           NaN  \n",
       "53943           NaN  \n",
       "53946           NaN  \n",
       "53947           NaN  \n",
       "\n",
       "[34862 rows x 9 columns]"
      ]
     },
     "execution_count": 116,
     "metadata": {},
     "output_type": "execute_result"
    }
   ],
   "source": [
    "print(dank_data_with_sentiment.shape)\n",
    "dank_data_with_sentiment"
   ]
  },
  {
   "cell_type": "code",
   "execution_count": 117,
   "metadata": {},
   "outputs": [],
   "source": [
    "dank_data_with_sentiment = dank_data_with_sentiment.dropna()"
   ]
  },
  {
   "cell_type": "code",
   "execution_count": 118,
   "metadata": {},
   "outputs": [
    {
     "name": "stderr",
     "output_type": "stream",
     "text": [
      "C:\\Users\\Tiernon\\Anaconda3\\lib\\site-packages\\ipykernel_launcher.py:1: SettingWithCopyWarning: \n",
      "A value is trying to be set on a copy of a slice from a DataFrame.\n",
      "Try using .loc[row_indexer,col_indexer] = value instead\n",
      "\n",
      "See the caveats in the documentation: http://pandas.pydata.org/pandas-docs/stable/user_guide/indexing.html#returning-a-view-versus-a-copy\n",
      "  \"\"\"Entry point for launching an IPython kernel.\n"
     ]
    }
   ],
   "source": [
    "dank_data_with_sentiment['dank'] = dank_data_with_sentiment.apply(threshold, axis=1)"
   ]
  },
  {
   "cell_type": "code",
   "execution_count": 119,
   "metadata": {},
   "outputs": [],
   "source": [
    "dank_data_with_sentiment = dank_data_with_sentiment.drop(columns=['ups', 'author', 'processed_words', 'id', 'ups_normed'])"
   ]
  },
  {
   "cell_type": "code",
   "execution_count": 120,
   "metadata": {},
   "outputs": [],
   "source": [
    "dank_data_with_sentiment = dank_data_with_sentiment.drop(dank_data_with_sentiment.index[dank_data_with_sentiment['dank'] == 0][0:10000])"
   ]
  },
  {
   "cell_type": "code",
   "execution_count": 121,
   "metadata": {},
   "outputs": [],
   "source": [
    "X, y = dank_data_with_sentiment.drop(columns=[\"dank\"]), dank_data_with_sentiment[\"dank\"]\n",
    "X_train, X_test, y_train, y_test = train_test_split(X, y, test_size=0.33, random_state=42)"
   ]
  },
  {
   "cell_type": "code",
   "execution_count": 122,
   "metadata": {},
   "outputs": [
    {
     "name": "stdout",
     "output_type": "stream",
     "text": [
      "      Iter       Train Loss      OOB Improve   Remaining Time \n",
      "         1           0.5401           0.0429            0.11s\n",
      "         2           0.5122           0.0315            0.11s\n",
      "         3           0.4822           0.0251            0.09s\n",
      "         4           0.4665           0.0212            0.08s\n",
      "         5           0.4447           0.0165            0.07s\n",
      "         6           0.4307           0.0134            0.06s\n",
      "         7           0.4221           0.0103            0.06s\n",
      "         8           0.4147           0.0069            0.05s\n",
      "         9           0.4024           0.0047            0.05s\n",
      "        10           0.4014           0.0049            0.04s\n",
      "        20           0.3792          -0.0006            0.00s\n",
      "      Iter       Train Loss      OOB Improve   Remaining Time \n",
      "         1           0.5032           0.0478            0.55s\n",
      "         2           0.4496           0.0359            0.58s\n",
      "         3           0.3915           0.0279            0.68s\n",
      "         4           0.3583           0.0245            0.69s\n",
      "         5           0.3210           0.0171            0.68s\n",
      "         6           0.2747           0.0129            0.81s\n",
      "         7           0.2513           0.0084            0.77s\n",
      "         8           0.2275           0.0066            0.77s\n",
      "         9           0.1989           0.0038            0.78s\n",
      "        10           0.1799          -0.0004            0.75s\n",
      "        20           0.0764          -0.0012            0.00s\n"
     ]
    }
   ],
   "source": [
    "model_tuning_sentiment = GradientBoostingClassifier(loss='exponential', learning_rate=0.2, subsample=0.8, criterion=\"mse\", random_state=42, verbose=1.0, validation_fraction=0.1, n_estimators=20, max_features='sqrt')\n",
    "model_tuning_sentiment.fit(X_train, y_train)\n",
    "param_test_sentiment = {'max_depth':range(5,16,2), 'n_estimators':range(20,81,10)}\n",
    "gs_sentiment = gridSearch(model_tuning_sentiment, param_grid=param_test_sentiment)"
   ]
  },
  {
   "cell_type": "code",
   "execution_count": 123,
   "metadata": {},
   "outputs": [
    {
     "data": {
      "text/plain": [
       "{'mean_fit_time': array([0.14600978, 0.23137903, 0.31416306, 0.3925499 , 0.46375918,\n",
       "        0.53716412, 0.619349  , 0.23915992, 0.379983  , 0.53077869,\n",
       "        0.70012436, 0.84234266, 0.99374046, 1.18981829, 0.46615133,\n",
       "        0.88363123, 1.35297904, 1.53189826, 1.90709472, 2.33575015,\n",
       "        3.44478416, 1.36215553, 1.88675346, 2.84798193, 3.18886814,\n",
       "        3.66279845, 4.22130656, 4.75607648, 1.47106357, 2.72642074,\n",
       "        4.31032963, 5.29352121, 6.18777275, 7.90486097, 8.59056816,\n",
       "        2.59458132, 4.46659727, 6.39294987, 7.82788687, 9.01807823,\n",
       "        9.91690712, 9.26241841]),\n",
       " 'std_fit_time': array([0.00566199, 0.01515301, 0.01066354, 0.01682645, 0.00595055,\n",
       "        0.0054088 , 0.00767431, 0.0159123 , 0.01363066, 0.00959457,\n",
       "        0.00836948, 0.02772145, 0.01394075, 0.03080315, 0.05598401,\n",
       "        0.05361176, 0.09067566, 0.05258435, 0.09616463, 0.14820692,\n",
       "        0.30441227, 0.25110707, 0.05899028, 0.16124678, 0.106236  ,\n",
       "        0.0718756 , 0.07943545, 0.06660876, 0.0645199 , 0.07744595,\n",
       "        0.18862118, 0.31903941, 0.17138633, 0.34823422, 0.15608878,\n",
       "        0.21705706, 0.24927705, 0.30827923, 0.32078115, 0.15060946,\n",
       "        0.303972  , 1.1115127 ]),\n",
       " 'mean_score_time': array([0.0067831 , 0.0059844 , 0.00757565, 0.00758233, 0.00817885,\n",
       "        0.00917206, 0.00877342, 0.00598655, 0.00697808, 0.00817914,\n",
       "        0.00877748, 0.00997357, 0.01097121, 0.01256385, 0.00718212,\n",
       "        0.00957479, 0.01117172, 0.01156893, 0.01376362, 0.01555905,\n",
       "        0.02335048, 0.0087779 , 0.01216774, 0.01376181, 0.01555896,\n",
       "        0.01715693, 0.01934857, 0.02114377, 0.00957618, 0.01236453,\n",
       "        0.01632438, 0.02074594, 0.03120041, 0.02640572, 0.02900867,\n",
       "        0.01060867, 0.01580667, 0.01991482, 0.02269888, 0.02819448,\n",
       "        0.02756896, 0.02573776]),\n",
       " 'std_score_time': array([1.82772610e-03, 6.31280094e-04, 1.19870969e-03, 1.02055190e-03,\n",
       "        7.46379673e-04, 7.50347922e-04, 7.40219151e-04, 6.30948895e-04,\n",
       "        7.01031713e-06, 3.98660601e-04, 7.45614021e-04, 1.58436277e-06,\n",
       "        5.76164530e-07, 8.00209553e-04, 3.98995953e-04, 1.01661644e-03,\n",
       "        1.60028155e-03, 4.88636109e-04, 1.16302309e-03, 7.97319961e-04,\n",
       "        7.49272783e-03, 7.47134358e-04, 1.71611686e-03, 2.63229741e-03,\n",
       "        2.23927112e-03, 3.97672487e-04, 1.35294387e-03, 9.77165434e-04,\n",
       "        4.86753788e-04, 1.49152654e-03, 6.03058041e-04, 4.43244203e-03,\n",
       "        1.34901821e-02, 2.94677934e-03, 1.41235632e-03, 4.74366631e-04,\n",
       "        9.92915543e-04, 2.66553325e-03, 1.17664411e-03, 3.97496084e-03,\n",
       "        1.02143952e-03, 3.52580096e-03]),\n",
       " 'param_max_depth': masked_array(data=[5, 5, 5, 5, 5, 5, 5, 7, 7, 7, 7, 7, 7, 7, 9, 9, 9, 9,\n",
       "                    9, 9, 9, 11, 11, 11, 11, 11, 11, 11, 13, 13, 13, 13,\n",
       "                    13, 13, 13, 15, 15, 15, 15, 15, 15, 15],\n",
       "              mask=[False, False, False, False, False, False, False, False,\n",
       "                    False, False, False, False, False, False, False, False,\n",
       "                    False, False, False, False, False, False, False, False,\n",
       "                    False, False, False, False, False, False, False, False,\n",
       "                    False, False, False, False, False, False, False, False,\n",
       "                    False, False],\n",
       "        fill_value='?',\n",
       "             dtype=object),\n",
       " 'param_n_estimators': masked_array(data=[20, 30, 40, 50, 60, 70, 80, 20, 30, 40, 50, 60, 70, 80,\n",
       "                    20, 30, 40, 50, 60, 70, 80, 20, 30, 40, 50, 60, 70, 80,\n",
       "                    20, 30, 40, 50, 60, 70, 80, 20, 30, 40, 50, 60, 70, 80],\n",
       "              mask=[False, False, False, False, False, False, False, False,\n",
       "                    False, False, False, False, False, False, False, False,\n",
       "                    False, False, False, False, False, False, False, False,\n",
       "                    False, False, False, False, False, False, False, False,\n",
       "                    False, False, False, False, False, False, False, False,\n",
       "                    False, False],\n",
       "        fill_value='?',\n",
       "             dtype=object),\n",
       " 'params': [{'max_depth': 5, 'n_estimators': 20},\n",
       "  {'max_depth': 5, 'n_estimators': 30},\n",
       "  {'max_depth': 5, 'n_estimators': 40},\n",
       "  {'max_depth': 5, 'n_estimators': 50},\n",
       "  {'max_depth': 5, 'n_estimators': 60},\n",
       "  {'max_depth': 5, 'n_estimators': 70},\n",
       "  {'max_depth': 5, 'n_estimators': 80},\n",
       "  {'max_depth': 7, 'n_estimators': 20},\n",
       "  {'max_depth': 7, 'n_estimators': 30},\n",
       "  {'max_depth': 7, 'n_estimators': 40},\n",
       "  {'max_depth': 7, 'n_estimators': 50},\n",
       "  {'max_depth': 7, 'n_estimators': 60},\n",
       "  {'max_depth': 7, 'n_estimators': 70},\n",
       "  {'max_depth': 7, 'n_estimators': 80},\n",
       "  {'max_depth': 9, 'n_estimators': 20},\n",
       "  {'max_depth': 9, 'n_estimators': 30},\n",
       "  {'max_depth': 9, 'n_estimators': 40},\n",
       "  {'max_depth': 9, 'n_estimators': 50},\n",
       "  {'max_depth': 9, 'n_estimators': 60},\n",
       "  {'max_depth': 9, 'n_estimators': 70},\n",
       "  {'max_depth': 9, 'n_estimators': 80},\n",
       "  {'max_depth': 11, 'n_estimators': 20},\n",
       "  {'max_depth': 11, 'n_estimators': 30},\n",
       "  {'max_depth': 11, 'n_estimators': 40},\n",
       "  {'max_depth': 11, 'n_estimators': 50},\n",
       "  {'max_depth': 11, 'n_estimators': 60},\n",
       "  {'max_depth': 11, 'n_estimators': 70},\n",
       "  {'max_depth': 11, 'n_estimators': 80},\n",
       "  {'max_depth': 13, 'n_estimators': 20},\n",
       "  {'max_depth': 13, 'n_estimators': 30},\n",
       "  {'max_depth': 13, 'n_estimators': 40},\n",
       "  {'max_depth': 13, 'n_estimators': 50},\n",
       "  {'max_depth': 13, 'n_estimators': 60},\n",
       "  {'max_depth': 13, 'n_estimators': 70},\n",
       "  {'max_depth': 13, 'n_estimators': 80},\n",
       "  {'max_depth': 15, 'n_estimators': 20},\n",
       "  {'max_depth': 15, 'n_estimators': 30},\n",
       "  {'max_depth': 15, 'n_estimators': 40},\n",
       "  {'max_depth': 15, 'n_estimators': 50},\n",
       "  {'max_depth': 15, 'n_estimators': 60},\n",
       "  {'max_depth': 15, 'n_estimators': 70},\n",
       "  {'max_depth': 15, 'n_estimators': 80}],\n",
       " 'split0_test_score': array([0.79586158, 0.79026982, 0.79124166, 0.7898978 , 0.80083221,\n",
       "        0.79995542, 0.79988168, 0.81591782, 0.8138922 , 0.81059156,\n",
       "        0.80881668, 0.81278106, 0.81504268, 0.81216322, 0.8087036 ,\n",
       "        0.81402167, 0.81377257, 0.81136182, 0.81530981, 0.81453627,\n",
       "        0.80875769, 0.8104752 , 0.81869567, 0.81565233, 0.81564577,\n",
       "        0.81133887, 0.81257457, 0.80885438, 0.80773013, 0.8104539 ,\n",
       "        0.81470671, 0.81949215, 0.82022472, 0.8149214 , 0.81186003,\n",
       "        0.82049513, 0.81769433, 0.8164357 , 0.81375618, 0.81275812,\n",
       "        0.80873966, 0.80232848]),\n",
       " 'split1_test_score': array([0.82937278, 0.83910099, 0.84410604, 0.84022852, 0.83542177,\n",
       "        0.83618876, 0.84166579, 0.81465918, 0.8334781 , 0.82501016,\n",
       "        0.82670473, 0.82884671, 0.82853369, 0.8307068 , 0.83674597,\n",
       "        0.82651954, 0.83585607, 0.83107227, 0.83687216, 0.83218832,\n",
       "        0.83820618, 0.8382406 , 0.8409365 , 0.8359249 , 0.84041863,\n",
       "        0.84278185, 0.83694427, 0.84177887, 0.82875985, 0.83544144,\n",
       "        0.83505631, 0.83328144, 0.84334397, 0.84341936, 0.84437153,\n",
       "        0.8470363 , 0.84272121, 0.84492874, 0.84628735, 0.8461333 ,\n",
       "        0.84677573, 0.85039103]),\n",
       " 'split2_test_score': array([0.80210723, 0.80351828, 0.80935259, 0.81568838, 0.81005729,\n",
       "        0.80841844, 0.80362645, 0.78807376, 0.79556658, 0.80122553,\n",
       "        0.79906553, 0.80200399, 0.80637971, 0.80975575, 0.79907864,\n",
       "        0.80351992, 0.80402305, 0.81066859, 0.81266307, 0.81116188,\n",
       "        0.81442975, 0.80079288, 0.79492579, 0.79707596, 0.7889653 ,\n",
       "        0.79305914, 0.79554036, 0.79786753, 0.81607351, 0.80373789,\n",
       "        0.80310857, 0.79628768, 0.7975037 , 0.79595663, 0.80435082,\n",
       "        0.799077  , 0.78695279, 0.79365077, 0.79751681, 0.80015209,\n",
       "        0.80433115, 0.81342677]),\n",
       " 'split3_test_score': array([0.82194652, 0.83174436, 0.83106712, 0.8299127 , 0.83540933,\n",
       "        0.83393186, 0.82700696, 0.83882177, 0.8353257 , 0.83312508,\n",
       "        0.83203953, 0.83346944, 0.8320592 , 0.82805972, 0.825295  ,\n",
       "        0.82812695, 0.82542455, 0.81950156, 0.81504129, 0.81755019,\n",
       "        0.82022636, 0.83511088, 0.8339909 , 0.82669868, 0.82651666,\n",
       "        0.8268643 , 0.8231321 , 0.82191208, 0.83353339, 0.83657031,\n",
       "        0.83215267, 0.83745417, 0.8382052 , 0.83362522, 0.83355963,\n",
       "        0.82763992, 0.81143208, 0.82098395, 0.82616902, 0.82464892,\n",
       "        0.82367159, 0.82341414]),\n",
       " 'split4_test_score': array([0.80089446, 0.79847362, 0.79871109, 0.79749407, 0.79764414,\n",
       "        0.79705047, 0.79909202, 0.80143865, 0.80244788, 0.80680803,\n",
       "        0.80162994, 0.79036019, 0.78297235, 0.78376061, 0.7787161 ,\n",
       "        0.78934271, 0.78393376, 0.78302842, 0.7830614 , 0.78179491,\n",
       "        0.78605611, 0.77887111, 0.79203235, 0.79867646, 0.79506829,\n",
       "        0.79115999, 0.78658876, 0.78577412, 0.78910195, 0.79660522,\n",
       "        0.7844829 , 0.78387274, 0.78163166, 0.781912  , 0.78437241,\n",
       "        0.79324771, 0.79450925, 0.795751  , 0.79024311, 0.78521344,\n",
       "        0.78398653, 0.79278927]),\n",
       " 'mean_test_score': array([0.81003651, 0.81262142, 0.8148957 , 0.81464429, 0.81587295,\n",
       "        0.81510899, 0.81425458, 0.81178224, 0.81614209, 0.81535207,\n",
       "        0.81365128, 0.81349228, 0.81299753, 0.81288922, 0.80970786,\n",
       "        0.81230616, 0.812602  , 0.81112653, 0.81258954, 0.81144632,\n",
       "        0.81353522, 0.81269813, 0.81611624, 0.81480566, 0.81332293,\n",
       "        0.81304083, 0.81095601, 0.8112374 , 0.81503977, 0.81656175,\n",
       "        0.81390143, 0.81407764, 0.81618185, 0.81396692, 0.81570288,\n",
       "        0.81749921, 0.81066193, 0.81435003, 0.81479449, 0.81378117,\n",
       "        0.81350093, 0.81646994]),\n",
       " 'std_test_score': array([0.01313864, 0.01923266, 0.01983401, 0.0189488 , 0.01646913,\n",
       "        0.01672819, 0.01710812, 0.01688548, 0.01602806, 0.01186913,\n",
       "        0.01333529, 0.01613955, 0.01763071, 0.0167716 , 0.02024103,\n",
       "        0.0145587 , 0.01789975, 0.01586028, 0.01717541, 0.01647011,\n",
       "        0.01692427, 0.02211648, 0.01985584, 0.01524911, 0.01918423,\n",
       "        0.01978157, 0.01820808, 0.01938835, 0.01585891, 0.01647304,\n",
       "        0.01877882, 0.0208489 , 0.02358704, 0.02283285, 0.02128845,\n",
       "        0.01955384, 0.01949809, 0.01874993, 0.02011739, 0.02082154,\n",
       "        0.02092132, 0.01984378]),\n",
       " 'rank_test_score': array([41, 31, 12, 15,  7, 10, 17, 35,  5,  9, 22, 25, 28, 29, 42, 34, 32,\n",
       "        38, 33, 36, 23, 30,  6, 13, 26, 27, 39, 37, 11,  2, 20, 18,  4, 19,\n",
       "         8,  1, 40, 16, 14, 21, 24,  3]),\n",
       " 'split0_train_score': array([0.90600046, 0.93168957, 0.9485472 , 0.96512544, 0.97370934,\n",
       "        0.97979282, 0.98465862, 0.95638702, 0.97900535, 0.99108603,\n",
       "        0.99623686, 0.99830194, 0.99927214, 0.99966798, 0.98695291,\n",
       "        0.9967785 , 0.99940409, 0.99991505, 0.99999343, 0.99999692,\n",
       "        1.        , 0.99857229, 0.99985492, 0.99999795, 1.        ,\n",
       "        1.        , 1.        , 1.        , 0.99974411, 0.99999077,\n",
       "        1.        , 1.        , 1.        , 1.        , 1.        ,\n",
       "        0.99998338, 1.        , 1.        , 1.        , 1.        ,\n",
       "        1.        , 1.        ]),\n",
       " 'split1_train_score': array([0.89897509, 0.92914195, 0.94646899, 0.96114007, 0.97014586,\n",
       "        0.97920389, 0.98373213, 0.95435355, 0.97992343, 0.98970891,\n",
       "        0.9953671 , 0.99748666, 0.99876836, 0.99929533, 0.98602908,\n",
       "        0.99717577, 0.99953203, 0.99986877, 0.99996645, 0.99999743,\n",
       "        0.99999887, 0.99792692, 0.99988745, 0.99999518, 0.99999928,\n",
       "        0.9999999 , 0.9999999 , 0.9999999 , 0.99980885, 0.99997794,\n",
       "        0.99999867, 0.9999999 , 0.9999999 , 0.9999999 , 0.9999999 ,\n",
       "        0.99997979, 0.99999477, 0.99999949, 0.9999999 , 0.9999999 ,\n",
       "        0.9999999 , 0.9999999 ]),\n",
       " 'split2_train_score': array([0.90508238, 0.93555346, 0.95634732, 0.96999699, 0.97528233,\n",
       "        0.98053063, 0.98528563, 0.95325694, 0.97727527, 0.98857259,\n",
       "        0.99527404, 0.99790948, 0.99909802, 0.99960488, 0.9871143 ,\n",
       "        0.99648567, 0.999168  , 0.99989853, 0.99998533, 0.99999928,\n",
       "        0.99999969, 0.99745311, 0.99979203, 0.9999843 , 0.9999999 ,\n",
       "        0.9999999 , 0.9999999 , 0.9999999 , 0.99982917, 0.99997609,\n",
       "        0.99999764, 0.99999969, 0.9999999 , 0.9999999 , 0.9999999 ,\n",
       "        0.99998266, 0.99999251, 0.99999969, 0.9999999 , 0.9999999 ,\n",
       "        0.9999999 , 0.9999999 ]),\n",
       " 'split3_train_score': array([0.90305002, 0.93385663, 0.95275995, 0.96418898, 0.97451479,\n",
       "        0.98032953, 0.9853682 , 0.94815759, 0.98113125, 0.99149296,\n",
       "        0.99614231, 0.99825828, 0.99937432, 0.99978446, 0.98878497,\n",
       "        0.99784721, 0.99940612, 0.99994204, 0.99998902, 0.9999962 ,\n",
       "        0.99999805, 0.99826443, 0.99983514, 0.99996789, 0.99999538,\n",
       "        0.99999969, 0.9999999 , 0.9999999 , 0.99965172, 0.99998554,\n",
       "        0.99999374, 0.9999999 , 0.9999999 , 0.9999999 , 0.9999999 ,\n",
       "        0.99998369, 0.99999579, 0.99999928, 0.9999999 , 0.9999999 ,\n",
       "        0.9999999 , 0.9999999 ]),\n",
       " 'split4_train_score': array([0.90553602, 0.93126654, 0.95163899, 0.96266555, 0.97178882,\n",
       "        0.9800152 , 0.98464983, 0.95225262, 0.97595825, 0.98934756,\n",
       "        0.99575281, 0.99746371, 0.9986709 , 0.99942007, 0.98977649,\n",
       "        0.99667511, 0.9992829 , 0.99986867, 0.99996681, 0.99999795,\n",
       "        1.        , 0.99774676, 0.99955325, 0.99997183, 0.99999959,\n",
       "        1.        , 1.        , 1.        , 0.99983558, 0.99999836,\n",
       "        1.        , 1.        , 1.        , 1.        , 1.        ,\n",
       "        0.99998812, 1.        , 1.        , 1.        , 1.        ,\n",
       "        1.        , 1.        ]),\n",
       " 'mean_train_score': array([0.90372879, 0.93230163, 0.95115249, 0.9646234 , 0.97308823,\n",
       "        0.97997441, 0.98473888, 0.95288154, 0.97865871, 0.99004161,\n",
       "        0.99575463, 0.99788401, 0.99903675, 0.99955454, 0.98773155,\n",
       "        0.99699245, 0.99935863, 0.99989861, 0.99998021, 0.99999756,\n",
       "        0.99999932, 0.9979927 , 0.99978456, 0.99998343, 0.99999883,\n",
       "        0.9999999 , 0.99999994, 0.99999994, 0.99977389, 0.99998574,\n",
       "        0.99999801, 0.9999999 , 0.99999994, 0.99999994, 0.99999994,\n",
       "        0.99998353, 0.99999661, 0.99999969, 0.99999994, 0.99999994,\n",
       "        0.99999994, 0.99999994]),\n",
       " 'std_train_score': array([2.58136347e-03, 2.21006720e-03, 3.42139063e-03, 3.00941890e-03,\n",
       "        1.87514842e-03, 4.61268104e-04, 5.87008970e-04, 2.73157207e-03,\n",
       "        1.84605001e-03, 1.09065669e-03, 3.90893456e-04, 3.60533229e-04,\n",
       "        2.75315074e-04, 1.75237291e-04, 1.35477994e-03, 4.83223522e-04,\n",
       "        1.23665145e-04, 2.80819553e-05, 1.13814645e-05, 1.03713823e-06,\n",
       "        7.58327860e-07, 3.91339831e-04, 1.19713503e-04, 1.20468015e-05,\n",
       "        1.74172983e-06, 1.12378587e-07, 5.02621206e-08, 5.02621206e-08,\n",
       "        6.91326790e-05, 8.22764286e-06, 2.31092199e-06, 1.12394983e-07,\n",
       "        5.02621206e-08, 5.02621206e-08, 5.02621206e-08, 2.67763553e-06,\n",
       "        2.96159690e-06, 2.82824102e-07, 5.02621206e-08, 5.02621206e-08,\n",
       "        5.02621206e-08, 5.02621206e-08])}"
      ]
     },
     "execution_count": 123,
     "metadata": {},
     "output_type": "execute_result"
    }
   ],
   "source": [
    "gs_sentiment.cv_results_"
   ]
  },
  {
   "cell_type": "code",
   "execution_count": 124,
   "metadata": {},
   "outputs": [
    {
     "data": {
      "text/plain": [
       "{'max_depth': 15, 'n_estimators': 20}"
      ]
     },
     "execution_count": 124,
     "metadata": {},
     "output_type": "execute_result"
    }
   ],
   "source": [
    "gs_sentiment.best_params_"
   ]
  },
  {
   "cell_type": "code",
   "execution_count": 125,
   "metadata": {},
   "outputs": [
    {
     "data": {
      "text/plain": [
       "0.8174992142258363"
      ]
     },
     "execution_count": 125,
     "metadata": {},
     "output_type": "execute_result"
    }
   ],
   "source": [
    "gs_sentiment.best_score_"
   ]
  },
  {
   "cell_type": "code",
   "execution_count": 126,
   "metadata": {},
   "outputs": [
    {
     "name": "stdout",
     "output_type": "stream",
     "text": [
      "      Iter       Train Loss      OOB Improve   Remaining Time \n",
      "         1           0.5387           0.0435            0.24s\n",
      "         2           0.5086           0.0331            0.29s\n",
      "         3           0.4767           0.0257            0.28s\n",
      "         4           0.4603           0.0208            0.29s\n",
      "         5           0.4375           0.0146            0.30s\n",
      "         6           0.4235           0.0129            0.29s\n",
      "         7           0.4126           0.0097            0.29s\n",
      "         8           0.4052           0.0072            0.27s\n",
      "         9           0.3914           0.0045            0.26s\n",
      "        10           0.3909           0.0044            0.25s\n",
      "        20           0.3563          -0.0003            0.18s\n",
      "        30           0.3390          -0.0002            0.13s\n",
      "        40           0.3094          -0.0032            0.06s\n",
      "        50           0.2883          -0.0029            0.00s\n",
      "      Iter       Train Loss      OOB Improve   Remaining Time \n",
      "         1           0.5389           0.0428            0.24s\n",
      "         2           0.5088           0.0331            0.24s\n",
      "         3           0.4776           0.0260            0.22s\n",
      "         4           0.4606           0.0209            0.23s\n",
      "         5           0.4378           0.0154            0.23s\n",
      "         6           0.4243           0.0124            0.23s\n",
      "         7           0.4151           0.0102            0.26s\n",
      "         8           0.4077           0.0070            0.26s\n",
      "         9           0.3954           0.0040            0.27s\n",
      "        10           0.3942           0.0048            0.26s\n",
      "        20           0.3672          -0.0001            0.18s\n",
      "        30           0.3637          -0.0004            0.11s\n",
      "        40           0.3469          -0.0006            0.05s\n",
      "        50           0.3354          -0.0008            0.00s\n"
     ]
    }
   ],
   "source": [
    "model_tuning_sentiment_2 = GradientBoostingClassifier(loss='exponential', learning_rate=0.2, subsample=0.8, criterion=\"mse\", random_state=42, verbose=1.0, validation_fraction=0.1, n_estimators=50, max_features='sqrt', max_depth=5)\n",
    "model_tuning_sentiment_2.fit(X_train, y_train)\n",
    "param_test_sentiment_2 = {'min_samples_split':range(200,1001,200)}\n",
    "gs_sentiment_2 = gridSearch(model_tuning_sentiment_2, param_grid=param_test_sentiment_2)"
   ]
  },
  {
   "cell_type": "code",
   "execution_count": 127,
   "metadata": {},
   "outputs": [
    {
     "data": {
      "text/plain": [
       "{'mean_fit_time': array([0.33231091, 0.32213659, 0.30777693, 0.29999785, 0.26808982]),\n",
       " 'std_fit_time': array([0.00825829, 0.00454964, 0.00544857, 0.00510053, 0.05189814]),\n",
       " 'mean_score_time': array([0.00718055, 0.0073792 , 0.00678201, 0.00678186, 0.0063756 ]),\n",
       " 'std_score_time': array([0.00039883, 0.00119805, 0.00039921, 0.00039926, 0.00081075]),\n",
       " 'param_min_samples_split': masked_array(data=[200, 400, 600, 800, 1000],\n",
       "              mask=[False, False, False, False, False],\n",
       "        fill_value='?',\n",
       "             dtype=object),\n",
       " 'params': [{'min_samples_split': 200},\n",
       "  {'min_samples_split': 400},\n",
       "  {'min_samples_split': 600},\n",
       "  {'min_samples_split': 800},\n",
       "  {'min_samples_split': 1000}],\n",
       " 'split0_test_score': array([0.81573099, 0.7985624 , 0.79724477, 0.79905897, 0.79951293]),\n",
       " 'split1_test_score': array([0.83803738, 0.8376965 , 0.83305855, 0.83292744, 0.83505631]),\n",
       " 'split2_test_score': array([0.80389686, 0.81085869, 0.81196   , 0.81812863, 0.82047219]),\n",
       " 'split3_test_score': array([0.82897309, 0.83029477, 0.83619972, 0.84312298, 0.84257856]),\n",
       " 'split4_test_score': array([0.78287011, 0.78154591, 0.78267552, 0.79704223, 0.78579721]),\n",
       " 'mean_test_score': array([0.81390169, 0.81179165, 0.81222771, 0.81805605, 0.81668344]),\n",
       " 'std_test_score': array([0.0193705 , 0.02051397, 0.02052546, 0.01817682, 0.02131319]),\n",
       " 'rank_test_score': array([3, 5, 4, 1, 2]),\n",
       " 'split0_train_score': array([0.94785032, 0.9297469 , 0.92408726, 0.92198166, 0.91892617]),\n",
       " 'split1_train_score': array([0.94144323, 0.92878223, 0.91787296, 0.91351976, 0.91005006]),\n",
       " 'split2_train_score': array([0.94694537, 0.93445059, 0.92610391, 0.92142812, 0.91359148]),\n",
       " 'split3_train_score': array([0.93996323, 0.9281534 , 0.92165461, 0.91263504, 0.91069399]),\n",
       " 'split4_train_score': array([0.94643816, 0.93070413, 0.92805352, 0.92382201, 0.91799423]),\n",
       " 'mean_train_score': array([0.94452806, 0.93036745, 0.92355445, 0.91867732, 0.91425119]),\n",
       " 'std_train_score': array([0.00319008, 0.00221745, 0.00354722, 0.00464893, 0.00364977])}"
      ]
     },
     "execution_count": 127,
     "metadata": {},
     "output_type": "execute_result"
    }
   ],
   "source": [
    "gs_sentiment_2.cv_results_"
   ]
  },
  {
   "cell_type": "code",
   "execution_count": 128,
   "metadata": {},
   "outputs": [
    {
     "data": {
      "text/plain": [
       "{'min_samples_split': 800}"
      ]
     },
     "execution_count": 128,
     "metadata": {},
     "output_type": "execute_result"
    }
   ],
   "source": [
    "gs_sentiment_2.best_params_"
   ]
  },
  {
   "cell_type": "code",
   "execution_count": 129,
   "metadata": {},
   "outputs": [
    {
     "data": {
      "text/plain": [
       "0.818056050463357"
      ]
     },
     "execution_count": 129,
     "metadata": {},
     "output_type": "execute_result"
    }
   ],
   "source": [
    "gs_sentiment_2.best_score_"
   ]
  },
  {
   "cell_type": "code",
   "execution_count": 130,
   "metadata": {},
   "outputs": [
    {
     "data": {
      "text/plain": [
       "0.9594246457707171"
      ]
     },
     "execution_count": 130,
     "metadata": {},
     "output_type": "execute_result"
    }
   ],
   "source": [
    "preds = gs_sentiment_2.best_estimator_.predict(X_test)\n",
    "metrics.accuracy_score(y_test, preds)"
   ]
  },
  {
   "cell_type": "code",
   "execution_count": 131,
   "metadata": {},
   "outputs": [
    {
     "data": {
      "text/plain": [
       "0.9583512237011593"
      ]
     },
     "execution_count": 131,
     "metadata": {},
     "output_type": "execute_result"
    }
   ],
   "source": [
    "preds = gs_sentiment.best_estimator_.predict(X_test)\n",
    "metrics.accuracy_score(y_test, preds)"
   ]
  },
  {
   "cell_type": "code",
   "execution_count": 136,
   "metadata": {},
   "outputs": [
    {
     "name": "stdout",
     "output_type": "stream",
     "text": [
      "      Iter       Train Loss      OOB Improve   Remaining Time \n",
      "         1           0.5032           0.0478            0.68s\n",
      "         2           0.4496           0.0359            0.74s\n",
      "         3           0.3915           0.0279            0.77s\n",
      "         4           0.3583           0.0245            0.77s\n",
      "         5           0.3210           0.0171            0.77s\n",
      "         6           0.2747           0.0129            0.88s\n",
      "         7           0.2513           0.0084            0.83s\n",
      "         8           0.2275           0.0066            0.81s\n",
      "         9           0.1989           0.0038            0.80s\n",
      "        10           0.1799          -0.0004            0.74s\n",
      "        20           0.0764          -0.0012            0.00s\n",
      "      Iter       Train Loss      OOB Improve   Remaining Time \n",
      "         1           0.5029           0.0414            0.44s\n",
      "         2           0.4477           0.0369            0.52s\n",
      "         3           0.3858           0.0216            0.60s\n",
      "         4           0.3467           0.0186            0.66s\n",
      "         5           0.3236           0.0161            0.66s\n",
      "         6           0.2866           0.0127            0.63s\n",
      "         7           0.2440           0.0028            0.64s\n",
      "         8           0.2348           0.0083            0.56s\n",
      "         9           0.2049           0.0014            0.56s\n",
      "        10           0.1909           0.0021            0.53s\n",
      "        20           0.0689          -0.0046            0.00s\n",
      "      Iter       Train Loss      OOB Improve   Remaining Time \n",
      "         1           0.5040           0.0416            0.55s\n",
      "         2           0.4434           0.0301            0.66s\n",
      "         3           0.3922           0.0159            0.62s\n",
      "         4           0.3510           0.0195            0.65s\n",
      "         5           0.3275           0.0162            0.64s\n",
      "         6           0.2857           0.0114            0.66s\n",
      "         7           0.2473           0.0011            0.65s\n",
      "         8           0.2368           0.0075            0.60s\n",
      "         9           0.1988          -0.0040            0.64s\n",
      "        10           0.1813          -0.0008            0.63s\n",
      "        20           0.0697          -0.0037            0.00s\n",
      "      Iter       Train Loss      OOB Improve   Remaining Time \n",
      "         1           0.5095           0.0469            0.34s\n",
      "         2           0.4433           0.0339            0.54s\n",
      "         3           0.3873           0.0177            0.63s\n",
      "         4           0.3438           0.0217            0.71s\n",
      "         5           0.3175           0.0160            0.69s\n",
      "         6           0.2792           0.0114            0.65s\n",
      "         7           0.2551           0.0085            0.61s\n",
      "         8           0.2360           0.0044            0.56s\n",
      "         9           0.2030          -0.0004            0.58s\n",
      "        10           0.1820           0.0025            0.58s\n",
      "        20           0.0652          -0.0040            0.00s\n",
      "      Iter       Train Loss      OOB Improve   Remaining Time \n",
      "         1           0.5184           0.0485            0.34s\n",
      "         2           0.4496           0.0356            0.51s\n",
      "         3           0.3968           0.0295            0.52s\n",
      "         4           0.3523           0.0217            0.53s\n",
      "         5           0.3179           0.0164            0.53s\n",
      "         6           0.2815           0.0124            0.56s\n",
      "         7           0.2538           0.0111            0.52s\n",
      "         8           0.2363           0.0097            0.51s\n",
      "         9           0.2104           0.0059            0.49s\n",
      "        10           0.1909           0.0009            0.44s\n",
      "        20           0.0870          -0.0009            0.00s\n",
      "      Iter       Train Loss      OOB Improve   Remaining Time \n",
      "         1           0.5050           0.0512            0.45s\n",
      "         2           0.4295           0.0405            0.64s\n",
      "         3           0.3760           0.0249            0.72s\n",
      "         4           0.3316           0.0254            0.75s\n",
      "         5           0.2943           0.0193            0.72s\n",
      "         6           0.2596           0.0108            0.68s\n",
      "         7           0.2289           0.0104            0.67s\n",
      "         8           0.2120           0.0070            0.64s\n",
      "         9           0.1842           0.0061            0.66s\n",
      "        10           0.1630           0.0014            0.64s\n",
      "        20           0.0633          -0.0023            0.00s\n",
      "CV Score : Mean - 0.9568562 | Std - 0.003531882 | Min - 0.9513228 | Max - 0.9624736\n"
     ]
    },
    {
     "data": {
      "image/png": "[encoded data removed]",
      "text/plain": [
       "<Figure size 432x288 with 1 Axes>"
      ]
     },
     "metadata": {
      "needs_background": "light"
     },
     "output_type": "display_data"
    }
   ],
   "source": [
    "model_fit(gs_sentiment.best_estimator_)"
   ]
  },
  {
   "cell_type": "code",
   "execution_count": 132,
   "metadata": {},
   "outputs": [
    {
     "data": {
      "text/plain": [
       "0    4228\n",
       "1     430\n",
       "Name: dank, dtype: int64"
      ]
     },
     "execution_count": 132,
     "metadata": {},
     "output_type": "execute_result"
    }
   ],
   "source": [
    "y_test.value_counts()"
   ]
  },
  {
   "cell_type": "code",
   "execution_count": 133,
   "metadata": {},
   "outputs": [],
   "source": [
    "from sklearn import svm"
   ]
  },
  {
   "cell_type": "code",
   "execution_count": 134,
   "metadata": {},
   "outputs": [
    {
     "data": {
      "text/plain": [
       "SVC(C=1.0, cache_size=200, class_weight=None, coef0=0.0,\n",
       "    decision_function_shape='ovr', degree=3, gamma='auto', kernel='rbf',\n",
       "    max_iter=-1, probability=False, random_state=None, shrinking=True,\n",
       "    tol=0.001, verbose=False)"
      ]
     },
     "execution_count": 134,
     "metadata": {},
     "output_type": "execute_result"
    }
   ],
   "source": [
    "model_SVM = svm.SVC(gamma='auto')\n",
    "model_SVM.fit(X_train, y_train)"
   ]
  },
  {
   "cell_type": "code",
   "execution_count": 135,
   "metadata": {},
   "outputs": [
    {
     "data": {
      "text/plain": [
       "0.9076857020180334"
      ]
     },
     "execution_count": 135,
     "metadata": {},
     "output_type": "execute_result"
    }
   ],
   "source": [
    "preds = model_SVM.predict(X_test)\n",
    "metrics.accuracy_score(y_test, preds)"
   ]
  },
  {
   "cell_type": "markdown",
   "metadata": {},
   "source": [
    "SVM did not perform as well, but was interesting to test its performance."
   ]
  },
  {
   "cell_type": "markdown",
   "metadata": {},
   "source": [
    "With help from the following link: https://scikit-learn.org/stable/auto_examples/model_selection/plot_roc.html"
   ]
  },
  {
   "cell_type": "code",
   "execution_count": 140,
   "metadata": {},
   "outputs": [
    {
     "name": "stdout",
     "output_type": "stream",
     "text": [
      "      Iter       Train Loss      OOB Improve   Remaining Time \n",
      "         1           0.5032           0.0478            0.63s\n",
      "         2           0.4496           0.0359            0.71s\n",
      "         3           0.3915           0.0279            0.76s\n",
      "         4           0.3583           0.0245            0.75s\n",
      "         5           0.3210           0.0171            0.72s\n",
      "         6           0.2747           0.0129            0.83s\n",
      "         7           0.2513           0.0084            0.80s\n",
      "         8           0.2275           0.0066            0.79s\n",
      "         9           0.1989           0.0038            0.78s\n",
      "        10           0.1799          -0.0004            0.71s\n",
      "        20           0.0764          -0.0012            0.00s\n"
     ]
    }
   ],
   "source": [
    "y_score = gs_sentiment.best_estimator_.fit(X_train, y_train).decision_function(X_test)"
   ]
  },
  {
   "cell_type": "code",
   "execution_count": 143,
   "metadata": {},
   "outputs": [],
   "source": [
    "from sklearn.metrics import roc_curve, auc\n",
    "from sklearn.metrics import roc_auc_score"
   ]
  },
  {
   "cell_type": "code",
   "execution_count": 147,
   "metadata": {},
   "outputs": [],
   "source": [
    "fpr = dict()\n",
    "tpr = dict()\n",
    "roc_auc = dict()\n",
    "fpr[0], tpr[0], _ = roc_curve(y_test, y_score)\n",
    "roc_auc[0] = auc(fpr[0], tpr[0])\n",
    "\n",
    "# Compute micro-average ROC curve and ROC area\n",
    "fpr[\"micro\"], tpr[\"micro\"], _ = roc_curve(y_test.ravel(), y_score.ravel())\n",
    "roc_auc[\"micro\"] = auc(fpr[\"micro\"], tpr[\"micro\"])"
   ]
  },
  {
   "cell_type": "code",
   "execution_count": 153,
   "metadata": {},
   "outputs": [
    {
     "data": {
      "image/png": "[encoded data removed]",
      "text/plain": [
       "<Figure size 432x288 with 1 Axes>"
      ]
     },
     "metadata": {
      "needs_background": "light"
     },
     "output_type": "display_data"
    }
   ],
   "source": [
    "plt.plot(fpr[0], tpr[0], color='darkorange', label='ROC curve (area = %0.2f)' % roc_auc[0])\n",
    "plt.plot([0, 1], [0, 1], color='navy', linestyle='--')\n",
    "plt.show()"
   ]
  },
  {
   "cell_type": "code",
   "execution_count": null,
   "metadata": {},
   "outputs": [],
   "source": []
  }
 ],
 "metadata": {
  "kernelspec": {
   "display_name": "Python 3",
   "language": "python",
   "name": "python3"
  },
  "language_info": {
   "codemirror_mode": {
    "name": "ipython",
    "version": 3
   },
   "file_extension": ".py",
   "mimetype": "text/x-python",
   "name": "python",
   "nbconvert_exporter": "python",
   "pygments_lexer": "ipython3",
   "version": "3.7.7"
  }
 },
 "nbformat": 4,
 "nbformat_minor": 2
}
