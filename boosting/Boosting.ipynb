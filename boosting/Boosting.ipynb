{
 "cells": [
  {
   "cell_type": "code",
   "execution_count": 1,
   "metadata": {},
   "outputs": [],
   "source": [
    "import pandas as pd\n",
    "import seaborn as sns\n",
    "import matplotlib.pyplot as plt\n",
    "import numpy as np\n",
    "%matplotlib inline"
   ]
  },
  {
   "cell_type": "code",
   "execution_count": 2,
   "metadata": {},
   "outputs": [],
   "source": [
    "from sklearn.ensemble import GradientBoostingRegressor, GradientBoostingClassifier"
   ]
  },
  {
   "cell_type": "code",
   "execution_count": 3,
   "metadata": {},
   "outputs": [],
   "source": [
    "dank_data = pd.read_json(\"../image_analysis/dank_cleaned2.json\")"
   ]
  },
  {
   "cell_type": "code",
   "execution_count": 4,
   "metadata": {},
   "outputs": [
    {
     "data": {
      "text/plain": [
       "(24115, 26)"
      ]
     },
     "execution_count": 4,
     "metadata": {},
     "output_type": "execute_result"
    }
   ],
   "source": [
    "dank_data.shape"
   ]
  },
  {
   "cell_type": "code",
   "execution_count": 5,
   "metadata": {},
   "outputs": [],
   "source": [
    "dank_data = dank_data.dropna()"
   ]
  },
  {
   "cell_type": "code",
   "execution_count": 6,
   "metadata": {},
   "outputs": [],
   "source": [
    "words_count = {}\n",
    "for words in dank_data['processed_words']:\n",
    "    for word in words:\n",
    "        if word not in words_count:\n",
    "            words_count[word] = 1\n",
    "        else:\n",
    "            words_count[word] += 1"
   ]
  },
  {
   "cell_type": "code",
   "execution_count": 7,
   "metadata": {},
   "outputs": [],
   "source": [
    "words_count\n",
    "top_ten = list({k: v for k, v in sorted(words_count.items(), key = lambda item: item[1], reverse=True)}.keys())[0:10]"
   ]
  },
  {
   "cell_type": "code",
   "execution_count": 8,
   "metadata": {},
   "outputs": [],
   "source": [
    "for w in top_ten:\n",
    "    dank_data[w] = pd.Series(np.zeros(24115, dtype=int))"
   ]
  },
  {
   "cell_type": "code",
   "execution_count": 9,
   "metadata": {},
   "outputs": [
    {
     "data": {
      "text/html": [
       "<div>\n",
       "<style scoped>\n",
       "    .dataframe tbody tr th:only-of-type {\n",
       "        vertical-align: middle;\n",
       "    }\n",
       "\n",
       "    .dataframe tbody tr th {\n",
       "        vertical-align: top;\n",
       "    }\n",
       "\n",
       "    .dataframe thead th {\n",
       "        text-align: right;\n",
       "    }\n",
       "</style>\n",
       "<table border=\"1\" class=\"dataframe\">\n",
       "  <thead>\n",
       "    <tr style=\"text-align: right;\">\n",
       "      <th></th>\n",
       "      <th>author</th>\n",
       "      <th>awards</th>\n",
       "      <th>created_utc</th>\n",
       "      <th>text_from_image</th>\n",
       "      <th>words</th>\n",
       "      <th>processed_words</th>\n",
       "      <th>downs</th>\n",
       "      <th>id</th>\n",
       "      <th>is_nsfw</th>\n",
       "      <th>media</th>\n",
       "      <th>...</th>\n",
       "      <th>meme</th>\n",
       "      <th>reddit</th>\n",
       "      <th>coronavirus</th>\n",
       "      <th>like</th>\n",
       "      <th>toilet</th>\n",
       "      <th>paper</th>\n",
       "      <th>corona</th>\n",
       "      <th>peopl</th>\n",
       "      <th>post</th>\n",
       "      <th>time</th>\n",
       "    </tr>\n",
       "  </thead>\n",
       "  <tbody>\n",
       "    <tr>\n",
       "      <td>1</td>\n",
       "      <td>L71U</td>\n",
       "      <td>[]</td>\n",
       "      <td>1584295514</td>\n",
       "      <td>NICE DICK\\r\\n</td>\n",
       "      <td>Ricardo😎NICE DICK\\r\\n</td>\n",
       "      <td>[ricardo, nice, dick]</td>\n",
       "      <td>0</td>\n",
       "      <td>fj5ixk</td>\n",
       "      <td>False</td>\n",
       "      <td>https://i.redd.it/w6acm47gmvm41.jpg</td>\n",
       "      <td>...</td>\n",
       "      <td>0.0</td>\n",
       "      <td>0.0</td>\n",
       "      <td>0.0</td>\n",
       "      <td>0.0</td>\n",
       "      <td>0.0</td>\n",
       "      <td>0.0</td>\n",
       "      <td>0.0</td>\n",
       "      <td>0.0</td>\n",
       "      <td>0.0</td>\n",
       "      <td>0.0</td>\n",
       "    </tr>\n",
       "    <tr>\n",
       "      <td>2</td>\n",
       "      <td>Awesome-ness5</td>\n",
       "      <td>[]</td>\n",
       "      <td>1584294841</td>\n",
       "      <td>Nvidia's calling on gaming PC owners to\\r\\nput...</td>\n",
       "      <td>Gamers AssembleNvidia's calling on gaming PC o...</td>\n",
       "      <td>[gamer, assemblenvidia, call, game, owner, sys...</td>\n",
       "      <td>0</td>\n",
       "      <td>fj5bzj</td>\n",
       "      <td>False</td>\n",
       "      <td>https://i.redd.it/bqawbb5gkvm41.jpg</td>\n",
       "      <td>...</td>\n",
       "      <td>0.0</td>\n",
       "      <td>0.0</td>\n",
       "      <td>0.0</td>\n",
       "      <td>0.0</td>\n",
       "      <td>0.0</td>\n",
       "      <td>0.0</td>\n",
       "      <td>0.0</td>\n",
       "      <td>0.0</td>\n",
       "      <td>0.0</td>\n",
       "      <td>0.0</td>\n",
       "    </tr>\n",
       "    <tr>\n",
       "      <td>7</td>\n",
       "      <td>notaspop</td>\n",
       "      <td>[]</td>\n",
       "      <td>1584293653</td>\n",
       "      <td>When you post a low-effort meme\\r\\nfor fun to ...</td>\n",
       "      <td>I mean.... Not Corona time?When you post a low...</td>\n",
       "      <td>[mean, corona, time, post, effort, meme, peopl...</td>\n",
       "      <td>0</td>\n",
       "      <td>fj50df</td>\n",
       "      <td>False</td>\n",
       "      <td>https://i.redd.it/v5pea6wwgvm41.jpg</td>\n",
       "      <td>...</td>\n",
       "      <td>0.0</td>\n",
       "      <td>0.0</td>\n",
       "      <td>0.0</td>\n",
       "      <td>0.0</td>\n",
       "      <td>0.0</td>\n",
       "      <td>0.0</td>\n",
       "      <td>0.0</td>\n",
       "      <td>0.0</td>\n",
       "      <td>0.0</td>\n",
       "      <td>0.0</td>\n",
       "    </tr>\n",
       "    <tr>\n",
       "      <td>8</td>\n",
       "      <td>Gaunja420</td>\n",
       "      <td>[]</td>\n",
       "      <td>1584293617</td>\n",
       "      <td>H A p pyt1A\\r\\n</td>\n",
       "      <td>WheNH A p pyt1A\\r\\n</td>\n",
       "      <td>[whenh]</td>\n",
       "      <td>0</td>\n",
       "      <td>fj501g</td>\n",
       "      <td>False</td>\n",
       "      <td>https://i.redd.it/809pja1tgvm41.gif</td>\n",
       "      <td>...</td>\n",
       "      <td>0.0</td>\n",
       "      <td>0.0</td>\n",
       "      <td>0.0</td>\n",
       "      <td>0.0</td>\n",
       "      <td>0.0</td>\n",
       "      <td>0.0</td>\n",
       "      <td>0.0</td>\n",
       "      <td>0.0</td>\n",
       "      <td>0.0</td>\n",
       "      <td>0.0</td>\n",
       "    </tr>\n",
       "    <tr>\n",
       "      <td>9</td>\n",
       "      <td>In_An_Elmo_Cult</td>\n",
       "      <td>[]</td>\n",
       "      <td>1584293448</td>\n",
       "      <td>All of the internet:\\r\\nHe •I've seen this one...</td>\n",
       "      <td>.All of the internet:\\r\\nHe •I've seen this on...</td>\n",
       "      <td>[internet, see, internet, explor, whatdo, mean...</td>\n",
       "      <td>0</td>\n",
       "      <td>fj4ycc</td>\n",
       "      <td>False</td>\n",
       "      <td>https://i.redd.it/hakptfr2gvm41.png</td>\n",
       "      <td>...</td>\n",
       "      <td>0.0</td>\n",
       "      <td>0.0</td>\n",
       "      <td>0.0</td>\n",
       "      <td>0.0</td>\n",
       "      <td>0.0</td>\n",
       "      <td>0.0</td>\n",
       "      <td>0.0</td>\n",
       "      <td>0.0</td>\n",
       "      <td>0.0</td>\n",
       "      <td>0.0</td>\n",
       "    </tr>\n",
       "    <tr>\n",
       "      <td>...</td>\n",
       "      <td>...</td>\n",
       "      <td>...</td>\n",
       "      <td>...</td>\n",
       "      <td>...</td>\n",
       "      <td>...</td>\n",
       "      <td>...</td>\n",
       "      <td>...</td>\n",
       "      <td>...</td>\n",
       "      <td>...</td>\n",
       "      <td>...</td>\n",
       "      <td>...</td>\n",
       "      <td>...</td>\n",
       "      <td>...</td>\n",
       "      <td>...</td>\n",
       "      <td>...</td>\n",
       "      <td>...</td>\n",
       "      <td>...</td>\n",
       "      <td>...</td>\n",
       "      <td>...</td>\n",
       "      <td>...</td>\n",
       "      <td>...</td>\n",
       "    </tr>\n",
       "    <tr>\n",
       "      <td>38026</td>\n",
       "      <td>Caramelboi37</td>\n",
       "      <td>[]</td>\n",
       "      <td>1584120545</td>\n",
       "      <td>Add one word and repost this, soon we Will\\r\\n...</td>\n",
       "      <td>PleaseAdd one word and repost this, soon we Wi...</td>\n",
       "      <td>[pleaseadd, word, repost, soon, greatest, shor...</td>\n",
       "      <td>0</td>\n",
       "      <td>fi3c0z</td>\n",
       "      <td>False</td>\n",
       "      <td>https://i.redd.it/pwcwyle66hm41.jpg</td>\n",
       "      <td>...</td>\n",
       "      <td>NaN</td>\n",
       "      <td>NaN</td>\n",
       "      <td>NaN</td>\n",
       "      <td>NaN</td>\n",
       "      <td>NaN</td>\n",
       "      <td>NaN</td>\n",
       "      <td>NaN</td>\n",
       "      <td>NaN</td>\n",
       "      <td>NaN</td>\n",
       "      <td>NaN</td>\n",
       "    </tr>\n",
       "    <tr>\n",
       "      <td>38029</td>\n",
       "      <td>KyleSirTalksAlotYT</td>\n",
       "      <td>[]</td>\n",
       "      <td>1584120533</td>\n",
       "      <td>When you can't find the original\\r\\nThanos quo...</td>\n",
       "      <td>I watched this episode and thought I could use...</td>\n",
       "      <td>[watch, episod, think, meme, origin, thano, qu...</td>\n",
       "      <td>0</td>\n",
       "      <td>fi3bxg</td>\n",
       "      <td>False</td>\n",
       "      <td>https://i.redd.it/xyowc7756hm41.jpg</td>\n",
       "      <td>...</td>\n",
       "      <td>NaN</td>\n",
       "      <td>NaN</td>\n",
       "      <td>NaN</td>\n",
       "      <td>NaN</td>\n",
       "      <td>NaN</td>\n",
       "      <td>NaN</td>\n",
       "      <td>NaN</td>\n",
       "      <td>NaN</td>\n",
       "      <td>NaN</td>\n",
       "      <td>NaN</td>\n",
       "    </tr>\n",
       "    <tr>\n",
       "      <td>38032</td>\n",
       "      <td>Joeniek</td>\n",
       "      <td>[]</td>\n",
       "      <td>1584120516</td>\n",
       "      <td>UVE\\r\\nBREAKING NEWS\\r\\nCOVID-19 FOUND IN TOIL...</td>\n",
       "      <td>Look at thatUVE\\r\\nBREAKING NEWS\\r\\nCOVID-19 F...</td>\n",
       "      <td>[look, thatuv, break, news, covid, toilet, pap...</td>\n",
       "      <td>0</td>\n",
       "      <td>fi3bsv</td>\n",
       "      <td>False</td>\n",
       "      <td>https://i.redd.it/1qv2uk936hm41.jpg</td>\n",
       "      <td>...</td>\n",
       "      <td>NaN</td>\n",
       "      <td>NaN</td>\n",
       "      <td>NaN</td>\n",
       "      <td>NaN</td>\n",
       "      <td>NaN</td>\n",
       "      <td>NaN</td>\n",
       "      <td>NaN</td>\n",
       "      <td>NaN</td>\n",
       "      <td>NaN</td>\n",
       "      <td>NaN</td>\n",
       "    </tr>\n",
       "    <tr>\n",
       "      <td>38033</td>\n",
       "      <td>5k3tchy</td>\n",
       "      <td>[]</td>\n",
       "      <td>1584120513</td>\n",
       "      <td>When I remind myself about\\r\\ncompliment that ...</td>\n",
       "      <td>That made me feel good about myself.When I rem...</td>\n",
       "      <td>[feel, good, remind, compliment, tell, year]</td>\n",
       "      <td>0</td>\n",
       "      <td>fi3bru</td>\n",
       "      <td>False</td>\n",
       "      <td>https://i.redd.it/pi0wpta26hm41.jpg</td>\n",
       "      <td>...</td>\n",
       "      <td>NaN</td>\n",
       "      <td>NaN</td>\n",
       "      <td>NaN</td>\n",
       "      <td>NaN</td>\n",
       "      <td>NaN</td>\n",
       "      <td>NaN</td>\n",
       "      <td>NaN</td>\n",
       "      <td>NaN</td>\n",
       "      <td>NaN</td>\n",
       "      <td>NaN</td>\n",
       "    </tr>\n",
       "    <tr>\n",
       "      <td>38034</td>\n",
       "      <td>5k3tchy</td>\n",
       "      <td>[]</td>\n",
       "      <td>1584120512</td>\n",
       "      <td>When I remind myself about\\r\\ncompliment that ...</td>\n",
       "      <td>That made me feel good about myself.When I rem...</td>\n",
       "      <td>[feel, good, remind, compliment, tell, year]</td>\n",
       "      <td>0</td>\n",
       "      <td>fi3bro</td>\n",
       "      <td>False</td>\n",
       "      <td>https://i.redd.it/ydyr7y126hm41.jpg</td>\n",
       "      <td>...</td>\n",
       "      <td>NaN</td>\n",
       "      <td>NaN</td>\n",
       "      <td>NaN</td>\n",
       "      <td>NaN</td>\n",
       "      <td>NaN</td>\n",
       "      <td>NaN</td>\n",
       "      <td>NaN</td>\n",
       "      <td>NaN</td>\n",
       "      <td>NaN</td>\n",
       "      <td>NaN</td>\n",
       "    </tr>\n",
       "  </tbody>\n",
       "</table>\n",
       "<p>24115 rows × 36 columns</p>\n",
       "</div>"
      ],
      "text/plain": [
       "                   author awards  created_utc  \\\n",
       "1                    L71U     []   1584295514   \n",
       "2           Awesome-ness5     []   1584294841   \n",
       "7                notaspop     []   1584293653   \n",
       "8               Gaunja420     []   1584293617   \n",
       "9         In_An_Elmo_Cult     []   1584293448   \n",
       "...                   ...    ...          ...   \n",
       "38026        Caramelboi37     []   1584120545   \n",
       "38029  KyleSirTalksAlotYT     []   1584120533   \n",
       "38032             Joeniek     []   1584120516   \n",
       "38033             5k3tchy     []   1584120513   \n",
       "38034             5k3tchy     []   1584120512   \n",
       "\n",
       "                                         text_from_image  \\\n",
       "1                                          NICE DICK\\r\\n   \n",
       "2      Nvidia's calling on gaming PC owners to\\r\\nput...   \n",
       "7      When you post a low-effort meme\\r\\nfor fun to ...   \n",
       "8                                        H A p pyt1A\\r\\n   \n",
       "9      All of the internet:\\r\\nHe •I've seen this one...   \n",
       "...                                                  ...   \n",
       "38026  Add one word and repost this, soon we Will\\r\\n...   \n",
       "38029  When you can't find the original\\r\\nThanos quo...   \n",
       "38032  UVE\\r\\nBREAKING NEWS\\r\\nCOVID-19 FOUND IN TOIL...   \n",
       "38033  When I remind myself about\\r\\ncompliment that ...   \n",
       "38034  When I remind myself about\\r\\ncompliment that ...   \n",
       "\n",
       "                                                   words  \\\n",
       "1                                  Ricardo😎NICE DICK\\r\\n   \n",
       "2      Gamers AssembleNvidia's calling on gaming PC o...   \n",
       "7      I mean.... Not Corona time?When you post a low...   \n",
       "8                                    WheNH A p pyt1A\\r\\n   \n",
       "9      .All of the internet:\\r\\nHe •I've seen this on...   \n",
       "...                                                  ...   \n",
       "38026  PleaseAdd one word and repost this, soon we Wi...   \n",
       "38029  I watched this episode and thought I could use...   \n",
       "38032  Look at thatUVE\\r\\nBREAKING NEWS\\r\\nCOVID-19 F...   \n",
       "38033  That made me feel good about myself.When I rem...   \n",
       "38034  That made me feel good about myself.When I rem...   \n",
       "\n",
       "                                         processed_words  downs      id  \\\n",
       "1                                  [ricardo, nice, dick]      0  fj5ixk   \n",
       "2      [gamer, assemblenvidia, call, game, owner, sys...      0  fj5bzj   \n",
       "7      [mean, corona, time, post, effort, meme, peopl...      0  fj50df   \n",
       "8                                                [whenh]      0  fj501g   \n",
       "9      [internet, see, internet, explor, whatdo, mean...      0  fj4ycc   \n",
       "...                                                  ...    ...     ...   \n",
       "38026  [pleaseadd, word, repost, soon, greatest, shor...      0  fi3c0z   \n",
       "38029  [watch, episod, think, meme, origin, thano, qu...      0  fi3bxg   \n",
       "38032  [look, thatuv, break, news, covid, toilet, pap...      0  fi3bsv   \n",
       "38033       [feel, good, remind, compliment, tell, year]      0  fi3bru   \n",
       "38034       [feel, good, remind, compliment, tell, year]      0  fi3bro   \n",
       "\n",
       "       is_nsfw                                media  ... meme  reddit  \\\n",
       "1        False  https://i.redd.it/w6acm47gmvm41.jpg  ...  0.0     0.0   \n",
       "2        False  https://i.redd.it/bqawbb5gkvm41.jpg  ...  0.0     0.0   \n",
       "7        False  https://i.redd.it/v5pea6wwgvm41.jpg  ...  0.0     0.0   \n",
       "8        False  https://i.redd.it/809pja1tgvm41.gif  ...  0.0     0.0   \n",
       "9        False  https://i.redd.it/hakptfr2gvm41.png  ...  0.0     0.0   \n",
       "...        ...                                  ...  ...  ...     ...   \n",
       "38026    False  https://i.redd.it/pwcwyle66hm41.jpg  ...  NaN     NaN   \n",
       "38029    False  https://i.redd.it/xyowc7756hm41.jpg  ...  NaN     NaN   \n",
       "38032    False  https://i.redd.it/1qv2uk936hm41.jpg  ...  NaN     NaN   \n",
       "38033    False  https://i.redd.it/pi0wpta26hm41.jpg  ...  NaN     NaN   \n",
       "38034    False  https://i.redd.it/ydyr7y126hm41.jpg  ...  NaN     NaN   \n",
       "\n",
       "       coronavirus like  toilet paper  corona peopl  post  time  \n",
       "1              0.0  0.0     0.0   0.0     0.0   0.0   0.0   0.0  \n",
       "2              0.0  0.0     0.0   0.0     0.0   0.0   0.0   0.0  \n",
       "7              0.0  0.0     0.0   0.0     0.0   0.0   0.0   0.0  \n",
       "8              0.0  0.0     0.0   0.0     0.0   0.0   0.0   0.0  \n",
       "9              0.0  0.0     0.0   0.0     0.0   0.0   0.0   0.0  \n",
       "...            ...  ...     ...   ...     ...   ...   ...   ...  \n",
       "38026          NaN  NaN     NaN   NaN     NaN   NaN   NaN   NaN  \n",
       "38029          NaN  NaN     NaN   NaN     NaN   NaN   NaN   NaN  \n",
       "38032          NaN  NaN     NaN   NaN     NaN   NaN   NaN   NaN  \n",
       "38033          NaN  NaN     NaN   NaN     NaN   NaN   NaN   NaN  \n",
       "38034          NaN  NaN     NaN   NaN     NaN   NaN   NaN   NaN  \n",
       "\n",
       "[24115 rows x 36 columns]"
      ]
     },
     "execution_count": 9,
     "metadata": {},
     "output_type": "execute_result"
    }
   ],
   "source": [
    "dank_data"
   ]
  },
  {
   "cell_type": "code",
   "execution_count": 10,
   "metadata": {},
   "outputs": [
    {
     "data": {
      "text/plain": [
       "1        4.709897e-05\n",
       "2        1.480253e-05\n",
       "7        1.345685e-06\n",
       "8        1.345685e-06\n",
       "9        1.345685e-06\n",
       "             ...     \n",
       "38026    1.051794e-07\n",
       "38029    4.943432e-06\n",
       "38032    1.220081e-05\n",
       "38033    2.103588e-06\n",
       "38034    9.466146e-07\n",
       "Name: ups_normed, Length: 24115, dtype: float64"
      ]
     },
     "execution_count": 10,
     "metadata": {},
     "output_type": "execute_result"
    }
   ],
   "source": [
    "def normalize(x):\n",
    "    return x['ups'] / x['subscribers']\n",
    "\n",
    "dank_data['ups_normed'] = dank_data.apply(normalize, axis=1)\n",
    "dank_data['ups_normed']"
   ]
  },
  {
   "cell_type": "code",
   "execution_count": 11,
   "metadata": {},
   "outputs": [
    {
     "data": {
      "text/plain": [
       "1        0\n",
       "2        0\n",
       "7        0\n",
       "8        0\n",
       "9        0\n",
       "        ..\n",
       "38026    0\n",
       "38029    0\n",
       "38032    0\n",
       "38033    0\n",
       "38034    0\n",
       "Name: is_nsfw, Length: 24115, dtype: int64"
      ]
     },
     "execution_count": 11,
     "metadata": {},
     "output_type": "execute_result"
    }
   ],
   "source": [
    "def f(x):\n",
    "    return int(x['is_nsfw'])\n",
    "\n",
    "dank_data['is_nsfw'] = dank_data.apply(f, axis=1)\n",
    "dank_data['is_nsfw']"
   ]
  },
  {
   "cell_type": "code",
   "execution_count": 12,
   "metadata": {},
   "outputs": [
    {
     "data": {
      "text/plain": [
       "(24115, 37)"
      ]
     },
     "execution_count": 12,
     "metadata": {},
     "output_type": "execute_result"
    }
   ],
   "source": [
    "dank_data.shape"
   ]
  },
  {
   "cell_type": "code",
   "execution_count": 13,
   "metadata": {},
   "outputs": [
    {
     "data": {
      "text/plain": [
       "array(['r/dank_meme', 'r/dankmeme', 'r/me_irl', 'r/MemeEconomy',\n",
       "       'r/memes'], dtype=object)"
      ]
     },
     "execution_count": 13,
     "metadata": {},
     "output_type": "execute_result"
    }
   ],
   "source": [
    "dank_data[\"subreddit\"].unique()"
   ]
  },
  {
   "cell_type": "code",
   "execution_count": 14,
   "metadata": {},
   "outputs": [],
   "source": [
    "dank_data = dank_data.drop(columns = [\"id\", \"ups\",\"downs\", \"words\", \"text_from_image\",\"media\", \"url\", \"awards\", \"author\", \"title\"])"
   ]
  },
  {
   "cell_type": "markdown",
   "metadata": {},
   "source": [
    "Convert thumbnail column to binary data column that indicates whether the thumbnail is default or not."
   ]
  },
  {
   "cell_type": "code",
   "execution_count": 15,
   "metadata": {},
   "outputs": [],
   "source": [
    "mapping = {\"r/me_irl\":0, \"r/dank_meme\":1, \"r/dankmeme\":2, \"r/MemeEconomy\":3, \"r/memes\":4}\n",
    "\n",
    "dank_data[\"thumbnail.thumbnail\"] = [int(t == \"default\") for t in dank_data[\"thumbnail.thumbnail\"]]\n",
    "dank_data[\"subreddit\"] = dank_data[\"subreddit\"].map(mapping)"
   ]
  },
  {
   "cell_type": "markdown",
   "metadata": {},
   "source": [
    "Convert processed words column to TF-IDF vector to gain understanding of the words' contribution to popularity. "
   ]
  },
  {
   "cell_type": "code",
   "execution_count": 16,
   "metadata": {},
   "outputs": [
    {
     "data": {
      "text/html": [
       "<div>\n",
       "<style scoped>\n",
       "    .dataframe tbody tr th:only-of-type {\n",
       "        vertical-align: middle;\n",
       "    }\n",
       "\n",
       "    .dataframe tbody tr th {\n",
       "        vertical-align: top;\n",
       "    }\n",
       "\n",
       "    .dataframe thead th {\n",
       "        text-align: right;\n",
       "    }\n",
       "</style>\n",
       "<table border=\"1\" class=\"dataframe\">\n",
       "  <thead>\n",
       "    <tr style=\"text-align: right;\">\n",
       "      <th></th>\n",
       "      <th>created_utc</th>\n",
       "      <th>processed_words</th>\n",
       "      <th>is_nsfw</th>\n",
       "      <th>subreddit</th>\n",
       "      <th>subscribers</th>\n",
       "      <th>thumbnail.height</th>\n",
       "      <th>thumbnail.thumbnail</th>\n",
       "      <th>thumbnail.width</th>\n",
       "      <th>avg_hue</th>\n",
       "      <th>avg_saturation</th>\n",
       "      <th>...</th>\n",
       "      <th>reddit</th>\n",
       "      <th>coronavirus</th>\n",
       "      <th>like</th>\n",
       "      <th>toilet</th>\n",
       "      <th>paper</th>\n",
       "      <th>corona</th>\n",
       "      <th>peopl</th>\n",
       "      <th>post</th>\n",
       "      <th>time</th>\n",
       "      <th>ups_normed</th>\n",
       "    </tr>\n",
       "  </thead>\n",
       "  <tbody>\n",
       "    <tr>\n",
       "      <td>1</td>\n",
       "      <td>1584295514</td>\n",
       "      <td>[ricardo, nice, dick]</td>\n",
       "      <td>0</td>\n",
       "      <td>1</td>\n",
       "      <td>743116</td>\n",
       "      <td>136</td>\n",
       "      <td>0</td>\n",
       "      <td>140</td>\n",
       "      <td>30.615726</td>\n",
       "      <td>54.625239</td>\n",
       "      <td>...</td>\n",
       "      <td>0</td>\n",
       "      <td>0</td>\n",
       "      <td>0</td>\n",
       "      <td>0</td>\n",
       "      <td>0</td>\n",
       "      <td>0</td>\n",
       "      <td>0</td>\n",
       "      <td>0</td>\n",
       "      <td>0</td>\n",
       "      <td>4.709897e-05</td>\n",
       "    </tr>\n",
       "    <tr>\n",
       "      <td>2</td>\n",
       "      <td>1584294841</td>\n",
       "      <td>[gamer, assemblenvidia, call, game, owner, sys...</td>\n",
       "      <td>0</td>\n",
       "      <td>1</td>\n",
       "      <td>743116</td>\n",
       "      <td>140</td>\n",
       "      <td>0</td>\n",
       "      <td>140</td>\n",
       "      <td>24.111360</td>\n",
       "      <td>54.654363</td>\n",
       "      <td>...</td>\n",
       "      <td>0</td>\n",
       "      <td>0</td>\n",
       "      <td>0</td>\n",
       "      <td>0</td>\n",
       "      <td>0</td>\n",
       "      <td>0</td>\n",
       "      <td>0</td>\n",
       "      <td>0</td>\n",
       "      <td>0</td>\n",
       "      <td>1.480253e-05</td>\n",
       "    </tr>\n",
       "    <tr>\n",
       "      <td>7</td>\n",
       "      <td>1584293653</td>\n",
       "      <td>[mean, corona, time, post, effort, meme, peopl...</td>\n",
       "      <td>0</td>\n",
       "      <td>1</td>\n",
       "      <td>743116</td>\n",
       "      <td>140</td>\n",
       "      <td>1</td>\n",
       "      <td>140</td>\n",
       "      <td>24.042466</td>\n",
       "      <td>31.159050</td>\n",
       "      <td>...</td>\n",
       "      <td>0</td>\n",
       "      <td>0</td>\n",
       "      <td>0</td>\n",
       "      <td>0</td>\n",
       "      <td>0</td>\n",
       "      <td>1</td>\n",
       "      <td>1</td>\n",
       "      <td>1</td>\n",
       "      <td>1</td>\n",
       "      <td>1.345685e-06</td>\n",
       "    </tr>\n",
       "    <tr>\n",
       "      <td>8</td>\n",
       "      <td>1584293617</td>\n",
       "      <td>[whenh]</td>\n",
       "      <td>0</td>\n",
       "      <td>1</td>\n",
       "      <td>743116</td>\n",
       "      <td>140</td>\n",
       "      <td>1</td>\n",
       "      <td>140</td>\n",
       "      <td>44.428757</td>\n",
       "      <td>66.669514</td>\n",
       "      <td>...</td>\n",
       "      <td>0</td>\n",
       "      <td>0</td>\n",
       "      <td>0</td>\n",
       "      <td>0</td>\n",
       "      <td>0</td>\n",
       "      <td>0</td>\n",
       "      <td>0</td>\n",
       "      <td>0</td>\n",
       "      <td>0</td>\n",
       "      <td>1.345685e-06</td>\n",
       "    </tr>\n",
       "    <tr>\n",
       "      <td>9</td>\n",
       "      <td>1584293448</td>\n",
       "      <td>[internet, see, internet, explor, whatdo, mean...</td>\n",
       "      <td>0</td>\n",
       "      <td>1</td>\n",
       "      <td>743116</td>\n",
       "      <td>140</td>\n",
       "      <td>1</td>\n",
       "      <td>140</td>\n",
       "      <td>15.506512</td>\n",
       "      <td>27.647186</td>\n",
       "      <td>...</td>\n",
       "      <td>0</td>\n",
       "      <td>0</td>\n",
       "      <td>0</td>\n",
       "      <td>0</td>\n",
       "      <td>0</td>\n",
       "      <td>0</td>\n",
       "      <td>0</td>\n",
       "      <td>0</td>\n",
       "      <td>0</td>\n",
       "      <td>1.345685e-06</td>\n",
       "    </tr>\n",
       "    <tr>\n",
       "      <td>...</td>\n",
       "      <td>...</td>\n",
       "      <td>...</td>\n",
       "      <td>...</td>\n",
       "      <td>...</td>\n",
       "      <td>...</td>\n",
       "      <td>...</td>\n",
       "      <td>...</td>\n",
       "      <td>...</td>\n",
       "      <td>...</td>\n",
       "      <td>...</td>\n",
       "      <td>...</td>\n",
       "      <td>...</td>\n",
       "      <td>...</td>\n",
       "      <td>...</td>\n",
       "      <td>...</td>\n",
       "      <td>...</td>\n",
       "      <td>...</td>\n",
       "      <td>...</td>\n",
       "      <td>...</td>\n",
       "      <td>...</td>\n",
       "      <td>...</td>\n",
       "    </tr>\n",
       "    <tr>\n",
       "      <td>38026</td>\n",
       "      <td>1584120545</td>\n",
       "      <td>[pleaseadd, word, repost, soon, greatest, shor...</td>\n",
       "      <td>0</td>\n",
       "      <td>4</td>\n",
       "      <td>9507565</td>\n",
       "      <td>125</td>\n",
       "      <td>1</td>\n",
       "      <td>140</td>\n",
       "      <td>36.669186</td>\n",
       "      <td>55.179987</td>\n",
       "      <td>...</td>\n",
       "      <td>0</td>\n",
       "      <td>0</td>\n",
       "      <td>0</td>\n",
       "      <td>0</td>\n",
       "      <td>0</td>\n",
       "      <td>0</td>\n",
       "      <td>0</td>\n",
       "      <td>0</td>\n",
       "      <td>0</td>\n",
       "      <td>1.051794e-07</td>\n",
       "    </tr>\n",
       "    <tr>\n",
       "      <td>38029</td>\n",
       "      <td>1584120533</td>\n",
       "      <td>[watch, episod, think, meme, origin, thano, qu...</td>\n",
       "      <td>0</td>\n",
       "      <td>4</td>\n",
       "      <td>9507565</td>\n",
       "      <td>99</td>\n",
       "      <td>0</td>\n",
       "      <td>140</td>\n",
       "      <td>39.328894</td>\n",
       "      <td>78.810628</td>\n",
       "      <td>...</td>\n",
       "      <td>0</td>\n",
       "      <td>0</td>\n",
       "      <td>0</td>\n",
       "      <td>0</td>\n",
       "      <td>0</td>\n",
       "      <td>0</td>\n",
       "      <td>0</td>\n",
       "      <td>0</td>\n",
       "      <td>0</td>\n",
       "      <td>4.943432e-06</td>\n",
       "    </tr>\n",
       "    <tr>\n",
       "      <td>38032</td>\n",
       "      <td>1584120516</td>\n",
       "      <td>[look, thatuv, break, news, covid, toilet, pap...</td>\n",
       "      <td>0</td>\n",
       "      <td>4</td>\n",
       "      <td>9507565</td>\n",
       "      <td>140</td>\n",
       "      <td>0</td>\n",
       "      <td>140</td>\n",
       "      <td>12.169112</td>\n",
       "      <td>67.386601</td>\n",
       "      <td>...</td>\n",
       "      <td>0</td>\n",
       "      <td>0</td>\n",
       "      <td>0</td>\n",
       "      <td>1</td>\n",
       "      <td>1</td>\n",
       "      <td>0</td>\n",
       "      <td>0</td>\n",
       "      <td>0</td>\n",
       "      <td>0</td>\n",
       "      <td>1.220081e-05</td>\n",
       "    </tr>\n",
       "    <tr>\n",
       "      <td>38033</td>\n",
       "      <td>1584120513</td>\n",
       "      <td>[feel, good, remind, compliment, tell, year]</td>\n",
       "      <td>0</td>\n",
       "      <td>4</td>\n",
       "      <td>9507565</td>\n",
       "      <td>140</td>\n",
       "      <td>0</td>\n",
       "      <td>140</td>\n",
       "      <td>54.032949</td>\n",
       "      <td>18.939318</td>\n",
       "      <td>...</td>\n",
       "      <td>0</td>\n",
       "      <td>0</td>\n",
       "      <td>0</td>\n",
       "      <td>0</td>\n",
       "      <td>0</td>\n",
       "      <td>0</td>\n",
       "      <td>0</td>\n",
       "      <td>0</td>\n",
       "      <td>0</td>\n",
       "      <td>2.103588e-06</td>\n",
       "    </tr>\n",
       "    <tr>\n",
       "      <td>38034</td>\n",
       "      <td>1584120512</td>\n",
       "      <td>[feel, good, remind, compliment, tell, year]</td>\n",
       "      <td>0</td>\n",
       "      <td>4</td>\n",
       "      <td>9507565</td>\n",
       "      <td>140</td>\n",
       "      <td>0</td>\n",
       "      <td>140</td>\n",
       "      <td>66.046086</td>\n",
       "      <td>70.021117</td>\n",
       "      <td>...</td>\n",
       "      <td>0</td>\n",
       "      <td>0</td>\n",
       "      <td>0</td>\n",
       "      <td>0</td>\n",
       "      <td>0</td>\n",
       "      <td>0</td>\n",
       "      <td>0</td>\n",
       "      <td>0</td>\n",
       "      <td>0</td>\n",
       "      <td>9.466146e-07</td>\n",
       "    </tr>\n",
       "  </tbody>\n",
       "</table>\n",
       "<p>24115 rows × 27 columns</p>\n",
       "</div>"
      ],
      "text/plain": [
       "       created_utc                                    processed_words  \\\n",
       "1       1584295514                              [ricardo, nice, dick]   \n",
       "2       1584294841  [gamer, assemblenvidia, call, game, owner, sys...   \n",
       "7       1584293653  [mean, corona, time, post, effort, meme, peopl...   \n",
       "8       1584293617                                            [whenh]   \n",
       "9       1584293448  [internet, see, internet, explor, whatdo, mean...   \n",
       "...            ...                                                ...   \n",
       "38026   1584120545  [pleaseadd, word, repost, soon, greatest, shor...   \n",
       "38029   1584120533  [watch, episod, think, meme, origin, thano, qu...   \n",
       "38032   1584120516  [look, thatuv, break, news, covid, toilet, pap...   \n",
       "38033   1584120513       [feel, good, remind, compliment, tell, year]   \n",
       "38034   1584120512       [feel, good, remind, compliment, tell, year]   \n",
       "\n",
       "       is_nsfw  subreddit  subscribers  thumbnail.height  thumbnail.thumbnail  \\\n",
       "1            0          1       743116               136                    0   \n",
       "2            0          1       743116               140                    0   \n",
       "7            0          1       743116               140                    1   \n",
       "8            0          1       743116               140                    1   \n",
       "9            0          1       743116               140                    1   \n",
       "...        ...        ...          ...               ...                  ...   \n",
       "38026        0          4      9507565               125                    1   \n",
       "38029        0          4      9507565                99                    0   \n",
       "38032        0          4      9507565               140                    0   \n",
       "38033        0          4      9507565               140                    0   \n",
       "38034        0          4      9507565               140                    0   \n",
       "\n",
       "       thumbnail.width    avg_hue  avg_saturation  ...  reddit  coronavirus  \\\n",
       "1                  140  30.615726       54.625239  ...       0            0   \n",
       "2                  140  24.111360       54.654363  ...       0            0   \n",
       "7                  140  24.042466       31.159050  ...       0            0   \n",
       "8                  140  44.428757       66.669514  ...       0            0   \n",
       "9                  140  15.506512       27.647186  ...       0            0   \n",
       "...                ...        ...             ...  ...     ...          ...   \n",
       "38026              140  36.669186       55.179987  ...       0            0   \n",
       "38029              140  39.328894       78.810628  ...       0            0   \n",
       "38032              140  12.169112       67.386601  ...       0            0   \n",
       "38033              140  54.032949       18.939318  ...       0            0   \n",
       "38034              140  66.046086       70.021117  ...       0            0   \n",
       "\n",
       "       like  toilet  paper  corona  peopl  post  time    ups_normed  \n",
       "1         0       0      0       0      0     0     0  4.709897e-05  \n",
       "2         0       0      0       0      0     0     0  1.480253e-05  \n",
       "7         0       0      0       1      1     1     1  1.345685e-06  \n",
       "8         0       0      0       0      0     0     0  1.345685e-06  \n",
       "9         0       0      0       0      0     0     0  1.345685e-06  \n",
       "...     ...     ...    ...     ...    ...   ...   ...           ...  \n",
       "38026     0       0      0       0      0     0     0  1.051794e-07  \n",
       "38029     0       0      0       0      0     0     0  4.943432e-06  \n",
       "38032     0       1      1       0      0     0     0  1.220081e-05  \n",
       "38033     0       0      0       0      0     0     0  2.103588e-06  \n",
       "38034     0       0      0       0      0     0     0  9.466146e-07  \n",
       "\n",
       "[24115 rows x 27 columns]"
      ]
     },
     "execution_count": 16,
     "metadata": {},
     "output_type": "execute_result"
    }
   ],
   "source": [
    "def set_ten(word_check):\n",
    "    def top_ten_words(x):\n",
    "        for word in x['processed_words']:\n",
    "            if word == word_check:\n",
    "                return 1\n",
    "        return 0\n",
    "                \n",
    "                \n",
    "    dank_data[word_check] = dank_data.apply(top_ten_words, axis=1)\n",
    "for word in top_ten:\n",
    "    set_ten(word)\n",
    "dank_data"
   ]
  },
  {
   "cell_type": "code",
   "execution_count": 17,
   "metadata": {},
   "outputs": [
    {
     "data": {
      "text/plain": [
       "<matplotlib.axes._subplots.AxesSubplot at 0x18812b96c08>"
      ]
     },
     "execution_count": 17,
     "metadata": {},
     "output_type": "execute_result"
    },
    {
     "data": {
      "image/png": "[encoded data removed]",
      "text/plain": [
       "<Figure size 432x288 with 1 Axes>"
      ]
     },
     "metadata": {
      "needs_background": "light"
     },
     "output_type": "display_data"
    }
   ],
   "source": [
    "sns.distplot(dank_data[\"ups_normed\"])"
   ]
  },
  {
   "cell_type": "code",
   "execution_count": 18,
   "metadata": {},
   "outputs": [],
   "source": [
    "def threshold(x):\n",
    "    if x['ups_normed'] < 0.00005: return 0\n",
    "    else: return 1\n",
    "\n",
    "dank_data['dank'] = dank_data.apply(threshold, axis=1)"
   ]
  },
  {
   "cell_type": "code",
   "execution_count": 19,
   "metadata": {},
   "outputs": [
    {
     "data": {
      "text/plain": [
       "<matplotlib.axes._subplots.AxesSubplot at 0x188129fec88>"
      ]
     },
     "execution_count": 19,
     "metadata": {},
     "output_type": "execute_result"
    },
    {
     "data": {
      "image/png": "[encoded data removed]",
      "text/plain": [
       "<Figure size 432x288 with 1 Axes>"
      ]
     },
     "metadata": {
      "needs_background": "light"
     },
     "output_type": "display_data"
    }
   ],
   "source": [
    "sns.distplot(dank_data[\"dank\"])"
   ]
  },
  {
   "cell_type": "code",
   "execution_count": 20,
   "metadata": {},
   "outputs": [],
   "source": [
    "dank_data = dank_data.drop(columns=[\"ups_normed\", \"processed_words\"])"
   ]
  },
  {
   "cell_type": "code",
   "execution_count": 21,
   "metadata": {},
   "outputs": [],
   "source": [
    "from sklearn.model_selection import train_test_split"
   ]
  },
  {
   "cell_type": "code",
   "execution_count": 22,
   "metadata": {},
   "outputs": [],
   "source": [
    "X, y = dank_data.drop(columns=[\"dank\"]), dank_data[\"dank\"]\n",
    "X_train, X_test, y_train, y_test = train_test_split(X, y, test_size=0.33, random_state=42)"
   ]
  },
  {
   "cell_type": "markdown",
   "metadata": {},
   "source": [
    "Compare different parameter selections for GradientBoostingClassifier on dataset."
   ]
  },
  {
   "cell_type": "code",
   "execution_count": 23,
   "metadata": {},
   "outputs": [],
   "source": [
    "def make_model_and_score(loss, learning_rate, n_estimators, subsample, criterion, max_depth, random_state, verbose, validation_fraction):\n",
    "    model = GradientBoostingClassifier(loss=loss, learning_rate=learning_rate, n_estimators=n_estimators, subsample=subsample, criterion=criterion, max_depth=max_depth, random_state=random_state, verbose=verbose, validation_fraction=validation_fraction)\n",
    "    model.fit(X_train, y_train)\n",
    "    score = model.score(X_test, y_test)\n",
    "    return score"
   ]
  },
  {
   "cell_type": "code",
   "execution_count": 24,
   "metadata": {},
   "outputs": [],
   "source": [
    "from sklearn import metrics\n",
    "from sklearn.model_selection import GridSearchCV, cross_val_score"
   ]
  },
  {
   "cell_type": "markdown",
   "metadata": {},
   "source": [
    "Help from the following link: https://www.analyticsvidhya.com/blog/2016/02/complete-guide-parameter-tuning-gradient-boosting-gbm-python/"
   ]
  },
  {
   "cell_type": "code",
   "execution_count": 25,
   "metadata": {},
   "outputs": [],
   "source": [
    "def make_model(loss, learning_rate, n_estimators, subsample, criterion, max_depth, random_state, verbose, validation_fraction, min_samples_split=500, min_samples_leaf=50, max_features='sqrt'):\n",
    "    return GradientBoostingClassifier(loss=loss, learning_rate=learning_rate, n_estimators=n_estimators, subsample=subsample, criterion=criterion, max_depth=max_depth, random_state=random_state, verbose=verbose, validation_fraction=validation_fraction, min_samples_split=min_samples_split, min_samples_leaf=min_samples_leaf, max_features=max_features)\n",
    "\n",
    "def model_fit(model, printFeatureImportance=True, cv_folds=5):\n",
    "    model.fit(X_train, y_train)\n",
    "    \n",
    "    predictions = model.predict(X_test)\n",
    "    cv_score = cross_val_score(model, X_train, y_train, cv=cv_folds)\n",
    "    \n",
    "    print(\"CV Score : Mean - %.7g | Std - %.7g | Min - %.7g | Max - %.7g\" % (np.mean(cv_score),np.std(cv_score),np.min(cv_score),np.max(cv_score)))\n",
    "    \n",
    "    if printFeatureImportance:\n",
    "        feat_imp = pd.Series(model.feature_importances_, X_train.columns).sort_values(ascending=False)\n",
    "        feat_imp.plot(kind='bar', title='Feature Importances')\n",
    "        plt.ylabel('Feature Importance Score')"
   ]
  },
  {
   "cell_type": "code",
   "execution_count": 26,
   "metadata": {},
   "outputs": [],
   "source": [
    "model = make_model(\"exponential\", 0.2, 150, 0.8, \"friedman_mse\", 5, 42, 1.0, 0.1)"
   ]
  },
  {
   "cell_type": "code",
   "execution_count": 27,
   "metadata": {},
   "outputs": [
    {
     "name": "stdout",
     "output_type": "stream",
     "text": [
      "      Iter       Train Loss      OOB Improve   Remaining Time \n",
      "         1           0.4521           0.0017            1.78s\n",
      "         2           0.4515           0.0029            1.85s\n",
      "         3           0.4367           0.0032            2.00s\n",
      "         4           0.4412          -0.0002            1.86s\n",
      "         5           0.4331           0.0019            1.85s\n",
      "         6           0.4322           0.0013            1.80s\n",
      "         7           0.4340           0.0001            1.79s\n",
      "         8           0.4287           0.0016            1.79s\n",
      "         9           0.4217           0.0011            1.77s\n",
      "        10           0.4218          -0.0012            1.70s\n",
      "        20           0.4049          -0.0003            1.56s\n",
      "        30           0.3922          -0.0003            1.39s\n",
      "        40           0.3847           0.0002            1.26s\n",
      "        50           0.3711          -0.0019            1.14s\n",
      "        60           0.3652          -0.0010            1.00s\n",
      "        70           0.3577          -0.0009            0.89s\n",
      "        80           0.3469          -0.0007            0.78s\n",
      "        90           0.3366          -0.0014            0.67s\n",
      "       100           0.3312          -0.0006            0.56s\n",
      "      Iter       Train Loss      OOB Improve   Remaining Time \n",
      "         1           0.4521           0.0040            1.19s\n",
      "         2           0.4485           0.0033            1.18s\n",
      "         3           0.4423          -0.0004            1.22s\n",
      "         4           0.4361           0.0034            1.27s\n",
      "         5           0.4336           0.0002            1.24s\n",
      "         6           0.4286           0.0001            1.20s\n",
      "         7           0.4263          -0.0015            1.20s\n",
      "         8           0.4225          -0.0001            1.20s\n",
      "         9           0.4243          -0.0004            1.20s\n",
      "        10           0.4264          -0.0003            1.20s\n",
      "        20           0.4056          -0.0008            1.07s\n",
      "        30           0.3918          -0.0010            1.02s\n",
      "        40           0.3749          -0.0013            0.93s\n",
      "        50           0.3636          -0.0009            0.85s\n",
      "        60           0.3570          -0.0018            0.77s\n",
      "        70           0.3541          -0.0011            0.68s\n",
      "        80           0.3392          -0.0021            0.59s\n",
      "        90           0.3314          -0.0015            0.51s\n",
      "       100           0.3208          -0.0023            0.43s\n",
      "      Iter       Train Loss      OOB Improve   Remaining Time \n",
      "         1           0.4511           0.0022            1.19s\n",
      "         2           0.4517           0.0030            1.25s\n",
      "         3           0.4424           0.0029            1.27s\n",
      "         4           0.4400           0.0003            1.24s\n",
      "         5           0.4373           0.0019            1.24s\n",
      "         6           0.4335           0.0008            1.22s\n",
      "         7           0.4300          -0.0012            1.20s\n",
      "         8           0.4297           0.0013            1.20s\n",
      "         9           0.4284          -0.0009            1.20s\n",
      "        10           0.4221          -0.0021            1.22s\n",
      "        20           0.4073          -0.0009            1.10s\n",
      "        30           0.3972          -0.0009            1.05s\n",
      "        40           0.3791          -0.0018            0.95s\n",
      "        50           0.3655          -0.0012            0.86s\n",
      "        60           0.3647          -0.0010            0.78s\n",
      "        70           0.3542          -0.0018            0.68s\n",
      "        80           0.3427          -0.0015            0.60s\n",
      "        90           0.3315          -0.0007            0.52s\n",
      "       100           0.3250          -0.0006            0.43s\n",
      "      Iter       Train Loss      OOB Improve   Remaining Time \n",
      "         1           0.4530           0.0057            1.34s\n",
      "         2           0.4421           0.0033            1.33s\n",
      "         3           0.4394           0.0012            1.32s\n",
      "         4           0.4426           0.0017            1.31s\n",
      "         5           0.4406           0.0011            1.27s\n",
      "         6           0.4325           0.0004            1.29s\n",
      "         7           0.4206          -0.0001            1.24s\n",
      "         8           0.4339          -0.0002            1.22s\n",
      "         9           0.4233          -0.0004            1.19s\n",
      "        10           0.4246          -0.0006            1.17s\n",
      "        20           0.4077           0.0000            1.10s\n",
      "        30           0.3932          -0.0013            1.03s\n",
      "        40           0.3817          -0.0008            0.92s\n",
      "        50           0.3711          -0.0009            0.82s\n",
      "        60           0.3630          -0.0013            0.76s\n",
      "        70           0.3567          -0.0006            0.67s\n",
      "        80           0.3398          -0.0010            0.59s\n",
      "        90           0.3248          -0.0021            0.50s\n",
      "       100           0.3292          -0.0015            0.45s\n",
      "      Iter       Train Loss      OOB Improve   Remaining Time \n",
      "         1           0.4499           0.0038            1.78s\n",
      "         2           0.4398           0.0022            2.14s\n",
      "         3           0.4333           0.0045            2.10s\n",
      "         4           0.4402           0.0010            2.08s\n",
      "         5           0.4379          -0.0008            1.94s\n",
      "         6           0.4314          -0.0009            1.91s\n",
      "         7           0.4213           0.0019            1.94s\n",
      "         8           0.4297           0.0002            1.95s\n",
      "         9           0.4213           0.0005            1.92s\n",
      "        10           0.4177          -0.0000            1.98s\n",
      "        20           0.4057           0.0003            1.54s\n",
      "        30           0.3950          -0.0005            1.26s\n",
      "        40           0.3864          -0.0018            1.07s\n",
      "        50           0.3689          -0.0003            0.97s\n",
      "        60           0.3598          -0.0003            0.84s\n",
      "        70           0.3531          -0.0009            0.74s\n",
      "        80           0.3429          -0.0016            0.64s\n",
      "        90           0.3299          -0.0010            0.54s\n",
      "       100           0.3282          -0.0004            0.45s\n",
      "      Iter       Train Loss      OOB Improve   Remaining Time \n",
      "         1           0.4517           0.0039            1.34s\n",
      "         2           0.4403           0.0034            1.33s\n",
      "         3           0.4313           0.0041            1.32s\n",
      "         4           0.4377          -0.0014            1.31s\n",
      "         5           0.4369           0.0020            1.30s\n",
      "         6           0.4320          -0.0006            1.29s\n",
      "         7           0.4194          -0.0001            1.26s\n",
      "         8           0.4237           0.0002            1.24s\n",
      "         9           0.4187           0.0002            1.22s\n",
      "        10           0.4150          -0.0014            1.23s\n",
      "        20           0.4063          -0.0011            1.17s\n",
      "        30           0.3901          -0.0004            1.14s\n",
      "        40           0.3818          -0.0013            1.01s\n",
      "        50           0.3695          -0.0005            0.90s\n",
      "        60           0.3584          -0.0005            0.79s\n",
      "        70           0.3495          -0.0012            0.69s\n",
      "        80           0.3444          -0.0020            0.60s\n",
      "        90           0.3307          -0.0011            0.51s\n",
      "       100           0.3282          -0.0004            0.43s\n",
      "CV Score : Mean - 0.9447298 | Std - 0.0002527544 | Min - 0.9445992 | Max - 0.9452351\n"
     ]
    },
    {
     "data": {
      "image/png": "[encoded data removed]",
      "text/plain": [
       "<Figure size 432x288 with 1 Axes>"
      ]
     },
     "metadata": {
      "needs_background": "light"
     },
     "output_type": "display_data"
    }
   ],
   "source": [
    "model_fit(model)"
   ]
  },
  {
   "cell_type": "code",
   "execution_count": 28,
   "metadata": {},
   "outputs": [],
   "source": [
    "def make_model_tuning(loss, learning_rate, subsample, criterion, max_depth, random_state, verbose, validation_fraction, min_samples_split=500, min_samples_leaf=50, max_features='sqrt'):\n",
    "    return GradientBoostingClassifier(loss=loss, learning_rate=learning_rate, subsample=subsample, criterion=criterion, max_depth=max_depth, random_state=random_state, verbose=verbose, validation_fraction=validation_fraction, min_samples_split=min_samples_split, min_samples_leaf=min_samples_leaf, max_features=max_features)"
   ]
  },
  {
   "cell_type": "code",
   "execution_count": 29,
   "metadata": {},
   "outputs": [],
   "source": [
    "def gridSearch(estimator, param_grid, scoring=\"roc_auc\", n_jobs=4, cv=5):\n",
    "    gsearch = GridSearchCV(estimator=estimator, param_grid=param_grid, scoring=scoring, n_jobs=n_jobs, iid=False, cv=cv, return_train_score=True)\n",
    "    gsearch.fit(X_train, y_train)\n",
    "    return gsearch"
   ]
  },
  {
   "cell_type": "code",
   "execution_count": 30,
   "metadata": {},
   "outputs": [
    {
     "name": "stdout",
     "output_type": "stream",
     "text": [
      "      Iter       Train Loss      OOB Improve   Remaining Time \n",
      "         1           0.4521           0.0017            0.17s\n",
      "         2           0.4515           0.0029            0.17s\n",
      "         3           0.4367           0.0032            0.16s\n",
      "         4           0.4412          -0.0002            0.16s\n",
      "         5           0.4331           0.0019            0.15s\n",
      "         6           0.4322           0.0013            0.14s\n",
      "         7           0.4340           0.0001            0.14s\n",
      "         8           0.4287           0.0016            0.13s\n",
      "         9           0.4217           0.0011            0.12s\n",
      "        10           0.4218          -0.0012            0.11s\n",
      "        20           0.4049          -0.0003            0.00s\n"
     ]
    }
   ],
   "source": [
    "param_test1 = {'n_estimators':range(20,81,10)}\n",
    "model_tuning = make_model_tuning(\"exponential\", 0.2, 0.8, \"mse\", 5, 42, 1.0, 0.1)\n",
    "gs1 = gridSearch(model_tuning, param_grid=param_test1)"
   ]
  },
  {
   "cell_type": "code",
   "execution_count": 31,
   "metadata": {},
   "outputs": [
    {
     "data": {
      "text/plain": [
       "{'mean_fit_time': array([0.46455827, 0.61216125, 0.76994977, 0.92392406, 1.0952692 ,\n",
       "        1.26541748, 1.32465334]),\n",
       " 'std_fit_time': array([0.00395883, 0.02989077, 0.01962787, 0.01888504, 0.01197483,\n",
       "        0.02805539, 0.13609471]),\n",
       " 'mean_score_time': array([0.01157022, 0.01136708, 0.01096334, 0.01316814, 0.01536231,\n",
       "        0.01515446, 0.01536345]),\n",
       " 'std_score_time': array([0.00439898, 0.00135107, 0.00140755, 0.00146631, 0.002416  ,\n",
       "        0.00074061, 0.00204642]),\n",
       " 'param_n_estimators': masked_array(data=[20, 30, 40, 50, 60, 70, 80],\n",
       "              mask=[False, False, False, False, False, False, False],\n",
       "        fill_value='?',\n",
       "             dtype=object),\n",
       " 'params': [{'n_estimators': 20},\n",
       "  {'n_estimators': 30},\n",
       "  {'n_estimators': 40},\n",
       "  {'n_estimators': 50},\n",
       "  {'n_estimators': 60},\n",
       "  {'n_estimators': 70},\n",
       "  {'n_estimators': 80}],\n",
       " 'split0_test_score': array([0.65644982, 0.64151362, 0.65132208, 0.64575561, 0.64487539,\n",
       "        0.64406047, 0.64919649]),\n",
       " 'split1_test_score': array([0.64599383, 0.63970534, 0.64360058, 0.63954254, 0.63741235,\n",
       "        0.63511107, 0.63452977]),\n",
       " 'split2_test_score': array([0.64889941, 0.64325935, 0.64283611, 0.64957106, 0.6466029 ,\n",
       "        0.64315446, 0.64561474]),\n",
       " 'split3_test_score': array([0.63201419, 0.64457505, 0.62929445, 0.63565769, 0.63347619,\n",
       "        0.63420213, 0.62460207]),\n",
       " 'split4_test_score': array([0.67861875, 0.67206045, 0.66646088, 0.65633913, 0.65089229,\n",
       "        0.64934288, 0.64771803]),\n",
       " 'mean_test_score': array([0.6523952 , 0.64822276, 0.64670282, 0.64537321, 0.64265182,\n",
       "        0.6411742 , 0.64033222]),\n",
       " 'std_test_score': array([0.01531469, 0.01203109, 0.01216014, 0.00729942, 0.00632621,\n",
       "        0.00573325, 0.00940358]),\n",
       " 'rank_test_score': array([1, 2, 3, 4, 5, 6, 7]),\n",
       " 'split0_train_score': array([0.77726879, 0.81619616, 0.83490205, 0.85133042, 0.86534466,\n",
       "        0.88056111, 0.89178982]),\n",
       " 'split1_train_score': array([0.76983899, 0.80005931, 0.82920213, 0.8460893 , 0.8653595 ,\n",
       "        0.87791692, 0.89036463]),\n",
       " 'split2_train_score': array([0.78068166, 0.81098132, 0.8254454 , 0.84649994, 0.86179742,\n",
       "        0.87905508, 0.89247741]),\n",
       " 'split3_train_score': array([0.77405562, 0.80050166, 0.81549688, 0.84208045, 0.86084012,\n",
       "        0.8766113 , 0.88887022]),\n",
       " 'split4_train_score': array([0.78870432, 0.81259515, 0.83177224, 0.85185108, 0.86708831,\n",
       "        0.87847001, 0.88761182]),\n",
       " 'mean_train_score': array([0.77810987, 0.80806672, 0.82736374, 0.84757024, 0.864086  ,\n",
       "        0.87852289, 0.89022278]),\n",
       " 'std_train_score': array([0.00639388, 0.00657933, 0.00669542, 0.00363156, 0.00236614,\n",
       "        0.0013009 , 0.00180031])}"
      ]
     },
     "execution_count": 31,
     "metadata": {},
     "output_type": "execute_result"
    }
   ],
   "source": [
    "gs1.cv_results_"
   ]
  },
  {
   "cell_type": "code",
   "execution_count": 32,
   "metadata": {},
   "outputs": [
    {
     "data": {
      "text/plain": [
       "{'n_estimators': 20}"
      ]
     },
     "execution_count": 32,
     "metadata": {},
     "output_type": "execute_result"
    }
   ],
   "source": [
    "gs1.best_params_"
   ]
  },
  {
   "cell_type": "code",
   "execution_count": 33,
   "metadata": {},
   "outputs": [
    {
     "data": {
      "text/plain": [
       "0.6523951997959162"
      ]
     },
     "execution_count": 33,
     "metadata": {},
     "output_type": "execute_result"
    }
   ],
   "source": [
    "gs1.best_score_"
   ]
  },
  {
   "cell_type": "code",
   "execution_count": 34,
   "metadata": {},
   "outputs": [
    {
     "name": "stdout",
     "output_type": "stream",
     "text": [
      "      Iter       Train Loss      OOB Improve   Remaining Time \n",
      "         1           0.4532           0.0011            0.17s\n",
      "         2           0.4543           0.0022            0.13s\n",
      "         3           0.4416           0.0026            0.15s\n",
      "         4           0.4453           0.0003            0.14s\n",
      "         5           0.4415          -0.0002            0.13s\n",
      "         6           0.4413           0.0025            0.11s\n",
      "         7           0.4457           0.0012            0.11s\n",
      "         8           0.4416           0.0017            0.10s\n",
      "         9           0.4367           0.0003            0.09s\n",
      "        10           0.4371           0.0002            0.08s\n",
      "        20           0.4257           0.0001            0.00s\n",
      "      Iter       Train Loss      OOB Improve   Remaining Time \n",
      "         1           0.4502           0.0026            0.25s\n",
      "         2           0.4483           0.0032            0.25s\n",
      "         3           0.4343           0.0038            0.27s\n",
      "         4           0.4373           0.0015            0.24s\n",
      "         5           0.4304           0.0004            0.21s\n",
      "         6           0.4292           0.0012            0.20s\n",
      "         7           0.4311           0.0005            0.19s\n",
      "         8           0.4253           0.0012            0.17s\n",
      "         9           0.4199          -0.0004            0.16s\n",
      "        10           0.4183          -0.0011            0.14s\n",
      "        20           0.3988          -0.0010            0.00s\n"
     ]
    }
   ],
   "source": [
    "model_tuning_2 = GradientBoostingClassifier(loss=\"exponential\", learning_rate=0.2, subsample=0.8, criterion=\"mse\", random_state=42, verbose=1.0, validation_fraction=0.1, n_estimators=20, max_features='sqrt')\n",
    "model_tuning_2.fit(X_train, y_train)\n",
    "param_test2 = {'max_depth':range(5,16,2), 'min_samples_split':range(200,1001,200)}\n",
    "gs2 = gridSearch(model_tuning_2, param_grid=param_test2)"
   ]
  },
  {
   "cell_type": "code",
   "execution_count": 35,
   "metadata": {},
   "outputs": [
    {
     "data": {
      "text/plain": [
       "{'mean_fit_time': array([0.46774545, 0.44680552, 0.43224673, 0.40950646, 0.4091063 ,\n",
       "        0.62732468, 0.55551262, 0.54374528, 0.50963888, 0.49586935,\n",
       "        0.78509736, 0.69414411, 0.65066204, 0.60419512, 0.59341831,\n",
       "        0.91037169, 0.77013583, 0.70311909, 0.65883808, 0.63849239,\n",
       "        1.0468008 , 0.84414129, 0.77612724, 0.7180778 , 0.6636251 ,\n",
       "        1.12179971, 0.9051722 , 0.81741095, 0.75757041, 0.65724144]),\n",
       " 'std_fit_time': array([0.01881695, 0.01165022, 0.0101409 , 0.01683542, 0.00978149,\n",
       "        0.01319985, 0.02570979, 0.01322238, 0.02609955, 0.01881413,\n",
       "        0.02886277, 0.01748104, 0.01556269, 0.01609695, 0.01226064,\n",
       "        0.02690211, 0.03086095, 0.01099864, 0.00906722, 0.02300674,\n",
       "        0.02780146, 0.01752294, 0.02679655, 0.02218213, 0.01172681,\n",
       "        0.02411327, 0.02326915, 0.02838706, 0.0068778 , 0.09123782]),\n",
       " 'mean_score_time': array([0.0119689 , 0.00957446, 0.00917258, 0.01037631, 0.01097355,\n",
       "        0.01056871, 0.00997295, 0.01196966, 0.01096854, 0.00978374,\n",
       "        0.01276727, 0.01136985, 0.01136689, 0.01215744, 0.01056628,\n",
       "        0.01335974, 0.01236968, 0.01117129, 0.01097064, 0.01157117,\n",
       "        0.01376328, 0.01296568, 0.01296234, 0.01257806, 0.01256795,\n",
       "        0.01396732, 0.01276679, 0.01236959, 0.01136494, 0.01157331]),\n",
       " 'std_score_time': array([0.00109367, 0.00101761, 0.00097331, 0.00185964, 0.00141173,\n",
       "        0.00048564, 0.00063   , 0.003026  , 0.00126302, 0.00040387,\n",
       "        0.00132449, 0.00048879, 0.00048528, 0.00193099, 0.00079671,\n",
       "        0.00101848, 0.00135173, 0.0003995 , 0.00109232, 0.00232655,\n",
       "        0.00132347, 0.00140997, 0.00063146, 0.00101716, 0.00223933,\n",
       "        0.00088878, 0.00116091, 0.00135203, 0.00135359, 0.0020516 ]),\n",
       " 'param_max_depth': masked_array(data=[5, 5, 5, 5, 5, 7, 7, 7, 7, 7, 9, 9, 9, 9, 9, 11, 11,\n",
       "                    11, 11, 11, 13, 13, 13, 13, 13, 15, 15, 15, 15, 15],\n",
       "              mask=[False, False, False, False, False, False, False, False,\n",
       "                    False, False, False, False, False, False, False, False,\n",
       "                    False, False, False, False, False, False, False, False,\n",
       "                    False, False, False, False, False, False],\n",
       "        fill_value='?',\n",
       "             dtype=object),\n",
       " 'param_min_samples_split': masked_array(data=[200, 400, 600, 800, 1000, 200, 400, 600, 800, 1000,\n",
       "                    200, 400, 600, 800, 1000, 200, 400, 600, 800, 1000,\n",
       "                    200, 400, 600, 800, 1000, 200, 400, 600, 800, 1000],\n",
       "              mask=[False, False, False, False, False, False, False, False,\n",
       "                    False, False, False, False, False, False, False, False,\n",
       "                    False, False, False, False, False, False, False, False,\n",
       "                    False, False, False, False, False, False],\n",
       "        fill_value='?',\n",
       "             dtype=object),\n",
       " 'params': [{'max_depth': 5, 'min_samples_split': 200},\n",
       "  {'max_depth': 5, 'min_samples_split': 400},\n",
       "  {'max_depth': 5, 'min_samples_split': 600},\n",
       "  {'max_depth': 5, 'min_samples_split': 800},\n",
       "  {'max_depth': 5, 'min_samples_split': 1000},\n",
       "  {'max_depth': 7, 'min_samples_split': 200},\n",
       "  {'max_depth': 7, 'min_samples_split': 400},\n",
       "  {'max_depth': 7, 'min_samples_split': 600},\n",
       "  {'max_depth': 7, 'min_samples_split': 800},\n",
       "  {'max_depth': 7, 'min_samples_split': 1000},\n",
       "  {'max_depth': 9, 'min_samples_split': 200},\n",
       "  {'max_depth': 9, 'min_samples_split': 400},\n",
       "  {'max_depth': 9, 'min_samples_split': 600},\n",
       "  {'max_depth': 9, 'min_samples_split': 800},\n",
       "  {'max_depth': 9, 'min_samples_split': 1000},\n",
       "  {'max_depth': 11, 'min_samples_split': 200},\n",
       "  {'max_depth': 11, 'min_samples_split': 400},\n",
       "  {'max_depth': 11, 'min_samples_split': 600},\n",
       "  {'max_depth': 11, 'min_samples_split': 800},\n",
       "  {'max_depth': 11, 'min_samples_split': 1000},\n",
       "  {'max_depth': 13, 'min_samples_split': 200},\n",
       "  {'max_depth': 13, 'min_samples_split': 400},\n",
       "  {'max_depth': 13, 'min_samples_split': 600},\n",
       "  {'max_depth': 13, 'min_samples_split': 800},\n",
       "  {'max_depth': 13, 'min_samples_split': 1000},\n",
       "  {'max_depth': 15, 'min_samples_split': 200},\n",
       "  {'max_depth': 15, 'min_samples_split': 400},\n",
       "  {'max_depth': 15, 'min_samples_split': 600},\n",
       "  {'max_depth': 15, 'min_samples_split': 800},\n",
       "  {'max_depth': 15, 'min_samples_split': 1000}],\n",
       " 'split0_test_score': array([0.64108408, 0.65724175, 0.6474158 , 0.64430881, 0.66191052,\n",
       "        0.63302043, 0.65446403, 0.66071665, 0.65688487, 0.64464177,\n",
       "        0.61739807, 0.64663676, 0.63531986, 0.64622194, 0.64488643,\n",
       "        0.60955424, 0.63804239, 0.64153937, 0.6349915 , 0.63938802,\n",
       "        0.60490203, 0.62324323, 0.64497105, 0.63686048, 0.64311034,\n",
       "        0.6238604 , 0.63491056, 0.647597  , 0.62275667, 0.62627021]),\n",
       " 'split1_test_score': array([0.64407059, 0.62624721, 0.6221441 , 0.63959313, 0.64787477,\n",
       "        0.6280794 , 0.62884833, 0.6381822 , 0.63596462, 0.63797433,\n",
       "        0.62881614, 0.62762595, 0.64663676, 0.64067294, 0.63281072,\n",
       "        0.61013646, 0.61926613, 0.63308757, 0.65387537, 0.65274957,\n",
       "        0.61470221, 0.63029974, 0.63204271, 0.64107304, 0.64261918,\n",
       "        0.62434052, 0.6024683 , 0.64952209, 0.6316656 , 0.62827623]),\n",
       " 'split2_test_score': array([0.6443432 , 0.66318633, 0.64622659, 0.6365014 , 0.64382979,\n",
       "        0.64868411, 0.64164186, 0.63832867, 0.64453549, 0.64601497,\n",
       "        0.62612479, 0.65061995, 0.64170442, 0.62369395, 0.65031816,\n",
       "        0.62948307, 0.63510564, 0.63966553, 0.64026542, 0.62320171,\n",
       "        0.60019984, 0.64649341, 0.66695772, 0.64947261, 0.6289439 ,\n",
       "        0.60031393, 0.6281968 , 0.64253985, 0.64124254, 0.65972869]),\n",
       " 'split3_test_score': array([0.63367217, 0.63294163, 0.6016462 , 0.61409205, 0.5974433 ,\n",
       "        0.616936  , 0.6087639 , 0.60955424, 0.63662101, 0.62142321,\n",
       "        0.61721663, 0.61270274, 0.63441191, 0.62243713, 0.63186054,\n",
       "        0.6029435 , 0.6252636 , 0.62025563, 0.61231723, 0.62304714,\n",
       "        0.6045932 , 0.63150355, 0.61585492, 0.61522006, 0.64350409,\n",
       "        0.61014309, 0.61865378, 0.61746781, 0.61040807, 0.61192988]),\n",
       " 'split4_test_score': array([0.66310536, 0.6525383 , 0.66439163, 0.65010378, 0.65356051,\n",
       "        0.64934932, 0.65544022, 0.67079995, 0.6591748 , 0.67069322,\n",
       "        0.65901931, 0.65697858, 0.65884266, 0.66008568, 0.65394878,\n",
       "        0.63452324, 0.64802257, 0.66591343, 0.64767203, 0.65474372,\n",
       "        0.65248402, 0.65552947, 0.64813666, 0.64727455, 0.65189149,\n",
       "        0.63741871, 0.65441066, 0.66253308, 0.64301829, 0.65880769]),\n",
       " 'mean_test_score': array([0.64525508, 0.64643104, 0.63636486, 0.63691983, 0.64092378,\n",
       "        0.63521385, 0.63783167, 0.64351634, 0.64663616, 0.6441495 ,\n",
       "        0.62971499, 0.6389128 , 0.64338312, 0.63862233, 0.64276492,\n",
       "        0.6173281 , 0.63314007, 0.64009231, 0.63782431, 0.63862603,\n",
       "        0.61537626, 0.63741388, 0.64159261, 0.63798015, 0.6420138 ,\n",
       "        0.61921533, 0.62772802, 0.64393196, 0.62981823, 0.63700254]),\n",
       " 'std_test_score': array([0.00972037, 0.01431266, 0.02196585, 0.01230319, 0.02257186,\n",
       "        0.01241814, 0.01747484, 0.02120865, 0.00980665, 0.01589282,\n",
       "        0.01536461, 0.01635512, 0.00892077, 0.01419473, 0.00899581,\n",
       "        0.01234897, 0.01003903, 0.01491017, 0.01427732, 0.01371456,\n",
       "        0.01915071, 0.01180646, 0.01703676, 0.01222541, 0.00737809,\n",
       "        0.01279669, 0.01722885, 0.01478494, 0.01212262, 0.01903635]),\n",
       " 'rank_test_score': array([ 3,  2, 22, 21, 11, 23, 17,  6,  1,  4, 26, 13,  7, 15,  8, 29, 24,\n",
       "        12, 18, 14, 30, 19, 10, 16,  9, 28, 27,  5, 25, 20]),\n",
       " 'split0_train_score': array([0.77823973, 0.76471275, 0.74749398, 0.74150978, 0.74385021,\n",
       "        0.84372513, 0.80916719, 0.79355594, 0.7766268 , 0.77273215,\n",
       "        0.89299387, 0.84984428, 0.83550465, 0.80737692, 0.79749653,\n",
       "        0.93994312, 0.88384476, 0.86267132, 0.8333875 , 0.8369123 ,\n",
       "        0.945726  , 0.89572891, 0.88137077, 0.8527275 , 0.83336576,\n",
       "        0.96360574, 0.91731343, 0.8925782 , 0.86525628, 0.85227222]),\n",
       " 'split1_train_score': array([0.78002551, 0.75457435, 0.75024098, 0.74954201, 0.74572562,\n",
       "        0.84521398, 0.81404295, 0.80070302, 0.78158347, 0.77422951,\n",
       "        0.89278681, 0.86122335, 0.84437068, 0.81281228, 0.80542946,\n",
       "        0.9253487 , 0.88502035, 0.86649305, 0.84401815, 0.82846981,\n",
       "        0.95581006, 0.91375642, 0.89010645, 0.85146141, 0.84238417,\n",
       "        0.96919358, 0.92868543, 0.90314647, 0.86776978, 0.86426861]),\n",
       " 'split2_train_score': array([0.78388524, 0.76016453, 0.75417945, 0.74235951, 0.73763173,\n",
       "        0.84768388, 0.82566107, 0.79776258, 0.78603326, 0.77757427,\n",
       "        0.8938895 , 0.87808192, 0.84250339, 0.82380731, 0.80237112,\n",
       "        0.92637651, 0.90431482, 0.86684533, 0.83784961, 0.83367372,\n",
       "        0.95954012, 0.92075905, 0.87756481, 0.8628735 , 0.83885382,\n",
       "        0.97019992, 0.92620747, 0.89463314, 0.87743705, 0.84991648]),\n",
       " 'split3_train_score': array([0.78323985, 0.7726199 , 0.76584529, 0.74822225, 0.7314683 ,\n",
       "        0.84190043, 0.80555233, 0.79281328, 0.76896803, 0.76832863,\n",
       "        0.8883009 , 0.85271294, 0.8464402 , 0.81352738, 0.79987766,\n",
       "        0.91887245, 0.89334662, 0.86951173, 0.83531579, 0.81452452,\n",
       "        0.95347759, 0.89121073, 0.86667842, 0.86138305, 0.83089532,\n",
       "        0.96721281, 0.92792819, 0.89856955, 0.87196845, 0.84229347]),\n",
       " 'split4_train_score': array([0.78114122, 0.77414232, 0.7652459 , 0.73544019, 0.7296538 ,\n",
       "        0.84838711, 0.81914582, 0.80411046, 0.78159877, 0.75675155,\n",
       "        0.90035886, 0.86463102, 0.82788522, 0.80841933, 0.80868887,\n",
       "        0.93517644, 0.88230012, 0.85597907, 0.83904867, 0.8132828 ,\n",
       "        0.95458322, 0.91099905, 0.86802427, 0.85641776, 0.83387674,\n",
       "        0.95889985, 0.93094197, 0.89443599, 0.87360528, 0.85230047]),\n",
       " 'mean_train_score': array([0.78130631, 0.76524277, 0.75660112, 0.74341475, 0.73766593,\n",
       "        0.84538211, 0.81471387, 0.79778906, 0.77896207, 0.76992322,\n",
       "        0.89366599, 0.8612987 , 0.83934083, 0.81318865, 0.80277273,\n",
       "        0.92914344, 0.88976533, 0.8643001 , 0.83792394, 0.82537263,\n",
       "        0.9538274 , 0.90649083, 0.87674894, 0.85697264, 0.83587516,\n",
       "        0.96582238, 0.9262153 , 0.89667267, 0.87120737, 0.85221025]),\n",
       " 'std_train_score': array([0.00207177, 0.00739606, 0.00760845, 0.0050792 , 0.00641576,\n",
       "        0.00241761, 0.00713629, 0.00426918, 0.00581653, 0.00722507,\n",
       "        0.0038692 , 0.00997703, 0.00680661, 0.00582297, 0.00396081,\n",
       "        0.00749105, 0.00821962, 0.00469768, 0.00362744, 0.00975203,\n",
       "        0.00453635, 0.01118924, 0.00869466, 0.00453816, 0.00415522,\n",
       "        0.00413028, 0.00470362, 0.00377982, 0.00429815, 0.00705719])}"
      ]
     },
     "execution_count": 35,
     "metadata": {},
     "output_type": "execute_result"
    }
   ],
   "source": [
    "gs2.cv_results_"
   ]
  },
  {
   "cell_type": "code",
   "execution_count": 36,
   "metadata": {},
   "outputs": [
    {
     "data": {
      "text/plain": [
       "{'max_depth': 7, 'min_samples_split': 800}"
      ]
     },
     "execution_count": 36,
     "metadata": {},
     "output_type": "execute_result"
    }
   ],
   "source": [
    "gs2.best_params_"
   ]
  },
  {
   "cell_type": "code",
   "execution_count": 37,
   "metadata": {},
   "outputs": [
    {
     "data": {
      "text/plain": [
       "0.6466361592354486"
      ]
     },
     "execution_count": 37,
     "metadata": {},
     "output_type": "execute_result"
    }
   ],
   "source": [
    "gs2.best_score_"
   ]
  },
  {
   "cell_type": "code",
   "execution_count": 38,
   "metadata": {},
   "outputs": [
    {
     "name": "stdout",
     "output_type": "stream",
     "text": [
      "      Iter       Train Loss      OOB Improve   Remaining Time \n",
      "         1           0.4193           0.0003            1.66s\n",
      "         2           0.4163           0.0038            1.36s\n",
      "         3           0.3979           0.0030            1.31s\n",
      "         4           0.4026          -0.0002            1.25s\n",
      "         5           0.3943           0.0005            1.23s\n",
      "         6           0.3949           0.0002            1.24s\n",
      "         7           0.4009          -0.0003            1.26s\n",
      "         8           0.3945          -0.0000            1.27s\n",
      "         9           0.3860          -0.0008            1.22s\n",
      "        10           0.3857          -0.0013            1.20s\n",
      "        20           0.3650          -0.0004            0.95s\n",
      "        30           0.3510          -0.0002            0.74s\n",
      "        40           0.3390          -0.0014            0.59s\n",
      "        50           0.3190          -0.0019            0.45s\n",
      "        60           0.3064          -0.0014            0.30s\n",
      "        70           0.2941          -0.0004            0.15s\n",
      "        80           0.2741          -0.0015            0.00s\n",
      "      Iter       Train Loss      OOB Improve   Remaining Time \n",
      "         1           0.4100           0.0153            4.65s\n",
      "         2           0.4061           0.0016            4.82s\n",
      "         3           0.3890           0.0012            4.33s\n",
      "         4           0.3909           0.0004            4.26s\n",
      "         5           0.3823           0.0002            4.19s\n",
      "         6           0.3806           0.0014            4.10s\n",
      "         7           0.3838          -0.0011            4.00s\n",
      "         8           0.3784          -0.0012            3.90s\n",
      "         9           0.3708          -0.0015            3.82s\n",
      "        10           0.3707           0.0002            3.64s\n",
      "        20           0.3464          -0.0019            2.94s\n",
      "        30           0.3320           0.0004            2.38s\n",
      "        40           0.3133          -0.0004            1.86s\n",
      "        50           0.2953          -0.0007            1.38s\n",
      "        60           0.2863          -0.0002            0.90s\n",
      "        70           0.2726          -0.0008            0.45s\n",
      "        80           0.2550          -0.0008            0.00s\n"
     ]
    }
   ],
   "source": [
    "model_tuning_3 = GradientBoostingClassifier(loss=\"deviance\", learning_rate=0.2, subsample=0.8, criterion=\"mse\", random_state=42, verbose=1.0, validation_fraction=0.1, n_estimators=80, max_features='sqrt', max_depth=7, min_samples_split=600)\n",
    "model_tuning_3.fit(X_train, y_train)\n",
    "param_test3 = {'max_features':range(12, 26, 2)}\n",
    "gs3 = gridSearch(model_tuning_3, param_grid=param_test3)"
   ]
  },
  {
   "cell_type": "code",
   "execution_count": 39,
   "metadata": {},
   "outputs": [
    {
     "data": {
      "text/plain": [
       "{'mean_fit_time': array([2.85416431, 3.18467941, 3.60375295, 4.00169535, 4.35594182,\n",
       "        4.72237439, 4.46365714]),\n",
       " 'std_fit_time': array([0.0288056 , 0.01791996, 0.06220762, 0.00348865, 0.05472518,\n",
       "        0.03365938, 0.47048892]),\n",
       " 'mean_score_time': array([0.01735425, 0.01895142, 0.01715236, 0.01735411, 0.01795187,\n",
       "        0.01814618, 0.01456151]),\n",
       " 'std_score_time': array([0.00149267, 0.00167278, 0.00039504, 0.00101694, 0.00178323,\n",
       "        0.0029862 , 0.00214778]),\n",
       " 'param_max_features': masked_array(data=[12, 14, 16, 18, 20, 22, 24],\n",
       "              mask=[False, False, False, False, False, False, False],\n",
       "        fill_value='?',\n",
       "             dtype=object),\n",
       " 'params': [{'max_features': 12},\n",
       "  {'max_features': 14},\n",
       "  {'max_features': 16},\n",
       "  {'max_features': 18},\n",
       "  {'max_features': 20},\n",
       "  {'max_features': 22},\n",
       "  {'max_features': 24}],\n",
       " 'split0_test_score': array([0.61858826, 0.62437731, 0.63878649, 0.65209193, 0.61439593,\n",
       "        0.62655902, 0.62769954]),\n",
       " 'split1_test_score': array([0.61066349, 0.63798261, 0.61578295, 0.6349124 , 0.62152418,\n",
       "        0.62781911, 0.64039425]),\n",
       " 'split2_test_score': array([0.63304468, 0.61873567, 0.61043659, 0.61801801, 0.6259785 ,\n",
       "        0.62281896, 0.63097819]),\n",
       " 'split3_test_score': array([0.60001491, 0.60443403, 0.61501857, 0.61405617, 0.61177254,\n",
       "        0.61431379, 0.61333667]),\n",
       " 'split4_test_score': array([0.6335636 , 0.63994156, 0.63275025, 0.634618  , 0.63172161,\n",
       "        0.62974161, 0.64886444]),\n",
       " 'mean_test_score': array([0.61917498, 0.62509423, 0.62255497, 0.6307393 , 0.62107855,\n",
       "        0.6242505 , 0.63225462]),\n",
       " 'std_test_score': array([0.01295607, 0.01307167, 0.01110782, 0.01362756, 0.00733133,\n",
       "        0.00545901, 0.01202004]),\n",
       " 'rank_test_score': array([7, 3, 5, 2, 6, 4, 1]),\n",
       " 'split0_train_score': array([0.93614818, 0.93429616, 0.93565316, 0.93767348, 0.93869508,\n",
       "        0.94231373, 0.93304778]),\n",
       " 'split1_train_score': array([0.93860147, 0.93528775, 0.94037828, 0.93048121, 0.94492054,\n",
       "        0.93747804, 0.92895832]),\n",
       " 'split2_train_score': array([0.93596896, 0.93545219, 0.93701026, 0.94228263, 0.94103377,\n",
       "        0.94163109, 0.94943556]),\n",
       " 'split3_train_score': array([0.94064028, 0.93763   , 0.94369098, 0.94210382, 0.94003704,\n",
       "        0.94123627, 0.94922869]),\n",
       " 'split4_train_score': array([0.9457017 , 0.94898123, 0.93819857, 0.93366052, 0.94100405,\n",
       "        0.94456347, 0.94095363]),\n",
       " 'mean_train_score': array([0.93941212, 0.93832946, 0.93898625, 0.93724033, 0.9411381 ,\n",
       "        0.94144452, 0.94032479]),\n",
       " 'std_train_score': array([0.00358422, 0.00543595, 0.00281804, 0.00464256, 0.00207444,\n",
       "        0.00229323, 0.00830461])}"
      ]
     },
     "execution_count": 39,
     "metadata": {},
     "output_type": "execute_result"
    }
   ],
   "source": [
    "gs3.cv_results_"
   ]
  },
  {
   "cell_type": "code",
   "execution_count": 40,
   "metadata": {},
   "outputs": [
    {
     "data": {
      "text/plain": [
       "{'max_features': 24}"
      ]
     },
     "execution_count": 40,
     "metadata": {},
     "output_type": "execute_result"
    }
   ],
   "source": [
    "gs3.best_params_"
   ]
  },
  {
   "cell_type": "code",
   "execution_count": 41,
   "metadata": {},
   "outputs": [
    {
     "data": {
      "text/plain": [
       "0.6322546176006023"
      ]
     },
     "execution_count": 41,
     "metadata": {},
     "output_type": "execute_result"
    }
   ],
   "source": [
    "gs3.best_score_"
   ]
  },
  {
   "cell_type": "code",
   "execution_count": 42,
   "metadata": {},
   "outputs": [
    {
     "name": "stdout",
     "output_type": "stream",
     "text": [
      "      Iter       Train Loss      OOB Improve   Remaining Time \n",
      "         1           0.4100           0.0153            4.25s\n",
      "         2           0.4061           0.0016            4.71s\n",
      "         3           0.3890           0.0012            4.45s\n",
      "         4           0.3909           0.0004            4.28s\n",
      "         5           0.3823           0.0002            4.18s\n",
      "         6           0.3806           0.0014            4.15s\n",
      "         7           0.3838          -0.0011            4.12s\n",
      "         8           0.3784          -0.0012            4.01s\n",
      "         9           0.3708          -0.0015            3.90s\n",
      "        10           0.3707           0.0002            3.72s\n",
      "        20           0.3464          -0.0019            2.93s\n",
      "        30           0.3320           0.0004            2.40s\n",
      "        40           0.3133          -0.0004            1.88s\n",
      "        50           0.2953          -0.0007            1.38s\n",
      "        60           0.2863          -0.0002            0.90s\n",
      "        70           0.2726          -0.0008            0.45s\n",
      "        80           0.2550          -0.0008            0.00s\n",
      "      Iter       Train Loss      OOB Improve   Remaining Time \n",
      "         1           0.4177           0.0044            2.92s\n",
      "         2           0.4103          -0.0011            3.03s\n",
      "         3           0.4065           0.0018            2.87s\n",
      "         4           0.3991           0.0003            2.75s\n",
      "         5           0.3946           0.0019            2.83s\n",
      "         6           0.3827           0.0004            2.77s\n",
      "         7           0.3812          -0.0009            2.75s\n",
      "         8           0.3718          -0.0020            2.75s\n",
      "         9           0.3782          -0.0006            2.64s\n",
      "        10           0.3793          -0.0001            2.56s\n",
      "        20           0.3535          -0.0012            2.07s\n",
      "        30           0.3371          -0.0009            1.68s\n",
      "        40           0.3125          -0.0008            1.34s\n",
      "        50           0.2907          -0.0035            1.01s\n",
      "        60           0.2839          -0.0007            0.67s\n",
      "        70           0.2789          -0.0010            0.33s\n",
      "        80           0.2570          -0.0043            0.00s\n",
      "      Iter       Train Loss      OOB Improve   Remaining Time \n",
      "         1           0.4153           0.0062            2.84s\n",
      "         2           0.4136          -0.0014            2.99s\n",
      "         3           0.4016           0.0020            2.97s\n",
      "         4           0.3967          -0.0014            3.05s\n",
      "         5           0.3949          -0.0030            3.25s\n",
      "         6           0.3863          -0.0007            3.12s\n",
      "         7           0.3800          -0.0012            3.01s\n",
      "         8           0.3818          -0.0006            2.94s\n",
      "         9           0.3838          -0.0005            2.78s\n",
      "        10           0.3775          -0.0014            2.74s\n",
      "        20           0.3569          -0.0011            2.16s\n",
      "        30           0.3442          -0.0008            1.74s\n",
      "        40           0.3220          -0.0004            1.36s\n",
      "        50           0.2989          -0.0007            0.99s\n",
      "        60           0.2925          -0.0009            0.67s\n",
      "        70           0.2780          -0.0004            0.33s\n",
      "        80           0.2627          -0.0009            0.00s\n",
      "      Iter       Train Loss      OOB Improve   Remaining Time \n",
      "         1           0.4132           0.0057            3.15s\n",
      "         2           0.3981           0.0002            2.99s\n",
      "         3           0.3927           0.0021            3.10s\n",
      "         4           0.4002           0.0011            3.09s\n",
      "         5           0.3918           0.0031            3.14s\n",
      "         6           0.3794          -0.0032            3.09s\n",
      "         7           0.3663          -0.0020            2.93s\n",
      "         8           0.3812          -0.0006            2.87s\n",
      "         9           0.3634          -0.0034            2.79s\n",
      "        10           0.3678           0.0002            2.73s\n",
      "        20           0.3439          -0.0001            2.26s\n",
      "        30           0.3226          -0.0003            1.76s\n",
      "        40           0.3068          -0.0013            1.38s\n",
      "        50           0.2884          -0.0022            1.03s\n",
      "        60           0.2767          -0.0007            0.69s\n",
      "        70           0.2616          -0.0006            0.35s\n",
      "        80           0.2364          -0.0011            0.00s\n",
      "      Iter       Train Loss      OOB Improve   Remaining Time \n",
      "         1           0.4108           0.0013            3.07s\n",
      "         2           0.3956           0.0057            2.88s\n",
      "         3           0.3906          -0.0007            2.77s\n",
      "         4           0.3996           0.0027            2.77s\n",
      "         5           0.3946           0.0013            2.80s\n",
      "         6           0.3867           0.0004            2.73s\n",
      "         7           0.3693          -0.0014            2.70s\n",
      "         8           0.3818          -0.0024            2.68s\n",
      "         9           0.3723          -0.0011            2.56s\n",
      "        10           0.3661          -0.0030            2.53s\n",
      "        20           0.3453          -0.0014            2.10s\n",
      "        30           0.3288          -0.0026            1.70s\n",
      "        40           0.3077          -0.0014            1.36s\n",
      "        50           0.2843          -0.0008            1.01s\n",
      "        60           0.2703          -0.0009            0.67s\n",
      "        70           0.2527          -0.0010            0.34s\n",
      "        80           0.2404          -0.0009            0.00s\n",
      "      Iter       Train Loss      OOB Improve   Remaining Time \n",
      "         1           0.4170           0.0038            3.15s\n",
      "         2           0.3982           0.0078            3.19s\n",
      "         3           0.3873          -0.0004            3.07s\n",
      "         4           0.3994          -0.0001            2.90s\n",
      "         5           0.3976           0.0005            2.87s\n",
      "         6           0.3906           0.0001            2.78s\n",
      "         7           0.3759          -0.0015            2.71s\n",
      "         8           0.3801          -0.0001            2.61s\n",
      "         9           0.3736           0.0001            2.54s\n",
      "        10           0.3723          -0.0004            2.56s\n",
      "        20           0.3637          -0.0009            2.09s\n",
      "        30           0.3345          -0.0015            1.74s\n",
      "        40           0.3258          -0.0007            1.34s\n",
      "        50           0.2974          -0.0004            1.02s\n",
      "        60           0.2846          -0.0014            0.68s\n",
      "        70           0.2722          -0.0013            0.33s\n",
      "        80           0.2479          -0.0015            0.00s\n",
      "CV Score : Mean - 0.9399024 | Std - 0.002086823 | Min - 0.935953 | Max - 0.9421232\n"
     ]
    },
    {
     "data": {
      "image/png": "[encoded data removed]",
      "text/plain": [
       "<Figure size 432x288 with 1 Axes>"
      ]
     },
     "metadata": {
      "needs_background": "light"
     },
     "output_type": "display_data"
    }
   ],
   "source": [
    "model_fit(gs3.best_estimator_)"
   ]
  },
  {
   "cell_type": "code",
   "execution_count": 43,
   "metadata": {},
   "outputs": [],
   "source": [
    "model = gs3.best_estimator_\n",
    "predictions_1 = model.predict(X_test)"
   ]
  },
  {
   "cell_type": "code",
   "execution_count": 44,
   "metadata": {},
   "outputs": [
    {
     "data": {
      "text/plain": [
       "0.9420708720784117"
      ]
     },
     "execution_count": 44,
     "metadata": {},
     "output_type": "execute_result"
    }
   ],
   "source": [
    "metrics.accuracy_score(y_test, predictions_1)"
   ]
  },
  {
   "cell_type": "code",
   "execution_count": 45,
   "metadata": {},
   "outputs": [
    {
     "data": {
      "text/plain": [
       "0    7529\n",
       "1     429\n",
       "Name: dank, dtype: int64"
      ]
     },
     "execution_count": 45,
     "metadata": {},
     "output_type": "execute_result"
    }
   ],
   "source": [
    "y_test.value_counts()"
   ]
  },
  {
   "cell_type": "markdown",
   "metadata": {},
   "source": [
    "Seems to be a satisfying result on first inspection, but upon looking at the value counts, 94% of the test values are zeros.  It is possible that the model is simply predictinig 0 for all values.  I will use xgboost to see if I can get a better result."
   ]
  },
  {
   "cell_type": "code",
   "execution_count": null,
   "metadata": {},
   "outputs": [],
   "source": [
    "import xgboost as xgb"
   ]
  },
  {
   "cell_type": "code",
   "execution_count": 48,
   "metadata": {},
   "outputs": [
    {
     "data": {
      "text/plain": [
       "XGBClassifier(base_score=0.5, booster=None, colsample_bylevel=1,\n",
       "              colsample_bynode=1, colsample_bytree=1, gamma=0, gpu_id=-1,\n",
       "              importance_type='gain', interaction_constraints=None,\n",
       "              learning_rate=0.300000012, max_delta_step=0, max_depth=6,\n",
       "              min_child_weight=1, missing=nan, monotone_constraints=None,\n",
       "              n_estimators=100, n_jobs=0, num_parallel_tree=1,\n",
       "              objective='binary:logistic', random_state=0, reg_alpha=0,\n",
       "              reg_lambda=1, scale_pos_weight=1, subsample=1, tree_method=None,\n",
       "              validate_parameters=False, verbosity=None)"
      ]
     },
     "execution_count": 48,
     "metadata": {},
     "output_type": "execute_result"
    }
   ],
   "source": [
    "model = xgb.XGBClassifier()\n",
    "model.fit(X_train, y_train)"
   ]
  },
  {
   "cell_type": "code",
   "execution_count": 49,
   "metadata": {},
   "outputs": [],
   "source": [
    "preds = model.predict(X_test)"
   ]
  },
  {
   "cell_type": "code",
   "execution_count": 50,
   "metadata": {},
   "outputs": [
    {
     "data": {
      "text/plain": [
       "0.9453380246293038"
      ]
     },
     "execution_count": 50,
     "metadata": {},
     "output_type": "execute_result"
    }
   ],
   "source": [
    "metrics.accuracy_score(y_test, preds)"
   ]
  },
  {
   "cell_type": "markdown",
   "metadata": {},
   "source": [
    "We have an okay baseline, let us mess with the paremeters."
   ]
  },
  {
   "cell_type": "code",
   "execution_count": 51,
   "metadata": {},
   "outputs": [],
   "source": [
    "params = {'max_depth':range(1, 20, 4), 'num_parallel_tree':range(1, 6)}\n",
    "model_tuning = xgb.XGBClassifier(learning_rate=0.1, random_state=42)\n",
    "model_tuning.fit(X_train, y_train)\n",
    "gs = gridSearch(model_tuning, param_grid=params)"
   ]
  },
  {
   "cell_type": "code",
   "execution_count": 52,
   "metadata": {},
   "outputs": [
    {
     "data": {
      "text/plain": [
       "{'mean_fit_time': array([ 2.26513963,  3.17251101,  4.04617629,  4.953549  ,  5.80287771,\n",
       "         5.96185203, 10.62897773, 15.50931416, 20.33999267, 25.3675415 ,\n",
       "        10.23601947, 18.95768828, 27.83913121, 36.85402036, 46.38532543,\n",
       "        14.21677084, 26.8804975 , 39.64036655, 52.29691029, 65.23610115,\n",
       "        17.32664852, 33.40045781, 49.61089811, 65.85105677, 75.50463295]),\n",
       " 'std_fit_time': array([1.06554485e-02, 1.74674179e-02, 1.58573864e-02, 4.95799373e-02,\n",
       "        3.11167647e-02, 7.78665471e-03, 3.06081392e-02, 1.21969514e-01,\n",
       "        8.13824682e-02, 2.46983063e-01, 1.11427684e-01, 1.05926628e-01,\n",
       "        1.03194859e-01, 1.83435598e-01, 5.70964376e-01, 1.90710610e-01,\n",
       "        1.74389435e-01, 1.36510791e-01, 3.10137776e-01, 3.16424199e-01,\n",
       "        8.12497168e-02, 2.05553333e-01, 1.71580360e-01, 4.39957047e-01,\n",
       "        7.86445467e+00]),\n",
       " 'mean_score_time': array([0.01436224, 0.01795273, 0.02134395, 0.02333846, 0.02593279,\n",
       "        0.02812757, 0.04407253, 0.06243334, 0.07918844, 0.09414926,\n",
       "        0.04488063, 0.08696713, 0.11988029, 0.15857663, 0.19467974,\n",
       "        0.06801858, 0.12227464, 0.18351026, 0.24953289, 0.34787021,\n",
       "        0.07998953, 0.15538507, 0.24973187, 0.41509061, 0.41628728]),\n",
       " 'std_score_time': array([0.00048957, 0.0006306 , 0.00240995, 0.00048869, 0.00063392,\n",
       "        0.00039787, 0.00271034, 0.00149222, 0.00430633, 0.0027199 ,\n",
       "        0.00089196, 0.00146573, 0.00305131, 0.00553508, 0.00835287,\n",
       "        0.00736679, 0.00249227, 0.00560643, 0.00793864, 0.01410991,\n",
       "        0.00396218, 0.01860952, 0.05536299, 0.04748933, 0.0739066 ]),\n",
       " 'param_max_depth': masked_array(data=[1, 1, 1, 1, 1, 5, 5, 5, 5, 5, 9, 9, 9, 9, 9, 13, 13,\n",
       "                    13, 13, 13, 17, 17, 17, 17, 17],\n",
       "              mask=[False, False, False, False, False, False, False, False,\n",
       "                    False, False, False, False, False, False, False, False,\n",
       "                    False, False, False, False, False, False, False, False,\n",
       "                    False],\n",
       "        fill_value='?',\n",
       "             dtype=object),\n",
       " 'param_num_parallel_tree': masked_array(data=[1, 2, 3, 4, 5, 1, 2, 3, 4, 5, 1, 2, 3, 4, 5, 1, 2, 3,\n",
       "                    4, 5, 1, 2, 3, 4, 5],\n",
       "              mask=[False, False, False, False, False, False, False, False,\n",
       "                    False, False, False, False, False, False, False, False,\n",
       "                    False, False, False, False, False, False, False, False,\n",
       "                    False],\n",
       "        fill_value='?',\n",
       "             dtype=object),\n",
       " 'params': [{'max_depth': 1, 'num_parallel_tree': 1},\n",
       "  {'max_depth': 1, 'num_parallel_tree': 2},\n",
       "  {'max_depth': 1, 'num_parallel_tree': 3},\n",
       "  {'max_depth': 1, 'num_parallel_tree': 4},\n",
       "  {'max_depth': 1, 'num_parallel_tree': 5},\n",
       "  {'max_depth': 5, 'num_parallel_tree': 1},\n",
       "  {'max_depth': 5, 'num_parallel_tree': 2},\n",
       "  {'max_depth': 5, 'num_parallel_tree': 3},\n",
       "  {'max_depth': 5, 'num_parallel_tree': 4},\n",
       "  {'max_depth': 5, 'num_parallel_tree': 5},\n",
       "  {'max_depth': 9, 'num_parallel_tree': 1},\n",
       "  {'max_depth': 9, 'num_parallel_tree': 2},\n",
       "  {'max_depth': 9, 'num_parallel_tree': 3},\n",
       "  {'max_depth': 9, 'num_parallel_tree': 4},\n",
       "  {'max_depth': 9, 'num_parallel_tree': 5},\n",
       "  {'max_depth': 13, 'num_parallel_tree': 1},\n",
       "  {'max_depth': 13, 'num_parallel_tree': 2},\n",
       "  {'max_depth': 13, 'num_parallel_tree': 3},\n",
       "  {'max_depth': 13, 'num_parallel_tree': 4},\n",
       "  {'max_depth': 13, 'num_parallel_tree': 5},\n",
       "  {'max_depth': 17, 'num_parallel_tree': 1},\n",
       "  {'max_depth': 17, 'num_parallel_tree': 2},\n",
       "  {'max_depth': 17, 'num_parallel_tree': 3},\n",
       "  {'max_depth': 17, 'num_parallel_tree': 4},\n",
       "  {'max_depth': 17, 'num_parallel_tree': 5}],\n",
       " 'split0_test_score': array([0.63618445, 0.63618445, 0.63618445, 0.63618445, 0.63618445,\n",
       "        0.65779637, 0.65779637, 0.65779637, 0.65779637, 0.65779545,\n",
       "        0.63944137, 0.63944045, 0.63944137, 0.63944137, 0.63944321,\n",
       "        0.62964026, 0.62963842, 0.62963842, 0.62964026, 0.62964026,\n",
       "        0.63770299, 0.63770299, 0.63770299, 0.63770299, 0.63770299]),\n",
       " 'split1_test_score': array([0.60516692, 0.60516692, 0.60516692, 0.60516692, 0.60516692,\n",
       "        0.65217287, 0.65217287, 0.65217287, 0.65217287, 0.65217287,\n",
       "        0.62051794, 0.62051794, 0.62051794, 0.62051794, 0.62051794,\n",
       "        0.63088195, 0.63088195, 0.63088195, 0.63088103, 0.63088011,\n",
       "        0.62386408, 0.62386408, 0.6214322 , 0.62386592, 0.6214322 ]),\n",
       " 'split2_test_score': array([0.62245277, 0.62245277, 0.62245277, 0.62245277, 0.62245277,\n",
       "        0.6532348 , 0.6532348 , 0.65323848, 0.6532348 , 0.65323848,\n",
       "        0.63700652, 0.63700652, 0.63700836, 0.63700652, 0.63700652,\n",
       "        0.60990663, 0.60990663, 0.60990663, 0.60990663, 0.60990663,\n",
       "        0.60917425, 0.60917425, 0.60917425, 0.60917241, 0.60917425]),\n",
       " 'split3_test_score': array([0.6291454 , 0.6291454 , 0.6291454 , 0.6291454 , 0.6291454 ,\n",
       "        0.63243835, 0.63243835, 0.63243651, 0.63243835, 0.63243651,\n",
       "        0.6171513 , 0.6171513 , 0.6171513 , 0.6171513 , 0.6171513 ,\n",
       "        0.60395927, 0.60395927, 0.61034459, 0.60395927, 0.61034275,\n",
       "        0.59945458, 0.59945458, 0.59945458, 0.59945458, 0.59945458]),\n",
       " 'split4_test_score': array([0.6569611 , 0.6569611 , 0.6569611 , 0.6569611 , 0.6569611 ,\n",
       "        0.66103519, 0.66103519, 0.66103519, 0.66103519, 0.66103519,\n",
       "        0.66461429, 0.66461429, 0.66461429, 0.66461337, 0.66461429,\n",
       "        0.63580858, 0.63580306, 0.6358049 , 0.6358049 , 0.63580674,\n",
       "        0.64362002, 0.64362002, 0.64362002, 0.64361818, 0.64362002]),\n",
       " 'mean_test_score': array([0.62998213, 0.62998213, 0.62998213, 0.62998213, 0.62998213,\n",
       "        0.65133552, 0.65133552, 0.65133588, 0.65133552, 0.6513357 ,\n",
       "        0.63574628, 0.6357461 , 0.63574665, 0.6357461 , 0.63574665,\n",
       "        0.62203934, 0.62203787, 0.6233153 , 0.62203842, 0.6233153 ,\n",
       "        0.62276318, 0.62276318, 0.62227681, 0.62276282, 0.62227681]),\n",
       " 'std_test_score': array([0.01696773, 0.01696773, 0.01696773, 0.01696773, 0.01696773,\n",
       "        0.00997234, 0.00997234, 0.00997318, 0.00997234, 0.00997306,\n",
       "        0.01688952, 0.01688948, 0.01688955, 0.0168892 , 0.0168896 ,\n",
       "        0.01264634, 0.01264492, 0.01096593, 0.01264541, 0.01096674,\n",
       "        0.01665754, 0.01665754, 0.01665379, 0.0166574 , 0.01665379]),\n",
       " 'rank_test_score': array([11, 11, 11, 11, 11,  3,  3,  1,  3,  2,  8,  9,  6, 10,  7, 23, 25,\n",
       "        16, 24, 16, 18, 18, 22, 20, 21]),\n",
       " 'split0_train_score': array([0.66166515, 0.66166515, 0.66166515, 0.66166515, 0.66166515,\n",
       "        0.9063625 , 0.90636244, 0.90636279, 0.9063625 , 0.90636238,\n",
       "        0.99571395, 0.99571395, 0.99571395, 0.99571395, 0.99571395,\n",
       "        0.99995711, 0.99995711, 0.99995711, 0.99995711, 0.99995711,\n",
       "        0.99999937, 0.99999937, 0.99999937, 0.99999937, 0.99999937]),\n",
       " 'split1_train_score': array([0.65432297, 0.65432297, 0.65432044, 0.65432297, 0.65432297,\n",
       "        0.91496501, 0.91496501, 0.91496501, 0.91496501, 0.91496536,\n",
       "        0.99748282, 0.99748282, 0.99748282, 0.99748282, 0.99748282,\n",
       "        0.9999785 , 0.9999785 , 0.9999785 , 0.9999785 , 0.9999785 ,\n",
       "        0.99999954, 0.99999954, 0.99999989, 0.99999954, 0.99999989]),\n",
       " 'split2_train_score': array([0.65994039, 0.65994039, 0.65994039, 0.65994039, 0.65994039,\n",
       "        0.91381356, 0.91381356, 0.91381356, 0.91381344, 0.91381356,\n",
       "        0.99883819, 0.99883819, 0.99883825, 0.99883819, 0.99883819,\n",
       "        0.99999316, 0.99999316, 0.99999316, 0.99999316, 0.99999316,\n",
       "        0.99999994, 0.99999994, 0.99999994, 0.99999994, 0.99999994]),\n",
       " 'split3_train_score': array([0.65956391, 0.65956391, 0.65956391, 0.65956391, 0.65956391,\n",
       "        0.91596222, 0.9159621 , 0.91596222, 0.91596222, 0.91596222,\n",
       "        0.99766546, 0.99766535, 0.99766535, 0.99766546, 0.99766546,\n",
       "        0.9999877 , 0.9999877 , 0.99998747, 0.9999877 , 0.99998747,\n",
       "        0.99999977, 0.99999977, 0.99999977, 0.99999977, 0.99999977]),\n",
       " 'split4_train_score': array([0.65459172, 0.65459172, 0.65459172, 0.65459172, 0.65459172,\n",
       "        0.91680009, 0.91680009, 0.91680009, 0.91679998, 0.91679998,\n",
       "        0.99725069, 0.99725069, 0.99725069, 0.99725069, 0.99725069,\n",
       "        0.99999166, 0.99999166, 0.99999166, 0.99999166, 0.99999166,\n",
       "        0.99999948, 0.99999948, 0.99999948, 0.99999948, 0.99999948]),\n",
       " 'mean_train_score': array([0.65801683, 0.65801683, 0.65801632, 0.65801683, 0.65801683,\n",
       "        0.91358068, 0.91358064, 0.91358073, 0.91358063, 0.9135807 ,\n",
       "        0.99739022, 0.9973902 , 0.99739021, 0.99739022, 0.99739022,\n",
       "        0.99998162, 0.99998162, 0.99998158, 0.99998162, 0.99998158,\n",
       "        0.99999962, 0.99999962, 0.99999969, 0.99999962, 0.99999969]),\n",
       " 'std_train_score': array([2.99264763e-03, 2.99264763e-03, 2.99327230e-03, 2.99264763e-03,\n",
       "        2.99264763e-03, 3.74457176e-03, 3.74457930e-03, 3.74446092e-03,\n",
       "        3.74455056e-03, 3.74462184e-03, 1.00102976e-03, 1.00102344e-03,\n",
       "        1.00104008e-03, 1.00102976e-03, 1.00102976e-03, 1.32790077e-05,\n",
       "        1.32790077e-05, 1.32582759e-05, 1.32790077e-05, 1.32582759e-05,\n",
       "        2.07636355e-07, 2.07636355e-07, 2.25933685e-07, 2.07636355e-07,\n",
       "        2.25933685e-07])}"
      ]
     },
     "execution_count": 52,
     "metadata": {},
     "output_type": "execute_result"
    }
   ],
   "source": [
    "gs.cv_results_"
   ]
  },
  {
   "cell_type": "code",
   "execution_count": 53,
   "metadata": {},
   "outputs": [
    {
     "data": {
      "text/plain": [
       "{'max_depth': 5, 'num_parallel_tree': 3}"
      ]
     },
     "execution_count": 53,
     "metadata": {},
     "output_type": "execute_result"
    }
   ],
   "source": [
    "gs.best_params_"
   ]
  },
  {
   "cell_type": "code",
   "execution_count": 54,
   "metadata": {},
   "outputs": [
    {
     "data": {
      "text/plain": [
       "0.651335884569161"
      ]
     },
     "execution_count": 54,
     "metadata": {},
     "output_type": "execute_result"
    }
   ],
   "source": [
    "gs.best_score_"
   ]
  },
  {
   "cell_type": "code",
   "execution_count": 55,
   "metadata": {},
   "outputs": [],
   "source": [
    "preds = gs.best_estimator_.predict(X_test)"
   ]
  },
  {
   "cell_type": "code",
   "execution_count": 56,
   "metadata": {},
   "outputs": [
    {
     "data": {
      "text/plain": [
       "0.9465946217642623"
      ]
     },
     "execution_count": 56,
     "metadata": {},
     "output_type": "execute_result"
    }
   ],
   "source": [
    "metrics.accuracy_score(y_test, preds)"
   ]
  },
  {
   "cell_type": "markdown",
   "metadata": {},
   "source": [
    "We see some incremental improvement.  It may simply due to the large number of negative records opposed to the small number of positive records.  It may be beneficial to remove some negative records at random to close the gap."
   ]
  },
  {
   "cell_type": "code",
   "execution_count": 65,
   "metadata": {},
   "outputs": [
    {
     "data": {
      "text/plain": [
       "0    15267\n",
       "1      890\n",
       "Name: dank, dtype: int64"
      ]
     },
     "execution_count": 65,
     "metadata": {},
     "output_type": "execute_result"
    }
   ],
   "source": [
    "y_train.value_counts()"
   ]
  },
  {
   "cell_type": "code",
   "execution_count": 66,
   "metadata": {},
   "outputs": [],
   "source": [
    "dank_data = dank_data.drop(dank_data.index[dank_data['dank'] == 0][0:10000])"
   ]
  },
  {
   "cell_type": "code",
   "execution_count": 67,
   "metadata": {},
   "outputs": [],
   "source": [
    "X, y = dank_data.drop(columns=[\"dank\"]), dank_data[\"dank\"]\n",
    "X_train, X_test, y_train, y_test = train_test_split(X, y, test_size=0.33, random_state=42)"
   ]
  },
  {
   "cell_type": "code",
   "execution_count": 68,
   "metadata": {},
   "outputs": [],
   "source": [
    "params = {'max_depth':range(1, 20, 4), 'num_parallel_tree':range(1, 6)}\n",
    "model_tuning = xgb.XGBClassifier(learning_rate=0.1, random_state=42)\n",
    "model_tuning.fit(X_train, y_train)\n",
    "gs = gridSearch(model_tuning, param_grid=params)"
   ]
  },
  {
   "cell_type": "code",
   "execution_count": 69,
   "metadata": {},
   "outputs": [
    {
     "data": {
      "text/plain": [
       "{'mean_fit_time': array([ 1.3047091 ,  1.8781743 ,  2.50310507,  3.11626205,  3.71964903,\n",
       "         3.85129652,  6.48844094,  9.04919195, 11.57283854, 14.1942297 ,\n",
       "         5.55713196, 10.43548398, 15.40299339, 20.2783565 , 25.18821959,\n",
       "         7.63298116, 14.46829743, 21.38958464, 28.41658792, 35.49884286,\n",
       "         9.35637026, 17.96833558, 26.72112226, 35.53953514, 40.67140889]),\n",
       " 'std_fit_time': array([0.04751106, 0.04528644, 0.09497933, 0.0577166 , 0.04462291,\n",
       "        0.06233043, 0.12613452, 0.0641412 , 0.08704593, 0.13210841,\n",
       "        0.03402601, 0.07090662, 0.12876513, 0.06928367, 0.09926383,\n",
       "        0.03615147, 0.05820387, 0.07314474, 0.14726599, 0.13357554,\n",
       "        0.03931142, 0.09051575, 0.11536876, 0.41341186, 3.95921478]),\n",
       " 'mean_score_time': array([0.01196852, 0.01077266, 0.0191515 , 0.01595745, 0.01795201,\n",
       "        0.01855145, 0.02513337, 0.03191509, 0.03909574, 0.0472743 ,\n",
       "        0.0247345 , 0.04488053, 0.06303129, 0.07878981, 0.09075656,\n",
       "        0.032515  , 0.05904636, 0.0819819 , 0.10093083, 0.13344417,\n",
       "        0.03670502, 0.06722088, 0.09454799, 0.11988044, 0.1374332 ]),\n",
       " 'std_score_time': array([0.00549885, 0.00074851, 0.00540531, 0.00109267, 0.00209196,\n",
       "        0.0020537 , 0.00097743, 0.00063075, 0.00116306, 0.00101728,\n",
       "        0.00116385, 0.00218488, 0.00230895, 0.00295818, 0.00199449,\n",
       "        0.00101682, 0.00073952, 0.00230927, 0.00116264, 0.00469449,\n",
       "        0.00146423, 0.00149329, 0.002706  , 0.00132324, 0.01795619]),\n",
       " 'param_max_depth': masked_array(data=[1, 1, 1, 1, 1, 5, 5, 5, 5, 5, 9, 9, 9, 9, 9, 13, 13,\n",
       "                    13, 13, 13, 17, 17, 17, 17, 17],\n",
       "              mask=[False, False, False, False, False, False, False, False,\n",
       "                    False, False, False, False, False, False, False, False,\n",
       "                    False, False, False, False, False, False, False, False,\n",
       "                    False],\n",
       "        fill_value='?',\n",
       "             dtype=object),\n",
       " 'param_num_parallel_tree': masked_array(data=[1, 2, 3, 4, 5, 1, 2, 3, 4, 5, 1, 2, 3, 4, 5, 1, 2, 3,\n",
       "                    4, 5, 1, 2, 3, 4, 5],\n",
       "              mask=[False, False, False, False, False, False, False, False,\n",
       "                    False, False, False, False, False, False, False, False,\n",
       "                    False, False, False, False, False, False, False, False,\n",
       "                    False],\n",
       "        fill_value='?',\n",
       "             dtype=object),\n",
       " 'params': [{'max_depth': 1, 'num_parallel_tree': 1},\n",
       "  {'max_depth': 1, 'num_parallel_tree': 2},\n",
       "  {'max_depth': 1, 'num_parallel_tree': 3},\n",
       "  {'max_depth': 1, 'num_parallel_tree': 4},\n",
       "  {'max_depth': 1, 'num_parallel_tree': 5},\n",
       "  {'max_depth': 5, 'num_parallel_tree': 1},\n",
       "  {'max_depth': 5, 'num_parallel_tree': 2},\n",
       "  {'max_depth': 5, 'num_parallel_tree': 3},\n",
       "  {'max_depth': 5, 'num_parallel_tree': 4},\n",
       "  {'max_depth': 5, 'num_parallel_tree': 5},\n",
       "  {'max_depth': 9, 'num_parallel_tree': 1},\n",
       "  {'max_depth': 9, 'num_parallel_tree': 2},\n",
       "  {'max_depth': 9, 'num_parallel_tree': 3},\n",
       "  {'max_depth': 9, 'num_parallel_tree': 4},\n",
       "  {'max_depth': 9, 'num_parallel_tree': 5},\n",
       "  {'max_depth': 13, 'num_parallel_tree': 1},\n",
       "  {'max_depth': 13, 'num_parallel_tree': 2},\n",
       "  {'max_depth': 13, 'num_parallel_tree': 3},\n",
       "  {'max_depth': 13, 'num_parallel_tree': 4},\n",
       "  {'max_depth': 13, 'num_parallel_tree': 5},\n",
       "  {'max_depth': 17, 'num_parallel_tree': 1},\n",
       "  {'max_depth': 17, 'num_parallel_tree': 2},\n",
       "  {'max_depth': 17, 'num_parallel_tree': 3},\n",
       "  {'max_depth': 17, 'num_parallel_tree': 4},\n",
       "  {'max_depth': 17, 'num_parallel_tree': 5}],\n",
       " 'split0_test_score': array([0.83425819, 0.83425819, 0.83425819, 0.83425819, 0.83425819,\n",
       "        0.82597708, 0.82597708, 0.8259738 , 0.82597872, 0.82597708,\n",
       "        0.82462995, 0.82462995, 0.82462995, 0.82462995, 0.82462995,\n",
       "        0.8173764 , 0.8173764 , 0.8173764 , 0.8173764 , 0.8173764 ,\n",
       "        0.80312496, 0.80312496, 0.80312496, 0.80312496, 0.80312496]),\n",
       " 'split1_test_score': array([0.84270482, 0.84270482, 0.84270482, 0.84270482, 0.84270482,\n",
       "        0.83678694, 0.83678694, 0.83678694, 0.83678694, 0.83678694,\n",
       "        0.82476433, 0.82476433, 0.82476433, 0.82476433, 0.82476433,\n",
       "        0.82211595, 0.82211595, 0.82211595, 0.82211595, 0.82211595,\n",
       "        0.81098161, 0.81098161, 0.81098161, 0.81098161, 0.81098161]),\n",
       " 'split2_test_score': array([0.81323011, 0.81323011, 0.81323011, 0.81323011, 0.81323011,\n",
       "        0.81348905, 0.81348905, 0.81348905, 0.81348577, 0.81348905,\n",
       "        0.80813984, 0.80813984, 0.80813984, 0.80813984, 0.80813984,\n",
       "        0.80188599, 0.80188599, 0.80188599, 0.80188599, 0.80188599,\n",
       "        0.78951267, 0.78951267, 0.78951595, 0.78951267, 0.78951267]),\n",
       " 'split3_test_score': array([0.83526667, 0.83526667, 0.83526667, 0.83526667, 0.83526667,\n",
       "        0.81814216, 0.81814216, 0.81814216, 0.81814216, 0.81814216,\n",
       "        0.79514552, 0.7951488 , 0.7951488 , 0.79514552, 0.79514552,\n",
       "        0.80416117, 0.80416117, 0.80416117, 0.80416117, 0.80416117,\n",
       "        0.81077615, 0.81077615, 0.81077615, 0.81077615, 0.81077615]),\n",
       " 'split4_test_score': array([0.77551031, 0.77551031, 0.77551031, 0.77551031, 0.77551031,\n",
       "        0.79501387, 0.79501387, 0.79501387, 0.79501387, 0.79501387,\n",
       "        0.79195979, 0.79195979, 0.79195979, 0.79195979, 0.79195979,\n",
       "        0.79266559, 0.79266559, 0.79266559, 0.79266559, 0.79266559,\n",
       "        0.79125069, 0.79125069, 0.79125069, 0.79125069, 0.79124739]),\n",
       " 'mean_test_score': array([0.82019402, 0.82019402, 0.82019402, 0.82019402, 0.82019402,\n",
       "        0.81788182, 0.81788182, 0.81788116, 0.81788149, 0.81788182,\n",
       "        0.80892789, 0.80892854, 0.80892854, 0.80892789, 0.80892789,\n",
       "        0.80764102, 0.80764102, 0.80764102, 0.80764102, 0.80764102,\n",
       "        0.80112922, 0.80112922, 0.80112987, 0.80112922, 0.80112856]),\n",
       " 'std_test_score': array([0.02440021, 0.02440021, 0.02440021, 0.02440021, 0.02440021,\n",
       "        0.0138942 , 0.0138942 , 0.01389382, 0.0138946 , 0.0138942 ,\n",
       "        0.01397025, 0.0139696 , 0.0139696 , 0.01397025, 0.01397025,\n",
       "        0.01071256, 0.01071256, 0.01071256, 0.01071256, 0.01071256,\n",
       "        0.00923737, 0.00923737, 0.00923655, 0.00923737, 0.00923808]),\n",
       " 'rank_test_score': array([ 1,  1,  1,  1,  1,  6,  6, 10,  9,  6, 13, 11, 11, 13, 13, 16, 16,\n",
       "        16, 16, 16, 22, 22, 21, 22, 25]),\n",
       " 'split0_train_score': array([0.83689209, 0.83689209, 0.83689209, 0.83689209, 0.83689209,\n",
       "        0.9750917 , 0.9750917 , 0.97509149, 0.9750917 , 0.9750917 ,\n",
       "        0.99963545, 0.99963545, 0.99963545, 0.99963545, 0.99963545,\n",
       "        0.99999795, 0.99999795, 0.99999795, 0.99999795, 0.99999795,\n",
       "        1.        , 1.        , 1.        , 1.        , 1.        ]),\n",
       " 'split1_train_score': array([0.84080872, 0.84080872, 0.84080872, 0.84080872, 0.84080872,\n",
       "        0.97069417, 0.97069437, 0.97069417, 0.97069417, 0.97069437,\n",
       "        0.99949561, 0.99949561, 0.99949561, 0.99949561, 0.99949561,\n",
       "        0.99999938, 0.99999938, 0.99999938, 0.99999938, 0.99999938,\n",
       "        1.        , 1.        , 1.        , 1.        , 1.        ]),\n",
       " 'split2_train_score': array([0.84613079, 0.84613079, 0.84613079, 0.84613079, 0.84613079,\n",
       "        0.97901017, 0.97901038, 0.97901038, 0.97901017, 0.97901058,\n",
       "        0.99951418, 0.99951418, 0.99951418, 0.99951418, 0.99951418,\n",
       "        0.99999897, 0.99999897, 0.99999897, 0.99999897, 0.99999897,\n",
       "        1.        , 1.        , 1.        , 1.        , 1.        ]),\n",
       " 'split3_train_score': array([0.8442046 , 0.8442046 , 0.8442046 , 0.8442046 , 0.8442046 ,\n",
       "        0.97175201, 0.97175201, 0.97175201, 0.97175181, 0.97175201,\n",
       "        0.99970311, 0.99970311, 0.99970311, 0.99970311, 0.99970311,\n",
       "        0.99999877, 0.99999877, 0.99999877, 0.99999877, 0.99999877,\n",
       "        1.        , 1.        , 1.        , 1.        , 1.        ]),\n",
       " 'split4_train_score': array([0.85492813, 0.85492813, 0.85492813, 0.85492813, 0.85492813,\n",
       "        0.97622676, 0.97622676, 0.97622676, 0.97622676, 0.97622676,\n",
       "        0.99954085, 0.99954085, 0.99954085, 0.99954085, 0.99954085,\n",
       "        1.        , 1.        , 1.        , 1.        , 1.        ,\n",
       "        1.        , 1.        , 1.        , 1.        , 1.        ]),\n",
       " 'mean_train_score': array([0.84459286, 0.84459286, 0.84459286, 0.84459286, 0.84459286,\n",
       "        0.97455496, 0.97455504, 0.97455496, 0.97455492, 0.97455508,\n",
       "        0.99957784, 0.99957784, 0.99957784, 0.99957784, 0.99957784,\n",
       "        0.99999902, 0.99999902, 0.99999902, 0.99999902, 0.99999902,\n",
       "        1.        , 1.        , 1.        , 1.        , 1.        ]),\n",
       " 'std_train_score': array([6.04905501e-03, 6.04905501e-03, 6.04905501e-03, 6.04905501e-03,\n",
       "        6.04905501e-03, 3.02304880e-03, 3.02305687e-03, 3.02310200e-03,\n",
       "        3.02308685e-03, 3.02311736e-03, 7.89883489e-05, 7.89883489e-05,\n",
       "        7.89883489e-05, 7.89883489e-05, 7.89883489e-05, 6.79333849e-07,\n",
       "        6.79333849e-07, 6.79333849e-07, 6.79333849e-07, 6.79333849e-07,\n",
       "        0.00000000e+00, 0.00000000e+00, 0.00000000e+00, 4.96506831e-17,\n",
       "        0.00000000e+00])}"
      ]
     },
     "execution_count": 69,
     "metadata": {},
     "output_type": "execute_result"
    }
   ],
   "source": [
    "gs.cv_results_"
   ]
  },
  {
   "cell_type": "code",
   "execution_count": 70,
   "metadata": {},
   "outputs": [
    {
     "data": {
      "text/plain": [
       "{'max_depth': 1, 'num_parallel_tree': 1}"
      ]
     },
     "execution_count": 70,
     "metadata": {},
     "output_type": "execute_result"
    }
   ],
   "source": [
    "gs.best_params_"
   ]
  },
  {
   "cell_type": "code",
   "execution_count": 71,
   "metadata": {},
   "outputs": [
    {
     "data": {
      "text/plain": [
       "0.8201940184949285"
      ]
     },
     "execution_count": 71,
     "metadata": {},
     "output_type": "execute_result"
    }
   ],
   "source": [
    "gs.best_score_"
   ]
  },
  {
   "cell_type": "code",
   "execution_count": 73,
   "metadata": {},
   "outputs": [
    {
     "data": {
      "text/plain": [
       "0.9592099613568055"
      ]
     },
     "execution_count": 73,
     "metadata": {},
     "output_type": "execute_result"
    }
   ],
   "source": [
    "preds = gs.best_estimator_.predict(X_test)\n",
    "metrics.accuracy_score(y_test, preds)"
   ]
  },
  {
   "cell_type": "code",
   "execution_count": 74,
   "metadata": {},
   "outputs": [
    {
     "data": {
      "text/plain": [
       "0    4228\n",
       "1     430\n",
       "Name: dank, dtype: int64"
      ]
     },
     "execution_count": 74,
     "metadata": {},
     "output_type": "execute_result"
    }
   ],
   "source": [
    "y_test.value_counts()"
   ]
  },
  {
   "cell_type": "markdown",
   "metadata": {},
   "source": [
    "The results are much better.  The accuracy score suggests that the model is not guessing 'not dank' for all records."
   ]
  },
  {
   "cell_type": "code",
   "execution_count": 75,
   "metadata": {},
   "outputs": [
    {
     "name": "stdout",
     "output_type": "stream",
     "text": [
      "      Iter       Train Loss      OOB Improve   Remaining Time \n",
      "         1           0.4579           0.1728            0.79s\n",
      "         2           0.4280           0.0304            0.86s\n",
      "         3           0.4009           0.0216            0.77s\n",
      "         4           0.3918           0.0152            0.72s\n",
      "         5           0.3684           0.0106            0.75s\n",
      "         6           0.3575           0.0082            0.74s\n",
      "         7           0.3546           0.0027            0.71s\n",
      "         8           0.3475           0.0031            0.73s\n",
      "         9           0.3366           0.0025            0.72s\n",
      "        10           0.3396           0.0029            0.71s\n",
      "        20           0.3128           0.0001            0.57s\n",
      "        30           0.3004          -0.0014            0.47s\n",
      "        40           0.2707          -0.0015            0.37s\n",
      "        50           0.2441          -0.0012            0.28s\n",
      "        60           0.2409          -0.0017            0.18s\n",
      "        70           0.2087          -0.0015            0.09s\n",
      "        80           0.2047          -0.0023            0.00s\n",
      "      Iter       Train Loss      OOB Improve   Remaining Time \n",
      "         1           0.4432           0.1829            1.73s\n",
      "         2           0.4143           0.0263            1.67s\n",
      "         3           0.3848           0.0194            1.77s\n",
      "         4           0.3773           0.0147            1.78s\n",
      "         5           0.3565           0.0102            1.84s\n",
      "         6           0.3460           0.0062            1.98s\n",
      "         7           0.3418           0.0059            2.12s\n",
      "         8           0.3330           0.0035            2.13s\n",
      "         9           0.3224           0.0011            2.05s\n",
      "        10           0.3236           0.0020            1.93s\n",
      "        20           0.2924          -0.0029            1.42s\n",
      "        30           0.2754          -0.0013            1.18s\n",
      "        40           0.2373          -0.0004            0.96s\n",
      "        50           0.2134          -0.0004            0.70s\n",
      "        60           0.2051          -0.0023            0.46s\n",
      "        70           0.1791          -0.0009            0.23s\n",
      "        80           0.1740          -0.0016            0.00s\n"
     ]
    }
   ],
   "source": [
    "model_tuning_3 = GradientBoostingClassifier(loss=\"deviance\", learning_rate=0.2, subsample=0.8, criterion=\"mse\", random_state=42, verbose=1.0, validation_fraction=0.1, n_estimators=80, max_features='sqrt', max_depth=7, min_samples_split=600)\n",
    "model_tuning_3.fit(X_train, y_train)\n",
    "param_test3 = {'max_features':range(12, 26, 2)}\n",
    "gs3 = gridSearch(model_tuning_3, param_grid=param_test3)"
   ]
  },
  {
   "cell_type": "code",
   "execution_count": 76,
   "metadata": {},
   "outputs": [
    {
     "data": {
      "text/plain": [
       "{'mean_fit_time': array([1.91488271, 2.20530062, 2.1863534 , 2.51906166, 2.80988636,\n",
       "        2.61620054, 2.67583971]),\n",
       " 'std_fit_time': array([0.04834306, 0.11278946, 0.0890414 , 0.08174918, 0.09877532,\n",
       "        0.08684888, 0.20848432]),\n",
       " 'mean_score_time': array([0.01375914, 0.02014637, 0.01516271, 0.0181519 , 0.01695514,\n",
       "        0.01197262, 0.01116977]),\n",
       " 'std_score_time': array([0.00247517, 0.00671727, 0.00311604, 0.00347618, 0.00334057,\n",
       "        0.00062999, 0.0023092 ]),\n",
       " 'param_max_features': masked_array(data=[12, 14, 16, 18, 20, 22, 24],\n",
       "              mask=[False, False, False, False, False, False, False],\n",
       "        fill_value='?',\n",
       "             dtype=object),\n",
       " 'params': [{'max_features': 12},\n",
       "  {'max_features': 14},\n",
       "  {'max_features': 16},\n",
       "  {'max_features': 18},\n",
       "  {'max_features': 20},\n",
       "  {'max_features': 22},\n",
       "  {'max_features': 24}],\n",
       " 'split0_test_score': array([0.81156176, 0.80031597, 0.80993274, 0.81611448, 0.8209032 ,\n",
       "        0.82219134, 0.81503284]),\n",
       " 'split1_test_score': array([0.8348957 , 0.82751105, 0.82803876, 0.83512514, 0.83914688,\n",
       "        0.84738046, 0.82383019]),\n",
       " 'split2_test_score': array([0.79692683, 0.81115532, 0.81532784, 0.79684161, 0.82117853,\n",
       "        0.80570451, 0.80032908]),\n",
       " 'split3_test_score': array([0.80879199, 0.79480444, 0.80966764, 0.82380278, 0.81027437,\n",
       "        0.80939544, 0.79935326]),\n",
       " 'split4_test_score': array([0.77389257, 0.78231272, 0.77048559, 0.79145847, 0.79848022,\n",
       "        0.7634556 , 0.78544266]),\n",
       " 'mean_test_score': array([0.80521377, 0.8032199 , 0.80669051, 0.8126685 , 0.81799664,\n",
       "        0.80962547, 0.80479761]),\n",
       " 'std_test_score': array([0.01991888, 0.01529309, 0.01929001, 0.01637378, 0.01346424,\n",
       "        0.02731456, 0.01335082]),\n",
       " 'rank_test_score': array([5, 7, 4, 2, 1, 3, 6]),\n",
       " 'split0_train_score': array([0.99111127, 0.99178167, 0.99287264, 0.99205695, 0.99481931,\n",
       "        0.99188089, 0.99532914]),\n",
       " 'split1_train_score': array([0.99099595, 0.99038013, 0.9889991 , 0.99224533, 0.99048458,\n",
       "        0.99035089, 0.99208291]),\n",
       " 'split2_train_score': array([0.99107444, 0.99041019, 0.99145478, 0.9905446 , 0.99084594,\n",
       "        0.99241103, 0.9907929 ]),\n",
       " 'split3_train_score': array([0.9924342 , 0.99153533, 0.99431359, 0.99260306, 0.99309814,\n",
       "        0.99087344, 0.99139643]),\n",
       " 'split4_train_score': array([0.99126038, 0.99184123, 0.99150911, 0.99251192, 0.99058057,\n",
       "        0.99392308, 0.99283882]),\n",
       " 'mean_train_score': array([0.99137525, 0.99118971, 0.99182985, 0.99199237, 0.99196571,\n",
       "        0.99188787, 0.99248804]),\n",
       " 'std_train_score': array([0.0005364 , 0.00065687, 0.00176142, 0.00074928, 0.00171998,\n",
       "        0.00124958, 0.00157634])}"
      ]
     },
     "execution_count": 76,
     "metadata": {},
     "output_type": "execute_result"
    }
   ],
   "source": [
    "gs3.cv_results_"
   ]
  },
  {
   "cell_type": "code",
   "execution_count": 77,
   "metadata": {},
   "outputs": [
    {
     "data": {
      "text/plain": [
       "{'max_features': 20}"
      ]
     },
     "execution_count": 77,
     "metadata": {},
     "output_type": "execute_result"
    }
   ],
   "source": [
    "gs3.best_params_"
   ]
  },
  {
   "cell_type": "code",
   "execution_count": 80,
   "metadata": {},
   "outputs": [
    {
     "data": {
      "text/plain": [
       "0.8179966403097622"
      ]
     },
     "execution_count": 80,
     "metadata": {},
     "output_type": "execute_result"
    }
   ],
   "source": [
    "gs3.best_score_"
   ]
  },
  {
   "cell_type": "code",
   "execution_count": 82,
   "metadata": {},
   "outputs": [
    {
     "name": "stdout",
     "output_type": "stream",
     "text": [
      "      Iter       Train Loss      OOB Improve   Remaining Time \n",
      "         1           0.5805           0.0010            0.08s\n",
      "         2           0.5446           0.0397            0.10s\n",
      "         3           0.5096           0.0305            0.08s\n",
      "         4           0.4954           0.0195            0.08s\n",
      "         5           0.4660           0.0240            0.08s\n",
      "         6           0.4487           0.0171            0.07s\n",
      "         7           0.4427           0.0092            0.07s\n",
      "         8           0.4418           0.0008            0.07s\n",
      "         9           0.4354           0.0009            0.06s\n",
      "        10           0.4333           0.0043            0.06s\n",
      "        20           0.3862           0.0012            0.00s\n",
      "      Iter       Train Loss      OOB Improve   Remaining Time \n",
      "         1           0.5648           0.0198            0.21s\n",
      "         2           0.5307           0.0359            0.18s\n",
      "         3           0.4985           0.0278            0.16s\n",
      "         4           0.4788           0.0243            0.15s\n",
      "         5           0.4529           0.0205            0.14s\n",
      "         6           0.4365           0.0130            0.13s\n",
      "         7           0.4284           0.0107            0.12s\n",
      "         8           0.4199           0.0080            0.11s\n",
      "         9           0.4042           0.0060            0.10s\n",
      "        10           0.4025           0.0059            0.09s\n",
      "        20           0.3640          -0.0007            0.00s\n"
     ]
    }
   ],
   "source": [
    "model_tuning_2 = GradientBoostingClassifier(loss=\"exponential\", learning_rate=0.2, subsample=0.8, criterion=\"mse\", random_state=42, verbose=1.0, validation_fraction=0.1, n_estimators=20, max_features='sqrt')\n",
    "model_tuning_2.fit(X_train, y_train)\n",
    "param_test2 = {'max_depth':range(5,16,2), 'min_samples_split':range(200,1001,200)}\n",
    "gs2 = gridSearch(model_tuning_2, param_grid=param_test2)"
   ]
  },
  {
   "cell_type": "code",
   "execution_count": 83,
   "metadata": {},
   "outputs": [
    {
     "data": {
      "text/plain": [
       "{'mean_fit_time': array([0.28783016, 0.24574618, 0.25092893, 0.24413991, 0.33988695,\n",
       "        0.43742623, 0.38376966, 0.30438333, 0.31875005, 0.31695323,\n",
       "        0.4260632 , 0.44800453, 0.38577051, 0.37299728, 0.33829374,\n",
       "        0.47114067, 0.38915887, 0.36761079, 0.36741433, 0.37140956,\n",
       "        0.61295791, 0.52798738, 0.49627199, 0.39414864, 0.3741992 ,\n",
       "        0.6213366 , 0.50744286, 0.45119629, 0.42007675, 0.38417382]),\n",
       " 'std_fit_time': array([0.00766352, 0.00868729, 0.01272576, 0.01123736, 0.04483608,\n",
       "        0.06399363, 0.06757921, 0.00668507, 0.02965446, 0.02226483,\n",
       "        0.02023527, 0.04118123, 0.00785706, 0.02761847, 0.01343017,\n",
       "        0.02021983, 0.01580341, 0.01321163, 0.01086312, 0.01697962,\n",
       "        0.05018852, 0.03503192, 0.02727445, 0.01375391, 0.02450609,\n",
       "        0.01872106, 0.01010076, 0.02008003, 0.01209019, 0.04331382]),\n",
       " 'mean_score_time': array([0.00777869, 0.01097498, 0.0087729 , 0.00738091, 0.00857821,\n",
       "        0.00997324, 0.01096997, 0.00997958, 0.00877562, 0.00777655,\n",
       "        0.0099751 , 0.01036963, 0.01056895, 0.01156917, 0.00838156,\n",
       "        0.00937538, 0.00977221, 0.00877542, 0.00997491, 0.01276259,\n",
       "        0.01097403, 0.00897665, 0.00877461, 0.00937252, 0.01057701,\n",
       "        0.01037283, 0.01057124, 0.0089747 , 0.00877666, 0.00917273]),\n",
       " 'std_score_time': array([0.00074688, 0.00302884, 0.00146694, 0.00049119, 0.00135329,\n",
       "        0.00259826, 0.00399004, 0.00209579, 0.00171686, 0.0003969 ,\n",
       "        0.00178603, 0.00135179, 0.00359522, 0.00430466, 0.00248757,\n",
       "        0.00079755, 0.00146266, 0.00146611, 0.00403938, 0.00405449,\n",
       "        0.00418189, 0.0008926 , 0.00097376, 0.00205689, 0.00279163,\n",
       "        0.00079867, 0.00162088, 0.00063124, 0.00116213, 0.00074324]),\n",
       " 'param_max_depth': masked_array(data=[5, 5, 5, 5, 5, 7, 7, 7, 7, 7, 9, 9, 9, 9, 9, 11, 11,\n",
       "                    11, 11, 11, 13, 13, 13, 13, 13, 15, 15, 15, 15, 15],\n",
       "              mask=[False, False, False, False, False, False, False, False,\n",
       "                    False, False, False, False, False, False, False, False,\n",
       "                    False, False, False, False, False, False, False, False,\n",
       "                    False, False, False, False, False, False],\n",
       "        fill_value='?',\n",
       "             dtype=object),\n",
       " 'param_min_samples_split': masked_array(data=[200, 400, 600, 800, 1000, 200, 400, 600, 800, 1000,\n",
       "                    200, 400, 600, 800, 1000, 200, 400, 600, 800, 1000,\n",
       "                    200, 400, 600, 800, 1000, 200, 400, 600, 800, 1000],\n",
       "              mask=[False, False, False, False, False, False, False, False,\n",
       "                    False, False, False, False, False, False, False, False,\n",
       "                    False, False, False, False, False, False, False, False,\n",
       "                    False, False, False, False, False, False],\n",
       "        fill_value='?',\n",
       "             dtype=object),\n",
       " 'params': [{'max_depth': 5, 'min_samples_split': 200},\n",
       "  {'max_depth': 5, 'min_samples_split': 400},\n",
       "  {'max_depth': 5, 'min_samples_split': 600},\n",
       "  {'max_depth': 5, 'min_samples_split': 800},\n",
       "  {'max_depth': 5, 'min_samples_split': 1000},\n",
       "  {'max_depth': 7, 'min_samples_split': 200},\n",
       "  {'max_depth': 7, 'min_samples_split': 400},\n",
       "  {'max_depth': 7, 'min_samples_split': 600},\n",
       "  {'max_depth': 7, 'min_samples_split': 800},\n",
       "  {'max_depth': 7, 'min_samples_split': 1000},\n",
       "  {'max_depth': 9, 'min_samples_split': 200},\n",
       "  {'max_depth': 9, 'min_samples_split': 400},\n",
       "  {'max_depth': 9, 'min_samples_split': 600},\n",
       "  {'max_depth': 9, 'min_samples_split': 800},\n",
       "  {'max_depth': 9, 'min_samples_split': 1000},\n",
       "  {'max_depth': 11, 'min_samples_split': 200},\n",
       "  {'max_depth': 11, 'min_samples_split': 400},\n",
       "  {'max_depth': 11, 'min_samples_split': 600},\n",
       "  {'max_depth': 11, 'min_samples_split': 800},\n",
       "  {'max_depth': 11, 'min_samples_split': 1000},\n",
       "  {'max_depth': 13, 'min_samples_split': 200},\n",
       "  {'max_depth': 13, 'min_samples_split': 400},\n",
       "  {'max_depth': 13, 'min_samples_split': 600},\n",
       "  {'max_depth': 13, 'min_samples_split': 800},\n",
       "  {'max_depth': 13, 'min_samples_split': 1000},\n",
       "  {'max_depth': 15, 'min_samples_split': 200},\n",
       "  {'max_depth': 15, 'min_samples_split': 400},\n",
       "  {'max_depth': 15, 'min_samples_split': 600},\n",
       "  {'max_depth': 15, 'min_samples_split': 800},\n",
       "  {'max_depth': 15, 'min_samples_split': 1000}],\n",
       " 'split0_test_score': array([0.80876424, 0.83598554, 0.8192201 , 0.82785848, 0.83632314,\n",
       "        0.82323529, 0.81611121, 0.82095892, 0.81763042, 0.82165544,\n",
       "        0.81933646, 0.82450212, 0.82476597, 0.83692296, 0.82435134,\n",
       "        0.8323686 , 0.80807101, 0.82819936, 0.83841923, 0.82641629,\n",
       "        0.82547887, 0.83748836, 0.81241724, 0.81622429, 0.8279437 ,\n",
       "        0.82707511, 0.79323942, 0.83053309, 0.81964784, 0.84669051]),\n",
       " 'split1_test_score': array([0.82855991, 0.82764871, 0.82395802, 0.83267015, 0.82243553,\n",
       "        0.82465781, 0.82864841, 0.83029873, 0.82787979, 0.8316852 ,\n",
       "        0.83710979, 0.81029001, 0.81678969, 0.82851402, 0.8185154 ,\n",
       "        0.82503966, 0.81432158, 0.82400391, 0.83220471, 0.81488043,\n",
       "        0.83168028, 0.81703224, 0.82761265, 0.81929549, 0.82119164,\n",
       "        0.81679297, 0.81573099, 0.82092451, 0.83390912, 0.82433823]),\n",
       " 'split2_test_score': array([0.79742012, 0.80835617, 0.79978498, 0.80657638, 0.80580448,\n",
       "        0.79829035, 0.80344945, 0.79291984, 0.80144022, 0.80839386,\n",
       "        0.79035668, 0.80127634, 0.80158116, 0.79929169, 0.8121796 ,\n",
       "        0.78749033, 0.7954027 , 0.8121583 , 0.79270843, 0.80342979,\n",
       "        0.80989669, 0.78647752, 0.81677658, 0.79945066, 0.79356063,\n",
       "        0.80855939, 0.79670395, 0.8068517 , 0.79136293, 0.79436695]),\n",
       " 'split3_test_score': array([0.82111185, 0.81393934, 0.80613222, 0.81687623, 0.81134189,\n",
       "        0.83254787, 0.82875499, 0.80791469, 0.82039854, 0.80656349,\n",
       "        0.81438537, 0.80671763, 0.81435257, 0.8210643 , 0.82403563,\n",
       "        0.81827171, 0.8117092 , 0.83189686, 0.81611372, 0.80609778,\n",
       "        0.81895387, 0.81200273, 0.82237943, 0.80576982, 0.81185515,\n",
       "        0.80234755, 0.81189122, 0.80477774, 0.82303207, 0.81318339]),\n",
       " 'split4_test_score': array([0.78872266, 0.79022167, 0.79095056, 0.77782065, 0.78373587,\n",
       "        0.78265903, 0.78473851, 0.78979291, 0.79047892, 0.78154755,\n",
       "        0.78053667, 0.77040643, 0.77134145, 0.77621776, 0.76998757,\n",
       "        0.77292786, 0.78916626, 0.77692851, 0.77004363, 0.78822464,\n",
       "        0.78725499, 0.78141728, 0.76749417, 0.78370619, 0.78552841,\n",
       "        0.78497597, 0.77316368, 0.78337143, 0.78488692, 0.77938397]),\n",
       " 'mean_test_score': array([0.80891576, 0.81523028, 0.80800918, 0.81236038, 0.81192818,\n",
       "        0.81227807, 0.81234051, 0.80837702, 0.81156558, 0.80996911,\n",
       "        0.80834499, 0.80263851, 0.80576617, 0.81240215, 0.80981391,\n",
       "        0.80721963, 0.80373415, 0.81463739, 0.80989795, 0.80780979,\n",
       "        0.81465294, 0.80688363, 0.80933601, 0.80488929, 0.80801591,\n",
       "        0.8079502 , 0.79814585, 0.80929169, 0.81056778, 0.81159261]),\n",
       " 'std_test_score': array([0.01465995, 0.0158704 , 0.01218366, 0.01949112, 0.01753949,\n",
       "        0.01874634, 0.01667647, 0.01564208, 0.01362444, 0.01691167,\n",
       "        0.02040389, 0.01785477, 0.01875533, 0.02198677, 0.0204012 ,\n",
       "        0.02296669, 0.00975848, 0.01998827, 0.02543044, 0.01266404,\n",
       "        0.01548482, 0.02064361, 0.02153955, 0.01276792, 0.01612513,\n",
       "        0.01416709, 0.01515542, 0.0160294 , 0.01903132, 0.02337077]),\n",
       " 'rank_test_score': array([17,  1, 21,  5,  8,  7,  6, 18, 10, 12, 19, 29, 26,  4, 14, 24, 28,\n",
       "         3, 13, 23,  2, 25, 15, 27, 20, 22, 30, 16, 11,  9]),\n",
       " 'split0_train_score': array([0.90317305, 0.90323082, 0.89250079, 0.89522539, 0.88699178,\n",
       "        0.94479114, 0.92666965, 0.92378489, 0.91227294, 0.91450566,\n",
       "        0.97234493, 0.95772126, 0.9414932 , 0.93256086, 0.92672957,\n",
       "        0.97935492, 0.97012883, 0.95524096, 0.94614641, 0.93446126,\n",
       "        0.99131925, 0.98201067, 0.96451157, 0.95888251, 0.94840078,\n",
       "        0.99326397, 0.98342083, 0.97198306, 0.96179867, 0.94620428]),\n",
       " 'split1_train_score': array([0.90148904, 0.89248017, 0.88865814, 0.88251607, 0.8760704 ,\n",
       "        0.93878512, 0.9253585 , 0.91002482, 0.90364748, 0.89876578,\n",
       "        0.96421967, 0.94193377, 0.92691713, 0.91733286, 0.91759675,\n",
       "        0.98095069, 0.96232368, 0.94471634, 0.93590651, 0.93334608,\n",
       "        0.98739215, 0.9641026 , 0.95524147, 0.94136751, 0.93914063,\n",
       "        0.99199734, 0.97676791, 0.96162968, 0.95517745, 0.94478159]),\n",
       " 'split2_train_score': array([0.90087343, 0.89876332, 0.89154639, 0.88744292, 0.88338777,\n",
       "        0.93688257, 0.93070715, 0.91146577, 0.90874137, 0.90711246,\n",
       "        0.96831749, 0.94322297, 0.94013372, 0.92659229, 0.91709903,\n",
       "        0.98041264, 0.95821591, 0.95105982, 0.93917501, 0.92849741,\n",
       "        0.9891253 , 0.97069714, 0.9603214 , 0.94660566, 0.9390604 ,\n",
       "        0.99329813, 0.97887505, 0.96745163, 0.945933  , 0.93596356]),\n",
       " 'split3_train_score': array([0.89319981, 0.89275078, 0.87624246, 0.8735872 , 0.88121701,\n",
       "        0.93778223, 0.91782441, 0.90851094, 0.91093107, 0.89816872,\n",
       "        0.95597391, 0.95055279, 0.93161233, 0.9238629 , 0.9233555 ,\n",
       "        0.97365542, 0.96731553, 0.94438977, 0.9391292 , 0.93309687,\n",
       "        0.98742456, 0.96967462, 0.95761622, 0.94455493, 0.94476493,\n",
       "        0.99349803, 0.98017698, 0.96512735, 0.95254534, 0.94352773]),\n",
       " 'split4_train_score': array([0.90636018, 0.9000924 , 0.89765682, 0.89297384, 0.88967302,\n",
       "        0.94237168, 0.92409266, 0.91551572, 0.91320337, 0.91222187,\n",
       "        0.96742423, 0.94636491, 0.94780874, 0.93258939, 0.92433555,\n",
       "        0.97825083, 0.96546952, 0.95433201, 0.9364351 , 0.93602687,\n",
       "        0.98864326, 0.97126544, 0.96509785, 0.94609006, 0.94668453,\n",
       "        0.99276793, 0.97776699, 0.97008478, 0.95073155, 0.94877949]),\n",
       " 'mean_train_score': array([0.9010191 , 0.8974635 , 0.88932092, 0.88634908, 0.883468  ,\n",
       "        0.94012255, 0.92493048, 0.91386043, 0.90975925, 0.9061549 ,\n",
       "        0.96565605, 0.94795914, 0.93759302, 0.92658766, 0.92182328,\n",
       "        0.9785249 , 0.96469069, 0.94994778, 0.93935845, 0.9330857 ,\n",
       "        0.9887809 , 0.97155009, 0.9605577 , 0.94750013, 0.94361025,\n",
       "        0.99296508, 0.97940155, 0.9672553 , 0.9532372 , 0.94385133]),\n",
       " 'std_train_score': array([0.00434856, 0.00421677, 0.00715593, 0.00776441, 0.00470568,\n",
       "        0.00298723, 0.00418989, 0.00548267, 0.00340422, 0.00672069,\n",
       "        0.00549105, 0.00571496, 0.00742658, 0.00574065, 0.00381872,\n",
       "        0.00260476, 0.00411328, 0.00462029, 0.00365033, 0.00251646,\n",
       "        0.00143868, 0.00581747, 0.00382666, 0.00597713, 0.00385778,\n",
       "        0.00054031, 0.00230829, 0.00364889, 0.00523778, 0.00431301])}"
      ]
     },
     "execution_count": 83,
     "metadata": {},
     "output_type": "execute_result"
    }
   ],
   "source": [
    "gs2.cv_results_"
   ]
  },
  {
   "cell_type": "code",
   "execution_count": 84,
   "metadata": {},
   "outputs": [
    {
     "data": {
      "text/plain": [
       "{'max_depth': 5, 'min_samples_split': 400}"
      ]
     },
     "execution_count": 84,
     "metadata": {},
     "output_type": "execute_result"
    }
   ],
   "source": [
    "gs2.best_params_"
   ]
  },
  {
   "cell_type": "code",
   "execution_count": 85,
   "metadata": {},
   "outputs": [
    {
     "data": {
      "text/plain": [
       "0.8152302848825996"
      ]
     },
     "execution_count": 85,
     "metadata": {},
     "output_type": "execute_result"
    }
   ],
   "source": [
    "gs2.best_score_"
   ]
  },
  {
   "cell_type": "code",
   "execution_count": 86,
   "metadata": {},
   "outputs": [
    {
     "data": {
      "text/plain": [
       "0.9594246457707171"
      ]
     },
     "execution_count": 86,
     "metadata": {},
     "output_type": "execute_result"
    }
   ],
   "source": [
    "preds = gs2.best_estimator_.predict(X_test)\n",
    "metrics.accuracy_score(y_test, preds)"
   ]
  },
  {
   "cell_type": "code",
   "execution_count": 87,
   "metadata": {},
   "outputs": [
    {
     "data": {
      "text/plain": [
       "0.9547015886646629"
      ]
     },
     "execution_count": 87,
     "metadata": {},
     "output_type": "execute_result"
    }
   ],
   "source": [
    "preds = gs3.best_estimator_.predict(X_test)\n",
    "metrics.accuracy_score(y_test, preds)"
   ]
  },
  {
   "cell_type": "markdown",
   "metadata": {},
   "source": [
    "Our second gradient boosting classifier built by GridSearchCV seems to give the best results.  It would be suggested to use this model for prediction."
   ]
  },
  {
   "cell_type": "code",
   "execution_count": null,
   "metadata": {},
   "outputs": [],
   "source": []
  }
 ],
 "metadata": {
  "kernelspec": {
   "display_name": "Python 3",
   "language": "python",
   "name": "python3"
  },
  "language_info": {
   "codemirror_mode": {
    "name": "ipython",
    "version": 3
   },
   "file_extension": ".py",
   "mimetype": "text/x-python",
   "name": "python",
   "nbconvert_exporter": "python",
   "pygments_lexer": "ipython3",
   "version": "3.7.3"
  }
 },
 "nbformat": 4,
 "nbformat_minor": 2
}
