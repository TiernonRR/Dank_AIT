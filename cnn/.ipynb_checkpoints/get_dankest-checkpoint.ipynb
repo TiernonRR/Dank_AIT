{
 "cells": [
  {
   "cell_type": "code",
   "execution_count": 1,
   "metadata": {},
   "outputs": [],
   "source": [
    "import glob\n",
    "import shutil"
   ]
  },
  {
   "cell_type": "code",
   "execution_count": 2,
   "metadata": {},
   "outputs": [
    {
     "data": {
      "text/plain": [
       "['./data/training\\\\fi8vz3.jpg',\n",
       " './data/training\\\\fi8wa7.jpg',\n",
       " './data/training\\\\fi8x78.jpg',\n",
       " './data/training\\\\fi8yp8.jpg',\n",
       " './data/training\\\\fi9269.jpg']"
      ]
     },
     "execution_count": 2,
     "metadata": {},
     "output_type": "execute_result"
    }
   ],
   "source": [
    "files = glob.glob(\"./data/test/*\")\n",
    "files[0:5]"
   ]
  },
  {
   "cell_type": "code",
   "execution_count": 3,
   "metadata": {},
   "outputs": [],
   "source": [
    "with open(\"./dankest.txt\", \"r\") as infile:\n",
    "    dankIDs = infile.readlines()"
   ]
  },
  {
   "cell_type": "code",
   "execution_count": 4,
   "metadata": {},
   "outputs": [
    {
     "data": {
      "text/plain": [
       "['fkc6hq', 'fik9xl', 'fmvgny', 'fidmbv', 'fkqqjb']"
      ]
     },
     "execution_count": 4,
     "metadata": {},
     "output_type": "execute_result"
    }
   ],
   "source": [
    "dankIDs = [elem.strip() for elem in dankIDs]\n",
    "dankIDs[0:5]"
   ]
  },
  {
   "cell_type": "code",
   "execution_count": 5,
   "metadata": {},
   "outputs": [],
   "source": [
    "for file in files:\n",
    "    fileName = file.split('\\\\')[-1]\n",
    "    fileID = str(fileName.split(\".\")[0])\n",
    "    if (fileID in dankIDs):\n",
    "        destPath = \"./dankest/\" + fileName\n",
    "        shutil.copy(file, destPath)"
   ]
  }
 ],
 "metadata": {
  "kernelspec": {
   "display_name": "Python 3",
   "language": "python",
   "name": "python3"
  },
  "language_info": {
   "codemirror_mode": {
    "name": "ipython",
    "version": 3
   },
   "file_extension": ".py",
   "mimetype": "text/x-python",
   "name": "python",
   "nbconvert_exporter": "python",
   "pygments_lexer": "ipython3",
   "version": "3.7.7"
  }
 },
 "nbformat": 4,
 "nbformat_minor": 4
}
