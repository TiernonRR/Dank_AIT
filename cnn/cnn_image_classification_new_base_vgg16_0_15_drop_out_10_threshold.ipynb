{
  "nbformat": 4,
  "nbformat_minor": 0,
  "metadata": {
    "colab": {
      "name": "cnn_image_classification - new base - vgg16 - 0.15 drop out - 10% threshold.ipynb",
      "provenance": [],
      "collapsed_sections": []
    },
    "kernelspec": {
      "display_name": "Python 3",
      "language": "python",
      "name": "python3"
    },
    "language_info": {
      "codemirror_mode": {
        "name": "ipython",
        "version": 3
      },
      "file_extension": ".py",
      "mimetype": "text/x-python",
      "name": "python",
      "nbconvert_exporter": "python",
      "pygments_lexer": "ipython3",
      "version": "3.7.7"
    },
    "accelerator": "GPU"
  },
  "cells": [
    {
      "cell_type": "code",
      "metadata": {
        "colab_type": "code",
        "id": "vB5rW3zjr58I",
        "outputId": "4935e8ff-4ac7-4ef7-dd3d-b283dfe6638b",
        "colab": {
          "base_uri": "https://localhost:8080/",
          "height": 87
        }
      },
      "source": [
        "#Sources used: https://towardsdatascience.com/transfer-learning-from-pre-trained-models-f2393f124751\n",
        "#              https://medium.com/@ODSC/how-to-leverage-pre-trained-layers-in-image-classification-31fb9b8cdd0\n",
        "#              https://towardsdatascience.com/a-comprehensive-hands-on-guide-to-transfer-learning-with-real-world-applications-in-deep-learning-212bf3b2f27a\n",
        "#Also based this a lot on the work of the other teammates too :)\n",
        "import numpy as np\n",
        "import pandas as pd\n",
        "from pandas import DataFrame, Series\n",
        "import datetime\n",
        "import matplotlib as mpl\n",
        "import matplotlib.pyplot as plt\n",
        "import seaborn as sns\n",
        "import json \n",
        "from pandas.io.json import json_normalize\n",
        "import seaborn as sns\n",
        "\n",
        "from PIL import Image\n",
        "from io import BytesIO\n",
        "import requests\n",
        "\n",
        "import tensorflow\n",
        "import keras\n",
        "from keras.applications import vgg16, inception_v3, resnet50, mobilenet\n",
        "from keras import models\n",
        "# imports for loading and viewing image \n",
        "from keras.preprocessing.image import load_img\n",
        "from keras.preprocessing.image import img_to_array\n",
        "from keras.applications.imagenet_utils import decode_predictions"
      ],
      "execution_count": 1,
      "outputs": [
        {
          "output_type": "stream",
          "text": [
            "/usr/local/lib/python3.6/dist-packages/statsmodels/tools/_testing.py:19: FutureWarning: pandas.util.testing is deprecated. Use the functions in the public API at pandas.testing instead.\n",
            "  import pandas.util.testing as tm\n",
            "Using TensorFlow backend.\n"
          ],
          "name": "stderr"
        }
      ]
    },
    {
      "cell_type": "code",
      "metadata": {
        "id": "0KaSTy7jjdqQ",
        "colab_type": "code",
        "colab": {}
      },
      "source": [
        "import glob\n",
        "from keras.preprocessing.image import ImageDataGenerator, load_img, img_to_array, array_to_img\n",
        "%matplotlib inline"
      ],
      "execution_count": 0,
      "outputs": []
    },
    {
      "cell_type": "code",
      "metadata": {
        "id": "jG-BMnlwkU0m",
        "colab_type": "code",
        "outputId": "0fa04cad-69d7-49dc-98a5-ffc286be2735",
        "colab": {
          "base_uri": "https://localhost:8080/",
          "height": 121
        }
      },
      "source": [
        "from google.colab import drive\n",
        "drive.mount('/content/gdrive')"
      ],
      "execution_count": 3,
      "outputs": [
        {
          "output_type": "stream",
          "text": [
            "Go to this URL in a browser: https://accounts.google.com/o/oauth2/auth?client_id=947318989803-6bn6qk8qdgf4n4g3pfee6491hc0brc4i.apps.googleusercontent.com&redirect_uri=urn%3aietf%3awg%3aoauth%3a2.0%3aoob&response_type=code&scope=email%20https%3a%2f%2fwww.googleapis.com%2fauth%2fdocs.test%20https%3a%2f%2fwww.googleapis.com%2fauth%2fdrive%20https%3a%2f%2fwww.googleapis.com%2fauth%2fdrive.photos.readonly%20https%3a%2f%2fwww.googleapis.com%2fauth%2fpeopleapi.readonly\n",
            "\n",
            "Enter your authorization code:\n",
            "··········\n",
            "Mounted at /content/gdrive\n"
          ],
          "name": "stdout"
        }
      ]
    },
    {
      "cell_type": "code",
      "metadata": {
        "id": "uCk91bchCZTF",
        "colab_type": "code",
        "colab": {}
      },
      "source": [
        "data = pd.read_json(\"https://raw.githubusercontent.com/TiernonRR/Dank_AIT/master/text_analysis/dank_cleaned.json\")\n",
        "data['ups_normed'] = data['ups']/data['subscribers']"
      ],
      "execution_count": 0,
      "outputs": []
    },
    {
      "cell_type": "code",
      "metadata": {
        "id": "NN4qzjFDEsmD",
        "colab_type": "code",
        "colab": {}
      },
      "source": [
        "def data_delimit(threshold): #take a percentage, consider all memes that have more upvotes than this percentile to be dank\n",
        "    data['dank_level'] = data['ups_normed'].apply(lambda x: 1 if x >= data['ups_normed'].quantile(threshold) else 0)"
      ],
      "execution_count": 0,
      "outputs": []
    },
    {
      "cell_type": "code",
      "metadata": {
        "id": "O_3iUFSZE1IN",
        "colab_type": "code",
        "colab": {}
      },
      "source": [
        "data_delimit(0.90) #considering 10% of memes to be dank"
      ],
      "execution_count": 0,
      "outputs": []
    },
    {
      "cell_type": "code",
      "metadata": {
        "id": "7AHl7BUZHoLl",
        "colab_type": "code",
        "colab": {
          "base_uri": "https://localhost:8080/",
          "height": 366
        },
        "outputId": "21d8fa5d-8e57-48e8-b60b-3046035c57a7"
      },
      "source": [
        "data.head(5)"
      ],
      "execution_count": 34,
      "outputs": [
        {
          "output_type": "execute_result",
          "data": {
            "text/html": [
              "<div>\n",
              "<style scoped>\n",
              "    .dataframe tbody tr th:only-of-type {\n",
              "        vertical-align: middle;\n",
              "    }\n",
              "\n",
              "    .dataframe tbody tr th {\n",
              "        vertical-align: top;\n",
              "    }\n",
              "\n",
              "    .dataframe thead th {\n",
              "        text-align: right;\n",
              "    }\n",
              "</style>\n",
              "<table border=\"1\" class=\"dataframe\">\n",
              "  <thead>\n",
              "    <tr style=\"text-align: right;\">\n",
              "      <th></th>\n",
              "      <th>author</th>\n",
              "      <th>awards</th>\n",
              "      <th>created_utc</th>\n",
              "      <th>text_from_image</th>\n",
              "      <th>words</th>\n",
              "      <th>processed_words</th>\n",
              "      <th>downs</th>\n",
              "      <th>id</th>\n",
              "      <th>is_nsfw</th>\n",
              "      <th>media</th>\n",
              "      <th>subreddit</th>\n",
              "      <th>subscribers</th>\n",
              "      <th>thumbnail.height</th>\n",
              "      <th>thumbnail.thumbnail</th>\n",
              "      <th>thumbnail.width</th>\n",
              "      <th>title</th>\n",
              "      <th>ups</th>\n",
              "      <th>url</th>\n",
              "      <th>ups_normed</th>\n",
              "      <th>dank_level</th>\n",
              "    </tr>\n",
              "  </thead>\n",
              "  <tbody>\n",
              "    <tr>\n",
              "      <th>1</th>\n",
              "      <td>L71U</td>\n",
              "      <td>[]</td>\n",
              "      <td>1584295514</td>\n",
              "      <td>NICE DICK\\r\\n</td>\n",
              "      <td>Ricardo😎NICE DICK\\r\\n</td>\n",
              "      <td>[ricardo, nice, dick]</td>\n",
              "      <td>0</td>\n",
              "      <td>fj5ixk</td>\n",
              "      <td>False</td>\n",
              "      <td>https://i.redd.it/w6acm47gmvm41.jpg</td>\n",
              "      <td>r/dank_meme</td>\n",
              "      <td>743116</td>\n",
              "      <td>136.0</td>\n",
              "      <td>https://b.thumbs.redditmedia.com/PixKjoPWVw738...</td>\n",
              "      <td>140.0</td>\n",
              "      <td>Ricardo😎</td>\n",
              "      <td>35</td>\n",
              "      <td>/r/dank_meme/comments/fj5ixk/ricardo/</td>\n",
              "      <td>0.000047</td>\n",
              "      <td>1</td>\n",
              "    </tr>\n",
              "    <tr>\n",
              "      <th>2</th>\n",
              "      <td>Awesome-ness5</td>\n",
              "      <td>[]</td>\n",
              "      <td>1584294841</td>\n",
              "      <td>Nvidia's calling on gaming PC owners to\\r\\nput...</td>\n",
              "      <td>Gamers AssembleNvidia's calling on gaming PC o...</td>\n",
              "      <td>[gamer, assemblenvidia, call, game, owner, sys...</td>\n",
              "      <td>0</td>\n",
              "      <td>fj5bzj</td>\n",
              "      <td>False</td>\n",
              "      <td>https://i.redd.it/bqawbb5gkvm41.jpg</td>\n",
              "      <td>r/dank_meme</td>\n",
              "      <td>743116</td>\n",
              "      <td>140.0</td>\n",
              "      <td>https://b.thumbs.redditmedia.com/Fj8eeEt78J-I6...</td>\n",
              "      <td>140.0</td>\n",
              "      <td>Gamers Assemble</td>\n",
              "      <td>11</td>\n",
              "      <td>/r/dank_meme/comments/fj5bzj/gamers_assemble/</td>\n",
              "      <td>0.000015</td>\n",
              "      <td>1</td>\n",
              "    </tr>\n",
              "    <tr>\n",
              "      <th>5</th>\n",
              "      <td>None</td>\n",
              "      <td>[]</td>\n",
              "      <td>1584293979</td>\n",
              "      <td>JANUARY\\r\\nFEBRUARY\\r\\nMARCH\\r\\nAPRIL\\r\\ncnu\\r...</td>\n",
              "      <td>2020 in a nutshellJANUARY\\r\\nFEBRUARY\\r\\nMARCH...</td>\n",
              "      <td>[nutshelljanuari, februari, march, april, plag...</td>\n",
              "      <td>0</td>\n",
              "      <td>fj53jo</td>\n",
              "      <td>False</td>\n",
              "      <td>https://i.imgur.com/7LmxYnC.png</td>\n",
              "      <td>r/dank_meme</td>\n",
              "      <td>743116</td>\n",
              "      <td>140.0</td>\n",
              "      <td>default</td>\n",
              "      <td>140.0</td>\n",
              "      <td>2020 in a nutshell</td>\n",
              "      <td>1</td>\n",
              "      <td>/r/dank_meme/comments/fj53jo/2020_in_a_nutshell/</td>\n",
              "      <td>0.000001</td>\n",
              "      <td>0</td>\n",
              "    </tr>\n",
              "    <tr>\n",
              "      <th>7</th>\n",
              "      <td>notaspop</td>\n",
              "      <td>[]</td>\n",
              "      <td>1584293653</td>\n",
              "      <td>When you post a low-effort meme\\r\\nfor fun to ...</td>\n",
              "      <td>I mean.... Not Corona time?When you post a low...</td>\n",
              "      <td>[mean, corona, time, post, effort, meme, peopl...</td>\n",
              "      <td>0</td>\n",
              "      <td>fj50df</td>\n",
              "      <td>False</td>\n",
              "      <td>https://i.redd.it/v5pea6wwgvm41.jpg</td>\n",
              "      <td>r/dank_meme</td>\n",
              "      <td>743116</td>\n",
              "      <td>140.0</td>\n",
              "      <td>default</td>\n",
              "      <td>140.0</td>\n",
              "      <td>I mean.... Not Corona time?</td>\n",
              "      <td>1</td>\n",
              "      <td>/r/dank_meme/comments/fj50df/i_mean_not_corona...</td>\n",
              "      <td>0.000001</td>\n",
              "      <td>0</td>\n",
              "    </tr>\n",
              "    <tr>\n",
              "      <th>8</th>\n",
              "      <td>Gaunja420</td>\n",
              "      <td>[]</td>\n",
              "      <td>1584293617</td>\n",
              "      <td>H A p pyt1A\\r\\n</td>\n",
              "      <td>WheNH A p pyt1A\\r\\n</td>\n",
              "      <td>[whenh]</td>\n",
              "      <td>0</td>\n",
              "      <td>fj501g</td>\n",
              "      <td>False</td>\n",
              "      <td>https://i.redd.it/809pja1tgvm41.gif</td>\n",
              "      <td>r/dank_meme</td>\n",
              "      <td>743116</td>\n",
              "      <td>140.0</td>\n",
              "      <td>default</td>\n",
              "      <td>140.0</td>\n",
              "      <td>WheN</td>\n",
              "      <td>1</td>\n",
              "      <td>/r/dank_meme/comments/fj501g/when/</td>\n",
              "      <td>0.000001</td>\n",
              "      <td>0</td>\n",
              "    </tr>\n",
              "  </tbody>\n",
              "</table>\n",
              "</div>"
            ],
            "text/plain": [
              "          author awards  ...  ups_normed dank_level\n",
              "1           L71U     []  ...    0.000047          1\n",
              "2  Awesome-ness5     []  ...    0.000015          1\n",
              "5           None     []  ...    0.000001          0\n",
              "7       notaspop     []  ...    0.000001          0\n",
              "8      Gaunja420     []  ...    0.000001          0\n",
              "\n",
              "[5 rows x 20 columns]"
            ]
          },
          "metadata": {
            "tags": []
          },
          "execution_count": 34
        }
      ]
    },
    {
      "cell_type": "code",
      "metadata": {
        "id": "_ypHIyxgFJn-",
        "colab_type": "code",
        "colab": {
          "base_uri": "https://localhost:8080/",
          "height": 282
        },
        "outputId": "74d4e81f-b3a1-436f-8cd8-d66867f84e91"
      },
      "source": [
        "plt.hist(data['dank_level'], bins = 2)"
      ],
      "execution_count": 23,
      "outputs": [
        {
          "output_type": "execute_result",
          "data": {
            "text/plain": [
              "(array([34231.,  3804.]), array([0. , 0.5, 1. ]), <a list of 2 Patch objects>)"
            ]
          },
          "metadata": {
            "tags": []
          },
          "execution_count": 23
        },
        {
          "output_type": "display_data",
          "data": {
            "image/png": "[encoded data removed]",
            "text/plain": [
              "<Figure size 432x288 with 1 Axes>"
            ]
          },
          "metadata": {
            "tags": [],
            "needs_background": "light"
          }
        }
      ]
    },
    {
      "cell_type": "code",
      "metadata": {
        "id": "5MEH86ovCs7W",
        "colab_type": "code",
        "colab": {}
      },
      "source": [
        "imageDir = '/content/gdrive/My Drive/Colab Notebooks/Memes Project/raw_data/*'\n",
        "image_files = glob.glob(imageDir)"
      ],
      "execution_count": 0,
      "outputs": []
    },
    {
      "cell_type": "code",
      "metadata": {
        "id": "LPKlVt1zDItb",
        "colab_type": "code",
        "colab": {
          "base_uri": "https://localhost:8080/",
          "height": 34
        },
        "outputId": "6af4667b-dbc3-47eb-bbe8-2b7ad4a5fc79"
      },
      "source": [
        "len(image_files)"
      ],
      "execution_count": 25,
      "outputs": [
        {
          "output_type": "execute_result",
          "data": {
            "text/plain": [
              "37039"
            ]
          },
          "metadata": {
            "tags": []
          },
          "execution_count": 25
        }
      ]
    },
    {
      "cell_type": "code",
      "metadata": {
        "id": "XlgS1H8BF7u5",
        "colab_type": "code",
        "colab": {
          "base_uri": "https://localhost:8080/",
          "height": 50
        },
        "outputId": "1dfa0d2c-b592-491c-ae59-c7b003bfde66"
      },
      "source": [
        "image_files[0:2]"
      ],
      "execution_count": 26,
      "outputs": [
        {
          "output_type": "execute_result",
          "data": {
            "text/plain": [
              "['/content/gdrive/My Drive/Colab Notebooks/Memes Project/raw_data/fhmf0n.jpg',\n",
              " '/content/gdrive/My Drive/Colab Notebooks/Memes Project/raw_data/fhmeyo.jpg']"
            ]
          },
          "metadata": {
            "tags": []
          },
          "execution_count": 26
        }
      ]
    },
    {
      "cell_type": "code",
      "metadata": {
        "id": "vMIOD-goF6AO",
        "colab_type": "code",
        "colab": {
          "base_uri": "https://localhost:8080/",
          "height": 34
        },
        "outputId": "ba14239b-97f7-478a-a087-6bc509ee4871"
      },
      "source": [
        "def getDankLevel(imageLink):\n",
        "  imgID = imageLink.split('/')[-1].split('.')[0] #find image id based on the file name\n",
        "  return list(data.loc[data['id'] == imgID]['dank_level'])[0] #look up the dank_level based on the image id\n",
        "getDankLevel(image_files[1])"
      ],
      "execution_count": 43,
      "outputs": [
        {
          "output_type": "execute_result",
          "data": {
            "text/plain": [
              "0"
            ]
          },
          "metadata": {
            "tags": []
          },
          "execution_count": 43
        }
      ]
    },
    {
      "cell_type": "code",
      "metadata": {
        "id": "y2LMm-OdKFM5",
        "colab_type": "code",
        "colab": {
          "base_uri": "https://localhost:8080/",
          "height": 34
        },
        "outputId": "045e17ef-45c3-42f6-fbf3-8ab3f4ff9bad"
      },
      "source": [
        "#calculating the interval to seperate the train, validation, and test files\n",
        "interval = len(dank_files)//4 \n",
        "interval"
      ],
      "execution_count": 51,
      "outputs": [
        {
          "output_type": "execute_result",
          "data": {
            "text/plain": [
              "939"
            ]
          },
          "metadata": {
            "tags": []
          },
          "execution_count": 51
        }
      ]
    },
    {
      "cell_type": "code",
      "metadata": {
        "id": "f5i0KKJXK1SH",
        "colab_type": "code",
        "colab": {
          "base_uri": "https://localhost:8080/",
          "height": 50
        },
        "outputId": "ba6c973f-a930-43d9-a72a-3c3c84a902b8"
      },
      "source": [
        "dank_files = [img for img in image_files if getDankLevel(img) == 1]\n",
        "not_dank_files = list(set(image_files) - set(dank_files))\n",
        "\n",
        "dank_train = np.random.choice(dank_files, size=2*interval, replace=False)\n",
        "not_dank_train = np.random.choice(not_dank_files, size=2*interval, replace=False)\n",
        "dank_files = list(set(dank_files) - set(dank_train))\n",
        "not_dank_files = list(set(not_dank_files) - set(not_dank_train))\n",
        "\n",
        "dank_val = np.random.choice(dank_files, size=interval, replace=False)\n",
        "not_dank_val = np.random.choice(not_dank_files, size=interval, replace=False)\n",
        "dank_files = list(set(dank_files) - set(dank_val))\n",
        "not_dank_files = list(set(not_dank_files) - set(not_dank_val))\n",
        "\n",
        "dank_test = dank_files\n",
        "not_dank_test = np.random.choice(not_dank_files, size=len(dank_test), replace=False)\n",
        "\n",
        "#Checking the set sizes\n",
        "print('Dank datasets:', len(dank_train), len(dank_val), len(dank_test))\n",
        "print('Not dank datasets:', len(not_dank_train), len(not_dank_val), len(not_dank_test))"
      ],
      "execution_count": 57,
      "outputs": [
        {
          "output_type": "stream",
          "text": [
            "Dank datasets: 1878 939 942\n",
            "Not dank datasets: 1878 939 942\n"
          ],
          "name": "stdout"
        }
      ]
    },
    {
      "cell_type": "code",
      "metadata": {
        "id": "ZZAncX-1M-Ht",
        "colab_type": "code",
        "colab": {}
      },
      "source": [
        "with open('/content/gdrive/My Drive/Colab Notebooks/Memes Project/dank_test.txt', 'w') as outfile:\n",
        "  outfile.write(\"\\n\".join(dank_test))"
      ],
      "execution_count": 0,
      "outputs": []
    },
    {
      "cell_type": "code",
      "metadata": {
        "id": "ECudUd1ENZ9m",
        "colab_type": "code",
        "colab": {}
      },
      "source": [
        "with open('/content/gdrive/My Drive/Colab Notebooks/Memes Project/not_dank_test.txt', 'w') as outfile:\n",
        "  outfile.write(\"\\n\".join(not_dank_test))"
      ],
      "execution_count": 0,
      "outputs": []
    },
    {
      "cell_type": "code",
      "metadata": {
        "id": "R0O2kR8djdqT",
        "colab_type": "code",
        "outputId": "b1b630ab-b275-44e2-b2e1-b3a7a6e31f04",
        "colab": {
          "base_uri": "https://localhost:8080/",
          "height": 34
        }
      },
      "source": [
        "IMG_DIM = (224, 224)\n",
        "dank_train = [str(item) for item in dank_train] #convert the array to string type\n",
        "not_dank_train = [str(item) for item in not_dank_train] #convert the array to string type\n",
        "dank_val = [str(item) for item in dank_val] #convert the array to string type\n",
        "not_dank_val = [str(item) for item in not_dank_val] #convert the array to string type\n",
        "\n",
        "train_files = dank_train + not_dank_train\n",
        "train_imgs = [img_to_array(load_img(img, target_size=IMG_DIM)) for img in train_files]\n",
        "train_imgs = np.array(train_imgs)\n",
        "\n",
        "validation_files = dank_val + not_dank_val\n",
        "validation_imgs = [img_to_array(load_img(img, target_size=IMG_DIM)) for img in validation_files]\n",
        "validation_imgs = np.array(validation_imgs)\n",
        "\n",
        "print('Train dataset shape:', train_imgs.shape, \n",
        "      '\\tValidation dataset shape:', validation_imgs.shape)"
      ],
      "execution_count": 68,
      "outputs": [
        {
          "output_type": "stream",
          "text": [
            "Train dataset shape: (3756, 224, 224, 3) \tValidation dataset shape: (1878, 224, 224, 3)\n"
          ],
          "name": "stdout"
        }
      ]
    },
    {
      "cell_type": "code",
      "metadata": {
        "id": "PBvaA8EPtiZ_",
        "colab_type": "code",
        "colab": {}
      },
      "source": [
        "train_labels = [getDankLevel(fn) for fn in train_files]\n",
        "validation_labels = [getDankLevel(fn) for fn in validation_files]"
      ],
      "execution_count": 0,
      "outputs": []
    },
    {
      "cell_type": "code",
      "metadata": {
        "id": "gUaXJHZgjdqW",
        "colab_type": "code",
        "outputId": "24678695-9fe3-482d-a9a0-37d061ffc6ba",
        "colab": {
          "base_uri": "https://localhost:8080/",
          "height": 258
        }
      },
      "source": [
        "train_imgs_scaled = train_imgs.astype('float32')\n",
        "validation_imgs_scaled  = validation_imgs.astype('float32')\n",
        "train_imgs_scaled /= 255\n",
        "validation_imgs_scaled /= 255\n",
        "\n",
        "print(train_imgs[0].shape)\n",
        "array_to_img(train_imgs[0])"
      ],
      "execution_count": 75,
      "outputs": [
        {
          "output_type": "stream",
          "text": [
            "(224, 224, 3)\n"
          ],
          "name": "stdout"
        },
        {
          "output_type": "execute_result",
          "data": {
            "image/png": "[encoded data removed]",
            "text/plain": [
              "<PIL.Image.Image image mode=RGB size=224x224 at 0x7FEEDC335E10>"
            ]
          },
          "metadata": {
            "tags": []
          },
          "execution_count": 75
        }
      ]
    },
    {
      "cell_type": "code",
      "metadata": {
        "id": "QYpWW3A_jdqZ",
        "colab_type": "code",
        "outputId": "1c565335-1334-4f3c-ac46-dd782903a7fb",
        "colab": {
          "base_uri": "https://localhost:8080/",
          "height": 34
        }
      },
      "source": [
        "batch_size = 30\n",
        "num_classes = 2\n",
        "epochs = 100\n",
        "input_shape = (224, 224, 3)\n",
        "\n",
        "# encode text category labels\n",
        "from sklearn.preprocessing import LabelEncoder\n",
        "\n",
        "le = LabelEncoder()\n",
        "le.fit(train_labels)\n",
        "train_labels_enc = le.transform(train_labels)\n",
        "validation_labels_enc = le.transform(validation_labels)\n",
        "\n",
        "print(train_labels[1495:1505], train_labels_enc[1495:1505]) #1 is dank, 0 is not dank"
      ],
      "execution_count": 76,
      "outputs": [
        {
          "output_type": "stream",
          "text": [
            "[1, 1, 1, 1, 1, 1, 1, 1, 1, 1] [1 1 1 1 1 1 1 1 1 1]\n"
          ],
          "name": "stdout"
        }
      ]
    },
    {
      "cell_type": "code",
      "metadata": {
        "id": "lTFBImscjdqm",
        "colab_type": "code",
        "outputId": "20e356e1-f157-419a-f3da-9c44fc689a65",
        "colab": {
          "base_uri": "https://localhost:8080/",
          "height": 430
        }
      },
      "source": [
        "from keras.models import Model\n",
        "vgg = vgg16.VGG16(include_top=False, weights='imagenet', \n",
        "                                     input_shape=input_shape)\n",
        "\n",
        "output = vgg.layers[-1].output\n",
        "output = keras.layers.Flatten()(output)\n",
        "vgg_model = Model(vgg.input, output)\n",
        "\n",
        "vgg_model.trainable = False\n",
        "for layer in vgg_model.layers:\n",
        "    layer.trainable = False\n",
        "pd.set_option('max_colwidth', -1)\n",
        "layers = [(layer, layer.name, layer.trainable) for layer in vgg_model.layers]\n",
        "pd.DataFrame(layers, columns=['Layer Type', 'Layer Name', 'Layer Trainable']).tail(10)    "
      ],
      "execution_count": 77,
      "outputs": [
        {
          "output_type": "stream",
          "text": [
            "Downloading data from https://github.com/fchollet/deep-learning-models/releases/download/v0.1/vgg16_weights_tf_dim_ordering_tf_kernels_notop.h5\n",
            "58892288/58889256 [==============================] - 5s 0us/step\n"
          ],
          "name": "stdout"
        },
        {
          "output_type": "stream",
          "text": [
            "/usr/local/lib/python3.6/dist-packages/ipykernel_launcher.py:12: FutureWarning: Passing a negative integer is deprecated in version 1.0 and will not be supported in future version. Instead, use None to not limit the column width.\n",
            "  if sys.path[0] == '':\n"
          ],
          "name": "stderr"
        },
        {
          "output_type": "execute_result",
          "data": {
            "text/html": [
              "<div>\n",
              "<style scoped>\n",
              "    .dataframe tbody tr th:only-of-type {\n",
              "        vertical-align: middle;\n",
              "    }\n",
              "\n",
              "    .dataframe tbody tr th {\n",
              "        vertical-align: top;\n",
              "    }\n",
              "\n",
              "    .dataframe thead th {\n",
              "        text-align: right;\n",
              "    }\n",
              "</style>\n",
              "<table border=\"1\" class=\"dataframe\">\n",
              "  <thead>\n",
              "    <tr style=\"text-align: right;\">\n",
              "      <th></th>\n",
              "      <th>Layer Type</th>\n",
              "      <th>Layer Name</th>\n",
              "      <th>Layer Trainable</th>\n",
              "    </tr>\n",
              "  </thead>\n",
              "  <tbody>\n",
              "    <tr>\n",
              "      <th>10</th>\n",
              "      <td>&lt;keras.layers.pooling.MaxPooling2D object at 0x7feedc2e24a8&gt;</td>\n",
              "      <td>block3_pool</td>\n",
              "      <td>False</td>\n",
              "    </tr>\n",
              "    <tr>\n",
              "      <th>11</th>\n",
              "      <td>&lt;keras.layers.convolutional.Conv2D object at 0x7feedc2e22b0&gt;</td>\n",
              "      <td>block4_conv1</td>\n",
              "      <td>False</td>\n",
              "    </tr>\n",
              "    <tr>\n",
              "      <th>12</th>\n",
              "      <td>&lt;keras.layers.convolutional.Conv2D object at 0x7feedc2e2f98&gt;</td>\n",
              "      <td>block4_conv2</td>\n",
              "      <td>False</td>\n",
              "    </tr>\n",
              "    <tr>\n",
              "      <th>13</th>\n",
              "      <td>&lt;keras.layers.convolutional.Conv2D object at 0x7feedc2e3dd8&gt;</td>\n",
              "      <td>block4_conv3</td>\n",
              "      <td>False</td>\n",
              "    </tr>\n",
              "    <tr>\n",
              "      <th>14</th>\n",
              "      <td>&lt;keras.layers.pooling.MaxPooling2D object at 0x7feedbac6b38&gt;</td>\n",
              "      <td>block4_pool</td>\n",
              "      <td>False</td>\n",
              "    </tr>\n",
              "    <tr>\n",
              "      <th>15</th>\n",
              "      <td>&lt;keras.layers.convolutional.Conv2D object at 0x7feedbac6940&gt;</td>\n",
              "      <td>block5_conv1</td>\n",
              "      <td>False</td>\n",
              "    </tr>\n",
              "    <tr>\n",
              "      <th>16</th>\n",
              "      <td>&lt;keras.layers.convolutional.Conv2D object at 0x7feee57c5f60&gt;</td>\n",
              "      <td>block5_conv2</td>\n",
              "      <td>False</td>\n",
              "    </tr>\n",
              "    <tr>\n",
              "      <th>17</th>\n",
              "      <td>&lt;keras.layers.convolutional.Conv2D object at 0x7feee5840438&gt;</td>\n",
              "      <td>block5_conv3</td>\n",
              "      <td>False</td>\n",
              "    </tr>\n",
              "    <tr>\n",
              "      <th>18</th>\n",
              "      <td>&lt;keras.layers.pooling.MaxPooling2D object at 0x7feee58266d8&gt;</td>\n",
              "      <td>block5_pool</td>\n",
              "      <td>False</td>\n",
              "    </tr>\n",
              "    <tr>\n",
              "      <th>19</th>\n",
              "      <td>&lt;keras.layers.core.Flatten object at 0x7feee5826470&gt;</td>\n",
              "      <td>flatten_1</td>\n",
              "      <td>False</td>\n",
              "    </tr>\n",
              "  </tbody>\n",
              "</table>\n",
              "</div>"
            ],
            "text/plain": [
              "                                                      Layer Type  ... Layer Trainable\n",
              "10  <keras.layers.pooling.MaxPooling2D object at 0x7feedc2e24a8>  ...  False         \n",
              "11  <keras.layers.convolutional.Conv2D object at 0x7feedc2e22b0>  ...  False         \n",
              "12  <keras.layers.convolutional.Conv2D object at 0x7feedc2e2f98>  ...  False         \n",
              "13  <keras.layers.convolutional.Conv2D object at 0x7feedc2e3dd8>  ...  False         \n",
              "14  <keras.layers.pooling.MaxPooling2D object at 0x7feedbac6b38>  ...  False         \n",
              "15  <keras.layers.convolutional.Conv2D object at 0x7feedbac6940>  ...  False         \n",
              "16  <keras.layers.convolutional.Conv2D object at 0x7feee57c5f60>  ...  False         \n",
              "17  <keras.layers.convolutional.Conv2D object at 0x7feee5840438>  ...  False         \n",
              "18  <keras.layers.pooling.MaxPooling2D object at 0x7feee58266d8>  ...  False         \n",
              "19  <keras.layers.core.Flatten object at 0x7feee5826470>          ...  False         \n",
              "\n",
              "[10 rows x 3 columns]"
            ]
          },
          "metadata": {
            "tags": []
          },
          "execution_count": 77
        }
      ]
    },
    {
      "cell_type": "code",
      "metadata": {
        "id": "vIS_w7l6jdqp",
        "colab_type": "code",
        "outputId": "eaa11469-526c-48c8-abbe-0a2a8a5df9a5",
        "colab": {
          "base_uri": "https://localhost:8080/",
          "height": 298
        }
      },
      "source": [
        "bottleneck_feature_example = vgg.predict(train_imgs_scaled[0:1])\n",
        "print(bottleneck_feature_example.shape)\n",
        "plt.imshow(bottleneck_feature_example[0][:,:,0])"
      ],
      "execution_count": 78,
      "outputs": [
        {
          "output_type": "stream",
          "text": [
            "(1, 7, 7, 512)\n"
          ],
          "name": "stdout"
        },
        {
          "output_type": "execute_result",
          "data": {
            "text/plain": [
              "<matplotlib.image.AxesImage at 0x7feee0266be0>"
            ]
          },
          "metadata": {
            "tags": []
          },
          "execution_count": 78
        },
        {
          "output_type": "display_data",
          "data": {
            "image/png": "[encoded data removed]",
            "text/plain": [
              "<Figure size 432x288 with 1 Axes>"
            ]
          },
          "metadata": {
            "tags": [],
            "needs_background": "light"
          }
        }
      ]
    },
    {
      "cell_type": "code",
      "metadata": {
        "id": "VXEtKKB9jdqr",
        "colab_type": "code",
        "outputId": "948f8794-86d1-459d-f7f5-ddcfb7805f5d",
        "colab": {
          "base_uri": "https://localhost:8080/",
          "height": 343
        }
      },
      "source": [
        "#unfreeze some layers\n",
        "vgg_model.trainable = True\n",
        "\n",
        "retrain_layers = ['block5_conv1', 'block4_conv1']\n",
        "set_trainable = False\n",
        "for layer in vgg_model.layers:\n",
        "    if layer.name in retrain_layers:\n",
        "        set_trainable = True\n",
        "    if set_trainable:\n",
        "        layer.trainable = True\n",
        "    else:\n",
        "        layer.trainable = False\n",
        "        \n",
        "layers = [(layer, layer.name, layer.trainable) for layer in vgg_model.layers]\n",
        "pd.DataFrame(layers, columns=['Layer Type', 'Layer Name', 'Layer Trainable']).tail(10)   "
      ],
      "execution_count": 79,
      "outputs": [
        {
          "output_type": "execute_result",
          "data": {
            "text/html": [
              "<div>\n",
              "<style scoped>\n",
              "    .dataframe tbody tr th:only-of-type {\n",
              "        vertical-align: middle;\n",
              "    }\n",
              "\n",
              "    .dataframe tbody tr th {\n",
              "        vertical-align: top;\n",
              "    }\n",
              "\n",
              "    .dataframe thead th {\n",
              "        text-align: right;\n",
              "    }\n",
              "</style>\n",
              "<table border=\"1\" class=\"dataframe\">\n",
              "  <thead>\n",
              "    <tr style=\"text-align: right;\">\n",
              "      <th></th>\n",
              "      <th>Layer Type</th>\n",
              "      <th>Layer Name</th>\n",
              "      <th>Layer Trainable</th>\n",
              "    </tr>\n",
              "  </thead>\n",
              "  <tbody>\n",
              "    <tr>\n",
              "      <th>10</th>\n",
              "      <td>&lt;keras.layers.pooling.MaxPooling2D object at 0x7feedc2e24a8&gt;</td>\n",
              "      <td>block3_pool</td>\n",
              "      <td>False</td>\n",
              "    </tr>\n",
              "    <tr>\n",
              "      <th>11</th>\n",
              "      <td>&lt;keras.layers.convolutional.Conv2D object at 0x7feedc2e22b0&gt;</td>\n",
              "      <td>block4_conv1</td>\n",
              "      <td>True</td>\n",
              "    </tr>\n",
              "    <tr>\n",
              "      <th>12</th>\n",
              "      <td>&lt;keras.layers.convolutional.Conv2D object at 0x7feedc2e2f98&gt;</td>\n",
              "      <td>block4_conv2</td>\n",
              "      <td>True</td>\n",
              "    </tr>\n",
              "    <tr>\n",
              "      <th>13</th>\n",
              "      <td>&lt;keras.layers.convolutional.Conv2D object at 0x7feedc2e3dd8&gt;</td>\n",
              "      <td>block4_conv3</td>\n",
              "      <td>True</td>\n",
              "    </tr>\n",
              "    <tr>\n",
              "      <th>14</th>\n",
              "      <td>&lt;keras.layers.pooling.MaxPooling2D object at 0x7feedbac6b38&gt;</td>\n",
              "      <td>block4_pool</td>\n",
              "      <td>True</td>\n",
              "    </tr>\n",
              "    <tr>\n",
              "      <th>15</th>\n",
              "      <td>&lt;keras.layers.convolutional.Conv2D object at 0x7feedbac6940&gt;</td>\n",
              "      <td>block5_conv1</td>\n",
              "      <td>True</td>\n",
              "    </tr>\n",
              "    <tr>\n",
              "      <th>16</th>\n",
              "      <td>&lt;keras.layers.convolutional.Conv2D object at 0x7feee57c5f60&gt;</td>\n",
              "      <td>block5_conv2</td>\n",
              "      <td>True</td>\n",
              "    </tr>\n",
              "    <tr>\n",
              "      <th>17</th>\n",
              "      <td>&lt;keras.layers.convolutional.Conv2D object at 0x7feee5840438&gt;</td>\n",
              "      <td>block5_conv3</td>\n",
              "      <td>True</td>\n",
              "    </tr>\n",
              "    <tr>\n",
              "      <th>18</th>\n",
              "      <td>&lt;keras.layers.pooling.MaxPooling2D object at 0x7feee58266d8&gt;</td>\n",
              "      <td>block5_pool</td>\n",
              "      <td>True</td>\n",
              "    </tr>\n",
              "    <tr>\n",
              "      <th>19</th>\n",
              "      <td>&lt;keras.layers.core.Flatten object at 0x7feee5826470&gt;</td>\n",
              "      <td>flatten_1</td>\n",
              "      <td>True</td>\n",
              "    </tr>\n",
              "  </tbody>\n",
              "</table>\n",
              "</div>"
            ],
            "text/plain": [
              "                                                      Layer Type  ... Layer Trainable\n",
              "10  <keras.layers.pooling.MaxPooling2D object at 0x7feedc2e24a8>  ...  False         \n",
              "11  <keras.layers.convolutional.Conv2D object at 0x7feedc2e22b0>  ...  True          \n",
              "12  <keras.layers.convolutional.Conv2D object at 0x7feedc2e2f98>  ...  True          \n",
              "13  <keras.layers.convolutional.Conv2D object at 0x7feedc2e3dd8>  ...  True          \n",
              "14  <keras.layers.pooling.MaxPooling2D object at 0x7feedbac6b38>  ...  True          \n",
              "15  <keras.layers.convolutional.Conv2D object at 0x7feedbac6940>  ...  True          \n",
              "16  <keras.layers.convolutional.Conv2D object at 0x7feee57c5f60>  ...  True          \n",
              "17  <keras.layers.convolutional.Conv2D object at 0x7feee5840438>  ...  True          \n",
              "18  <keras.layers.pooling.MaxPooling2D object at 0x7feee58266d8>  ...  True          \n",
              "19  <keras.layers.core.Flatten object at 0x7feee5826470>          ...  True          \n",
              "\n",
              "[10 rows x 3 columns]"
            ]
          },
          "metadata": {
            "tags": []
          },
          "execution_count": 79
        }
      ]
    },
    {
      "cell_type": "code",
      "metadata": {
        "id": "agVLuv5Jjdqu",
        "colab_type": "code",
        "colab": {}
      },
      "source": [
        "# Image Augmentation generator to create variety of images\n",
        "train_datagen = ImageDataGenerator(rescale=1./255, zoom_range=0.3, rotation_range=50,\n",
        "                                   width_shift_range=0.2, height_shift_range=0.2, shear_range=0.2, \n",
        "                                   horizontal_flip=True, fill_mode='nearest')\n",
        "val_datagen = ImageDataGenerator(rescale=1./255)\n",
        "train_generator = train_datagen.flow(train_imgs, train_labels_enc, batch_size=30)\n",
        "val_generator = val_datagen.flow(validation_imgs, validation_labels_enc, batch_size=20)       "
      ],
      "execution_count": 0,
      "outputs": []
    },
    {
      "cell_type": "code",
      "metadata": {
        "id": "IL0rms5Pjdqy",
        "colab_type": "code",
        "colab": {}
      },
      "source": [
        "from keras.layers import Conv2D, MaxPooling2D, Flatten, Dense, Dropout, InputLayer\n",
        "from keras.models import Sequential\n",
        "from keras import optimizers\n",
        "from tensorflow.keras.optimizers import SGD, Adam, RMSprop, Adagrad\n",
        "\n",
        "model = Sequential()\n",
        "model.add(vgg_model)\n",
        "model.add(Dense(512, activation='relu', input_dim=input_shape))\n",
        "model.add(Dropout(0.15))\n",
        "model.add(Dense(512, activation='relu'))\n",
        "model.add(Dropout(0.15))\n",
        "model.add(Dense(1, activation='sigmoid'))\n",
        "\n",
        "model.compile(loss='binary_crossentropy',\n",
        "              optimizer=optimizers.RMSprop(lr=1e-4),\n",
        "              metrics=['accuracy'])\n",
        "              "
      ],
      "execution_count": 0,
      "outputs": []
    },
    {
      "cell_type": "code",
      "metadata": {
        "id": "-_ECseynjdq3",
        "colab_type": "code",
        "outputId": "403a5daf-8054-4074-c705-1737717120d5",
        "colab": {
          "base_uri": "https://localhost:8080/",
          "height": 1000
        }
      },
      "source": [
        "history = model.fit_generator(train_generator, steps_per_epoch=100, epochs=50,\n",
        "                              validation_data=val_generator, validation_steps=50, \n",
        "                              verbose=1)     "
      ],
      "execution_count": 82,
      "outputs": [
        {
          "output_type": "stream",
          "text": [
            "Epoch 1/50\n",
            "100/100 [==============================] - 67s 666ms/step - loss: 0.7257 - accuracy: 0.5007 - val_loss: 0.6915 - val_accuracy: 0.5110\n",
            "Epoch 2/50\n",
            "100/100 [==============================] - 61s 614ms/step - loss: 0.6941 - accuracy: 0.4869 - val_loss: 0.6929 - val_accuracy: 0.4950\n",
            "Epoch 3/50\n",
            "100/100 [==============================] - 58s 581ms/step - loss: 0.6932 - accuracy: 0.5053 - val_loss: 0.6935 - val_accuracy: 0.4770\n",
            "Epoch 4/50\n",
            "100/100 [==============================] - 58s 577ms/step - loss: 0.6932 - accuracy: 0.4856 - val_loss: 0.6926 - val_accuracy: 0.5220\n",
            "Epoch 5/50\n",
            "100/100 [==============================] - 58s 577ms/step - loss: 0.6932 - accuracy: 0.4906 - val_loss: 0.6930 - val_accuracy: 0.5010\n",
            "Epoch 6/50\n",
            "100/100 [==============================] - 60s 605ms/step - loss: 0.6932 - accuracy: 0.4862 - val_loss: 0.6929 - val_accuracy: 0.5150\n",
            "Epoch 7/50\n",
            "100/100 [==============================] - 59s 587ms/step - loss: 0.6932 - accuracy: 0.4926 - val_loss: 0.6937 - val_accuracy: 0.5270\n",
            "Epoch 8/50\n",
            "100/100 [==============================] - 58s 581ms/step - loss: 0.6932 - accuracy: 0.4987 - val_loss: 0.6923 - val_accuracy: 0.5180\n",
            "Epoch 9/50\n",
            "100/100 [==============================] - 58s 575ms/step - loss: 0.6932 - accuracy: 0.4926 - val_loss: 0.6933 - val_accuracy: 0.4910\n",
            "Epoch 10/50\n",
            "100/100 [==============================] - 57s 572ms/step - loss: 0.6932 - accuracy: 0.5027 - val_loss: 0.6929 - val_accuracy: 0.5271\n",
            "Epoch 11/50\n",
            "100/100 [==============================] - 60s 599ms/step - loss: 0.6932 - accuracy: 0.4906 - val_loss: 0.6938 - val_accuracy: 0.4880\n",
            "Epoch 12/50\n",
            "100/100 [==============================] - 59s 590ms/step - loss: 0.6932 - accuracy: 0.4906 - val_loss: 0.6935 - val_accuracy: 0.5120\n",
            "Epoch 13/50\n",
            "100/100 [==============================] - 58s 582ms/step - loss: 0.6932 - accuracy: 0.4807 - val_loss: 0.6932 - val_accuracy: 0.5050\n",
            "Epoch 14/50\n",
            "100/100 [==============================] - 58s 581ms/step - loss: 0.6932 - accuracy: 0.5040 - val_loss: 0.6945 - val_accuracy: 0.5040\n",
            "Epoch 15/50\n",
            "100/100 [==============================] - 58s 580ms/step - loss: 0.6932 - accuracy: 0.4892 - val_loss: 0.6933 - val_accuracy: 0.4940\n",
            "Epoch 16/50\n",
            "100/100 [==============================] - 61s 605ms/step - loss: 0.6932 - accuracy: 0.4963 - val_loss: 0.6934 - val_accuracy: 0.4860\n",
            "Epoch 17/50\n",
            "100/100 [==============================] - 59s 592ms/step - loss: 0.6932 - accuracy: 0.4973 - val_loss: 0.6929 - val_accuracy: 0.5150\n",
            "Epoch 18/50\n",
            "100/100 [==============================] - 58s 584ms/step - loss: 0.6932 - accuracy: 0.5071 - val_loss: 0.6930 - val_accuracy: 0.4980\n",
            "Epoch 19/50\n",
            "100/100 [==============================] - 58s 580ms/step - loss: 0.6932 - accuracy: 0.5013 - val_loss: 0.6933 - val_accuracy: 0.4910\n",
            "Epoch 20/50\n",
            "100/100 [==============================] - 58s 584ms/step - loss: 0.6932 - accuracy: 0.4983 - val_loss: 0.6935 - val_accuracy: 0.5120\n",
            "Epoch 21/50\n",
            "100/100 [==============================] - 60s 596ms/step - loss: 0.6932 - accuracy: 0.4966 - val_loss: 0.6921 - val_accuracy: 0.4870\n",
            "Epoch 22/50\n",
            "100/100 [==============================] - 59s 588ms/step - loss: 0.6932 - accuracy: 0.4870 - val_loss: 0.6930 - val_accuracy: 0.5080\n",
            "Epoch 23/50\n",
            "100/100 [==============================] - 58s 576ms/step - loss: 0.6932 - accuracy: 0.4953 - val_loss: 0.6928 - val_accuracy: 0.4930\n",
            "Epoch 24/50\n",
            "100/100 [==============================] - 57s 573ms/step - loss: 0.6932 - accuracy: 0.4882 - val_loss: 0.6932 - val_accuracy: 0.4990\n",
            "Epoch 25/50\n",
            "100/100 [==============================] - 57s 573ms/step - loss: 0.6932 - accuracy: 0.4896 - val_loss: 0.6931 - val_accuracy: 0.4850\n",
            "Epoch 26/50\n",
            "100/100 [==============================] - 59s 594ms/step - loss: 0.6932 - accuracy: 0.4970 - val_loss: 0.6933 - val_accuracy: 0.4990\n",
            "Epoch 27/50\n",
            "100/100 [==============================] - 58s 581ms/step - loss: 0.6932 - accuracy: 0.4966 - val_loss: 0.6931 - val_accuracy: 0.4960\n",
            "Epoch 28/50\n",
            "100/100 [==============================] - 58s 578ms/step - loss: 0.6932 - accuracy: 0.4923 - val_loss: 0.6931 - val_accuracy: 0.4980\n",
            "Epoch 29/50\n",
            "100/100 [==============================] - 57s 572ms/step - loss: 0.6932 - accuracy: 0.4943 - val_loss: 0.6934 - val_accuracy: 0.5230\n",
            "Epoch 30/50\n",
            "100/100 [==============================] - 57s 572ms/step - loss: 0.6932 - accuracy: 0.4900 - val_loss: 0.6918 - val_accuracy: 0.4920\n",
            "Epoch 31/50\n",
            "100/100 [==============================] - 59s 590ms/step - loss: 0.6932 - accuracy: 0.4862 - val_loss: 0.6932 - val_accuracy: 0.4930\n",
            "Epoch 32/50\n",
            "100/100 [==============================] - 58s 576ms/step - loss: 0.6932 - accuracy: 0.4960 - val_loss: 0.6929 - val_accuracy: 0.5070\n",
            "Epoch 33/50\n",
            "100/100 [==============================] - 58s 576ms/step - loss: 0.6932 - accuracy: 0.4983 - val_loss: 0.6928 - val_accuracy: 0.4980\n",
            "Epoch 34/50\n",
            "100/100 [==============================] - 57s 570ms/step - loss: 0.6932 - accuracy: 0.4973 - val_loss: 0.6933 - val_accuracy: 0.4890\n",
            "Epoch 35/50\n",
            "100/100 [==============================] - 60s 602ms/step - loss: 0.6931 - accuracy: 0.5083 - val_loss: 0.6934 - val_accuracy: 0.5040\n",
            "Epoch 36/50\n",
            "100/100 [==============================] - 59s 588ms/step - loss: 0.6932 - accuracy: 0.4933 - val_loss: 0.6932 - val_accuracy: 0.4940\n",
            "Epoch 37/50\n",
            "100/100 [==============================] - 58s 576ms/step - loss: 0.6932 - accuracy: 0.4956 - val_loss: 0.6935 - val_accuracy: 0.4920\n",
            "Epoch 38/50\n",
            "100/100 [==============================] - 57s 573ms/step - loss: 0.6932 - accuracy: 0.4903 - val_loss: 0.6939 - val_accuracy: 0.5281\n",
            "Epoch 39/50\n",
            "100/100 [==============================] - 57s 575ms/step - loss: 0.6932 - accuracy: 0.4923 - val_loss: 0.6932 - val_accuracy: 0.5000\n",
            "Epoch 40/50\n",
            "100/100 [==============================] - 60s 604ms/step - loss: 0.6932 - accuracy: 0.4913 - val_loss: 0.6934 - val_accuracy: 0.4800\n",
            "Epoch 41/50\n",
            "100/100 [==============================] - 59s 592ms/step - loss: 0.6932 - accuracy: 0.4823 - val_loss: 0.6931 - val_accuracy: 0.5040\n",
            "Epoch 42/50\n",
            "100/100 [==============================] - 58s 576ms/step - loss: 0.6932 - accuracy: 0.4990 - val_loss: 0.6926 - val_accuracy: 0.5170\n",
            "Epoch 43/50\n",
            "100/100 [==============================] - 58s 584ms/step - loss: 0.6932 - accuracy: 0.4887 - val_loss: 0.6924 - val_accuracy: 0.5090\n",
            "Epoch 44/50\n",
            "100/100 [==============================] - 59s 585ms/step - loss: 0.6932 - accuracy: 0.5013 - val_loss: 0.6933 - val_accuracy: 0.4810\n",
            "Epoch 45/50\n",
            "100/100 [==============================] - 61s 607ms/step - loss: 0.6932 - accuracy: 0.4777 - val_loss: 0.6931 - val_accuracy: 0.5150\n",
            "Epoch 46/50\n",
            "100/100 [==============================] - 58s 585ms/step - loss: 0.6932 - accuracy: 0.4922 - val_loss: 0.6935 - val_accuracy: 0.4780\n",
            "Epoch 47/50\n",
            "100/100 [==============================] - 58s 579ms/step - loss: 0.6932 - accuracy: 0.4907 - val_loss: 0.6931 - val_accuracy: 0.5200\n",
            "Epoch 48/50\n",
            "100/100 [==============================] - 57s 574ms/step - loss: 0.6932 - accuracy: 0.4859 - val_loss: 0.6931 - val_accuracy: 0.5150\n",
            "Epoch 49/50\n",
            "100/100 [==============================] - 57s 569ms/step - loss: 0.6932 - accuracy: 0.4879 - val_loss: 0.6932 - val_accuracy: 0.4830\n",
            "Epoch 50/50\n",
            "100/100 [==============================] - 60s 603ms/step - loss: 0.6932 - accuracy: 0.4910 - val_loss: 0.6931 - val_accuracy: 0.5060\n"
          ],
          "name": "stdout"
        }
      ]
    },
    {
      "cell_type": "code",
      "metadata": {
        "id": "1RLrP1Uqjdq8",
        "colab_type": "code",
        "outputId": "612765e8-f29b-40a6-f8bd-72bbc74fcbd4",
        "colab": {
          "base_uri": "https://localhost:8080/",
          "height": 431
        }
      },
      "source": [
        "f, (ax1, ax2) = plt.subplots(1, 2, figsize=(15, 6))\n",
        "t = f.suptitle('Transfer Learning CNN Performance', fontsize=12)\n",
        "f.subplots_adjust(top=0.85, wspace=0.3)\n",
        "\n",
        "epoch_list = list(range(1,51))\n",
        "ax1.plot(epoch_list, history.history['accuracy'], label='Train Accuracy')\n",
        "ax1.plot(epoch_list, history.history['val_accuracy'], label='Validation Accuracy')\n",
        "ax1.set_xticks(np.arange(0, 51, 5))\n",
        "ax1.set_ylabel('Accuracy Value')\n",
        "ax1.set_xlabel('Epoch')\n",
        "ax1.set_title('Accuracy')\n",
        "l1 = ax1.legend(loc=\"best\")\n",
        "\n",
        "ax2.plot(epoch_list, history.history['loss'], label='Train Loss')\n",
        "ax2.plot(epoch_list, history.history['val_loss'], label='Validation Loss')\n",
        "ax2.set_xticks(np.arange(0, 51, 5))\n",
        "ax2.set_ylabel('Loss Value')\n",
        "ax2.set_xlabel('Epoch')\n",
        "ax2.set_title('Loss')\n",
        "l2 = ax2.legend(loc=\"best\")"
      ],
      "execution_count": 83,
      "outputs": [
        {
          "output_type": "display_data",
          "data": {
            "image/png": "[encoded data removed]",
            "text/plain": [
              "<Figure size 1080x432 with 2 Axes>"
            ]
          },
          "metadata": {
            "tags": [],
            "needs_background": "light"
          }
        }
      ]
    },
    {
      "cell_type": "code",
      "metadata": {
        "id": "2GFSHIcSZKeY",
        "colab_type": "code",
        "colab": {}
      },
      "source": [
        "model.save('/content/gdrive/My Drive/Colab Notebooks/Memes Project/finetune_img_aug_vgg16_0.15_10.h5')"
      ],
      "execution_count": 0,
      "outputs": []
    },
    {
      "cell_type": "code",
      "metadata": {
        "id": "_pU1MZOYs5K2",
        "colab_type": "code",
        "colab": {}
      },
      "source": [
        "def toString(arr):\n",
        "  return [str(item) for item in arr]"
      ],
      "execution_count": 0,
      "outputs": []
    },
    {
      "cell_type": "code",
      "metadata": {
        "id": "jJJEgz0GtLGS",
        "colab_type": "code",
        "colab": {}
      },
      "source": [
        "results = {}\n",
        "results['epoch_list'] = epoch_list\n",
        "results['accuracy'] = toString(history.history['accuracy'])\n",
        "results['val_accuracy'] = toString(history.history['val_accuracy'])\n",
        "results['val_loss'] = toString(history.history['val_loss'])\n",
        "results['loss'] = toString(history.history['loss'])"
      ],
      "execution_count": 0,
      "outputs": []
    },
    {
      "cell_type": "code",
      "metadata": {
        "id": "3s4ie1BmtJ3L",
        "colab_type": "code",
        "colab": {}
      },
      "source": [
        "with open('/content/gdrive/My Drive/Colab Notebooks/Memes Project/finetune_img_aug_vgg16_0.15_10_results.json', 'w') as outfile:\n",
        "  json.dump(results, outfile)"
      ],
      "execution_count": 0,
      "outputs": []
    }
  ]
}