{
 "cells": [
  {
   "cell_type": "code",
   "execution_count": 1,
   "metadata": {},
   "outputs": [
    {
     "name": "stderr",
     "output_type": "stream",
     "text": [
      "Using TensorFlow backend.\n"
     ]
    }
   ],
   "source": [
    "# load dependencies\n",
    "import glob\n",
    "import numpy as np\n",
    "import matplotlib.pyplot as plt\n",
    "from keras.preprocessing.image import load_img, img_to_array, array_to_img\n",
    "from keras.models import load_model\n",
    "import model_evaluation_utils as meu\n",
    "%matplotlib inline\n",
    "\n",
    "# load saved models\n",
    "tl_img_aug_finetune_cnn = load_model('dank_not_dank_tlearn_finetune_img_aug_cnn.h5')\n",
    "\n",
    "# load other configurations\n",
    "IMG_DIM = (299, 299)\n",
    "input_shape = (299, 299, 3)\n",
    "num2class_label_transformer = lambda l: ['dank' if x == 0 else 'not_dank' for x in l]\n",
    "class2num_label_transformer = lambda l: [0 if x == 'dank' else 1 for x in l]\n",
    "\n",
    "# load VGG model for bottleneck features\n",
    "from keras.applications import vgg16\n",
    "from keras.models import Model\n",
    "import keras\n",
    "\n",
    "vgg = vgg16.VGG16(include_top=False, weights='imagenet', \n",
    "                  input_shape=input_shape)\n",
    "output = vgg.layers[-1].output\n",
    "output = keras.layers.Flatten()(output)\n",
    "vgg_model = Model(vgg.input, output)\n",
    "vgg_model.trainable = False\n",
    "\n",
    "def get_bottleneck_features(model, input_imgs):\n",
    "    features = model.predict(input_imgs, verbose=0)\n",
    "    return features"
   ]
  },
  {
   "cell_type": "code",
   "execution_count": 2,
   "metadata": {},
   "outputs": [
    {
     "name": "stdout",
     "output_type": "stream",
     "text": [
      "Test dataset shape: (948, 299, 299, 3)\n",
      "['dank', 'dank', 'dank', 'dank', 'dank'] [0, 0, 0, 0, 0]\n"
     ]
    }
   ],
   "source": [
    "IMG_DIM = (299, 299)\n",
    "\n",
    "test_files = glob.glob('data/test_data/*')\n",
    "test_imgs = [img_to_array(load_img(img, target_size=IMG_DIM)) for img in test_files]\n",
    "test_imgs = np.array(test_imgs)\n",
    "test_labels = [fn.split('\\\\')[1].split('.')[0].strip() for fn in test_files]\n",
    "\n",
    "test_imgs_scaled = test_imgs.astype('float32')\n",
    "test_imgs_scaled /= 255\n",
    "test_labels_enc = class2num_label_transformer(test_labels)\n",
    "\n",
    "print('Test dataset shape:', test_imgs.shape)\n",
    "print(test_labels[0:5], test_labels_enc[0:5])"
   ]
  },
  {
   "cell_type": "code",
   "execution_count": 3,
   "metadata": {},
   "outputs": [],
   "source": [
    "predictions = tl_img_aug_finetune_cnn.predict_classes(test_imgs_scaled, verbose=0)\n",
    "predictions = num2class_label_transformer(predictions)"
   ]
  },
  {
   "cell_type": "code",
   "execution_count": 4,
   "metadata": {},
   "outputs": [
    {
     "name": "stdout",
     "output_type": "stream",
     "text": [
      "Model Performance metrics:\n",
      "------------------------------\n",
      "Accuracy: 0.5802\n",
      "Precision: 0.5874\n",
      "Recall: 0.5802\n",
      "F1 Score: 0.5713\n",
      "\n",
      "Model Classification report:\n",
      "------------------------------\n",
      "              precision    recall  f1-score   support\n",
      "\n",
      "    not_dank       0.61      0.44      0.51       474\n",
      "        dank       0.56      0.72      0.63       474\n",
      "\n",
      "    accuracy                           0.58       948\n",
      "   macro avg       0.59      0.58      0.57       948\n",
      "weighted avg       0.59      0.58      0.57       948\n",
      "\n",
      "\n",
      "Prediction Confusion Matrix:\n",
      "------------------------------\n",
      "                 Predicted:     \n",
      "                   not_dank dank\n",
      "Actual: not_dank        207  267\n",
      "        dank            131  343\n"
     ]
    }
   ],
   "source": [
    "meu.display_model_performance_metrics(true_labels=test_labels, predicted_labels=predictions, \n",
    "                                      classes=list(set(test_labels)))"
   ]
  },
  {
   "cell_type": "code",
   "execution_count": 6,
   "metadata": {},
   "outputs": [
    {
     "data": {
      "image/png": "[encoded data removed]",
      "text/plain": [
       "<Figure size 432x288 with 1 Axes>"
      ]
     },
     "metadata": {
      "needs_background": "light"
     },
     "output_type": "display_data"
    }
   ],
   "source": [
    "meu.plot_model_roc_curve(tl_img_aug_finetune_cnn, test_imgs_scaled, \n",
    "                         true_labels=test_labels_enc, \n",
    "                         class_names=[0, 1])"
   ]
  },
  {
   "cell_type": "code",
   "execution_count": null,
   "metadata": {},
   "outputs": [],
   "source": []
  }
 ],
 "metadata": {
  "kernelspec": {
   "display_name": "Python 3",
   "language": "python",
   "name": "python3"
  },
  "language_info": {
   "codemirror_mode": {
    "name": "ipython",
    "version": 3
   },
   "file_extension": ".py",
   "mimetype": "text/x-python",
   "name": "python",
   "nbconvert_exporter": "python",
   "pygments_lexer": "ipython3",
   "version": "3.7.7"
  }
 },
 "nbformat": 4,
 "nbformat_minor": 4
}
