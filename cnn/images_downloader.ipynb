{
 "cells": [
  {
   "cell_type": "code",
   "execution_count": 1,
   "metadata": {},
   "outputs": [],
   "source": [
    "import numpy as np\n",
    "import pandas as pd\n",
    "from pandas import DataFrame, Series\n",
    "import matplotlib.pyplot as plt\n",
    "import datetime\n",
    "import json \n",
    "import seaborn as sns; sns.set()\n",
    "from pandas.io.json import json_normalize"
   ]
  },
  {
   "cell_type": "code",
   "execution_count": 3,
   "metadata": {},
   "outputs": [],
   "source": [
    "# read in data from our github repository\n",
    "data = pd.read_json(\"https://raw.githubusercontent.com/TiernonRR/Dank_AIT/master/text_analysis/dank_cleaned.json\")\n",
    "#data['ups_normed'] = data['ups']/data['subscribers']"
   ]
  },
  {
   "cell_type": "code",
   "execution_count": 4,
   "metadata": {},
   "outputs": [],
   "source": [
    "def data_delimit(threshold): #take a percentage, consider all memes that have more upvotes than this percentile to be dank\n",
    "    data['dank_level'] = data['ups_normed'].apply(lambda x: 1 if x >= data['ups_normed'].quantile(threshold) else 0)"
   ]
  },
  {
   "cell_type": "code",
   "execution_count": 5,
   "metadata": {},
   "outputs": [],
   "source": [
    "#data_delimit(0.95) #considering 5% of memes to be dank"
   ]
  },
  {
   "cell_type": "code",
   "execution_count": 6,
   "metadata": {},
   "outputs": [],
   "source": [
    "#plt.hist(data['dank_level'], bins = 2)"
   ]
  },
  {
   "cell_type": "code",
   "execution_count": 7,
   "metadata": {},
   "outputs": [],
   "source": [
    "#sns.distplot(data['ups_normed'], color = 'r')"
   ]
  },
  {
   "cell_type": "code",
   "execution_count": 8,
   "metadata": {},
   "outputs": [],
   "source": [
    "#sns.distplot(data[data['dank_level'] == 1]['ups_normed'], color='r')"
   ]
  },
  {
   "cell_type": "code",
   "execution_count": 9,
   "metadata": {},
   "outputs": [],
   "source": [
    "#sns.distplot(data[data['dank_level'] == 0]['ups_normed'], color='r')"
   ]
  },
  {
   "cell_type": "code",
   "execution_count": 10,
   "metadata": {},
   "outputs": [],
   "source": [
    "#data_sorted = data.sort_values(['ups_normed'], ascending=0)\n",
    "#data_sorted"
   ]
  },
  {
   "cell_type": "code",
   "execution_count": null,
   "metadata": {
    "scrolled": true
   },
   "outputs": [
    {
     "name": "stdout",
     "output_type": "stream",
     "text": [
      "Image sucessfully Downloaded:  fj5ixk.jpg\n",
      "Image Couldn't be retrieved\n",
      "Image sucessfully Downloaded:  fj5bzj.jpg\n",
      "Image Couldn't be retrieved\n",
      "Image sucessfully Downloaded:  fj53jo.jpg\n",
      "Image Couldn't be retrieved\n",
      "Image sucessfully Downloaded:  fj50df.jpg\n",
      "Image Couldn't be retrieved\n",
      "Image sucessfully Downloaded:  fj501g.jpg\n",
      "Image Couldn't be retrieved\n",
      "Image sucessfully Downloaded:  fj4ycc.jpg\n",
      "Image Couldn't be retrieved\n",
      "Image sucessfully Downloaded:  fj4vfg.jpg\n",
      "Image Couldn't be retrieved\n",
      "Image sucessfully Downloaded:  fj4vff.jpg\n",
      "Image Couldn't be retrieved\n",
      "Image sucessfully Downloaded:  fj4m0x.jpg\n",
      "Image Couldn't be retrieved\n",
      "Image sucessfully Downloaded:  fj4ly3.jpg\n",
      "Image Couldn't be retrieved\n",
      "Image sucessfully Downloaded:  fj4hes.jpg\n",
      "Image Couldn't be retrieved\n",
      "Image sucessfully Downloaded:  fj4h0t.jpg\n",
      "Image Couldn't be retrieved\n",
      "Image sucessfully Downloaded:  fj434z.jpg\n",
      "Image Couldn't be retrieved\n",
      "Image sucessfully Downloaded:  fj3ybt.jpg\n",
      "Image Couldn't be retrieved\n",
      "Image sucessfully Downloaded:  fj3q0g.jpg\n",
      "Image Couldn't be retrieved\n",
      "Image sucessfully Downloaded:  fj3g17.jpg\n",
      "Image Couldn't be retrieved\n",
      "Image sucessfully Downloaded:  fj3foj.jpg\n",
      "Image Couldn't be retrieved\n",
      "Image Couldn't be retrieved\n",
      "Image sucessfully Downloaded:  fj3b2l.jpg\n",
      "Image Couldn't be retrieved\n",
      "Image sucessfully Downloaded:  fj2z7w.jpg\n",
      "Image Couldn't be retrieved\n",
      "Image sucessfully Downloaded:  fj2yst.jpg\n",
      "Image Couldn't be retrieved\n",
      "Image sucessfully Downloaded:  fj2y0w.jpg\n",
      "Image Couldn't be retrieved\n",
      "Image sucessfully Downloaded:  fj2uyt.jpg\n",
      "Image Couldn't be retrieved\n",
      "Image sucessfully Downloaded:  fj2tzw.jpg\n",
      "Image Couldn't be retrieved\n",
      "Image sucessfully Downloaded:  fj2a1j.jpg\n",
      "Image Couldn't be retrieved\n",
      "Image sucessfully Downloaded:  fj1wlc.jpg\n",
      "Image Couldn't be retrieved\n",
      "Image sucessfully Downloaded:  fj1t6d.jpg\n",
      "Image Couldn't be retrieved\n",
      "Image sucessfully Downloaded:  fj1b2p.jpg\n",
      "Image Couldn't be retrieved\n",
      "Image sucessfully Downloaded:  fj1ays.jpg\n",
      "Image Couldn't be retrieved\n",
      "Image sucessfully Downloaded:  fj12nt.jpg\n",
      "Image Couldn't be retrieved\n",
      "Image Couldn't be retrieved\n",
      "Image Couldn't be retrieved\n",
      "Image sucessfully Downloaded:  fj0vro.jpg\n",
      "Image Couldn't be retrieved\n",
      "Image sucessfully Downloaded:  fj0uju.jpg\n",
      "Image Couldn't be retrieved\n",
      "Image sucessfully Downloaded:  fj0qw7.jpg\n",
      "Image Couldn't be retrieved\n",
      "Image sucessfully Downloaded:  fj0nyd.jpg\n",
      "Image Couldn't be retrieved\n",
      "Image sucessfully Downloaded:  fj0ie6.jpg\n",
      "Image Couldn't be retrieved\n",
      "Image sucessfully Downloaded:  fj0esi.jpg\n",
      "Image Couldn't be retrieved\n",
      "Image sucessfully Downloaded:  fj03g0.jpg\n",
      "Image Couldn't be retrieved\n",
      "Image sucessfully Downloaded:  fj02aw.jpg\n",
      "Image Couldn't be retrieved\n",
      "Image sucessfully Downloaded:  fj0231.jpg\n",
      "Image Couldn't be retrieved\n",
      "Image sucessfully Downloaded:  fj01yy.jpg\n",
      "Image Couldn't be retrieved\n",
      "Image sucessfully Downloaded:  fizw4f.jpg\n",
      "Image Couldn't be retrieved\n",
      "Image sucessfully Downloaded:  fizqk2.jpg\n",
      "Image Couldn't be retrieved\n",
      "Image sucessfully Downloaded:  fiz7tq.jpg\n",
      "Image Couldn't be retrieved\n",
      "Image sucessfully Downloaded:  fiz6y9.jpg\n",
      "Image Couldn't be retrieved\n",
      "Image sucessfully Downloaded:  fiysfi.jpg\n",
      "Image Couldn't be retrieved\n",
      "Image sucessfully Downloaded:  fiykle.jpg\n",
      "Image Couldn't be retrieved\n",
      "Image Couldn't be retrieved\n"
     ]
    }
   ],
   "source": [
    "#Source: https://towardsdatascience.com/how-to-download-an-image-using-python-38a75cfa21c\n",
    "## Importing Necessary Modules\n",
    "import requests # to get image from the web\n",
    "import shutil # to save it locally\n",
    "\n",
    "for df_row in range(0,data.shape[0]):\n",
    "    row = data.iloc[df_row]\n",
    "    image_url = row['media']\n",
    "    filename ='{}.jpg'.format(row['id'])\n",
    "\n",
    "    try:\n",
    "        # Open the url image, set stream to True, this will return the stream content.\n",
    "        r = requests.get(image_url, stream = True)\n",
    "\n",
    "        # Check if the image was retrieved successfully\n",
    "        if r.status_code == 200:\n",
    "            # Set decode_content value to True, otherwise the downloaded image file's size will be zero.\n",
    "            r.raw.decode_content = True\n",
    "\n",
    "            # Open a local file with wb ( write binary ) permission.\n",
    "            with open(filename,'wb') as f:\n",
    "                shutil.copyfileobj(r.raw, f)\n",
    "\n",
    "            print('Image sucessfully Downloaded: ',filename)\n",
    "            iter+=1\n",
    "        else:\n",
    "            print('Image Couldn\\'t be retrieved')\n",
    "    except:\n",
    "        print('Image Couldn\\'t be retrieved')"
   ]
  }
 ],
 "metadata": {
  "kernelspec": {
   "display_name": "Python 3",
   "language": "python",
   "name": "python3"
  },
  "language_info": {
   "codemirror_mode": {
    "name": "ipython",
    "version": 3
   },
   "file_extension": ".py",
   "mimetype": "text/x-python",
   "name": "python",
   "nbconvert_exporter": "python",
   "pygments_lexer": "ipython3",
   "version": "3.7.7"
  }
 },
 "nbformat": 4,
 "nbformat_minor": 4
}
