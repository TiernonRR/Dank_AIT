{
 "cells": [
  {
   "cell_type": "code",
   "execution_count": 1,
   "metadata": {},
   "outputs": [
    {
     "data": {
      "text/plain": [
       "(1895, 35795)"
      ]
     },
     "execution_count": 1,
     "metadata": {},
     "output_type": "execute_result"
    }
   ],
   "source": [
    "import glob\n",
    "import numpy as np\n",
    "import os\n",
    "import shutil\n",
    "np.random.seed(42)\n",
    "dankfiles = glob.glob('dank/*')\n",
    "not_dankfiles = glob.glob('not_dank/*')\n",
    "dank_files = [fn for fn in dankfiles if 'dank' in fn]\n",
    "not_dank_files = [fn for fn in not_dankfiles if 'not_dank' in fn]\n",
    "len(dank_files), len(not_dank_files)"
   ]
  },
  {
   "cell_type": "code",
   "execution_count": 2,
   "metadata": {},
   "outputs": [
    {
     "name": "stdout",
     "output_type": "stream",
     "text": [
      "Dank datasets: (947,) (474,) (474,)\n",
      "Not dank datasets: (947,) (474,) (474,)\n"
     ]
    }
   ],
   "source": [
    "dank_train = np.random.choice(dank_files, size=947, replace=False)\n",
    "not_dank_train = np.random.choice(not_dank_files, size=947, replace=False)\n",
    "dank_files = list(set(dank_files) - set(dank_train))\n",
    "not_dank_files = list(set(not_dank_files) - set(not_dank_train))\n",
    "\n",
    "dank_val = np.random.choice(dank_files, size=474, replace=False)\n",
    "not_dank_val = np.random.choice(not_dank_files, size=474, replace=False)\n",
    "dank_files = list(set(dank_files) - set(dank_val))\n",
    "not_dank_files = list(set(not_dank_files) - set(not_dank_val))\n",
    "\n",
    "dank_test = np.random.choice(dank_files, size=474, replace=False)\n",
    "not_dank_test = np.random.choice(not_dank_files, size=474, replace=False)\n",
    "\n",
    "print('Dank datasets:', dank_train.shape, dank_val.shape, dank_test.shape)\n",
    "print('Not dank datasets:', dank_train.shape, not_dank_val.shape, not_dank_test.shape)"
   ]
  },
  {
   "cell_type": "code",
   "execution_count": 3,
   "metadata": {},
   "outputs": [],
   "source": [
    "train_dir = 'data/training_data'\n",
    "val_dir = 'data/validation_data'\n",
    "test_dir = 'data/test_data'\n",
    "\n",
    "train_files = np.concatenate([dank_train, not_dank_train])\n",
    "validate_files = np.concatenate([dank_val, not_dank_val])\n",
    "test_files = np.concatenate([dank_test, not_dank_test])\n",
    "\n",
    "os.mkdir(train_dir) if not os.path.isdir(train_dir) else None\n",
    "os.mkdir(val_dir) if not os.path.isdir(val_dir) else None\n",
    "os.mkdir(test_dir) if not os.path.isdir(test_dir) else None\n",
    "\n",
    "for fn in train_files:\n",
    "    shutil.copy(fn, train_dir)\n",
    "\n",
    "for fn in validate_files:\n",
    "    shutil.copy(fn, val_dir)\n",
    "    \n",
    "for fn in test_files:\n",
    "    shutil.copy(fn, test_dir)"
   ]
  },
  {
   "cell_type": "code",
   "execution_count": null,
   "metadata": {},
   "outputs": [],
   "source": []
  }
 ],
 "metadata": {
  "kernelspec": {
   "display_name": "Python 3",
   "language": "python",
   "name": "python3"
  },
  "language_info": {
   "codemirror_mode": {
    "name": "ipython",
    "version": 3
   },
   "file_extension": ".py",
   "mimetype": "text/x-python",
   "name": "python",
   "nbconvert_exporter": "python",
   "pygments_lexer": "ipython3",
   "version": "3.7.7"
  }
 },
 "nbformat": 4,
 "nbformat_minor": 4
}
