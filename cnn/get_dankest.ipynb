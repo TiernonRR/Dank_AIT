{
 "cells": [
  {
   "cell_type": "code",
   "execution_count": 1,
   "metadata": {},
   "outputs": [],
   "source": [
    "import glob\n",
    "import shutil"
   ]
  },
  {
   "cell_type": "code",
   "execution_count": 2,
   "metadata": {},
   "outputs": [
    {
     "data": {
      "text/plain": [
       "['./data/test\\\\fi8y8h.jpg',\n",
       " './data/test\\\\fi90ep.jpg',\n",
       " './data/test\\\\fi91cq.jpg',\n",
       " './data/test\\\\fi92ru.jpg',\n",
       " './data/test\\\\fi97e6.jpg']"
      ]
     },
     "execution_count": 2,
     "metadata": {},
     "output_type": "execute_result"
    }
   ],
   "source": [
    "files = glob.glob(\"./data/test/*\")\n",
    "files[0:5]"
   ]
  },
  {
   "cell_type": "code",
   "execution_count": 3,
   "metadata": {},
   "outputs": [],
   "source": [
    "with open(\"./dankest + non_dankest/dankest/dankest.txt\", \"r\") as infile:\n",
    "    dankIDs = infile.readlines()"
   ]
  },
  {
   "cell_type": "code",
   "execution_count": 4,
   "metadata": {},
   "outputs": [
    {
     "data": {
      "text/plain": [
       "['fk3khm', 'flrtsu', 'fj6nyu', 'fizuuw', 'fjasj1']"
      ]
     },
     "execution_count": 4,
     "metadata": {},
     "output_type": "execute_result"
    }
   ],
   "source": [
    "dankIDs = [elem.split(\"\\t\")[0] for elem in dankIDs]\n",
    "dankIDs[0:5]"
   ]
  },
  {
   "cell_type": "code",
   "execution_count": 5,
   "metadata": {},
   "outputs": [],
   "source": [
    "with open(\"./dankest + non_dankest/non_dankest/non_dankest.txt\", \"r\") as infile:\n",
    "    non_dankIDs = infile.readlines()"
   ]
  },
  {
   "cell_type": "code",
   "execution_count": 6,
   "metadata": {},
   "outputs": [],
   "source": [
    "non_dankIDs = [elem.split(\"\\t\")[0] for elem in non_dankIDs]"
   ]
  },
  {
   "cell_type": "code",
   "execution_count": 7,
   "metadata": {},
   "outputs": [
    {
     "data": {
      "text/plain": [
       "(10, 10)"
      ]
     },
     "execution_count": 7,
     "metadata": {},
     "output_type": "execute_result"
    }
   ],
   "source": [
    "len(dankIDs), len(non_dankIDs)"
   ]
  },
  {
   "cell_type": "code",
   "execution_count": 8,
   "metadata": {},
   "outputs": [],
   "source": [
    "for file in files:\n",
    "    fileName = file.split('\\\\')[-1]\n",
    "    fileID = str(fileName.split(\".\")[0])\n",
    "    if (fileID in dankIDs):\n",
    "        destPath = \"./dankest + non_dankest/dankest/\" + fileName\n",
    "        shutil.copy(file, destPath)\n",
    "    if (fileID in non_dankIDs):\n",
    "        destPath = \"./dankest + non_dankest/non_dankest/\" + fileName\n",
    "        shutil.copy(file, destPath)"
   ]
  }
 ],
 "metadata": {
  "kernelspec": {
   "display_name": "Python 3",
   "language": "python",
   "name": "python3"
  },
  "language_info": {
   "codemirror_mode": {
    "name": "ipython",
    "version": 3
   },
   "file_extension": ".py",
   "mimetype": "text/x-python",
   "name": "python",
   "nbconvert_exporter": "python",
   "pygments_lexer": "ipython3",
   "version": "3.7.7"
  }
 },
 "nbformat": 4,
 "nbformat_minor": 4
}
