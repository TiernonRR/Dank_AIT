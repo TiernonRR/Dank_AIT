{
 "cells": [
  {
   "cell_type": "code",
   "execution_count": 1,
   "metadata": {},
   "outputs": [],
   "source": [
    "# !pip install Praw\n",
    "# !pip install --upgrade praw"
   ]
  },
  {
   "cell_type": "code",
   "execution_count": 2,
   "metadata": {},
   "outputs": [],
   "source": [
    "import sys\n",
    "# !{sys.executable} -m pip install praw\n",
    "# !{sys.executable} -m pip install psaw\n",
    "import praw\n",
    "import pandas as pd\n",
    "import datetime as dt\n",
    "import json\n",
    "import psaw\n",
    "from psaw import PushshiftAPI\n",
    "\n",
    "f = open(\"secret_python.txt\", \"r\")\n",
    "client_id = f.readline().rstrip()\n",
    "secret_key = f.readline().rstrip()\n",
    "f.close()"
   ]
  },
  {
   "cell_type": "code",
   "execution_count": 3,
   "metadata": {},
   "outputs": [
    {
     "data": {
      "text/plain": [
       "True"
      ]
     },
     "execution_count": 3,
     "metadata": {},
     "output_type": "execute_result"
    }
   ],
   "source": [
    "reddit = praw.Reddit(client_id=client_id, \\\n",
    "                     client_secret=secret_key, \\\n",
    "                     user_agent='Scrape')\n",
    "\n",
    "reddit.read_only"
   ]
  },
  {
   "cell_type": "code",
   "execution_count": 4,
   "metadata": {},
   "outputs": [],
   "source": [
    "#Enter time_start, time_end as strings in format MM/DD/YYYY\n",
    "def set_epochs(time_start, time_end):\n",
    "    start_date = dt.datetime.strptime(time_start, \"%m/%d/%Y\")\n",
    "    end_date = dt.datetime.strptime(time_end, \"%m/%d/%Y\")\n",
    "    \n",
    "    start_epoch = int(dt.datetime.timestamp(start_date))\n",
    "    end_epoch = int(dt.datetime.timestamp(end_date))\n",
    "    return((start_epoch, end_epoch))"
   ]
  },
  {
   "cell_type": "code",
   "execution_count": 5,
   "metadata": {},
   "outputs": [],
   "source": [
    "def get_search_results_by_sub(subr, start_epoch, end_epoch):\n",
    "    api = PushshiftAPI(reddit)\n",
    "    searchResults = api.search_submissions(after=start_epoch,\n",
    "                            before=end_epoch,\n",
    "                            subreddit=subr)\n",
    "    return list(searchResults)\n",
    "\n",
    "def make_dict_from_search(cache):\n",
    "    maxUpvote = 0\n",
    "    iterator = 1\n",
    "    memesDict = {}\n",
    "    memesDict[\"_default\"] = {}\n",
    "    for submission in cache:\n",
    "        if (submission is not None and submission.is_video is False and submission.removed_by is None):\n",
    "            if (submission.ups > maxUpvote):\n",
    "                maxUpvote = submission.ups\n",
    "            memesDict[\"_default\"][iterator] = {\"title\":submission.title, \"thumbnail\":{\"thumbnail\":submission.thumbnail, \"height\":submission.thumbnail_height, \"width\":submission.thumbnail_width}, \"created_utc\":submission.created_utc, \"id\":submission.id, \"ups\":submission.ups, \"downs\":submission.downs, \"media\": submission.url, \"url\": submission.permalink, \"awards\": submission.all_awardings, \"subreddit\":submission.subreddit_name_prefixed, \"subscribers\": submission.subreddit_subscribers, \"is_nsfw\": submission.over_18}\n",
    "            if (submission.author is not None):\n",
    "                memesDict[\"_default\"][iterator][\"author\"] = submission.author.name \n",
    "            else:\n",
    "                memesDict[\"_default\"][iterator][\"author\"] = \"N/A\"\n",
    "            iterator +=1\n",
    "    return memesDict"
   ]
  },
  {
   "cell_type": "code",
   "execution_count": 6,
   "metadata": {},
   "outputs": [],
   "source": [
    "#Feel free to add to list of memes\n",
    "subreddits = [\"MemeEconomy\", \"memes\", \"me_irl\", \"dank_meme\", \"dankmeme\"]"
   ]
  },
  {
   "cell_type": "code",
   "execution_count": 7,
   "metadata": {},
   "outputs": [],
   "source": [
    "def batch_scrape(time_start, time_end, file_name, subreddits):\n",
    "    start_epoch, end_epoch = set_epochs(time_start, time_end)\n",
    "    \n",
    "    meme_dicts = []\n",
    "    for sub in subreddits:\n",
    "        meme_dicts.append(make_dict_from_search(get_search_results_by_sub(sub,start_epoch, end_epoch)))\n",
    "        \n",
    "    with open(file_name+'.json', 'w') as json_file:\n",
    "        json.dump(meme_dicts, json_file)"
   ]
  },
  {
   "cell_type": "code",
   "execution_count": 10,
   "metadata": {},
   "outputs": [],
   "source": [
    "batch_scrape(\"3/20/2020\", \"3/23/2020\", \"data/batch_two\", subreddits)"
   ]
  },
  {
   "cell_type": "code",
   "execution_count": null,
   "metadata": {},
   "outputs": [],
   "source": []
  }
 ],
 "metadata": {
  "kernelspec": {
   "display_name": "Python 3",
   "language": "python",
   "name": "python3"
  },
  "language_info": {
   "codemirror_mode": {
    "name": "ipython",
    "version": 3
   },
   "file_extension": ".py",
   "mimetype": "text/x-python",
   "name": "python",
   "nbconvert_exporter": "python",
   "pygments_lexer": "ipython3",
   "version": "3.7.6"
  }
 },
 "nbformat": 4,
 "nbformat_minor": 4
}
