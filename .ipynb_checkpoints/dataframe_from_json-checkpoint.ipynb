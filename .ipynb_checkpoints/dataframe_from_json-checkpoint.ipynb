{
 "cells": [
  {
   "cell_type": "code",
   "execution_count": 1,
   "metadata": {},
   "outputs": [],
   "source": [
    "import pandas as pd\n",
    "import json\n",
    "from pandas.io.json import json_normalize"
   ]
  },
  {
   "cell_type": "code",
   "execution_count": 2,
   "metadata": {},
   "outputs": [],
   "source": [
    "dank_meme_1 = \"./Data/memesDatabase_dank_meme.json\"\n",
    "dank_meme_2 = \"./Data/memesDatabase_dankmeme.json\"\n",
    "me_irl = \"./Data/memesDatabase_me_irl.json\"\n",
    "MemeEconomoy = \"./Data/memesDatabase_MemeEconomy.json\"\n",
    "memes = \"./Data/memesDatabase_memes.json\"\n",
    "json_list = [dank_meme_1, dank_meme_2, me_irl, MemeEconomoy, memes]"
   ]
  },
  {
   "cell_type": "code",
   "execution_count": 3,
   "metadata": {},
   "outputs": [],
   "source": [
    "dank_data = pd.DataFrame()\n",
    "for file in json_list:\n",
    "#     print(file)\n",
    "    data = pd.read_json(file, lines=True)\n",
    "    dank_data = dank_data.append(data, ignore_index=True)"
   ]
  },
  {
   "cell_type": "code",
   "execution_count": null,
   "metadata": {},
   "outputs": [
    {
     "data": {
      "text/plain": [
       "dict_keys(['title', 'thumbnail', 'created_utc', 'id', 'ups', 'downs', 'media', 'url', 'awards', 'subreddit', 'subscribers', 'is_nsfw', 'author'])"
      ]
     },
     "execution_count": 4,
     "metadata": {},
     "output_type": "execute_result"
    }
   ],
   "source": [
    "dank_data[\"_default\"][0]['1'].keys()"
   ]
  },
  {
   "cell_type": "code",
   "execution_count": null,
   "metadata": {},
   "outputs": [],
   "source": [
    "k = pd.DataFrame([])\n",
    "dank_df = pd.DataFrame([])\n",
    "for data in dank_data[\"_default\"]:\n",
    "    for record in data:\n",
    "        k = json_normalize(data[record])\n",
    "        dank_df = dank_df.append(k,sort=True)\n"
   ]
  },
  {
   "cell_type": "code",
   "execution_count": null,
   "metadata": {},
   "outputs": [],
   "source": [
    "dank_df"
   ]
  },
  {
   "cell_type": "code",
   "execution_count": null,
   "metadata": {},
   "outputs": [],
   "source": [
    "dank_df.to_csv(r'./Data/dank.csv', index = False)"
   ]
  },
  {
   "cell_type": "code",
   "execution_count": null,
   "metadata": {},
   "outputs": [],
   "source": []
  }
 ],
 "metadata": {
  "kernelspec": {
   "display_name": "Python 3",
   "language": "python",
   "name": "python3"
  },
  "language_info": {
   "codemirror_mode": {
    "name": "ipython",
    "version": 3
   },
   "file_extension": ".py",
   "mimetype": "text/x-python",
   "name": "python",
   "nbconvert_exporter": "python",
   "pygments_lexer": "ipython3",
   "version": "3.7.3"
  }
 },
 "nbformat": 4,
 "nbformat_minor": 2
}
